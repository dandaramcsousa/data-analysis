{
 "cells": [
  {
   "cell_type": "markdown",
   "metadata": {
    "colab_type": "text",
    "id": "view-in-github"
   },
   "source": [
    "<a href=\"https://colab.research.google.com/github/dandaramcsousa/data-analysis/blob/master/Emicinos.ipynb\" target=\"_parent\"><img src=\"https://colab.research.google.com/assets/colab-badge.svg\" alt=\"Open In Colab\"/></a>"
   ]
  },
  {
   "cell_type": "markdown",
   "metadata": {
    "colab_type": "text",
    "id": "WEJKDwArZTQs"
   },
   "source": [
    "**código desenvolvido por [Dandara Sousa](https://dandaramcsousa.github.io) 2020.**"
   ]
  },
  {
   "cell_type": "markdown",
   "metadata": {
    "colab_type": "text",
    "id": "v9trKpkCZW41"
   },
   "source": [
    "Metas:\n",
    "\n",
    "* Coletar todas músicas e álbuns de Emicida\n",
    "* Coletar todos os feats de Emicida\n",
    "* Identificar o álbum mais popular  \n",
    "* Identificar o single mais popular\n",
    "* Qual é a maior música\n",
    "* Qual a menor música\n",
    "* Qual a música com mais feat\n",
    "* Linha do tempo de lançamentos\n"
   ]
  },
  {
   "cell_type": "code",
   "execution_count": 1,
   "metadata": {
    "colab": {
     "base_uri": "https://localhost:8080/",
     "height": 201
    },
    "colab_type": "code",
    "id": "y2RUtaEWa_TV",
    "outputId": "b8bbd79e-ea4c-47da-bc1b-2cd94000a6a6"
   },
   "outputs": [
    {
     "name": "stdout",
     "output_type": "stream",
     "text": [
      "Collecting spotipy\n",
      "  Downloading spotipy-2.16.0-py3-none-any.whl (24 kB)\n",
      "Requirement already satisfied: six>=1.10.0 in c:\\programdata\\anaconda3\\lib\\site-packages (from spotipy) (1.15.0)\n",
      "Requirement already satisfied: requests>=2.20.0 in c:\\programdata\\anaconda3\\lib\\site-packages (from spotipy) (2.24.0)\n",
      "Requirement already satisfied: chardet<4,>=3.0.2 in c:\\programdata\\anaconda3\\lib\\site-packages (from requests>=2.20.0->spotipy) (3.0.4)\n",
      "Requirement already satisfied: certifi>=2017.4.17 in c:\\programdata\\anaconda3\\lib\\site-packages (from requests>=2.20.0->spotipy) (2020.6.20)\n",
      "Requirement already satisfied: urllib3!=1.25.0,!=1.25.1,<1.26,>=1.21.1 in c:\\programdata\\anaconda3\\lib\\site-packages (from requests>=2.20.0->spotipy) (1.25.9)\n",
      "Requirement already satisfied: idna<3,>=2.5 in c:\\programdata\\anaconda3\\lib\\site-packages (from requests>=2.20.0->spotipy) (2.10)\n",
      "Installing collected packages: spotipy\n",
      "Successfully installed spotipy-2.16.0\n"
     ]
    }
   ],
   "source": [
    "#dependencias e credenciais\n",
    "!pip install spotipy\n",
    "from spotipy.oauth2 import SpotifyClientCredentials\n",
    "import spotipy\n",
    "import sys\n",
    "import csv\n",
    "\n",
    "sp = spotipy.Spotify(client_credentials_manager= SpotifyClientCredentials(client_id=\"a74e8eedfb694efc8e7162e43ec0cb3f\", client_secret=\"bc7e77c0222741b4b2e7bebb37da69bf\"))"
   ]
  },
  {
   "cell_type": "code",
   "execution_count": 6,
   "metadata": {
    "colab": {},
    "colab_type": "code",
    "id": "ljtG6ChfARAf"
   },
   "outputs": [],
   "source": [
    "'''\n",
    " dado o id/url/urn de um artista, retorna o id \n",
    " sp.artist(url/uri/id) retorna um objeto artista que contém as infos de um artista/banda\n",
    " nesse caso queremos apenas o id desse objeto\n",
    "''' \n",
    "def get_artist_id(url):\n",
    "    return sp.artist(url)['id']"
   ]
  },
  {
   "cell_type": "code",
   "execution_count": 32,
   "metadata": {
    "colab": {},
    "colab_type": "code",
    "id": "BA8K2eiBASph"
   },
   "outputs": [],
   "source": [
    "# dado o id do artista, retorna todos os álbuns que o artista fez ou colaborou\n",
    "def get_artist_albums(artist_id):\n",
    "    albums = []\n",
    "    results = sp.artist_albums(artist_id, country = 'BR')\n",
    "    albums.extend(results['items'])\n",
    "    while results['next']:\n",
    "        results = sp.next(results)\n",
    "        albums.extend(results['items'])\n",
    "    return albums"
   ]
  },
  {
   "cell_type": "code",
   "execution_count": 40,
   "metadata": {},
   "outputs": [],
   "source": [
    "# dada uma lista de álbuns, retorna um dicionário id: name com os álbuns autorais do artista\n",
    "def get_authorial_albums(albums):\n",
    "    albums_id_name = {}\n",
    "    for album in albums:\n",
    "        if album['album_group'] != 'appears_on':\n",
    "            albums_id_name[album['id']] = album['name']\n",
    "    return albums_id_name\n",
    "            "
   ]
  },
  {
   "cell_type": "code",
   "execution_count": 67,
   "metadata": {
    "colab": {},
    "colab_type": "code",
    "id": "f2IhWTb4AUvt"
   },
   "outputs": [],
   "source": [
    "'''\n",
    " dado o id do álbum, retorna todas as músicas de um álbum de um artista \n",
    " gera um dicionário com as seguintes informações das músicas do álbum: álbum, \n",
    " número da música no álbum, id, nome, popularidade, duração, \n",
    " data e artistas envolvidos\n",
    "''' \n",
    "def get_album_tracks(album_id):\n",
    "    spotify_album = {}\n",
    "    album = sp.album(album_id)\n",
    "    \n",
    "    results = sp.album_tracks(album_id) # para cada álbum, retorna as informações das músicas\n",
    "    tracks = results['items']\n",
    "  \n",
    "    for track in tracks:\n",
    "        track_id = track['id']\n",
    "        track_ = sp.track(track_id) # essa função tem mais info da faixa que acessando pelo álbum\n",
    "\n",
    "        spotify_album[track_id] = {}\n",
    "    \n",
    "        spotify_album[track_id]['album'] = track_['album']['name']\n",
    "        spotify_album[track_id]['album_type'] = album['album_type']\n",
    "    \n",
    "        spotify_album[track_id]['track_id'] = track_id\n",
    "        spotify_album[track_id]['track_number'] = track_['track_number']\n",
    "        \n",
    "        spotify_album[track_id]['name'] = track_['name']\n",
    "        spotify_album[track_id]['popularity'] = track_['popularity']\n",
    "        spotify_album[track_id]['duration_ms'] = track_['duration_ms']\n",
    "        spotify_album[track_id]['release_date'] = track_['album']['release_date']\n",
    "\n",
    "        track_artists = track_['artists']\n",
    "        \n",
    "        spotify_album[track_id]['artists'] = []\n",
    "        for artist in track_artists:\n",
    "            spotify_album[track_id]['artists'].append(artist['name'])\n",
    "        \n",
    "    return spotify_album"
   ]
  },
  {
   "cell_type": "code",
   "execution_count": 72,
   "metadata": {
    "colab": {},
    "colab_type": "code",
    "id": "8Ms0WptZAYES"
   },
   "outputs": [],
   "source": [
    "'''\n",
    " dado um dicionario com ids e nomes de álbuns (provenientes de get_authorial_albums), \n",
    " retorna todas as músicas de todos os albuns de um artista\n",
    "''' \n",
    "\n",
    "def get_all_albums_tracks(authorial_albums):\n",
    "    spotify_albums = []\n",
    "    albums_names = []\n",
    "  \n",
    "    for album_id, album_name in authorial_albums.items():\n",
    "        print('Adicionando: ',album_id,album_name)\n",
    "\n",
    "        if album_name not in albums_names:\n",
    "            albums_names.append(album_name)\n",
    "            album_tracks = get_album_tracks(album_id) \n",
    "             \n",
    "        for track_infos in album_tracks.values():\n",
    "            spotify_albums.append(track_infos)\n",
    "            \n",
    "    print('Finalizado!')\n",
    "    \n",
    "    return spotify_albums"
   ]
  },
  {
   "cell_type": "code",
   "execution_count": 73,
   "metadata": {
    "colab": {},
    "colab_type": "code",
    "id": "LMLiVpNtAbSC"
   },
   "outputs": [],
   "source": [
    "# converte para um csv chamado 'emicinos' os dados\n",
    "def convert_to_csv(filepath):\n",
    "    keys = filepath[0].keys()\n",
    "    print(keys)\n",
    "    \n",
    "    with open('data/emicinos.csv', 'w') as output_file:\n",
    "        dict_writer = csv.DictWriter(output_file, keys)\n",
    "        dict_writer.writeheader()\n",
    "        dict_writer.writerows(filepath)\n",
    "    return 'done'"
   ]
  },
  {
   "cell_type": "markdown",
   "metadata": {
    "colab_type": "text",
    "id": "VMeAXfAvCmvK"
   },
   "source": [
    "**O que temos aqui?**\n",
    "\n",
    "Ao fim dessas funções temos a possibilidade de conseguir todas as músicas de um artista e colocá-las num .csv."
   ]
  },
  {
   "cell_type": "code",
   "execution_count": 74,
   "metadata": {
    "colab": {
     "base_uri": "https://localhost:8080/",
     "height": 845
    },
    "colab_type": "code",
    "id": "cIZbCB1qbz0E",
    "outputId": "23aecac6-b000-401f-df69-332fce0dc54e"
   },
   "outputs": [
    {
     "name": "stdout",
     "output_type": "stream",
     "text": [
      "Adicionando:  5cUY5chmS86cdonhoFdn8h AmarElo\n",
      "Adicionando:  6nFULR21EyYSzxPUr60S3a 10 Anos de Triunfo (Ao Vivo)\n",
      "Adicionando:  77ye4kGcWBmzcLWFiSCljE Sobre Crianças, Quadris, Pesadelos e Lições de Casa...\n",
      "Adicionando:  4UqGzHq5gbqDhFI27IPVd2 O Glorioso Retorno de Quem Nunca Esteve Aqui\n",
      "Adicionando:  4ZLLVCn6RnlENQ0nhAS5sS Rock In Rio (Ao Vivo)\n",
      "Adicionando:  3xfZtthn2dlFtFfyyYKEf8 Criolo E Emicida Ao Vivo (Live)\n",
      "Adicionando:  57PWjWHzqzODblomXxnQca O Glorioso Retorno de Quem Nunca Esteve Aqui\n",
      "Adicionando:  24FRiS4aTYXDcL48UPknP7 Doozicabraba e a Revolução Silenciosa\n",
      "Adicionando:  1xTiVYWuLx7GkZN9NLRVEs Emicidio\n",
      "Adicionando:  3ZA85zeudxFA1NGeb6avXS Pra Quem Já Mordeu um Cachorro por Comida Até Que Eu Cheguei Longe\n",
      "Adicionando:  5AYV4MJslPN48xaab39ZuW Trevo, Figuinha e Suor na Camisa\n",
      "Adicionando:  29Kl0YXBxv72UGgM8McFv0 Sementes\n",
      "Adicionando:  3yCfk5tZsvi3cWfLPzsqf3 Quem Tem Um Amigo (Tem Tudo)\n",
      "Adicionando:  0VkPkc6tXvv5x8e9N4VuBQ Passarinhos (Remix)\n",
      "Adicionando:  1KQa2QnhuCJGsUIV9P7sZZ Libre\n",
      "Adicionando:  0sVRD9qXjjQIy9E6GY6XIY Hacia El Amor (Acústico)\n",
      "Adicionando:  1R42sWNfIQoqQSYyPIB4jF AmarElo (Sample: Sujeito de Sorte - Belchior)\n",
      "Adicionando:  4U1ciyOHQJHgZSgoCL84vM Final dos Tempos\n",
      "Adicionando:  5531Q6ELSF96I2DG5ECnPY Mil Coisas\n",
      "Adicionando:  7xF5wQBcDd8zrZYrs1bVla Eminência Parda (feat. Dona Onete, Jé Santiago & Papillon)\n",
      "Adicionando:  1U8sukw1UVGAzxcCXH4P1x Vital\n",
      "Adicionando:  6dzH0YRl4S2nWHli0R6Llv Rap do Motoboy\n",
      "Adicionando:  7GKPjR6AqRjOY8G3U2RN7t Levanta e Anda\n",
      "Adicionando:  3eLKITLeHPsbYEjCB0EIuO Inácio da Catingueira\n",
      "Adicionando:  7JsJiwACrgO2YBoWAzpPLa Hacia El Amor\n",
      "Adicionando:  0qXYKIin4nUIkws5cUB7Vr Triunfo (Ao Vivo)\n",
      "Adicionando:  1Q6FYbkBht3MkAMjL1u3K0 Hoje Cedo (feat. Pitty) [Ao Vivo]\n",
      "Adicionando:  7BzU3EXU0Obq6CNeT4B9bs Como Tudo Deve Ser (Ao Vivo)\n",
      "Adicionando:  2tVVwhgz4Ic9ONbvbMr7gN Levanta e Anda (feat. Rael) [Ao Vivo]\n",
      "Adicionando:  235FXq3fhpJ3VqUX5Qjvrj Pantera Negra\n",
      "Adicionando:  7wtWrsGuJcjmQEju5Dd25K Oásis\n",
      "Adicionando:  7sBS5jW8aR2EwpRmV5QIFC A Chapa é Quente (Língua Franca)\n",
      "Adicionando:  4XN0IrRFJ2b2mpZRSKA3t0 Yasuke (Bendito, Louvado Seja)\n",
      "Adicionando:  2fChNSVGao2fY5IMggvzWj Rdio Sessions\n",
      "Adicionando:  1NnQYrdDbqZxzTsNaQuDl9 Bonjour\n",
      "Adicionando:  7vHi7lo1mCDyDvbLBy1u2c Minha Vida (Remix)\n",
      "Adicionando:  0Vd6p2q0LN9kjrS7WL89E3 Crisântemo\n",
      "Adicionando:  1IWJUsvmUb2e06hU4ZVhtJ Papel, Caneta e Coração\n",
      "Adicionando:  1zAupkIVUJedJEWZRD9144 Aos Olhos de uma Criança (Tema do Filme \"O Menino e o Mundo\")\n",
      "Adicionando:  393EULGuLWpFjCzcuSSQBF Hoje Cedo\n",
      "Adicionando:  55w8mp0m9mYuVdFxw7LcrB Avua Besouro\n",
      "Adicionando:  0BOHI5c6ti9LqhICsBeKgk Quero Ver Quarta-Feira\n",
      "Adicionando:  36hxSCqB8A4hpUxhrH9zbZ Sua Mina Ouve Meu Rep Tamem\n",
      "Adicionando:  43kNIcy8nmcjnFVJhJDsQU Triunfo\n",
      "Finalizado!\n",
      "dict_keys(['album', 'album_type', 'track_id', 'track_number', 'name', 'popularity', 'duration_ms', 'release_date', 'artists'])\n"
     ]
    }
   ],
   "source": [
    "def main():\n",
    "    emicida = 'https://open.spotify.com/artist/2d9LRvQJnAXRijqIJDDs2K'\n",
    "    if emicida:\n",
    "        artist_id = get_artist_id(emicida)\n",
    "    \n",
    "        albums = get_artist_albums(artist_id)\n",
    "        authorial_albums = get_authorial_albums(albums)\n",
    "        #amarelo = get_album_tracks('4cT2oNoqRan9HJiICEU9Ai')\n",
    "        #print(amarelo)\n",
    "    \n",
    "        all_albums = get_all_albums_tracks(authorial_albums)\n",
    "        convert_to_csv(all_albums)\n",
    "    else:\n",
    "        logger.error(\"Can't find artist: %s\", artist)\n",
    "\n",
    "\n",
    "if __name__ == '__main__':\n",
    "    main()"
   ]
  }
 ],
 "metadata": {
  "colab": {
   "authorship_tag": "ABX9TyO0UMJy6+YQbKtAecZis/O7",
   "collapsed_sections": [],
   "include_colab_link": true,
   "name": "Emicinos.ipynb",
   "provenance": []
  },
  "kernelspec": {
   "display_name": "Python 3",
   "language": "python",
   "name": "python3"
  },
  "language_info": {
   "codemirror_mode": {
    "name": "ipython",
    "version": 3
   },
   "file_extension": ".py",
   "mimetype": "text/x-python",
   "name": "python",
   "nbconvert_exporter": "python",
   "pygments_lexer": "ipython3",
   "version": "3.8.3"
  }
 },
 "nbformat": 4,
 "nbformat_minor": 1
}
