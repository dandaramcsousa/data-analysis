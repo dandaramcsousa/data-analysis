{
 "cells": [
  {
   "cell_type": "code",
   "execution_count": 1,
   "metadata": {},
   "outputs": [
    {
     "name": "stdout",
     "output_type": "stream",
     "text": [
      "Collecting spotipy\n",
      "  Downloading spotipy-2.12.0-py3-none-any.whl (18 kB)\n",
      "Requirement already satisfied: six>=1.10.0 in c:\\users\\dandara\\anaconda3\\lib\\site-packages (from spotipy) (1.11.0)\n",
      "Collecting requests>=2.20.0\n",
      "  Downloading requests-2.24.0-py2.py3-none-any.whl (61 kB)\n",
      "Requirement already satisfied: urllib3!=1.25.0,!=1.25.1,<1.26,>=1.21.1 in c:\\users\\dandara\\anaconda3\\lib\\site-packages (from requests>=2.20.0->spotipy) (1.22)\n",
      "Requirement already satisfied: chardet<4,>=3.0.2 in c:\\users\\dandara\\anaconda3\\lib\\site-packages (from requests>=2.20.0->spotipy) (3.0.4)\n",
      "Requirement already satisfied: certifi>=2017.4.17 in c:\\users\\dandara\\anaconda3\\lib\\site-packages (from requests>=2.20.0->spotipy) (2018.1.18)\n",
      "Requirement already satisfied: idna<3,>=2.5 in c:\\users\\dandara\\anaconda3\\lib\\site-packages (from requests>=2.20.0->spotipy) (2.6)\n",
      "Installing collected packages: requests, spotipy\n",
      "  Attempting uninstall: requests\n",
      "    Found existing installation: requests 2.18.4\n",
      "    Uninstalling requests-2.18.4:\n",
      "      Successfully uninstalled requests-2.18.4\n",
      "Successfully installed requests-2.24.0 spotipy-2.12.0\n"
     ]
    }
   ],
   "source": [
    "!pip install spotipy"
   ]
  },
  {
   "cell_type": "code",
   "execution_count": 2,
   "metadata": {},
   "outputs": [],
   "source": [
    "from spotipy.oauth2 import SpotifyClientCredentials\n",
    "import spotipy\n",
    "import sys\n",
    "import pandas as pd\n",
    "\n",
    "sp = spotipy.Spotify(client_credentials_manager= SpotifyClientCredentials(client_id=\"a74e8eedfb694efc8e7162e43ec0cb3f\", client_secret=\"bc7e77c0222741b4b2e7bebb37da69bf\"))\n"
   ]
  },
  {
   "cell_type": "code",
   "execution_count": 3,
   "metadata": {},
   "outputs": [],
   "source": [
    "def get_tracks_ids(playlist_user, playlist_id):\n",
    "    playlist_info = sp.user_playlist(playlist_user, playlist_id)\n",
    "    tracks = playlist_info['tracks']['items']\n",
    "    ids = []\n",
    "    for track in tracks:\n",
    "        ids.append(track['track']['id'])\n",
    "    return ids"
   ]
  },
  {
   "cell_type": "code",
   "execution_count": 10,
   "metadata": {},
   "outputs": [],
   "source": [
    "def get_tracks_info(ids):\n",
    "    tracks_info = []\n",
    "    columns = ['id','name','popularity','track_number','duration_ms','explicit',\n",
    "               'disc_number','album_name','album_id','release_date','artist','artists']\n",
    "    tracks_info.append(columns)\n",
    "    for id_ in ids:\n",
    "        track = sp.track(id_)\n",
    "        track_info = []\n",
    "        \n",
    "        track_info.append(track['id'])\n",
    "        track_info.append(track['name'])\n",
    "        track_info.append(track['popularity'])\n",
    "        track_info.append(track['track_number'])\n",
    "        track_info.append(track['duration_ms'])\n",
    "        track_info.append(track['explicit'])\n",
    "        track_info.append(track['disc_number'])\n",
    "\n",
    "        track_info.append(track['album']['name'])\n",
    "        track_info.append(track['album']['id'])\n",
    "        track_info.append(track['album']['release_date'])\n",
    "        \n",
    "        track_info.append(track['artists'][0]['name'])\n",
    "        \n",
    "        #artists = []\n",
    "        #for artist in track['artists']:\n",
    "        #    artists.append(artist['name'])\n",
    "        #track_info.append(artists)\n",
    "        \n",
    "        tracks_info.append(track_info)\n",
    "    return tracks_info\n",
    "    # pegar as infos de cada música\n",
    "    # {id_musica: {infos}, id: {infos}}"
   ]
  },
  {
   "cell_type": "code",
   "execution_count": 16,
   "metadata": {},
   "outputs": [],
   "source": [
    "import csv\n",
    "#treta aqui. quebra as palavras onde nao deveria\n",
    "def write_csv(data):\n",
    "    with open(\"../data/forroclassichits.csv\", \"w\", newline=\"\", encoding='utf-8') as f:\n",
    "        writer = csv.writer(f)\n",
    "        writer.writerows(data)\n",
    "    "
   ]
  },
  {
   "cell_type": "code",
   "execution_count": 12,
   "metadata": {},
   "outputs": [
    {
     "name": "stdout",
     "output_type": "stream",
     "text": [
      "[['id', 'name', 'popularity', 'track_number', 'duration_ms', 'explicit', 'disc_number', 'album_name', 'album_id', 'release_date', 'artist', 'artists'], ['5SLFz20Ej2hN2wZsIrcVTd', 'Jeito de Amar (Ao Vivo)', 22, 3, 237400, False, 1, 'Aviões do Forró, Vol. 1 & 2 (Super 10)', '13byRuy8k2dzD5lsK4k4y4', '2015-08-17', 'Aviões do Forró'], ['49YS6bn0NHAgPtQMWXWioG', 'Planeta de Cores', 52, 4, 224493, False, 1, 'Campeões do Forró, Vol. 04', '3nyrxJTCT8ruU5y9qYfizG', '2003-10-12', 'Forrozão Tropykalia'], ['1MMz0CwGvIqVUtmTHDtcVN', 'Coração (Ao Vivo)', 22, 6, 217988, False, 1, 'Aviões do Forró, Vol. 1 & 2 (Super 10)', '13byRuy8k2dzD5lsK4k4y4', '2015-08-17', 'Aviões do Forró'], ['6LUm8l4gWCuCjy6UGfLk7p', 'Carta Branca', 50, 7, 178533, False, 1, 'Campeões do Forró, Vol. 02', '7FiqYZmNLIzrqsJQaMwOsq', '2003-06-01', 'Magníficos'], ['4dUpm0QuR6MCIG5rN7XTI9', 'Me Usa', 53, 16, 209493, False, 1, 'Fonte dos Desejos', '413M6sy5SnSSh8UOCKtoDd', '1997', 'Banda Magníficos'], ['3XdMEXsLC7S1GhHbNNle0u', 'Swing Louco', 0, 7, 174765, False, 1, '20 Super Sucessos', '2kvuhtZySnxgMw0lIoPs1i', '2005', 'Saia Rodada'], ['0unNZmdr6g4Te3Wh9Uzf1u', 'Anjo Querubim - Ao Vivo', 0, 3, 181382, False, 1, 'Saia Rodada, Vol. 2 (Ao Vivo)', '4wWmygsDe29snyONoBEpP6', '2006', 'Saia Rodada'], ['14TlfrFvJ9A2lKzdRkIWCX', 'Mudança Radical - Ao Vivo', 13, 8, 122618, False, 1, 'Recife (Ao Vivo)', '7tcVa23rkKTwd7dQaDKBad', '2012-01-01', 'Raí Saia Rodada'], ['7twFGyEBkgKVT7cD28xZOk', 'Ponto Final - Ao Vivo', 18, 7, 216790, False, 1, 'Recife (Ao Vivo)', '7tcVa23rkKTwd7dQaDKBad', '2012-01-01', 'Raí Saia Rodada'], ['3g87z7rQipFlsvGWUONkF8', 'Mentirosa - Ao Vivo', 13, 13, 237792, False, 1, 'Recife (Ao Vivo)', '7tcVa23rkKTwd7dQaDKBad', '2012-01-01', 'Raí Saia Rodada'], ['5LgTH9rPVvXjLVvHgH0fRM', 'Anjo de Guarda - Ao Vivo', 12, 5, 190146, False, 1, 'É Brasil Ao Vivo, Vol: 2', '1Vss5dOBMie7SEiGDoQjfQ', '1998', 'Mastruz Com Leite'], ['55SC3yTB99YJCltXFjuimZ', 'Tatuagem - Ao Vivo', 11, 13, 232093, False, 1, 'É Brasil Ao Vivo, Vol: 2', '1Vss5dOBMie7SEiGDoQjfQ', '1998', 'Mastruz Com Leite'], ['3aNYxNtZq1AqLEYPKdx9F0', 'Cobertor', 53, 1, 246133, False, 1, 'As 20 +', '6z8nG4kqSo7LYcWYef66Jr', '2006-01-15', 'Calcinha Preta'], ['2pw4zHhEVt6LwYXjwI1oyW', 'Por Amor', 41, 13, 215666, False, 1, 'Calcinha Preta Premium', '0IEtoDZ9i6BMNqQj3MJzg8', '2013-01-18', 'Calcinha Preta'], ['74QtGMeYncf3wP6fhg00zb', 'Diga Sim pra Mim', 51, 1, 221200, False, 1, 'Diga Sim, Vol. 4', '2smfsQHrlDBsA30MycLHHY', '2008-06-13', 'Desejo De Menina'], ['4oIRYmC4rhBUbF2HSduX4C', 'Cumplicidade', 32, 1, 182465, False, 1, 'Cumplicidade', '04oHGQZTLsPnFQmYrLbHSA', '2015-04-01', 'Desejo De Menina'], ['5Hd85gz71ZDibyWdbtqNkI', 'Destá - Ao Vivo', 55, 2, 220613, False, 1, 'Simplesmente Dorgival Dantas (Ao Vivo)', '6WyJrgFA70GqyIZHXlevvT', '2014-09-06', 'Dorgival Dantas'], ['6fDnVKd7FQz8ls1dMOr6nm', 'Pode Chorar', 0, 10, 129013, False, 1, 'Primeiro Passo', '0huDFGCMwB3GtwkYFUH1qT', '2014-08-22', 'Dorgival Dantas'], ['0zPaUPi7TL5JQKRfwwX7zn', 'Patricinha', 42, 1, 186666, False, 1, 'Forró Saborear, Vol. 03', '0o4ZvDJCW4NgdVfrW9twW9', '2004-07-07', 'Forró Saborear'], ['56iwoOqTS9g7Ba7BoVDknm', 'Isso É Imortal', 27, 4, 204333, False, 1, 'Campeões do Forró, Vol. 05', '59QYpFaGXqifX1bNGe8rQu', '2005-10-15', 'Gatinha Manhosa'], ['35WRAG5mHGo6dWpxRqDw4C', 'O Encanto', 45, 4, 223240, False, 1, 'Campeões do Forró, Vol. 03', '5BQ1WC14hxKjkkd9S0mIT2', '2004-10-16', 'Magníficos'], ['5lhImpsBQJoyA6ImZPF4jJ', 'Amor de Rapariga', 42, 9, 224773, False, 1, 'Campeões do Forró, Vol. 02', '7FiqYZmNLIzrqsJQaMwOsq', '2003-06-01', 'Mulheres Perdidas'], ['1ALegDmACkHHSxdDfj2Cwj', 'Libera o Toim', 20, 12, 196573, False, 1, 'Campeões do Forró, Vol. 02', '7FiqYZmNLIzrqsJQaMwOsq', '2003-06-01', 'Arriba Saia'], ['2PrCM4sk5Tl1CrovR4oscB', 'Não Pegue Esse Avião', 26, 5, 184600, False, 1, 'Campeões do Forró, Vol. 05', '59QYpFaGXqifX1bNGe8rQu', '2005-10-15', 'Cavaleiros do Forró'], ['2oihffHlGoEbDHgUttYsed', 'Apaixonada - Ao Vivo', 45, 6, 180600, False, 1, 'Ao Vivo', '5tL5hXwcU4ZLYa7EGbWXFG', '1998-11-20', 'Banda Magníficos'], ['1x4gd2Lkyck0vG72Q1uJXJ', 'Não Desliga o Telefone', 0, 5, 203400, False, 1, 'Campeões do Forró, Vol. 07', '5xbSliXxQxWo1iWJayz0uD', '2007', 'Forró Sacode'], ['50lOr1cFQiukxH2bhWQtoz', 'É Chamego ou Xaveco', 41, 5, 265943, False, 1, 'Uma Maratona de Forró (São João da Capitá)', '2JHdIjaPold6T0y9IynB8p', '2015-02-26', 'Magníficos'], ['60JazFZmNe4FeU77NnW4un', 'Avise a Ela', 16, 13, 248387, False, 1, 'Uma Maratona de Forró (São João da Capitá)', '2JHdIjaPold6T0y9IynB8p', '2015-02-26', 'Cavaleiros do Forró'], ['4o1gnqS4i9qLQ8UIPNTUNc', 'Estando Com Ela e Pensando em Ti', 27, 19, 192787, False, 1, 'Uma Maratona de Forró (São João da Capitá)', '2JHdIjaPold6T0y9IynB8p', '2015-02-26', 'Aviões do Forró'], ['0iWMN2nIpQP3dTMhLQsq4s', 'Risca Faca', 47, 1, 208282, False, 1, 'Aviões do Forró Vol. 4', '3pte49bJCJIt6lhMRkIXoD', '2012-01-23', 'Aviões do Forró'], ['3aVyavzL1hsbRxpbptIflb', 'Porque Nao Ve', 40, 5, 256333, False, 1, 'So As Melhores', '33td5G5uxRvHl0W3JLBoho', '2006-04-01', 'Limão Com Mel'], ['2pYWzbKjLr3oLI1poaHuEA', 'Retrato - Live', 30, 1, 278626, False, 1, 'Amor Eterno Ao Vivo', '54tZGP30fx7xii7IJjryNp', '2011-01-01', 'Louro Santos'], ['6w9GePpliJZSCpYEeAuPfW', 'Lobo Solitario', 0, 5, 221261, False, 1, 'No Reino Dos Cavaleiros', '566A3keKYEux1BFPGDWbMA', '2014-02-21', 'Cavaleiros do Forró'], ['0BbHiemHPWxSTR3xOAziyB', 'E o Vento Levou', 48, 3, 266906, False, 1, 'As 20 +', '6z8nG4kqSo7LYcWYef66Jr', '2006-01-15', 'Calcinha Preta'], ['1zqQouW8kvHgnM0ZjiIY4b', 'Você Fugiu de Mim', 28, 7, 212800, False, 1, 'Campeões do Forró, Vol. 05', '59QYpFaGXqifX1bNGe8rQu', '2005-10-15', 'Forrozão Tropykalia'], ['6sCGgj59qkhjaH8FXeT0R9', 'Verdadeiro Amor - Ao Vivo', 50, 3, 181306, False, 1, 'Ao Vivo', '5tL5hXwcU4ZLYa7EGbWXFG', '1998-11-20', 'Banda Magníficos'], ['2jegkOIKWDGyu9drOW4j0s', 'Leilão', 38, 1, 194612, False, 1, '20 Super Sucessos: Edson Lima & Gatinha Manhosa', '34TbplUIkwTKOooeEwFtGR', '2004', 'Edson Lima'], ['21KbWPoY3MTpI5byU6d0dl', 'Louca por Ti \"Dust in the Wind\"', 51, 5, 164480, False, 1, 'As 20 +', '6z8nG4kqSo7LYcWYef66Jr', '2006-01-15', 'Calcinha Preta'], ['7qh5a3izeitXDC4kByQUGx', 'Chorando Se Foi', 45, 9, 191413, False, 1, 'A Preferida do Brasil', '4QLuiTicCTmTLYv2wA6gmt', '2007-05-01', 'Banda Magníficos'], ['4FcUiSgtBQnKwfI3X6Bm3N', 'Hoje à Noite \"Alone\"', 45, 4, 212800, False, 1, 'As 20 +', '6z8nG4kqSo7LYcWYef66Jr', '2006-01-15', 'Calcinha Preta'], ['0SvtBdkNRlErX8sPrFgWPW', 'Mágica', 50, 9, 258013, False, 1, 'As 20 +', '6z8nG4kqSo7LYcWYef66Jr', '2006-01-15', 'Calcinha Preta'], ['6dTyXI8MDOixiSH6OJ3b9J', 'Titular Absoluta', 35, 11, 226580, False, 1, 'Aviões Do Forró Vol. 3', '2Ql3PoukmbwbwoMiQ6kieL', '2012-01-23', 'Aviões do Forró'], ['4gGFlIGzpQ2Kozf6LNxEIV', 'Bebo Porque Gosto De Beber - Ao Vivo', 0, 1, 199810, False, 1, 'Garota Safada, Vol. 2 - A Safadinha Do Forró (Ao Vivo)', '1KnDKXNRBQDcwmmPmtBAoM', '2014-07-01', 'Banda Garota Safada'], ['4JF8fFarljKQTokyX3koGP', 'Lapada na Rachada: Elétrico - Ao Vivo', 23, 23, 299755, False, 1, 'Raí Saia Rodada no Chevrolet Hall (Ao Vivo)', '4NVcpatAAWmzm5FN49NHuu', '2006-01-01', 'Raí Saia Rodada'], ['5F0gXUTHlYsXyBEJW3v5jq', 'A Vontade Que Eu Tenho', 0, 9, 302053, False, 1, 'Cavaleiros Eletrico - Ao Vivo', '24bgOk8Pnuaf0Mq8IRM7UL', '2014-06-11', 'Cavaleiros do Forró'], ['1f7vsB6K8D8VMdzog3JTO6', 'Timidez - Ao Vivo', 36, 5, 205706, False, 1, 'O Melhor do Forró (Ao Vivo)', '21oG9oENPzAcbCHB6hRLC8', '2016-05-02', 'Cavalo De Pau'], ['2qYwh2nY9h1KzbdjbbIWGw', 'Só Depende de Nós', 36, 1, 214360, False, 1, 'Forró Porreta', '4gkGEsSHEGILTRtYgmPX0e', '2016-10-17', 'Banda Magníficos'], ['4SRVX6QBHlG6NyiifJENZn', 'Senta Que É de Menta', 0, 1, 230106, False, 1, 'Beber e Amar - Volume 7', '3WCVCv4ArNIr6AYXa9Waol', '2014-06-05', 'Cavaleiros do Forró'], ['5eUrc775aGvs0hL29XonQu', 'Estrelinha do Céu - Ao Vivo', 29, 6, 200920, False, 1, 'O Melhor do Forró (Ao Vivo)', '21oG9oENPzAcbCHB6hRLC8', '2016-05-02', 'Cavalo De Pau'], ['32Pec1hgLuoCjgXw8Az58J', 'Passos na Areia / Juras de Amor - Ao Vivo', 35, 7, 217226, False, 1, 'O Melhor do Forró (Ao Vivo)', '21oG9oENPzAcbCHB6hRLC8', '2016-05-02', 'Cavalo De Pau'], ['1wb4taP3RkOH440STI51Pl', 'Minha Rainha', 0, 2, 227670, False, 1, 'No Reino Dos Cavaleiros', '566A3keKYEux1BFPGDWbMA', '2014-02-21', 'Cavaleiros do Forró'], ['7lF3xHd3Vi7CjhxtaAYGGO', 'Minha Alma Gêmea É Você - Ao Vivo', 21, 12, 338904, False, 1, 'Ao Vivo em João Pessoa, Vol. 2', '5tYK26F0TUPffWwlItfe6V', '2015-04-15', 'Desejo De Menina'], ['17BoUdUM8YOEoPAHCVKV52', 'Toma Conta De Mim - Ao Vivo', 45, 3, 280240, False, 1, 'Um Acústico Diferente - Ao Vivo', '0QVOf8RiZHBbLyXqalaTy1', '2003-01-01', 'Limão Com Mel'], ['4jaiVDEpL4GGKN2jBiJyNd', 'Meu Vaqueiro, Meu Peão - Ao Vivo', 51, 5, 202373, False, 1, 'Forró Mastruz com Leite (Ao Vivo)', '2FbGGG1V0D6zrXOT3xmvD7', '1997', 'Mastruz Com Leite'], ['3fTC2g9Po4DW8MKvcKdpMD', 'Tareco & Mariola', 43, 1, 253440, False, 1, 'Tareco & Mariola', '7f216nBKdgqxmwTn1Szmio', '1995', 'Flávio José'], ['0CvyUMEp5XBPbCHUT30XBx', 'Lembrança de um Beijo - Ao Vivo', 0, 5, 244360, False, 2, 'Fagner \"Ao Vivo\"', '0SX8PCXMcsEMKEmFql7rHj', '2000', 'Fagner'], ['78mklLQspHVlx0HVxrXatX', 'O Que Tem Que Ser Será - Ao Vivo', 14, 9, 213707, False, 1, 'Recife (Ao Vivo)', '7tcVa23rkKTwd7dQaDKBad', '2012-01-01', 'Raí Saia Rodada'], ['62tnoNQPRJa4mncsP1CEBt', 'Tamborete De Forró', 37, 7, 164520, False, 1, 'Forró Popular Brasileiro', '6MsffZF2mH6grwwBvGpQmE', '2002-07-01', 'Santanna \"O Cantador\"'], ['72oNrvEMqm9HEtrQAxilST', 'Ana Maria / O Nome Da Minha Amada (Poema Incidental)', 35, 8, 283080, False, 1, 'Forró Popular Brasileiro', '6MsffZF2mH6grwwBvGpQmE', '2002-07-01', 'Santanna \"O Cantador\"'], ['4zo3nwO4pTWfP80mzUF5VH', 'Animal Faminto - Ao Vivo', 36, 12, 212866, False, 1, 'Ao Vivo', '5tL5hXwcU4ZLYa7EGbWXFG', '1998-11-20', 'Banda Magníficos'], ['0dXeYjwh06q1GkvJ2mD2BU', 'Mulher Doideira', 49, 7, 184087, False, 1, 'Aviões do Forró Vol. 4', '3pte49bJCJIt6lhMRkIXoD', '2012-01-23', 'Aviões do Forró'], ['0VfvKSn8lp5fJsNxV3YEXh', 'A Praia', 49, 5, 221354, False, 1, 'Forró do Leão', '5XdhYKzyYuYRKRlwcoFRQF', '2005-05-01', 'Mastruz Com Leite'], ['5vKCBSwSxiEVTTaK3KeaIh', 'Largatixa', 9, 18, 202253, False, 1, 'No Reino dos Cavaleiros, Vol. 5', '3i3MnE5hu1VHTu8Qxkfgk0', '2006-10-04', 'Cavaleiros do Forró'], ['6WH1JcjEFW1ji9vMZgVO1x', 'Amor De Motel', 40, 4, 198577, False, 1, 'Aviões Do Forró Vol. 2', '2LX5WAuq5Is0aaodeElhIa', '2012-01-25', 'Aviões do Forró'], ['4K8NjvYCVt6SEAPIt1taOE', 'Brincar de Amar - Ao Vivo', 40, 4, 205080, False, 1, 'O Melhor do Forró (Ao Vivo)', '21oG9oENPzAcbCHB6hRLC8', '2016-05-02', 'Cavalo De Pau'], ['2yn5XcNHN7hr4C8svoFK0d', 'Forrobodó - Ao Vivo', 8, 9, 180826, False, 1, 'É Brasil Ao Vivo, Vol: 2', '1Vss5dOBMie7SEiGDoQjfQ', '1998', 'Mastruz Com Leite'], ['4krjjxURv2inre0PMgzRLg', 'Melô do Gago Corno - Ao Vivo', 3, 12, 196127, False, 1, 'Raí Saia Rodada, Vol. 4', '2sDp8Xmqt8g4p8YIFQJZ8E', '2004-01-01', 'Raí Saia Rodada'], ['1aqGqhFvIITb1AUlfIlPSt', 'Lirirrixa - Ao Vivo', 13, 5, 207830, False, 1, 'Raí Saia Rodada (Ao Vivo)', '75zlNLXDsQlxHdZDQucZVd', '2005-01-01', 'Raí Saia Rodada'], ['0d0HKdkhucIzPrnamJ5Sz3', 'Ei Gatinha (Ao Vivo)', 42, 10, 213902, False, 1, 'CD Do DVD Itapebussu (Ao Vivo)', '5x5a829xCINsqm1LpP741t', '2011-09-09', 'Aviões do Forró'], ['2j4JVGeWk9EQ1ZqDt7ZTDx', 'Paraíba Jóia Rara', 20, 8, 207746, False, 1, 'É Só Alegria', '1e9G7VnhcrGtB6s7bpGbGS', '2013-02-14', 'Ton Oliveira'], ['54EsjHQHtGJYPk5aNTmn9d', 'Somos Loucos', 46, 14, 212200, False, 1, 'Campeões do Forró, Vol. 04', '3nyrxJTCT8ruU5y9qYfizG', '2003-10-12', 'Caviar Com Rapadura'], ['64KwNoJGtY7dBJTnLZtVkK', 'Alô', 41, 5, 210320, False, 1, '4 Estilos', '32pr9AttXTVKUfqN4IpeST', '2011-02-08', 'Cavaleiros do Forró'], ['6PRvJaFRsuz32d0HXfRWj3', 'Tentativas Em Vão', 47, 8, 183800, False, 1, 'Forró Na Balada', '1P5UPEheJd0da15ihrRk11', '2011-10-10', 'Banda Garota Safada'], ['7fVso2QpmfceXUV8E81Enr', 'Pode Chorar - Ao Vivo', 46, 1, 189960, False, 1, 'Simplesmente Dorgival Dantas (Ao Vivo)', '6WyJrgFA70GqyIZHXlevvT', '2014-09-06', 'Dorgival Dantas'], ['5UbMGtksfz54ZgAdMNilyT', 'Numa Sala de Reboco', 42, 16, 138672, False, 1, 'Asa Branca', '5nYztYTV3FEZfYTwfdTSVs', '2016-10-28', 'Luiz Gonzaga'], ['3k0aOFtYk0iSsy8LgDAMBp', 'Pra Sempre - Ao Vivo', 44, 4, 238080, False, 1, 'Um Acústico Diferente - Ao Vivo', '0QVOf8RiZHBbLyXqalaTy1', '2003-01-01', 'Limão Com Mel'], ['7mFIvee6VeZOYcNuLEWKiT', 'Meu Anjo Azul', 37, 10, 220682, False, 1, 'Forró Anjo Azul Vol. 1', '3IIHtmv40x31uOrTfXEgkO', '2011-02-09', 'Forró Anjo Azul'], ['4fKzYhCnv255yf3TpTLc4A', 'Tutti- Futti', 15, 3, 199773, False, 1, 'Vencedor, Vol. 19', '7kai3hgop4FikRG6ffly76', '2008-05-19', 'Calcinha Preta'], ['2u6nyF4F6sazMXVSEgwaKY', 'Na Ponta do Pé / Forrobodó - Ao Vivo', 38, 1, 262826, False, 1, 'Forró Mastruz com Leite (Ao Vivo)', '2FbGGG1V0D6zrXOT3xmvD7', '1997', 'Mastruz Com Leite'], ['3z8121QqZpE7oNAQrTA3G4', 'Forrozeira Linda (Mulher Doideira) (Ao Vivo)', 39, 13, 183762, False, 1, 'CD Do DVD Itapebussu (Ao Vivo)', '5x5a829xCINsqm1LpP741t', '2011-09-09', 'Aviões do Forró'], ['20KfmFbNQspRszOgOKHbWY', 'Bla Bla Bla / Vai Que Tá Gostoso (Ao Vivo)', 36, 18, 457804, False, 1, 'CD Do DVD Itapebussu (Ao Vivo)', '5x5a829xCINsqm1LpP741t', '2011-09-09', 'Aviões do Forró'], ['3KArn9dBSsNawNbieDE0Z4', 'É Gaia - Ao Vivo', 22, 1, 190746, False, 1, 'Cavaleiros do Forró, Vol. 3 (Ao Vivo)', '0acZbYKBGxnzTdA2s7uY2n', '2008-08-07', 'Cavaleiros do Forró'], ['4RcRrldDJ7dDr0Tnx1jdWi', 'Fora de Mim', 32, 6, 233533, False, 1, 'Fonte dos Desejos', '413M6sy5SnSSh8UOCKtoDd', '1997', 'Banda Magníficos'], ['2yLIhZVequrFxWnfSy1Edo', 'Internauta do Amor', 30, 6, 185373, False, 1, 'Campeões do Forró, Vol. 06', '3O3WXmDNfR3XUF5DT6bdLV', '2006-10-01', 'Caviar Com Rapadura'], ['5KUof8xGRDfwXYp21a0jec', 'Voltei - Ao Vivo', 32, 2, 133160, False, 1, 'Acústico in Concert - Ao Vivo', '0iyBUqn1UlMYNPzCwSDJqp', '2006-12-01', 'Limão Com Mel'], ['2TWFcqzZ6KEUAYie7wEF1f', 'Um Degrau na Escada (Ao Vivo)', 47, 1, 215520, False, 1, 'Calcinha Preta, Vol. 13 (Ao Vivo)', '5r5rYYbGdFZXincPbvekGy', '2005', 'Calcinha Preta'], ['6Vl6N6uWU48OZjIYAMJq7I', 'Tarde Demais - Ao Vivo', 52, 5, 245786, False, 1, 'Simplesmente Dorgival Dantas (Ao Vivo)', '6WyJrgFA70GqyIZHXlevvT', '2014-09-06', 'Dorgival Dantas'], ['14QMxV1tOfrxeFaeYuU7Tr', 'Swing Louco - Ao Vivo', 30, 6, 177293, False, 1, 'Raí Saia Rodada (Ao Vivo)', '75zlNLXDsQlxHdZDQucZVd', '2005-01-01', 'Raí Saia Rodada'], ['0sMGRLaGhsGtXYP4KZRCBR', 'Não Pegue Esse Avião', 30, 4, 204146, False, 1, 'Cavaleiros do Forró Meio a Meio', '54gYRWgqk0a1dCpU7sGoGw', '2007-08-03', 'Cavaleiros do Forró'], ['0XEwcwsh1xFZMJpKGV2lr2', 'Isso É Imortal - Ao Vivo', 35, 3, 201152, False, 1, 'Vale a Pena Ouvir de Novo (Ao Vivo)', '64eFdYR9Yv0eOpxQ0xCXG9', '2015-04-10', 'Edson Lima'], ['3KKAl9mEx3Z69Mpxt3FDbb', 'Saga de um Vaqueiro - Ao Vivo', 51, 13, 495182, False, 1, 'Ao Vivo em Fortaleza', '1maQlmOemruuwtYSBMf8hu', '2016-12-16', 'Mastruz Com Leite']]\n"
     ]
    }
   ],
   "source": [
    "user = 'd4ndara'\n",
    "playlist = '1MyCURcX5OGCSAk8uKW3jz'\n",
    "ids = get_tracks_ids(user, playlist)\n",
    "tracks_info = get_tracks_info(ids)\n",
    "print(tracks_info)"
   ]
  },
  {
   "cell_type": "code",
   "execution_count": 17,
   "metadata": {},
   "outputs": [],
   "source": [
    "write_csv(tracks_info)"
   ]
  }
 ],
 "metadata": {
  "kernelspec": {
   "display_name": "Python 3",
   "language": "python",
   "name": "python3"
  },
  "language_info": {
   "codemirror_mode": {
    "name": "ipython",
    "version": 3
   },
   "file_extension": ".py",
   "mimetype": "text/x-python",
   "name": "python",
   "nbconvert_exporter": "python",
   "pygments_lexer": "ipython3",
   "version": "3.6.4"
  }
 },
 "nbformat": 4,
 "nbformat_minor": 2
}
