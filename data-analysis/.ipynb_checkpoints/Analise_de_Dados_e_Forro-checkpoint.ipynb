{
 "cells": [
  {
   "cell_type": "markdown",
   "metadata": {
    "colab_type": "text",
    "id": "view-in-github"
   },
   "source": [
    "<a href=\"https://colab.research.google.com/github/dandaramcsousa/data-analysis/blob/master/An%C3%A1lise_de_Dados_e_Forr%C3%B3.ipynb\" target=\"_parent\"><img src=\"https://colab.research.google.com/assets/colab-badge.svg\" alt=\"Open In Colab\"/></a>"
   ]
  },
  {
   "cell_type": "markdown",
   "metadata": {
    "colab_type": "text",
    "id": "7ByvUDKiEqtf"
   },
   "source": [
    "# Fãs da banda Calcinha Preta declaram seu amor e viram minicurso. É o que você vai ver agora.\n",
    "\n",
    "E se você pudesse aprender e exercitar conceitos de análise de dados através da sua banda favorita? Hoje vamos conhecer o Google Colab como uma ótima ferramenta para fazer análises de dados em Python sem precisar de instalações, Spotipy para acessar e extrair informações da API do Spotify e Altair para gerar alguns gráficos.\n",
    "\n",
    "Anote no seu top 5 músicas e álbuns de Calcinha Preta e veja se o resto do Spotify pensa igual.\n",
    "\n",
    "![louca por ti - belém do pará - vol.2](https://media.giphy.com/media/ZDttRtORPfh9FVc0cl/giphy.gif)\n",
    "\n",
    "Impulsionados por Calcinha Preta vamos hoje aprender como misturar Python, Google Colab, dados do Spotify e análise de dados. Animados? Pois vem ver, a Calcinha Preta chegou pra você e ela é nossa, é nossa, é nossa!\n",
    "\n",
    "**Índice**\n",
    "1. Sobre nós\n",
    "2. Sobre vocês\n",
    "3. O Google Colab\n",
    "4. Importações e credenciais\n",
    "5. Gerando as funções\n",
    "6. CSV que a gente gosta\n",
    "7. Interpretações e visualizações \n",
    "8. Próximos passos\n",
    "\n"
   ]
  },
  {
   "cell_type": "markdown",
   "metadata": {
    "colab_type": "text",
    "id": "nRhLMIKhE5kQ"
   },
   "source": [
    "![e o vento levou - salvador - vol. 1](https://thumbs.gfycat.com/MajesticTastyElephant.webp)\n",
    "\n",
    "### O PyLadies Paraíba é..?\n",
    "\n",
    "A comunidade PyLadies é uma iniciativa internacional com foco em ajudar mais mulheres a se tornarem participantes ativas e líderes da comunidade de código aberto Python. No Brasil, contamos atualmente com 30 grupos PyLadies  ativos, municipais e estaduais, que realizam workshops, palestras e encontros de Norte a Sul do país.\n",
    "\n",
    "Somos o grupo PyLadies Paraíba, organização regional da iniciativa PyLadies. Nosso grupo é formado por professoras, pesquisadoras, estudantes de várias instituições de ensino na Paraíba, do litoral ao sertão. Além de outras profissionais atuantes também no ambiente empresarial. \n",
    "\n",
    "Você pode nos encontrar no [Facebook](https://www.facebook.com/pyladiespb), [Twitter](https://twitter.com/pyladiespb) e [Instagram](https://instagram.com/pyladiespb) como @pyladiespb.\n",
    "\n",
    "### Quem vos fala?\n",
    "\n",
    "Eu mesma, Dandara Sousa, sou graduada em Ciência da Computação e mestranda na UFCG, membro do Pyladies Paraíba @pyladiespb, feminista, apaixonada por dados e ensino. **Dona das melhores playlists do Spotify**.\n",
    "\n",
    "Onde me achar: [dandaramcsousa.github.io/](https://dandaramcsousa.github.io/).\n",
    "\n",
    "### E vocês?\n",
    "\n",
    "Quem são vocês? Como vocês chegaram aqui? \n",
    "\n",
    "### Google Colab?\n",
    "\n",
    "O Google Colab é uma plataforma cloud gratuita que permite rodar código Python (2.7 e 3.6) em um formato muito parecido com um Jupyter Notebook de forma colaborativa possibilitando fazer desde códigos básicos até análises de dados mais complexas sem necessidade de instalar qualquer coisa na sua máquina.\n",
    "\n"
   ]
  },
  {
   "cell_type": "markdown",
   "metadata": {
    "colab_type": "text",
    "id": "tB0H35chFFz_"
   },
   "source": [
    "![a calcinha preta é nossa - belém do pará - vol.2](https://media.giphy.com/media/kI3NVhbtJKdJaPCLS7/giphy.gif)\n",
    "\n",
    "### Instalando o Spotipy e inicializando tudo\n",
    "Primeiro, instalando o [Spotipy](https://spotipy.readthedocs.io/en/2.12.0/), a biblioteca para uso da [API do Spotify](https://developer.spotify.com/documentation/web-api/reference/) com Python. Para conseguir credencial no Spotify for Developers basta fazer [login](https://developer.spotify.com/dashboard/) no site e cadastrar seu projeto. Depois disso é só colocar no código e por pra rodar."
   ]
  },
  {
   "cell_type": "code",
   "execution_count": 1,
   "metadata": {
    "colab": {
     "base_uri": "https://localhost:8080/",
     "height": 187
    },
    "colab_type": "code",
    "id": "2t-eKi3_91GM",
    "outputId": "86426172-f445-4972-9612-0ea4f09f3dbc"
   },
   "outputs": [],
   "source": [
    "#!pip install spotipy\n",
    "import pandas as pd\n",
    "\n",
    "from spotipy.oauth2 import SpotifyClientCredentials\n",
    "import spotipy\n",
    "import sys\n",
    "import csv\n",
    "\n",
    "sp = spotipy.Spotify(client_credentials_manager= SpotifyClientCredentials(client_id=\"##\", client_secret=\"###\"))\n"
   ]
  },
  {
   "cell_type": "markdown",
   "metadata": {
    "colab_type": "text",
    "id": "adfMg5kPF3uo"
   },
   "source": [
    "### Funções que utilizaremos\n",
    "\n",
    "Se é da Calcinha Preta que a gente gosta, é da Calcinha Preta que queremos informações. \n",
    "* **get_artist(name)**: dado um nome, retorna um artista\n",
    "* **get_artist_id(artists)**: dado um artista, retorna o id dele\n",
    "* **show_artist_top_tracks(id)**: dado o id do artista, imprime suas top músicas\n",
    "* **show_artist_related_artists(id)**: dado o id do artista, imprime os artista relacionados a ele\n",
    "* **get_artist_albums_id_names(id)**: dado o id do artista, retorna os ids e nomes de todos os álbuns disponíveis no Brasil\n",
    "* **get_album_songs(album_id, album_name)**: dado o id e nome do álbum, retorna um dicionário com as informações das músicas do álbum (álbum, número da música no álbum, id, nome, popularidade, duração, data e  artistas envolvidos)\n",
    "* **get_all_albums_songs(albums_ids_names)**: dado um dicionário com ids e nomes de álbuns, retorna todas as músicas de todos os albuns de um artista provenientes da função get_album_songs(album_id, album_name)\n",
    "* **convert_to_csv(filepath)**: converte para um csv chamado 'calcinhapreta.csv' os dados\n"
   ]
  },
  {
   "cell_type": "code",
   "execution_count": 2,
   "metadata": {
    "colab": {},
    "colab_type": "code",
    "id": "BP6oVavY99Xw"
   },
   "outputs": [],
   "source": [
    "def get_artist(name):\n",
    "    results = sp.search(name)\n",
    "    items = results['tracks']['items']\n",
    "    if len(items) > 0:\n",
    "        return items[0]['artists'][0]\n",
    "    else:\n",
    "        return None\n",
    "        "
   ]
  },
  {
   "cell_type": "code",
   "execution_count": 3,
   "metadata": {
    "colab": {},
    "colab_type": "code",
    "id": "BdX8DdDE-AXW"
   },
   "outputs": [],
   "source": [
    "def get_artist_id(artist):\n",
    "    return artist['id']"
   ]
  },
  {
   "cell_type": "code",
   "execution_count": 4,
   "metadata": {
    "colab": {},
    "colab_type": "code",
    "id": "whtaBOLdGHDT"
   },
   "outputs": [],
   "source": [
    "def show_artist_top_tracks(id):\n",
    "    response = sp.artist_top_tracks(id)\n",
    "    for track in response['tracks']:\n",
    "        print(track['name'])"
   ]
  },
  {
   "cell_type": "code",
   "execution_count": 5,
   "metadata": {
    "colab": {},
    "colab_type": "code",
    "id": "AmB0WYdnGBZB"
   },
   "outputs": [],
   "source": [
    "def show_artist_related_artists(id):\n",
    "    related_artists = sp.artist_related_artists(id)\n",
    "    for artist in related_artists['artists']:\n",
    "        print (artist['name'])"
   ]
  },
  {
   "cell_type": "code",
   "execution_count": 6,
   "metadata": {
    "colab": {},
    "colab_type": "code",
    "id": "h6hGwRhy-Ckg"
   },
   "outputs": [],
   "source": [
    "def get_artist_albums_id_names(id):\n",
    "    albums = sp.artist_albums(id, country = 'BR', limit=50)\n",
    "    albums_id_name = {}\n",
    "    for i in range(len(albums['items'])):\n",
    "        artist_id = albums['items'][i]['artists'][0]['id']\n",
    "        if artist_id == id:\n",
    "            album_id = albums['items'][i]['id']\n",
    "            name = albums['items'][i]['name']\n",
    "            albums_id_name[album_id] = name\n",
    "\n",
    "    return albums_id_name"
   ]
  },
  {
   "cell_type": "code",
   "execution_count": 7,
   "metadata": {
    "colab": {},
    "colab_type": "code",
    "id": "64unIbLz-EnW"
   },
   "outputs": [],
   "source": [
    "def get_album_songs(album_id, album_name):\n",
    "    spotify_album = {}\n",
    "\n",
    "    tracks = sp.album_tracks(album_id)\n",
    "  \n",
    "    for n in range(len(tracks['items'])):\n",
    "        id_track = tracks['items'][n]['id']\n",
    "        track = sp.track(id_track)\n",
    "        spotify_album[id_track] = {}\n",
    "\n",
    "        spotify_album[id_track]['album'] = album_name\n",
    "        spotify_album[id_track]['album_type'] = track['album']['album_type']\n",
    "        spotify_album[id_track]['track_number'] = track['track_number']\n",
    "        spotify_album[id_track]['id_track'] = track['id']\n",
    "        spotify_album[id_track]['name'] = track['name']\n",
    "        spotify_album[id_track]['popularity'] = track['popularity']\n",
    "        spotify_album[id_track]['explicit'] = track['explicit']\n",
    "        spotify_album[id_track]['duration_ms'] = track['duration_ms']\n",
    "        spotify_album[id_track]['release_date'] = track['album']['release_date']\n",
    "\n",
    "        artists_track = track['artists']\n",
    "        spotify_album[id_track]['artists'] = []\n",
    "        for artist in artists_track:\n",
    "            spotify_album[id_track]['artists'].append(artist['name'])\n",
    "    return spotify_album"
   ]
  },
  {
   "cell_type": "code",
   "execution_count": 8,
   "metadata": {
    "colab": {},
    "colab_type": "code",
    "id": "0d1rWrb_-H5b"
   },
   "outputs": [],
   "source": [
    "def get_all_albums_songs(albums_ids_names):\n",
    "    spotify_albums = []\n",
    "    albums_names = []\n",
    "    for id, name in albums_ids_names.items():\n",
    "        print(name)\n",
    "        if name not in albums_names:\n",
    "            albums_names.append(name)\n",
    "            album_songs = get_album_songs(id,name) \n",
    "        for item in album_songs.items():\n",
    "            spotify_albums.append(item[1]) #pegar so o valor ['album'], ['album type']\n",
    "    return spotify_albums"
   ]
  },
  {
   "cell_type": "code",
   "execution_count": 9,
   "metadata": {
    "colab": {},
    "colab_type": "code",
    "id": "CrpHRSUl-Kpx"
   },
   "outputs": [],
   "source": [
    "def convert_to_csv(filepath, name):\n",
    "    df = pd.DataFrame(filepath)\n",
    "    df.to_csv('../data/'+name+'.csv')\n",
    "    return df.head()"
   ]
  },
  {
   "cell_type": "markdown",
   "metadata": {
    "colab_type": "text",
    "id": "XSBQXnjMIVM-"
   },
   "source": [
    "### Botando pra gerar\n",
    "![louca por ti - salvador - vol.1](https://3.bp.blogspot.com/-hNnxhppOJ0E/WiFegdbKjkI/AAAAAAAAW54/vCpstPncvjcMSxK6cTPBtkPjwHL575b5wCLcBGAs/s1600/1_vssINiPo_dCvKJ2LIgjIbQ.gif)\n",
    " \n",
    "O que temos até agora?\n",
    "\n",
    "Antes de tudo:\n",
    "1. Qual seu top 5 da Calcinha Preta?\n",
    "2. Quando você pensa em Calcinha Preta, que outros artistas vem a mente?"
   ]
  },
  {
   "cell_type": "code",
   "execution_count": 10,
   "metadata": {
    "colab": {
     "base_uri": "https://localhost:8080/",
     "height": 632
    },
    "colab_type": "code",
    "id": "ijC8CEZI-MwW",
    "outputId": "ca36acc5-9f17-4b66-b906-787f79b3c73a"
   },
   "outputs": [
    {
     "name": "stdout",
     "output_type": "stream",
     "text": [
      "6Kps94g1Npexh3LrinIOvC\n",
      "As tops de Calcinha Preta segundo o Spotify:\n",
      "Um Degrau na Escada - Ao Vivo\n",
      "Conta de Luz - Ao Vivo\n",
      "Cobertor\n",
      "Agora Estou Sofrendo\n",
      "Hoje á Noite \"Alone\" (Ao Vivo)\n",
      "Daniela - Ao Vivo\n",
      "Louca por Ti \"Dust in the Wind\"\n",
      "Tchau pro Seu Amor - Ao Vivo\n",
      "Mágica\n",
      "Como Vou Deixar Você?\n",
      "----------------------------------------------------------\n",
      "Os artistas relacionados a Calcinha Preta segundo o Spotify:\n",
      "Aviões do Forró\n",
      "Cavaleiros do Forró\n",
      "Banda Magníficos\n",
      "Banda Calypso\n",
      "Avine Vinny\n",
      "Márcia Fellipe\n",
      "Limão Com Mel\n",
      "Companhia do Calypso\n",
      "Luan Estilizado\n",
      "Forró do Muido\n",
      "Mastruz Com Leite\n",
      "Malla 100 Alça\n",
      "Banda A Loba\n",
      "Saia Rodada\n",
      "Bonde do Forró\n",
      "Jonas Esticado\n",
      "Asa De Águia\n",
      "Chicabana\n",
      "Desejo De Menina\n",
      "Cavalo De Pau\n"
     ]
    }
   ],
   "source": [
    "name = \"Calcinha Preta\"\n",
    "artist = get_artist(name)    \n",
    "if artist:\n",
    "    artist_id = get_artist_id(artist)\n",
    "    print(artist_id)\n",
    "  \n",
    "    print(\"As tops de \" + name + \" segundo o Spotify:\")\n",
    "    show_artist_top_tracks(artist_id)\n",
    "    print(\"----------------------------------------------------------\")    \n",
    "\n",
    "    print(\"Os artistas relacionados a \" + name + \" segundo o Spotify:\")\n",
    "    show_artist_related_artists(artist_id)  \n",
    "else:\n",
    "    logger.error(\"Can't find artist: %s\", artist)"
   ]
  },
  {
   "cell_type": "markdown",
   "metadata": {
    "colab_type": "text",
    "id": "nqk9qhdtKC49"
   },
   "source": [
    "### É da calcinha que eu gosto, carrego no coração!\n",
    "\n",
    "![baby doll](https://thumbs.gfycat.com/CreativeGrandAfricanpiedkingfisher.webp)\n",
    "\n",
    "Agora, vamos brincar com as outras funções que fizemos. Coletaremos todos as músicas da Calcinha Preta e vamos deixar tudo bonitinho em um csv. "
   ]
  },
  {
   "cell_type": "code",
   "execution_count": 11,
   "metadata": {
    "colab": {
     "base_uri": "https://localhost:8080/",
     "height": 74
    },
    "colab_type": "code",
    "id": "Z8Cj6T84KWkR",
    "outputId": "4e370648-f00f-4de1-eb03-2d1485bd9371"
   },
   "outputs": [
    {
     "name": "stdout",
     "output_type": "stream",
     "text": [
      "{'2TWFcqzZ6KEUAYie7wEF1f': {'album': 'Calcinha Preta, Vol. 13 (Ao Vivo)', 'album_type': 'album', 'track_number': 1, 'id_track': '2TWFcqzZ6KEUAYie7wEF1f', 'name': 'Um Degrau na Escada (Ao Vivo)', 'popularity': 45, 'explicit': False, 'duration_ms': 215520, 'release_date': '2005', 'artists': ['Calcinha Preta']}, '6nXGLICKEQJv5BMZxgIrjH': {'album': 'Calcinha Preta, Vol. 13 (Ao Vivo)', 'album_type': 'album', 'track_number': 2, 'id_track': '6nXGLICKEQJv5BMZxgIrjH', 'name': 'Adão e Eva (Ao Vivo)', 'popularity': 34, 'explicit': False, 'duration_ms': 246040, 'release_date': '2005', 'artists': ['Calcinha Preta']}, '1mPcdV4w5LDxGR14pQQDke': {'album': 'Calcinha Preta, Vol. 13 (Ao Vivo)', 'album_type': 'album', 'track_number': 3, 'id_track': '1mPcdV4w5LDxGR14pQQDke', 'name': 'Hoje á Noite \"Alone\" (Ao Vivo)', 'popularity': 51, 'explicit': False, 'duration_ms': 212960, 'release_date': '2005', 'artists': ['Calcinha Preta']}, '0h2XejoLfJrbmy8UpfYev9': {'album': 'Calcinha Preta, Vol. 13 (Ao Vivo)', 'album_type': 'album', 'track_number': 4, 'id_track': '0h2XejoLfJrbmy8UpfYev9', 'name': 'Cada Paixão uma Novela (Ao Vivo)', 'popularity': 28, 'explicit': False, 'duration_ms': 237706, 'release_date': '2005', 'artists': ['Calcinha Preta']}, '3xuxTwpjlDJOINKCkewMwQ': {'album': 'Calcinha Preta, Vol. 13 (Ao Vivo)', 'album_type': 'album', 'track_number': 5, 'id_track': '3xuxTwpjlDJOINKCkewMwQ', 'name': 'Manchete dos Jornais (Ao Vivo)', 'popularity': 39, 'explicit': False, 'duration_ms': 260333, 'release_date': '2005', 'artists': ['Calcinha Preta']}, '4JroQOn3E6sRxS2o6M620h': {'album': 'Calcinha Preta, Vol. 13 (Ao Vivo)', 'album_type': 'album', 'track_number': 6, 'id_track': '4JroQOn3E6sRxS2o6M620h', 'name': 'Desfile de Moda (Ao Vivo)', 'popularity': 27, 'explicit': False, 'duration_ms': 231933, 'release_date': '2005', 'artists': ['Calcinha Preta']}, '5zn67gFg0hUJXlz6ktu1Yc': {'album': 'Calcinha Preta, Vol. 13 (Ao Vivo)', 'album_type': 'album', 'track_number': 7, 'id_track': '5zn67gFg0hUJXlz6ktu1Yc', 'name': 'Mágica (Ao Vivo)', 'popularity': 39, 'explicit': False, 'duration_ms': 252026, 'release_date': '2005', 'artists': ['Calcinha Preta']}, '1EHylpXM7XNSxmOki0Fymh': {'album': 'Calcinha Preta, Vol. 13 (Ao Vivo)', 'album_type': 'album', 'track_number': 8, 'id_track': '1EHylpXM7XNSxmOki0Fymh', 'name': 'A Calcinha Preta É Nossa (Ao Vivo)', 'popularity': 39, 'explicit': False, 'duration_ms': 194226, 'release_date': '2005', 'artists': ['Calcinha Preta']}, '6E1MDwgqJ4FtC85UzuE3oJ': {'album': 'Calcinha Preta, Vol. 13 (Ao Vivo)', 'album_type': 'album', 'track_number': 9, 'id_track': '6E1MDwgqJ4FtC85UzuE3oJ', 'name': 'Quer Namorar Comigo (Ao Vivo)', 'popularity': 33, 'explicit': False, 'duration_ms': 201626, 'release_date': '2005', 'artists': ['Calcinha Preta']}, '0miPHcpnLwLqnU6SVSXnvL': {'album': 'Calcinha Preta, Vol. 13 (Ao Vivo)', 'album_type': 'album', 'track_number': 10, 'id_track': '0miPHcpnLwLqnU6SVSXnvL', 'name': 'Renacerá (Ao Vivo)', 'popularity': 32, 'explicit': False, 'duration_ms': 219240, 'release_date': '2005', 'artists': ['Calcinha Preta']}, '05uEelCxZhQjzYNgAntl45': {'album': 'Calcinha Preta, Vol. 13 (Ao Vivo)', 'album_type': 'album', 'track_number': 11, 'id_track': '05uEelCxZhQjzYNgAntl45', 'name': 'Um Novo Amor \"Good Bye\" (Ao Vivo)', 'popularity': 41, 'explicit': False, 'duration_ms': 234440, 'release_date': '2005', 'artists': ['Calcinha Preta']}, '2BOyoTn08jc2U0zkrf0zMk': {'album': 'Calcinha Preta, Vol. 13 (Ao Vivo)', 'album_type': 'album', 'track_number': 12, 'id_track': '2BOyoTn08jc2U0zkrf0zMk', 'name': 'Armadilha (Ao Vivo)', 'popularity': 30, 'explicit': False, 'duration_ms': 226000, 'release_date': '2005', 'artists': ['Calcinha Preta']}, '77leQaGbAJiP5v2KbshbA1': {'album': 'Calcinha Preta, Vol. 13 (Ao Vivo)', 'album_type': 'album', 'track_number': 13, 'id_track': '77leQaGbAJiP5v2KbshbA1', 'name': 'Segredos (Ao Vivo)', 'popularity': 31, 'explicit': False, 'duration_ms': 230800, 'release_date': '2005', 'artists': ['Calcinha Preta']}, '1PqOzhRmUUsiniN4VOFuCx': {'album': 'Calcinha Preta, Vol. 13 (Ao Vivo)', 'album_type': 'album', 'track_number': 14, 'id_track': '1PqOzhRmUUsiniN4VOFuCx', 'name': 'Baby Doll (Ao Vivo)', 'popularity': 35, 'explicit': False, 'duration_ms': 171293, 'release_date': '2005', 'artists': ['Calcinha Preta']}, '7nnMRq6s7iKjOgLTJYdB9B': {'album': 'Calcinha Preta, Vol. 13 (Ao Vivo)', 'album_type': 'album', 'track_number': 15, 'id_track': '7nnMRq6s7iKjOgLTJYdB9B', 'name': 'Hipnose (Ao Vivo)', 'popularity': 41, 'explicit': False, 'duration_ms': 238693, 'release_date': '2005', 'artists': ['Calcinha Preta']}, '2oDSd4TWAxllHArCMhe9RA': {'album': 'Calcinha Preta, Vol. 13 (Ao Vivo)', 'album_type': 'album', 'track_number': 16, 'id_track': '2oDSd4TWAxllHArCMhe9RA', 'name': 'Furunfa (Ao Vivo)', 'popularity': 32, 'explicit': False, 'duration_ms': 266800, 'release_date': '2005', 'artists': ['Calcinha Preta']}, '2eI1OQTaBJFwmQEEYfy9OU': {'album': 'Calcinha Preta, Vol. 13 (Ao Vivo)', 'album_type': 'album', 'track_number': 17, 'id_track': '2eI1OQTaBJFwmQEEYfy9OU', 'name': 'Declaração de Amor (Ao Vivo)', 'popularity': 41, 'explicit': False, 'duration_ms': 198426, 'release_date': '2005', 'artists': ['Calcinha Preta']}, '45H5BSm8TpUe1VBDzOMKNo': {'album': 'Calcinha Preta, Vol. 13 (Ao Vivo)', 'album_type': 'album', 'track_number': 18, 'id_track': '45H5BSm8TpUe1VBDzOMKNo', 'name': 'Abra Meu Coração (Ao Vivo)', 'popularity': 27, 'explicit': False, 'duration_ms': 199560, 'release_date': '2005', 'artists': ['Calcinha Preta']}, '5yt2xbhapxKG5z95YMAJjO': {'album': 'Calcinha Preta, Vol. 13 (Ao Vivo)', 'album_type': 'album', 'track_number': 19, 'id_track': '5yt2xbhapxKG5z95YMAJjO', 'name': 'Morrendo de Desejo (Ao Vivo)', 'popularity': 38, 'explicit': False, 'duration_ms': 287146, 'release_date': '2005', 'artists': ['Calcinha Preta']}}\n"
     ]
    }
   ],
   "source": [
    "albums_id_names = get_artist_albums_id_names(artist_id)\n",
    "#print(albums_id_names)\n",
    "melhoralbum = get_album_songs('5r5rYYbGdFZXincPbvekGy', 'Calcinha Preta, Vol. 13 (Ao Vivo)')\n",
    "print(melhoralbum)"
   ]
  },
  {
   "cell_type": "code",
   "execution_count": 12,
   "metadata": {},
   "outputs": [
    {
     "name": "stdout",
     "output_type": "stream",
     "text": [
      "Calcinha Preta: Edição Especial\n",
      "Balada Prime\n",
      "Filmes e Histórias, Vol. 28\n",
      "Calcinha Preta Premium\n",
      "Eu Amo Você, Vol. 26\n",
      "Meu Primeiro Namorado, Vol. 25\n",
      "15 Anos: Ao Vivo em Maceió, Vol. 24\n",
      "Virei Seu Fã, Vol. 23 (Ao Vivo)\n",
      "Sou Assim, Não Vou Mudar, Vol. 22\n",
      "Eu Amo Demais, Vol. 21 (Ao Vivo)\n",
      "Você Não Vale Nada, Vol. 20 (Ao Vivo)\n",
      "Vencedor, Vol. 19\n",
      "Ao Vivo no Recife, Vol. 18\n",
      "Fica Comigo, Paulinha, Vol. 17\n",
      "Como Vou Deixar Você?, Vol. 16\n",
      "Pensão Alimentícia, Vol. 15\n",
      "As 20 +\n",
      "Dois Amores, Duas Paixões, Vol. 14\n",
      "Mágica, Vol. 12\n",
      "Calcinha Preta, Vol. 13 (Ao Vivo)\n",
      "Hoje à Noite, Vol. 11 (Inéditas e ao Vivo)\n",
      "Ao Vivo em Salvador, Vol. 1\n",
      "A Gente Se Vê Lá, Vol. 10\n",
      "Amor da Minha Vida, Vol. 9\n",
      "Ao Vivo, Vol. 8\n",
      "Seu Coração Vai Aprender o Que É Paixão, Vol. 7\n",
      "Sou Seu Amor, Vol. 6 (Ao Vivo)\n",
      "A Moçada É Só Filé!, Vol. 5 (Ao Vivo)\n",
      "A Moçada É Só Filé, Vol. 4\n",
      "Arrepiando Com a Galera, Vol. 3 (Ao Vivo)\n",
      "As Mais Gostosas do Brasil, Vol. 2\n",
      "A Banda de Forró Mais Gostosa do Brasil, Vol. 1\n",
      "CP 25 Anos, Pt. 2 (Ao Vivo)\n",
      "Conta de Luz (Ao Vivo)\n",
      "CP 25 Anos, Pt. 1 (Ao Vivo)\n",
      "Tchau pro Seu Amor (Ao Vivo)\n",
      "Não Tem Explicação\n",
      "Amor de Mentira\n",
      "Flores, Versos e Poemas\n",
      "Eu Vim do Futuro - Single\n",
      "Homem de Rua\n",
      "Alô Amor\n",
      "Parada Meio Louca\n",
      "Dói, Dói\n"
     ]
    }
   ],
   "source": [
    "all_albums = get_all_albums_songs(albums_id_names)"
   ]
  },
  {
   "cell_type": "code",
   "execution_count": 13,
   "metadata": {
    "colab": {
     "base_uri": "https://localhost:8080/",
     "height": 35
    },
    "colab_type": "code",
    "id": "LzxX4Exkh5t3",
    "outputId": "df2c5cdf-5093-4b44-9c8f-042de99ea1e0"
   },
   "outputs": [
    {
     "data": {
      "text/html": [
       "<div>\n",
       "<style scoped>\n",
       "    .dataframe tbody tr th:only-of-type {\n",
       "        vertical-align: middle;\n",
       "    }\n",
       "\n",
       "    .dataframe tbody tr th {\n",
       "        vertical-align: top;\n",
       "    }\n",
       "\n",
       "    .dataframe thead th {\n",
       "        text-align: right;\n",
       "    }\n",
       "</style>\n",
       "<table border=\"1\" class=\"dataframe\">\n",
       "  <thead>\n",
       "    <tr style=\"text-align: right;\">\n",
       "      <th></th>\n",
       "      <th>album</th>\n",
       "      <th>album_type</th>\n",
       "      <th>track_number</th>\n",
       "      <th>id_track</th>\n",
       "      <th>name</th>\n",
       "      <th>popularity</th>\n",
       "      <th>explicit</th>\n",
       "      <th>duration_ms</th>\n",
       "      <th>release_date</th>\n",
       "      <th>artists</th>\n",
       "    </tr>\n",
       "  </thead>\n",
       "  <tbody>\n",
       "    <tr>\n",
       "      <th>0</th>\n",
       "      <td>Calcinha Preta: Edição Especial</td>\n",
       "      <td>album</td>\n",
       "      <td>1</td>\n",
       "      <td>28P5hnigrW5mQ2aZ439cEn</td>\n",
       "      <td>Quer Conhecer? Deixe!</td>\n",
       "      <td>20</td>\n",
       "      <td>False</td>\n",
       "      <td>228827</td>\n",
       "      <td>2018-08-03</td>\n",
       "      <td>[Calcinha Preta]</td>\n",
       "    </tr>\n",
       "    <tr>\n",
       "      <th>1</th>\n",
       "      <td>Calcinha Preta: Edição Especial</td>\n",
       "      <td>album</td>\n",
       "      <td>2</td>\n",
       "      <td>53tDhIui60U8H4CskOxOdM</td>\n",
       "      <td>Não Me Deixe Agora</td>\n",
       "      <td>23</td>\n",
       "      <td>False</td>\n",
       "      <td>293162</td>\n",
       "      <td>2018-08-03</td>\n",
       "      <td>[Calcinha Preta]</td>\n",
       "    </tr>\n",
       "    <tr>\n",
       "      <th>2</th>\n",
       "      <td>Calcinha Preta: Edição Especial</td>\n",
       "      <td>album</td>\n",
       "      <td>3</td>\n",
       "      <td>0OoMcqlselvg5wIhek1irs</td>\n",
       "      <td>Agora Estou Sofrendo</td>\n",
       "      <td>24</td>\n",
       "      <td>False</td>\n",
       "      <td>251580</td>\n",
       "      <td>2018-08-03</td>\n",
       "      <td>[Calcinha Preta]</td>\n",
       "    </tr>\n",
       "    <tr>\n",
       "      <th>3</th>\n",
       "      <td>Calcinha Preta: Edição Especial</td>\n",
       "      <td>album</td>\n",
       "      <td>4</td>\n",
       "      <td>7AARwThoxsUZ5iiIfSdkwK</td>\n",
       "      <td>Sem Explicação (I Will Be)</td>\n",
       "      <td>21</td>\n",
       "      <td>False</td>\n",
       "      <td>221083</td>\n",
       "      <td>2018-08-03</td>\n",
       "      <td>[Calcinha Preta]</td>\n",
       "    </tr>\n",
       "    <tr>\n",
       "      <th>4</th>\n",
       "      <td>Calcinha Preta: Edição Especial</td>\n",
       "      <td>album</td>\n",
       "      <td>5</td>\n",
       "      <td>3lpaj83oEG9Sfx0vf4ckHv</td>\n",
       "      <td>Perdoar</td>\n",
       "      <td>23</td>\n",
       "      <td>False</td>\n",
       "      <td>186984</td>\n",
       "      <td>2018-08-03</td>\n",
       "      <td>[Calcinha Preta]</td>\n",
       "    </tr>\n",
       "  </tbody>\n",
       "</table>\n",
       "</div>"
      ],
      "text/plain": [
       "                             album album_type  track_number  \\\n",
       "0  Calcinha Preta: Edição Especial      album             1   \n",
       "1  Calcinha Preta: Edição Especial      album             2   \n",
       "2  Calcinha Preta: Edição Especial      album             3   \n",
       "3  Calcinha Preta: Edição Especial      album             4   \n",
       "4  Calcinha Preta: Edição Especial      album             5   \n",
       "\n",
       "                 id_track                        name  popularity  explicit  \\\n",
       "0  28P5hnigrW5mQ2aZ439cEn       Quer Conhecer? Deixe!          20     False   \n",
       "1  53tDhIui60U8H4CskOxOdM          Não Me Deixe Agora          23     False   \n",
       "2  0OoMcqlselvg5wIhek1irs        Agora Estou Sofrendo          24     False   \n",
       "3  7AARwThoxsUZ5iiIfSdkwK  Sem Explicação (I Will Be)          21     False   \n",
       "4  3lpaj83oEG9Sfx0vf4ckHv                     Perdoar          23     False   \n",
       "\n",
       "   duration_ms release_date           artists  \n",
       "0       228827   2018-08-03  [Calcinha Preta]  \n",
       "1       293162   2018-08-03  [Calcinha Preta]  \n",
       "2       251580   2018-08-03  [Calcinha Preta]  \n",
       "3       221083   2018-08-03  [Calcinha Preta]  \n",
       "4       186984   2018-08-03  [Calcinha Preta]  "
      ]
     },
     "execution_count": 13,
     "metadata": {},
     "output_type": "execute_result"
    }
   ],
   "source": [
    "convert_to_csv(all_albums, 'calcinhapreta')"
   ]
  },
  {
   "cell_type": "markdown",
   "metadata": {
    "colab_type": "text",
    "id": "tgFYde4hK13W"
   },
   "source": [
    "![mágica - belém do pará - vol.2](https://i.makeagif.com/media/7-26-2018/edHFfE.gif)\n",
    "\n",
    "Agora como mágica temos um csv com os dados da playlist.\n",
    "\n",
    "### Sim, e aí?\n",
    "\n",
    "Tivemos a ideia, fomos atrás dos dados, conseguimos e tratamos para colocar num csv. Agora está na hora de tirar algumas informações divertidas dele. \n",
    "* Qual é a música mais popular de Calcinha Preta? (E você concorda com ela?)\n",
    "* Qual é a música mais popular de cada álbum?\n",
    "* Qual é o álbum mais popular?\n",
    "* Qual é a maior música?\n",
    "* Calcinha Preta tem alguma música \"explicit\"?\n",
    "* ...\n",
    "\n",
    "Sobre popularidade para o Spotify: \n",
    "> Popularidade da faixa: O valor estará entre 0 e 100, sendo 100 o mais popular. A popularidade é calculada e baseia-se na maior parte no número total de reproduções que a faixa teve e quão recentes foram estas reproduções. De um modo geral, as músicas que estão sendo tocadas com uma maior frequência atualmente terão uma popularidade maior do que as músicas que foram muito tocadas no passado. As faixas duplicadas (por exemplo, a mesma faixa de um single e de um álbum) são classificadas independentemente. A popularidade do artistas e dos álbuns é derivada matematicamente da popularidade das faixas. O valor da popularidade pode ficar abaixo da popularidade real em alguns dias pois o valor não é atualizado em tempo real.\n"
   ]
  },
  {
   "cell_type": "code",
   "execution_count": 14,
   "metadata": {
    "colab": {},
    "colab_type": "code",
    "id": "4W36p_1vLn3s"
   },
   "outputs": [],
   "source": [
    "import altair as alt\n",
    "\n",
    "data = pd.read_csv('../data/calcinhapreta.csv')"
   ]
  },
  {
   "cell_type": "code",
   "execution_count": 16,
   "metadata": {
    "colab": {
     "base_uri": "https://localhost:8080/",
     "height": 443
    },
    "colab_type": "code",
    "id": "pD2DMpPQL0-m",
    "outputId": "aa52226e-f50c-4ea3-c611-92d5925ac20a"
   },
   "outputs": [
    {
     "data": {
      "text/html": [
       "\n",
       "<div id=\"altair-viz-0acabfda32b640c287f267eaaf169784\"></div>\n",
       "<script type=\"text/javascript\">\n",
       "  (function(spec, embedOpt){\n",
       "    let outputDiv = document.currentScript.previousElementSibling;\n",
       "    if (outputDiv.id !== \"altair-viz-0acabfda32b640c287f267eaaf169784\") {\n",
       "      outputDiv = document.getElementById(\"altair-viz-0acabfda32b640c287f267eaaf169784\");\n",
       "    }\n",
       "    const paths = {\n",
       "      \"vega\": \"https://cdn.jsdelivr.net/npm//vega@5?noext\",\n",
       "      \"vega-lib\": \"https://cdn.jsdelivr.net/npm//vega-lib?noext\",\n",
       "      \"vega-lite\": \"https://cdn.jsdelivr.net/npm//vega-lite@4.8.1?noext\",\n",
       "      \"vega-embed\": \"https://cdn.jsdelivr.net/npm//vega-embed@6?noext\",\n",
       "    };\n",
       "\n",
       "    function loadScript(lib) {\n",
       "      return new Promise(function(resolve, reject) {\n",
       "        var s = document.createElement('script');\n",
       "        s.src = paths[lib];\n",
       "        s.async = true;\n",
       "        s.onload = () => resolve(paths[lib]);\n",
       "        s.onerror = () => reject(`Error loading script: ${paths[lib]}`);\n",
       "        document.getElementsByTagName(\"head\")[0].appendChild(s);\n",
       "      });\n",
       "    }\n",
       "\n",
       "    function showError(err) {\n",
       "      outputDiv.innerHTML = `<div class=\"error\" style=\"color:red;\">${err}</div>`;\n",
       "      throw err;\n",
       "    }\n",
       "\n",
       "    function displayChart(vegaEmbed) {\n",
       "      vegaEmbed(outputDiv, spec, embedOpt)\n",
       "        .catch(err => showError(`Javascript Error: ${err.message}<br>This usually means there's a typo in your chart specification. See the javascript console for the full traceback.`));\n",
       "    }\n",
       "\n",
       "    if(typeof define === \"function\" && define.amd) {\n",
       "      requirejs.config({paths});\n",
       "      require([\"vega-embed\"], displayChart, err => showError(`Error loading script: ${err.message}`));\n",
       "    } else if (typeof vegaEmbed === \"function\") {\n",
       "      displayChart(vegaEmbed);\n",
       "    } else {\n",
       "      loadScript(\"vega\")\n",
       "        .then(() => loadScript(\"vega-lite\"))\n",
       "        .then(() => loadScript(\"vega-embed\"))\n",
       "        .catch(showError)\n",
       "        .then(() => displayChart(vegaEmbed));\n",
       "    }\n",
       "  })({\"config\": {\"view\": {\"continuousWidth\": 400, \"continuousHeight\": 300}}, \"data\": {\"name\": \"data-416f21bcfad04d742e73a108c7f6e56a\"}, \"mark\": {\"type\": \"circle\", \"color\": \"#222437\", \"opacity\": 1}, \"encoding\": {\"color\": {\"type\": \"nominal\", \"field\": \"album_type\", \"legend\": {\"title\": \"Tipo do \\u00e1lbum\"}, \"scale\": {\"range\": [\"#222437\", \"#B183AE\"]}}, \"tooltip\": [{\"type\": \"nominal\", \"field\": \"name\"}, {\"type\": \"quantitative\", \"field\": \"popularity\"}, {\"type\": \"nominal\", \"field\": \"album\"}, {\"type\": \"nominal\", \"field\": \"album_type\"}], \"x\": {\"type\": \"quantitative\", \"axis\": {\"title\": \"Popularidade\"}, \"field\": \"popularity\"}, \"y\": {\"type\": \"nominal\", \"axis\": {\"title\": \"Nome\"}, \"field\": \"name\", \"sort\": null}}, \"$schema\": \"https://vega.github.io/schema/vega-lite/v4.8.1.json\", \"datasets\": {\"data-416f21bcfad04d742e73a108c7f6e56a\": [{\"Unnamed: 0\": 466, \"album\": \"CP 25 Anos, Pt. 1 (Ao Vivo)\", \"album_type\": \"single\", \"track_number\": 1, \"id_track\": \"49h9lUseWMnzyU0W8E40mP\", \"name\": \"Um Degrau na Escada - Ao Vivo\", \"popularity\": 60, \"explicit\": false, \"duration_ms\": 251061, \"release_date\": \"2020-05-13\", \"artists\": \"['Calcinha Preta', 'Gusttavo Lima']\"}, {\"Unnamed: 0\": 465, \"album\": \"Conta de Luz (Ao Vivo)\", \"album_type\": \"single\", \"track_number\": 1, \"id_track\": \"5CgqWKoMzbugofFOjnhcFS\", \"name\": \"Conta de Luz - Ao Vivo\", \"popularity\": 54, \"explicit\": false, \"duration_ms\": 160149, \"release_date\": \"2020-06-19\", \"artists\": \"['Calcinha Preta', 'Wesley Safad\\u00e3o']\"}, {\"Unnamed: 0\": 239, \"album\": \"As 20 +\", \"album_type\": \"album\", \"track_number\": 1, \"id_track\": \"3aNYxNtZq1AqLEYPKdx9F0\", \"name\": \"Cobertor\", \"popularity\": 52, \"explicit\": false, \"duration_ms\": 246133, \"release_date\": \"2006-01-15\", \"artists\": \"['Calcinha Preta']\"}, {\"Unnamed: 0\": 47, \"album\": \"Calcinha Preta Premium\", \"album_type\": \"album\", \"track_number\": 6, \"id_track\": \"3Sg8aqH8nGwbD7OompKqlZ\", \"name\": \"Agora Estou Sofrendo\", \"popularity\": 52, \"explicit\": false, \"duration_ms\": 237666, \"release_date\": \"2013-01-18\", \"artists\": \"['Calcinha Preta']\"}, {\"Unnamed: 0\": 289, \"album\": \"Calcinha Preta, Vol. 13 (Ao Vivo)\", \"album_type\": \"album\", \"track_number\": 3, \"id_track\": \"1mPcdV4w5LDxGR14pQQDke\", \"name\": \"Hoje \\u00e1 Noite \\\"Alone\\\" (Ao Vivo)\", \"popularity\": 51, \"explicit\": false, \"duration_ms\": 212960, \"release_date\": \"2005\", \"artists\": \"['Calcinha Preta']\"}, {\"Unnamed: 0\": 243, \"album\": \"As 20 +\", \"album_type\": \"album\", \"track_number\": 5, \"id_track\": \"21KbWPoY3MTpI5byU6d0dl\", \"name\": \"Louca por Ti \\\"Dust in the Wind\\\"\", \"popularity\": 50, \"explicit\": false, \"duration_ms\": 164480, \"release_date\": \"2006-01-15\", \"artists\": \"['Calcinha Preta']\"}, {\"Unnamed: 0\": 461, \"album\": \"CP 25 Anos, Pt. 2 (Ao Vivo)\", \"album_type\": \"single\", \"track_number\": 1, \"id_track\": \"3dZvILFXiC8xMutIIuTuT1\", \"name\": \"Daniela - Ao Vivo\", \"popularity\": 50, \"explicit\": false, \"duration_ms\": 174474, \"release_date\": \"2020-07-10\", \"artists\": \"['Calcinha Preta', 'Ra\\u00ed Saia Rodada']\"}, {\"Unnamed: 0\": 205, \"album\": \"Fica Comigo, Paulinha, Vol. 17\", \"album_type\": \"album\", \"track_number\": 9, \"id_track\": \"7MB82aWojKYntOXvQUogZM\", \"name\": \"Como Vou Deixar Voc\\u00ea?\", \"popularity\": 49, \"explicit\": false, \"duration_ms\": 188800, \"release_date\": \"2007-08-21\", \"artists\": \"['Calcinha Preta']\"}, {\"Unnamed: 0\": 247, \"album\": \"As 20 +\", \"album_type\": \"album\", \"track_number\": 9, \"id_track\": \"0SvtBdkNRlErX8sPrFgWPW\", \"name\": \"M\\u00e1gica\", \"popularity\": 49, \"explicit\": false, \"duration_ms\": 258013, \"release_date\": \"2006-01-15\", \"artists\": \"['Calcinha Preta']\"}, {\"Unnamed: 0\": 472, \"album\": \"Tchau pro Seu Amor (Ao Vivo)\", \"album_type\": \"single\", \"track_number\": 1, \"id_track\": \"24gHMEGrPZYzKI0SBow7ML\", \"name\": \"Tchau pro Seu Amor - Ao Vivo\", \"popularity\": 49, \"explicit\": false, \"duration_ms\": 130415, \"release_date\": \"2020-02-21\", \"artists\": \"['Calcinha Preta', 'MC JottaP\\u00ea']\"}, {\"Unnamed: 0\": 241, \"album\": \"As 20 +\", \"album_type\": \"album\", \"track_number\": 3, \"id_track\": \"0BbHiemHPWxSTR3xOAziyB\", \"name\": \"E o Vento Levou\", \"popularity\": 47, \"explicit\": false, \"duration_ms\": 266906, \"release_date\": \"2006-01-15\", \"artists\": \"['Calcinha Preta']\"}, {\"Unnamed: 0\": 250, \"album\": \"As 20 +\", \"album_type\": \"album\", \"track_number\": 12, \"id_track\": \"4lr3it0V2yALqSq23bSPOg\", \"name\": \"Manchete dos Jornais\", \"popularity\": 47, \"explicit\": false, \"duration_ms\": 236893, \"release_date\": \"2006-01-15\", \"artists\": \"['Calcinha Preta']\"}, {\"Unnamed: 0\": 253, \"album\": \"As 20 +\", \"album_type\": \"album\", \"track_number\": 15, \"id_track\": \"5P8INbk864e7LllQ1HxgSn\", \"name\": \"Dois Amores, Duas Paix\\u00f5es\", \"popularity\": 46, \"explicit\": false, \"duration_ms\": 223146, \"release_date\": \"2006-01-15\", \"artists\": \"['Calcinha Preta']\"}, {\"Unnamed: 0\": 46, \"album\": \"Calcinha Preta Premium\", \"album_type\": \"album\", \"track_number\": 5, \"id_track\": \"1qamKCfDlcPV44niEiQsOa\", \"name\": \"Fa\\u00e7o Chover (It Will Rain)\", \"popularity\": 46, \"explicit\": false, \"duration_ms\": 230093, \"release_date\": \"2013-01-18\", \"artists\": \"['Calcinha Preta']\"}, {\"Unnamed: 0\": 467, \"album\": \"CP 25 Anos, Pt. 1 (Ao Vivo)\", \"album_type\": \"single\", \"track_number\": 2, \"id_track\": \"6SsRvDjYAmizqhzm2h5Hox\", \"name\": \"Hoje \\u00e0 Noite - Ao Vivo\", \"popularity\": 46, \"explicit\": false, \"duration_ms\": 218925, \"release_date\": \"2020-05-13\", \"artists\": \"['Calcinha Preta']\"}, {\"Unnamed: 0\": 287, \"album\": \"Calcinha Preta, Vol. 13 (Ao Vivo)\", \"album_type\": \"album\", \"track_number\": 1, \"id_track\": \"2TWFcqzZ6KEUAYie7wEF1f\", \"name\": \"Um Degrau na Escada (Ao Vivo)\", \"popularity\": 45, \"explicit\": false, \"duration_ms\": 215520, \"release_date\": \"2005\", \"artists\": \"['Calcinha Preta']\"}, {\"Unnamed: 0\": 281, \"album\": \"M\\u00e1gica, Vol. 12\", \"album_type\": \"album\", \"track_number\": 7, \"id_track\": \"7AaW6x9Ld7c9JqBuyw6vzB\", \"name\": \"M\\u00e1gica\", \"popularity\": 44, \"explicit\": false, \"duration_ms\": 259657, \"release_date\": \"2005-01-01\", \"artists\": \"['Calcinha Preta']\"}, {\"Unnamed: 0\": 471, \"album\": \"CP 25 Anos, Pt. 1 (Ao Vivo)\", \"album_type\": \"single\", \"track_number\": 6, \"id_track\": \"2RNoUrbJnE8dirMbJCLYjF\", \"name\": \"M\\u00e1gica / E o Vento Levou - Ao Vivo\", \"popularity\": 44, \"explicit\": false, \"duration_ms\": 278314, \"release_date\": \"2020-05-13\", \"artists\": \"['Calcinha Preta']\"}, {\"Unnamed: 0\": 58, \"album\": \"Calcinha Preta Premium\", \"album_type\": \"album\", \"track_number\": 17, \"id_track\": \"23OxRrORCzejUJdYPyqJob\", \"name\": \"Ainda Te Amo\", \"popularity\": 44, \"explicit\": false, \"duration_ms\": 245640, \"release_date\": \"2013-01-18\", \"artists\": \"['Calcinha Preta']\"}, {\"Unnamed: 0\": 252, \"album\": \"As 20 +\", \"album_type\": \"album\", \"track_number\": 14, \"id_track\": \"08dcweSRXqWoMdYJU0uqmQ\", \"name\": \"Por Amor\", \"popularity\": 44, \"explicit\": false, \"duration_ms\": 248080, \"release_date\": \"2006-01-15\", \"artists\": \"['Calcinha Preta']\"}]}}, {\"mode\": \"vega-lite\"});\n",
       "</script>"
      ],
      "text/plain": [
       "alt.Chart(...)"
      ]
     },
     "execution_count": 16,
     "metadata": {},
     "output_type": "execute_result"
    }
   ],
   "source": [
    "# Qual é a música mais popular de Calcinha Preta? (E você concorda com ela?)\n",
    "data_top20 = data.sort_values('popularity', ascending = False).head(20)\n",
    "range_ = ['#222437', '#B183AE']\n",
    "alt.Chart(data_top20).mark_circle(color = '#222437', opacity = 1).encode(\n",
    "    y = alt.Y('name', axis = alt.Axis(title='Nome'), sort = None),\n",
    "    x = alt.X('popularity', axis = alt.Axis(title = \"Popularidade\")),\n",
    "    color = alt.Color('album_type', legend=alt.Legend(title=\"Tipo do álbum\"), scale=alt.Scale(range = range_)),\n",
    "    tooltip = ['name', 'popularity', 'album', 'album_type']\n",
    ")"
   ]
  },
  {
   "cell_type": "code",
   "execution_count": 17,
   "metadata": {
    "colab": {
     "base_uri": "https://localhost:8080/",
     "height": 1000
    },
    "colab_type": "code",
    "id": "vHjJDjnhL5-W",
    "outputId": "8fe52389-d987-49a2-85bb-e2d679845421"
   },
   "outputs": [
    {
     "data": {
      "text/html": [
       "<div>\n",
       "<style scoped>\n",
       "    .dataframe tbody tr th:only-of-type {\n",
       "        vertical-align: middle;\n",
       "    }\n",
       "\n",
       "    .dataframe tbody tr th {\n",
       "        vertical-align: top;\n",
       "    }\n",
       "\n",
       "    .dataframe thead th {\n",
       "        text-align: right;\n",
       "    }\n",
       "</style>\n",
       "<table border=\"1\" class=\"dataframe\">\n",
       "  <thead>\n",
       "    <tr style=\"text-align: right;\">\n",
       "      <th></th>\n",
       "      <th>popularity</th>\n",
       "      <th>duration_ms</th>\n",
       "    </tr>\n",
       "    <tr>\n",
       "      <th>album</th>\n",
       "      <th></th>\n",
       "      <th></th>\n",
       "    </tr>\n",
       "  </thead>\n",
       "  <tbody>\n",
       "    <tr>\n",
       "      <th>Calcinha Preta, Vol. 13 (Ao Vivo)</th>\n",
       "      <td>35.0</td>\n",
       "      <td>230800.0</td>\n",
       "    </tr>\n",
       "    <tr>\n",
       "      <th>As 20 +</th>\n",
       "      <td>34.5</td>\n",
       "      <td>234166.5</td>\n",
       "    </tr>\n",
       "    <tr>\n",
       "      <th>Ao Vivo no Recife, Vol. 18</th>\n",
       "      <td>27.0</td>\n",
       "      <td>215706.0</td>\n",
       "    </tr>\n",
       "    <tr>\n",
       "      <th>Você Não Vale Nada, Vol. 20 (Ao Vivo)</th>\n",
       "      <td>23.5</td>\n",
       "      <td>201179.5</td>\n",
       "    </tr>\n",
       "    <tr>\n",
       "      <th>Ao Vivo em Salvador, Vol. 1</th>\n",
       "      <td>23.0</td>\n",
       "      <td>236402.0</td>\n",
       "    </tr>\n",
       "    <tr>\n",
       "      <th>Calcinha Preta: Edição Especial</th>\n",
       "      <td>20.0</td>\n",
       "      <td>221083.0</td>\n",
       "    </tr>\n",
       "    <tr>\n",
       "      <th>Vencedor, Vol. 19</th>\n",
       "      <td>19.0</td>\n",
       "      <td>214453.0</td>\n",
       "    </tr>\n",
       "    <tr>\n",
       "      <th>Calcinha Preta Premium</th>\n",
       "      <td>19.0</td>\n",
       "      <td>219546.0</td>\n",
       "    </tr>\n",
       "    <tr>\n",
       "      <th>Mágica, Vol. 12</th>\n",
       "      <td>17.5</td>\n",
       "      <td>224809.0</td>\n",
       "    </tr>\n",
       "    <tr>\n",
       "      <th>Fica Comigo, Paulinha, Vol. 17</th>\n",
       "      <td>17.5</td>\n",
       "      <td>194059.5</td>\n",
       "    </tr>\n",
       "    <tr>\n",
       "      <th>Ao Vivo, Vol. 8</th>\n",
       "      <td>17.0</td>\n",
       "      <td>273502.0</td>\n",
       "    </tr>\n",
       "    <tr>\n",
       "      <th>Hoje à Noite, Vol. 11 (Inéditas e ao Vivo)</th>\n",
       "      <td>15.0</td>\n",
       "      <td>233273.0</td>\n",
       "    </tr>\n",
       "    <tr>\n",
       "      <th>Sou Seu Amor, Vol. 6 (Ao Vivo)</th>\n",
       "      <td>14.0</td>\n",
       "      <td>290299.0</td>\n",
       "    </tr>\n",
       "    <tr>\n",
       "      <th>Seu Coração Vai Aprender o Que É Paixão, Vol. 7</th>\n",
       "      <td>14.0</td>\n",
       "      <td>233743.0</td>\n",
       "    </tr>\n",
       "    <tr>\n",
       "      <th>15 Anos: Ao Vivo em Maceió, Vol. 24</th>\n",
       "      <td>13.0</td>\n",
       "      <td>205400.0</td>\n",
       "    </tr>\n",
       "    <tr>\n",
       "      <th>A Moçada É Só Filé, Vol. 4</th>\n",
       "      <td>13.0</td>\n",
       "      <td>258011.0</td>\n",
       "    </tr>\n",
       "    <tr>\n",
       "      <th>Dois Amores, Duas Paixões, Vol. 14</th>\n",
       "      <td>12.0</td>\n",
       "      <td>213642.0</td>\n",
       "    </tr>\n",
       "    <tr>\n",
       "      <th>Eu Amo Demais, Vol. 21 (Ao Vivo)</th>\n",
       "      <td>12.0</td>\n",
       "      <td>197873.0</td>\n",
       "    </tr>\n",
       "    <tr>\n",
       "      <th>Filmes e Histórias, Vol. 28</th>\n",
       "      <td>12.0</td>\n",
       "      <td>184347.0</td>\n",
       "    </tr>\n",
       "    <tr>\n",
       "      <th>Eu Amo Você, Vol. 26</th>\n",
       "      <td>10.5</td>\n",
       "      <td>210346.5</td>\n",
       "    </tr>\n",
       "    <tr>\n",
       "      <th>Virei Seu Fã, Vol. 23 (Ao Vivo)</th>\n",
       "      <td>10.0</td>\n",
       "      <td>196906.0</td>\n",
       "    </tr>\n",
       "    <tr>\n",
       "      <th>Pensão Alimentícia, Vol. 15</th>\n",
       "      <td>10.0</td>\n",
       "      <td>200295.0</td>\n",
       "    </tr>\n",
       "    <tr>\n",
       "      <th>Balada Prime</th>\n",
       "      <td>9.5</td>\n",
       "      <td>192552.0</td>\n",
       "    </tr>\n",
       "    <tr>\n",
       "      <th>A Gente Se Vê Lá, Vol. 10</th>\n",
       "      <td>9.0</td>\n",
       "      <td>251036.0</td>\n",
       "    </tr>\n",
       "    <tr>\n",
       "      <th>A Moçada É Só Filé!, Vol. 5 (Ao Vivo)</th>\n",
       "      <td>9.0</td>\n",
       "      <td>228806.0</td>\n",
       "    </tr>\n",
       "    <tr>\n",
       "      <th>Sou Assim, Não Vou Mudar, Vol. 22</th>\n",
       "      <td>7.0</td>\n",
       "      <td>198213.0</td>\n",
       "    </tr>\n",
       "    <tr>\n",
       "      <th>Meu Primeiro Namorado, Vol. 25</th>\n",
       "      <td>6.0</td>\n",
       "      <td>199183.0</td>\n",
       "    </tr>\n",
       "    <tr>\n",
       "      <th>Amor da Minha Vida, Vol. 9</th>\n",
       "      <td>6.0</td>\n",
       "      <td>229694.0</td>\n",
       "    </tr>\n",
       "    <tr>\n",
       "      <th>Como Vou Deixar Você?, Vol. 16</th>\n",
       "      <td>4.0</td>\n",
       "      <td>198626.0</td>\n",
       "    </tr>\n",
       "    <tr>\n",
       "      <th>As Mais Gostosas do Brasil, Vol. 2</th>\n",
       "      <td>3.5</td>\n",
       "      <td>238628.0</td>\n",
       "    </tr>\n",
       "    <tr>\n",
       "      <th>A Banda de Forró Mais Gostosa do Brasil, Vol. 1</th>\n",
       "      <td>2.0</td>\n",
       "      <td>177854.0</td>\n",
       "    </tr>\n",
       "    <tr>\n",
       "      <th>Arrepiando Com a Galera, Vol. 3 (Ao Vivo)</th>\n",
       "      <td>1.0</td>\n",
       "      <td>214622.0</td>\n",
       "    </tr>\n",
       "  </tbody>\n",
       "</table>\n",
       "</div>"
      ],
      "text/plain": [
       "                                                 popularity  duration_ms\n",
       "album                                                                   \n",
       "Calcinha Preta, Vol. 13 (Ao Vivo)                      35.0     230800.0\n",
       "As 20 +                                                34.5     234166.5\n",
       "Ao Vivo no Recife, Vol. 18                             27.0     215706.0\n",
       "Você Não Vale Nada, Vol. 20 (Ao Vivo)                  23.5     201179.5\n",
       "Ao Vivo em Salvador, Vol. 1                            23.0     236402.0\n",
       "Calcinha Preta: Edição Especial                        20.0     221083.0\n",
       "Vencedor, Vol. 19                                      19.0     214453.0\n",
       "Calcinha Preta Premium                                 19.0     219546.0\n",
       "Mágica, Vol. 12                                        17.5     224809.0\n",
       "Fica Comigo, Paulinha, Vol. 17                         17.5     194059.5\n",
       "Ao Vivo, Vol. 8                                        17.0     273502.0\n",
       "Hoje à Noite, Vol. 11 (Inéditas e ao Vivo)             15.0     233273.0\n",
       "Sou Seu Amor, Vol. 6 (Ao Vivo)                         14.0     290299.0\n",
       "Seu Coração Vai Aprender o Que É Paixão, Vol. 7        14.0     233743.0\n",
       "15 Anos: Ao Vivo em Maceió, Vol. 24                    13.0     205400.0\n",
       "A Moçada É Só Filé, Vol. 4                             13.0     258011.0\n",
       "Dois Amores, Duas Paixões, Vol. 14                     12.0     213642.0\n",
       "Eu Amo Demais, Vol. 21 (Ao Vivo)                       12.0     197873.0\n",
       "Filmes e Histórias, Vol. 28                            12.0     184347.0\n",
       "Eu Amo Você, Vol. 26                                   10.5     210346.5\n",
       "Virei Seu Fã, Vol. 23 (Ao Vivo)                        10.0     196906.0\n",
       "Pensão Alimentícia, Vol. 15                            10.0     200295.0\n",
       "Balada Prime                                            9.5     192552.0\n",
       "A Gente Se Vê Lá, Vol. 10                               9.0     251036.0\n",
       "A Moçada É Só Filé!, Vol. 5 (Ao Vivo)                   9.0     228806.0\n",
       "Sou Assim, Não Vou Mudar, Vol. 22                       7.0     198213.0\n",
       "Meu Primeiro Namorado, Vol. 25                          6.0     199183.0\n",
       "Amor da Minha Vida, Vol. 9                              6.0     229694.0\n",
       "Como Vou Deixar Você?, Vol. 16                          4.0     198626.0\n",
       "As Mais Gostosas do Brasil, Vol. 2                      3.5     238628.0\n",
       "A Banda de Forró Mais Gostosa do Brasil, Vol. 1         2.0     177854.0\n",
       "Arrepiando Com a Galera, Vol. 3 (Ao Vivo)               1.0     214622.0"
      ]
     },
     "execution_count": 17,
     "metadata": {},
     "output_type": "execute_result"
    }
   ],
   "source": [
    "# Qual é o álbum mais popular?\n",
    "data_groupby = pd.DataFrame(data, columns = ['album','album_type','popularity','duration_ms'])\n",
    "data_groupby_album =  data_groupby[data_groupby['album_type'] ==  'album']\n",
    "data_groupby_album = data_groupby_album.groupby('album').median() \n",
    "\n",
    "data_groupby_album = data_groupby_album.sort_values(by = 'popularity', ascending=False)\n",
    "data_groupby_album"
   ]
  },
  {
   "cell_type": "code",
   "execution_count": 18,
   "metadata": {
    "colab": {
     "base_uri": "https://localhost:8080/",
     "height": 783
    },
    "colab_type": "code",
    "id": "ILWFb4goOTix",
    "outputId": "77efade2-db55-490a-9e22-1ef653734853"
   },
   "outputs": [
    {
     "data": {
      "text/html": [
       "\n",
       "<div id=\"altair-viz-c4579e1437bc4101a07a06ef4a8bdcf8\"></div>\n",
       "<script type=\"text/javascript\">\n",
       "  (function(spec, embedOpt){\n",
       "    let outputDiv = document.currentScript.previousElementSibling;\n",
       "    if (outputDiv.id !== \"altair-viz-c4579e1437bc4101a07a06ef4a8bdcf8\") {\n",
       "      outputDiv = document.getElementById(\"altair-viz-c4579e1437bc4101a07a06ef4a8bdcf8\");\n",
       "    }\n",
       "    const paths = {\n",
       "      \"vega\": \"https://cdn.jsdelivr.net/npm//vega@5?noext\",\n",
       "      \"vega-lib\": \"https://cdn.jsdelivr.net/npm//vega-lib?noext\",\n",
       "      \"vega-lite\": \"https://cdn.jsdelivr.net/npm//vega-lite@4.8.1?noext\",\n",
       "      \"vega-embed\": \"https://cdn.jsdelivr.net/npm//vega-embed@6?noext\",\n",
       "    };\n",
       "\n",
       "    function loadScript(lib) {\n",
       "      return new Promise(function(resolve, reject) {\n",
       "        var s = document.createElement('script');\n",
       "        s.src = paths[lib];\n",
       "        s.async = true;\n",
       "        s.onload = () => resolve(paths[lib]);\n",
       "        s.onerror = () => reject(`Error loading script: ${paths[lib]}`);\n",
       "        document.getElementsByTagName(\"head\")[0].appendChild(s);\n",
       "      });\n",
       "    }\n",
       "\n",
       "    function showError(err) {\n",
       "      outputDiv.innerHTML = `<div class=\"error\" style=\"color:red;\">${err}</div>`;\n",
       "      throw err;\n",
       "    }\n",
       "\n",
       "    function displayChart(vegaEmbed) {\n",
       "      vegaEmbed(outputDiv, spec, embedOpt)\n",
       "        .catch(err => showError(`Javascript Error: ${err.message}<br>This usually means there's a typo in your chart specification. See the javascript console for the full traceback.`));\n",
       "    }\n",
       "\n",
       "    if(typeof define === \"function\" && define.amd) {\n",
       "      requirejs.config({paths});\n",
       "      require([\"vega-embed\"], displayChart, err => showError(`Error loading script: ${err.message}`));\n",
       "    } else if (typeof vegaEmbed === \"function\") {\n",
       "      displayChart(vegaEmbed);\n",
       "    } else {\n",
       "      loadScript(\"vega\")\n",
       "        .then(() => loadScript(\"vega-lite\"))\n",
       "        .then(() => loadScript(\"vega-embed\"))\n",
       "        .catch(showError)\n",
       "        .then(() => displayChart(vegaEmbed));\n",
       "    }\n",
       "  })({\"config\": {\"view\": {\"continuousWidth\": 400, \"continuousHeight\": 300}}, \"layer\": [{\"mark\": {\"type\": \"bar\", \"color\": \"#222437\"}, \"encoding\": {\"x\": {\"type\": \"quantitative\", \"aggregate\": \"median\", \"axis\": {\"title\": \"Mediana da Popularidade\"}, \"field\": \"popularity\"}, \"y\": {\"type\": \"ordinal\", \"axis\": {\"title\": \"\\u00c1lbum\"}, \"field\": \"album\", \"sort\": \"-x\"}}}, {\"mark\": {\"type\": \"text\", \"color\": \"white\", \"dx\": -15, \"dy\": 3}, \"encoding\": {\"text\": {\"type\": \"quantitative\", \"aggregate\": \"median\", \"field\": \"popularity\"}, \"x\": {\"type\": \"quantitative\", \"aggregate\": \"median\", \"axis\": {\"title\": \"Mediana da Popularidade\"}, \"field\": \"popularity\"}, \"y\": {\"type\": \"ordinal\", \"axis\": {\"title\": \"\\u00c1lbum\"}, \"field\": \"album\", \"sort\": \"-x\"}}}], \"data\": {\"name\": \"data-c4806b6b0b4433699b44c1dc4383010e\"}, \"$schema\": \"https://vega.github.io/schema/vega-lite/v4.8.1.json\", \"datasets\": {\"data-c4806b6b0b4433699b44c1dc4383010e\": [{\"album\": \"Calcinha Preta: Edi\\u00e7\\u00e3o Especial\", \"album_type\": \"album\", \"popularity\": 20, \"duration_ms\": 228827}, {\"album\": \"Calcinha Preta: Edi\\u00e7\\u00e3o Especial\", \"album_type\": \"album\", \"popularity\": 23, \"duration_ms\": 293162}, {\"album\": \"Calcinha Preta: Edi\\u00e7\\u00e3o Especial\", \"album_type\": \"album\", \"popularity\": 24, \"duration_ms\": 251580}, {\"album\": \"Calcinha Preta: Edi\\u00e7\\u00e3o Especial\", \"album_type\": \"album\", \"popularity\": 21, \"duration_ms\": 221083}, {\"album\": \"Calcinha Preta: Edi\\u00e7\\u00e3o Especial\", \"album_type\": \"album\", \"popularity\": 23, \"duration_ms\": 186984}, {\"album\": \"Calcinha Preta: Edi\\u00e7\\u00e3o Especial\", \"album_type\": \"album\", \"popularity\": 18, \"duration_ms\": 205938}, {\"album\": \"Calcinha Preta: Edi\\u00e7\\u00e3o Especial\", \"album_type\": \"album\", \"popularity\": 28, \"duration_ms\": 208979}, {\"album\": \"Calcinha Preta: Edi\\u00e7\\u00e3o Especial\", \"album_type\": \"album\", \"popularity\": 20, \"duration_ms\": 254027}, {\"album\": \"Calcinha Preta: Edi\\u00e7\\u00e3o Especial\", \"album_type\": \"album\", \"popularity\": 20, \"duration_ms\": 249844}, {\"album\": \"Calcinha Preta: Edi\\u00e7\\u00e3o Especial\", \"album_type\": \"album\", \"popularity\": 15, \"duration_ms\": 211416}, {\"album\": \"Calcinha Preta: Edi\\u00e7\\u00e3o Especial\", \"album_type\": \"album\", \"popularity\": 18, \"duration_ms\": 220000}, {\"album\": \"Balada Prime\", \"album_type\": \"album\", \"popularity\": 28, \"duration_ms\": 184656}, {\"album\": \"Balada Prime\", \"album_type\": \"album\", \"popularity\": 12, \"duration_ms\": 174384}, {\"album\": \"Balada Prime\", \"album_type\": \"album\", \"popularity\": 11, \"duration_ms\": 171552}, {\"album\": \"Balada Prime\", \"album_type\": \"album\", \"popularity\": 12, \"duration_ms\": 202056}, {\"album\": \"Balada Prime\", \"album_type\": \"album\", \"popularity\": 10, \"duration_ms\": 179400}, {\"album\": \"Balada Prime\", \"album_type\": \"album\", \"popularity\": 11, \"duration_ms\": 193056}, {\"album\": \"Balada Prime\", \"album_type\": \"album\", \"popularity\": 12, \"duration_ms\": 146448}, {\"album\": \"Balada Prime\", \"album_type\": \"album\", \"popularity\": 9, \"duration_ms\": 221664}, {\"album\": \"Balada Prime\", \"album_type\": \"album\", \"popularity\": 10, \"duration_ms\": 214560}, {\"album\": \"Balada Prime\", \"album_type\": \"album\", \"popularity\": 9, \"duration_ms\": 192048}, {\"album\": \"Balada Prime\", \"album_type\": \"album\", \"popularity\": 9, \"duration_ms\": 196416}, {\"album\": \"Balada Prime\", \"album_type\": \"album\", \"popularity\": 9, \"duration_ms\": 202992}, {\"album\": \"Balada Prime\", \"album_type\": \"album\", \"popularity\": 9, \"duration_ms\": 186984}, {\"album\": \"Balada Prime\", \"album_type\": \"album\", \"popularity\": 8, \"duration_ms\": 261384}, {\"album\": \"Balada Prime\", \"album_type\": \"album\", \"popularity\": 8, \"duration_ms\": 209064}, {\"album\": \"Balada Prime\", \"album_type\": \"album\", \"popularity\": 8, \"duration_ms\": 189168}, {\"album\": \"Balada Prime\", \"album_type\": \"album\", \"popularity\": 8, \"duration_ms\": 189960}, {\"album\": \"Balada Prime\", \"album_type\": \"album\", \"popularity\": 11, \"duration_ms\": 213624}, {\"album\": \"Filmes e Hist\\u00f3rias, Vol. 28\", \"album_type\": \"album\", \"popularity\": 23, \"duration_ms\": 215197}, {\"album\": \"Filmes e Hist\\u00f3rias, Vol. 28\", \"album_type\": \"album\", \"popularity\": 13, \"duration_ms\": 169692}, {\"album\": \"Filmes e Hist\\u00f3rias, Vol. 28\", \"album_type\": \"album\", \"popularity\": 11, \"duration_ms\": 240458}, {\"album\": \"Filmes e Hist\\u00f3rias, Vol. 28\", \"album_type\": \"album\", \"popularity\": 12, \"duration_ms\": 173950}, {\"album\": \"Filmes e Hist\\u00f3rias, Vol. 28\", \"album_type\": \"album\", \"popularity\": 11, \"duration_ms\": 180977}, {\"album\": \"Filmes e Hist\\u00f3rias, Vol. 28\", \"album_type\": \"album\", \"popularity\": 13, \"duration_ms\": 170841}, {\"album\": \"Filmes e Hist\\u00f3rias, Vol. 28\", \"album_type\": \"album\", \"popularity\": 10, \"duration_ms\": 184347}, {\"album\": \"Filmes e Hist\\u00f3rias, Vol. 28\", \"album_type\": \"album\", \"popularity\": 12, \"duration_ms\": 215563}, {\"album\": \"Filmes e Hist\\u00f3rias, Vol. 28\", \"album_type\": \"album\", \"popularity\": 11, \"duration_ms\": 187194}, {\"album\": \"Filmes e Hist\\u00f3rias, Vol. 28\", \"album_type\": \"album\", \"popularity\": 10, \"duration_ms\": 202920}, {\"album\": \"Filmes e Hist\\u00f3rias, Vol. 28\", \"album_type\": \"album\", \"popularity\": 23, \"duration_ms\": 181604}, {\"album\": \"Filmes e Hist\\u00f3rias, Vol. 28\", \"album_type\": \"album\", \"popularity\": 12, \"duration_ms\": 217287}, {\"album\": \"Filmes e Hist\\u00f3rias, Vol. 28\", \"album_type\": \"album\", \"popularity\": 12, \"duration_ms\": 173819}, {\"album\": \"Calcinha Preta Premium\", \"album_type\": \"album\", \"popularity\": 30, \"duration_ms\": 238213}, {\"album\": \"Calcinha Preta Premium\", \"album_type\": \"album\", \"popularity\": 19, \"duration_ms\": 177760}, {\"album\": \"Calcinha Preta Premium\", \"album_type\": \"album\", \"popularity\": 23, \"duration_ms\": 255466}, {\"album\": \"Calcinha Preta Premium\", \"album_type\": \"album\", \"popularity\": 20, \"duration_ms\": 212200}, {\"album\": \"Calcinha Preta Premium\", \"album_type\": \"album\", \"popularity\": 46, \"duration_ms\": 230093}, {\"album\": \"Calcinha Preta Premium\", \"album_type\": \"album\", \"popularity\": 52, \"duration_ms\": 237666}, {\"album\": \"Calcinha Preta Premium\", \"album_type\": \"album\", \"popularity\": 18, \"duration_ms\": 190720}, {\"album\": \"Calcinha Preta Premium\", \"album_type\": \"album\", \"popularity\": 15, \"duration_ms\": 239960}, {\"album\": \"Calcinha Preta Premium\", \"album_type\": \"album\", \"popularity\": 18, \"duration_ms\": 223426}, {\"album\": \"Calcinha Preta Premium\", \"album_type\": \"album\", \"popularity\": 17, \"duration_ms\": 233013}, {\"album\": \"Calcinha Preta Premium\", \"album_type\": \"album\", \"popularity\": 19, \"duration_ms\": 202586}, {\"album\": \"Calcinha Preta Premium\", \"album_type\": \"album\", \"popularity\": 20, \"duration_ms\": 244160}, {\"album\": \"Calcinha Preta Premium\", \"album_type\": \"album\", \"popularity\": 40, \"duration_ms\": 215666}, {\"album\": \"Calcinha Preta Premium\", \"album_type\": \"album\", \"popularity\": 17, \"duration_ms\": 210146}, {\"album\": \"Calcinha Preta Premium\", \"album_type\": \"album\", \"popularity\": 16, \"duration_ms\": 282200}, {\"album\": \"Calcinha Preta Premium\", \"album_type\": \"album\", \"popularity\": 27, \"duration_ms\": 196133}, {\"album\": \"Calcinha Preta Premium\", \"album_type\": \"album\", \"popularity\": 44, \"duration_ms\": 245640}, {\"album\": \"Calcinha Preta Premium\", \"album_type\": \"album\", \"popularity\": 18, \"duration_ms\": 182160}, {\"album\": \"Calcinha Preta Premium\", \"album_type\": \"album\", \"popularity\": 15, \"duration_ms\": 203080}, {\"album\": \"Calcinha Preta Premium\", \"album_type\": \"album\", \"popularity\": 14, \"duration_ms\": 176733}, {\"album\": \"Eu Amo Voc\\u00ea, Vol. 26\", \"album_type\": \"album\", \"popularity\": 14, \"duration_ms\": 201360}, {\"album\": \"Eu Amo Voc\\u00ea, Vol. 26\", \"album_type\": \"album\", \"popularity\": 37, \"duration_ms\": 196173}, {\"album\": \"Eu Amo Voc\\u00ea, Vol. 26\", \"album_type\": \"album\", \"popularity\": 12, \"duration_ms\": 224853}, {\"album\": \"Eu Amo Voc\\u00ea, Vol. 26\", \"album_type\": \"album\", \"popularity\": 12, \"duration_ms\": 244813}, {\"album\": \"Eu Amo Voc\\u00ea, Vol. 26\", \"album_type\": \"album\", \"popularity\": 11, \"duration_ms\": 214000}, {\"album\": \"Eu Amo Voc\\u00ea, Vol. 26\", \"album_type\": \"album\", \"popularity\": 10, \"duration_ms\": 222200}, {\"album\": \"Eu Amo Voc\\u00ea, Vol. 26\", \"album_type\": \"album\", \"popularity\": 8, \"duration_ms\": 206693}, {\"album\": \"Eu Amo Voc\\u00ea, Vol. 26\", \"album_type\": \"album\", \"popularity\": 8, \"duration_ms\": 198040}, {\"album\": \"Eu Amo Voc\\u00ea, Vol. 26\", \"album_type\": \"album\", \"popularity\": 6, \"duration_ms\": 186120}, {\"album\": \"Eu Amo Voc\\u00ea, Vol. 26\", \"album_type\": \"album\", \"popularity\": 6, \"duration_ms\": 219826}, {\"album\": \"Meu Primeiro Namorado, Vol. 25\", \"album_type\": \"album\", \"popularity\": 7, \"duration_ms\": 215118}, {\"album\": \"Meu Primeiro Namorado, Vol. 25\", \"album_type\": \"album\", \"popularity\": 7, \"duration_ms\": 227134}, {\"album\": \"Meu Primeiro Namorado, Vol. 25\", \"album_type\": \"album\", \"popularity\": 13, \"duration_ms\": 261851}, {\"album\": \"Meu Primeiro Namorado, Vol. 25\", \"album_type\": \"album\", \"popularity\": 6, \"duration_ms\": 194089}, {\"album\": \"Meu Primeiro Namorado, Vol. 25\", \"album_type\": \"album\", \"popularity\": 7, \"duration_ms\": 210703}, {\"album\": \"Meu Primeiro Namorado, Vol. 25\", \"album_type\": \"album\", \"popularity\": 7, \"duration_ms\": 185652}, {\"album\": \"Meu Primeiro Namorado, Vol. 25\", \"album_type\": \"album\", \"popularity\": 6, \"duration_ms\": 192966}, {\"album\": \"Meu Primeiro Namorado, Vol. 25\", \"album_type\": \"album\", \"popularity\": 6, \"duration_ms\": 193018}, {\"album\": \"Meu Primeiro Namorado, Vol. 25\", \"album_type\": \"album\", \"popularity\": 4, \"duration_ms\": 209789}, {\"album\": \"Meu Primeiro Namorado, Vol. 25\", \"album_type\": \"album\", \"popularity\": 5, \"duration_ms\": 164963}, {\"album\": \"Meu Primeiro Namorado, Vol. 25\", \"album_type\": \"album\", \"popularity\": 5, \"duration_ms\": 178808}, {\"album\": \"Meu Primeiro Namorado, Vol. 25\", \"album_type\": \"album\", \"popularity\": 4, \"duration_ms\": 182073}, {\"album\": \"Meu Primeiro Namorado, Vol. 25\", \"album_type\": \"album\", \"popularity\": 3, \"duration_ms\": 205505}, {\"album\": \"Meu Primeiro Namorado, Vol. 25\", \"album_type\": \"album\", \"popularity\": 3, \"duration_ms\": 204277}, {\"album\": \"15 Anos: Ao Vivo em Macei\\u00f3, Vol. 24\", \"album_type\": \"album\", \"popularity\": 25, \"duration_ms\": 217080}, {\"album\": \"15 Anos: Ao Vivo em Macei\\u00f3, Vol. 24\", \"album_type\": \"album\", \"popularity\": 15, \"duration_ms\": 217973}, {\"album\": \"15 Anos: Ao Vivo em Macei\\u00f3, Vol. 24\", \"album_type\": \"album\", \"popularity\": 13, \"duration_ms\": 270013}, {\"album\": \"15 Anos: Ao Vivo em Macei\\u00f3, Vol. 24\", \"album_type\": \"album\", \"popularity\": 13, \"duration_ms\": 196120}, {\"album\": \"15 Anos: Ao Vivo em Macei\\u00f3, Vol. 24\", \"album_type\": \"album\", \"popularity\": 12, \"duration_ms\": 206613}, {\"album\": \"15 Anos: Ao Vivo em Macei\\u00f3, Vol. 24\", \"album_type\": \"album\", \"popularity\": 13, \"duration_ms\": 210800}, {\"album\": \"15 Anos: Ao Vivo em Macei\\u00f3, Vol. 24\", \"album_type\": \"album\", \"popularity\": 10, \"duration_ms\": 185840}, {\"album\": \"15 Anos: Ao Vivo em Macei\\u00f3, Vol. 24\", \"album_type\": \"album\", \"popularity\": 11, \"duration_ms\": 188066}, {\"album\": \"15 Anos: Ao Vivo em Macei\\u00f3, Vol. 24\", \"album_type\": \"album\", \"popularity\": 14, \"duration_ms\": 205720}, {\"album\": \"15 Anos: Ao Vivo em Macei\\u00f3, Vol. 24\", \"album_type\": \"album\", \"popularity\": 17, \"duration_ms\": 219640}, {\"album\": \"15 Anos: Ao Vivo em Macei\\u00f3, Vol. 24\", \"album_type\": \"album\", \"popularity\": 14, \"duration_ms\": 207186}, {\"album\": \"15 Anos: Ao Vivo em Macei\\u00f3, Vol. 24\", \"album_type\": \"album\", \"popularity\": 15, \"duration_ms\": 195893}, {\"album\": \"15 Anos: Ao Vivo em Macei\\u00f3, Vol. 24\", \"album_type\": \"album\", \"popularity\": 13, \"duration_ms\": 197706}, {\"album\": \"15 Anos: Ao Vivo em Macei\\u00f3, Vol. 24\", \"album_type\": \"album\", \"popularity\": 12, \"duration_ms\": 182506}, {\"album\": \"15 Anos: Ao Vivo em Macei\\u00f3, Vol. 24\", \"album_type\": \"album\", \"popularity\": 11, \"duration_ms\": 200666}, {\"album\": \"15 Anos: Ao Vivo em Macei\\u00f3, Vol. 24\", \"album_type\": \"album\", \"popularity\": 11, \"duration_ms\": 206973}, {\"album\": \"15 Anos: Ao Vivo em Macei\\u00f3, Vol. 24\", \"album_type\": \"album\", \"popularity\": 14, \"duration_ms\": 169506}, {\"album\": \"15 Anos: Ao Vivo em Macei\\u00f3, Vol. 24\", \"album_type\": \"album\", \"popularity\": 14, \"duration_ms\": 205080}, {\"album\": \"15 Anos: Ao Vivo em Macei\\u00f3, Vol. 24\", \"album_type\": \"album\", \"popularity\": 13, \"duration_ms\": 192373}, {\"album\": \"15 Anos: Ao Vivo em Macei\\u00f3, Vol. 24\", \"album_type\": \"album\", \"popularity\": 13, \"duration_ms\": 186426}, {\"album\": \"15 Anos: Ao Vivo em Macei\\u00f3, Vol. 24\", \"album_type\": \"album\", \"popularity\": 17, \"duration_ms\": 206280}, {\"album\": \"15 Anos: Ao Vivo em Macei\\u00f3, Vol. 24\", \"album_type\": \"album\", \"popularity\": 9, \"duration_ms\": 238600}, {\"album\": \"Virei Seu F\\u00e3, Vol. 23 (Ao Vivo)\", \"album_type\": \"album\", \"popularity\": 39, \"duration_ms\": 194093}, {\"album\": \"Virei Seu F\\u00e3, Vol. 23 (Ao Vivo)\", \"album_type\": \"album\", \"popularity\": 9, \"duration_ms\": 173146}, {\"album\": \"Virei Seu F\\u00e3, Vol. 23 (Ao Vivo)\", \"album_type\": \"album\", \"popularity\": 28, \"duration_ms\": 205360}, {\"album\": \"Virei Seu F\\u00e3, Vol. 23 (Ao Vivo)\", \"album_type\": \"album\", \"popularity\": 22, \"duration_ms\": 174933}, {\"album\": \"Virei Seu F\\u00e3, Vol. 23 (Ao Vivo)\", \"album_type\": \"album\", \"popularity\": 8, \"duration_ms\": 202506}, {\"album\": \"Virei Seu F\\u00e3, Vol. 23 (Ao Vivo)\", \"album_type\": \"album\", \"popularity\": 10, \"duration_ms\": 181426}, {\"album\": \"Virei Seu F\\u00e3, Vol. 23 (Ao Vivo)\", \"album_type\": \"album\", \"popularity\": 7, \"duration_ms\": 233466}, {\"album\": \"Virei Seu F\\u00e3, Vol. 23 (Ao Vivo)\", \"album_type\": \"album\", \"popularity\": 7, \"duration_ms\": 182400}, {\"album\": \"Virei Seu F\\u00e3, Vol. 23 (Ao Vivo)\", \"album_type\": \"album\", \"popularity\": 32, \"duration_ms\": 195560}, {\"album\": \"Virei Seu F\\u00e3, Vol. 23 (Ao Vivo)\", \"album_type\": \"album\", \"popularity\": 6, \"duration_ms\": 184360}, {\"album\": \"Virei Seu F\\u00e3, Vol. 23 (Ao Vivo)\", \"album_type\": \"album\", \"popularity\": 8, \"duration_ms\": 196906}, {\"album\": \"Virei Seu F\\u00e3, Vol. 23 (Ao Vivo)\", \"album_type\": \"album\", \"popularity\": 10, \"duration_ms\": 202840}, {\"album\": \"Virei Seu F\\u00e3, Vol. 23 (Ao Vivo)\", \"album_type\": \"album\", \"popularity\": 11, \"duration_ms\": 264586}, {\"album\": \"Virei Seu F\\u00e3, Vol. 23 (Ao Vivo)\", \"album_type\": \"album\", \"popularity\": 6, \"duration_ms\": 200013}, {\"album\": \"Virei Seu F\\u00e3, Vol. 23 (Ao Vivo)\", \"album_type\": \"album\", \"popularity\": 15, \"duration_ms\": 220520}, {\"album\": \"Sou Assim, N\\u00e3o Vou Mudar, Vol. 22\", \"album_type\": \"album\", \"popularity\": 11, \"duration_ms\": 193800}, {\"album\": \"Sou Assim, N\\u00e3o Vou Mudar, Vol. 22\", \"album_type\": \"album\", \"popularity\": 21, \"duration_ms\": 184480}, {\"album\": \"Sou Assim, N\\u00e3o Vou Mudar, Vol. 22\", \"album_type\": \"album\", \"popularity\": 20, \"duration_ms\": 175400}, {\"album\": \"Sou Assim, N\\u00e3o Vou Mudar, Vol. 22\", \"album_type\": \"album\", \"popularity\": 5, \"duration_ms\": 162040}, {\"album\": \"Sou Assim, N\\u00e3o Vou Mudar, Vol. 22\", \"album_type\": \"album\", \"popularity\": 8, \"duration_ms\": 180506}, {\"album\": \"Sou Assim, N\\u00e3o Vou Mudar, Vol. 22\", \"album_type\": \"album\", \"popularity\": 8, \"duration_ms\": 195973}, {\"album\": \"Sou Assim, N\\u00e3o Vou Mudar, Vol. 22\", \"album_type\": \"album\", \"popularity\": 4, \"duration_ms\": 165453}, {\"album\": \"Sou Assim, N\\u00e3o Vou Mudar, Vol. 22\", \"album_type\": \"album\", \"popularity\": 20, \"duration_ms\": 188426}, {\"album\": \"Sou Assim, N\\u00e3o Vou Mudar, Vol. 22\", \"album_type\": \"album\", \"popularity\": 8, \"duration_ms\": 224520}, {\"album\": \"Sou Assim, N\\u00e3o Vou Mudar, Vol. 22\", \"album_type\": \"album\", \"popularity\": 6, \"duration_ms\": 209493}, {\"album\": \"Sou Assim, N\\u00e3o Vou Mudar, Vol. 22\", \"album_type\": \"album\", \"popularity\": 6, \"duration_ms\": 206693}, {\"album\": \"Sou Assim, N\\u00e3o Vou Mudar, Vol. 22\", \"album_type\": \"album\", \"popularity\": 14, \"duration_ms\": 206733}, {\"album\": \"Sou Assim, N\\u00e3o Vou Mudar, Vol. 22\", \"album_type\": \"album\", \"popularity\": 4, \"duration_ms\": 200453}, {\"album\": \"Sou Assim, N\\u00e3o Vou Mudar, Vol. 22\", \"album_type\": \"album\", \"popularity\": 6, \"duration_ms\": 209493}, {\"album\": \"Sou Assim, N\\u00e3o Vou Mudar, Vol. 22\", \"album_type\": \"album\", \"popularity\": 6, \"duration_ms\": 215893}, {\"album\": \"Sou Assim, N\\u00e3o Vou Mudar, Vol. 22\", \"album_type\": \"album\", \"popularity\": 5, \"duration_ms\": 209640}, {\"album\": \"Eu Amo Demais, Vol. 21 (Ao Vivo)\", \"album_type\": \"album\", \"popularity\": 42, \"duration_ms\": 234400}, {\"album\": \"Eu Amo Demais, Vol. 21 (Ao Vivo)\", \"album_type\": \"album\", \"popularity\": 10, \"duration_ms\": 197880}, {\"album\": \"Eu Amo Demais, Vol. 21 (Ao Vivo)\", \"album_type\": \"album\", \"popularity\": 26, \"duration_ms\": 201973}, {\"album\": \"Eu Amo Demais, Vol. 21 (Ao Vivo)\", \"album_type\": \"album\", \"popularity\": 11, \"duration_ms\": 188773}, {\"album\": \"Eu Amo Demais, Vol. 21 (Ao Vivo)\", \"album_type\": \"album\", \"popularity\": 9, \"duration_ms\": 196626}, {\"album\": \"Eu Amo Demais, Vol. 21 (Ao Vivo)\", \"album_type\": \"album\", \"popularity\": 8, \"duration_ms\": 174266}, {\"album\": \"Eu Amo Demais, Vol. 21 (Ao Vivo)\", \"album_type\": \"album\", \"popularity\": 12, \"duration_ms\": 196973}, {\"album\": \"Eu Amo Demais, Vol. 21 (Ao Vivo)\", \"album_type\": \"album\", \"popularity\": 12, \"duration_ms\": 177893}, {\"album\": \"Eu Amo Demais, Vol. 21 (Ao Vivo)\", \"album_type\": \"album\", \"popularity\": 8, \"duration_ms\": 197866}, {\"album\": \"Eu Amo Demais, Vol. 21 (Ao Vivo)\", \"album_type\": \"album\", \"popularity\": 34, \"duration_ms\": 200773}, {\"album\": \"Eu Amo Demais, Vol. 21 (Ao Vivo)\", \"album_type\": \"album\", \"popularity\": 12, \"duration_ms\": 192226}, {\"album\": \"Eu Amo Demais, Vol. 21 (Ao Vivo)\", \"album_type\": \"album\", \"popularity\": 43, \"duration_ms\": 207026}, {\"album\": \"Eu Amo Demais, Vol. 21 (Ao Vivo)\", \"album_type\": \"album\", \"popularity\": 13, \"duration_ms\": 213986}, {\"album\": \"Eu Amo Demais, Vol. 21 (Ao Vivo)\", \"album_type\": \"album\", \"popularity\": 40, \"duration_ms\": 222946}, {\"album\": \"Voc\\u00ea N\\u00e3o Vale Nada, Vol. 20 (Ao Vivo)\", \"album_type\": \"album\", \"popularity\": 42, \"duration_ms\": 225200}, {\"album\": \"Voc\\u00ea N\\u00e3o Vale Nada, Vol. 20 (Ao Vivo)\", \"album_type\": \"album\", \"popularity\": 37, \"duration_ms\": 202013}, {\"album\": \"Voc\\u00ea N\\u00e3o Vale Nada, Vol. 20 (Ao Vivo)\", \"album_type\": \"album\", \"popularity\": 19, \"duration_ms\": 219680}, {\"album\": \"Voc\\u00ea N\\u00e3o Vale Nada, Vol. 20 (Ao Vivo)\", \"album_type\": \"album\", \"popularity\": 26, \"duration_ms\": 175066}, {\"album\": \"Voc\\u00ea N\\u00e3o Vale Nada, Vol. 20 (Ao Vivo)\", \"album_type\": \"album\", \"popularity\": 23, \"duration_ms\": 210813}, {\"album\": \"Voc\\u00ea N\\u00e3o Vale Nada, Vol. 20 (Ao Vivo)\", \"album_type\": \"album\", \"popularity\": 27, \"duration_ms\": 179560}, {\"album\": \"Voc\\u00ea N\\u00e3o Vale Nada, Vol. 20 (Ao Vivo)\", \"album_type\": \"album\", \"popularity\": 21, \"duration_ms\": 223040}, {\"album\": \"Voc\\u00ea N\\u00e3o Vale Nada, Vol. 20 (Ao Vivo)\", \"album_type\": \"album\", \"popularity\": 17, \"duration_ms\": 165906}, {\"album\": \"Voc\\u00ea N\\u00e3o Vale Nada, Vol. 20 (Ao Vivo)\", \"album_type\": \"album\", \"popularity\": 29, \"duration_ms\": 198226}, {\"album\": \"Voc\\u00ea N\\u00e3o Vale Nada, Vol. 20 (Ao Vivo)\", \"album_type\": \"album\", \"popularity\": 24, \"duration_ms\": 181240}, {\"album\": \"Voc\\u00ea N\\u00e3o Vale Nada, Vol. 20 (Ao Vivo)\", \"album_type\": \"album\", \"popularity\": 32, \"duration_ms\": 214893}, {\"album\": \"Voc\\u00ea N\\u00e3o Vale Nada, Vol. 20 (Ao Vivo)\", \"album_type\": \"album\", \"popularity\": 35, \"duration_ms\": 223880}, {\"album\": \"Voc\\u00ea N\\u00e3o Vale Nada, Vol. 20 (Ao Vivo)\", \"album_type\": \"album\", \"popularity\": 21, \"duration_ms\": 200346}, {\"album\": \"Voc\\u00ea N\\u00e3o Vale Nada, Vol. 20 (Ao Vivo)\", \"album_type\": \"album\", \"popularity\": 19, \"duration_ms\": 209386}, {\"album\": \"Voc\\u00ea N\\u00e3o Vale Nada, Vol. 20 (Ao Vivo)\", \"album_type\": \"album\", \"popularity\": 16, \"duration_ms\": 194800}, {\"album\": \"Voc\\u00ea N\\u00e3o Vale Nada, Vol. 20 (Ao Vivo)\", \"album_type\": \"album\", \"popularity\": 15, \"duration_ms\": 196706}, {\"album\": \"Vencedor, Vol. 19\", \"album_type\": \"album\", \"popularity\": 24, \"duration_ms\": 222653}, {\"album\": \"Vencedor, Vol. 19\", \"album_type\": \"album\", \"popularity\": 22, \"duration_ms\": 180493}, {\"album\": \"Vencedor, Vol. 19\", \"album_type\": \"album\", \"popularity\": 14, \"duration_ms\": 199773}, {\"album\": \"Vencedor, Vol. 19\", \"album_type\": \"album\", \"popularity\": 15, \"duration_ms\": 214453}, {\"album\": \"Vencedor, Vol. 19\", \"album_type\": \"album\", \"popularity\": 13, \"duration_ms\": 200320}, {\"album\": \"Vencedor, Vol. 19\", \"album_type\": \"album\", \"popularity\": 17, \"duration_ms\": 235893}, {\"album\": \"Vencedor, Vol. 19\", \"album_type\": \"album\", \"popularity\": 10, \"duration_ms\": 193946}, {\"album\": \"Vencedor, Vol. 19\", \"album_type\": \"album\", \"popularity\": 43, \"duration_ms\": 210866}, {\"album\": \"Vencedor, Vol. 19\", \"album_type\": \"album\", \"popularity\": 19, \"duration_ms\": 222133}, {\"album\": \"Vencedor, Vol. 19\", \"album_type\": \"album\", \"popularity\": 38, \"duration_ms\": 209626}, {\"album\": \"Vencedor, Vol. 19\", \"album_type\": \"album\", \"popularity\": 9, \"duration_ms\": 225266}, {\"album\": \"Vencedor, Vol. 19\", \"album_type\": \"album\", \"popularity\": 40, \"duration_ms\": 251826}, {\"album\": \"Vencedor, Vol. 19\", \"album_type\": \"album\", \"popularity\": 37, \"duration_ms\": 239213}, {\"album\": \"Ao Vivo no Recife, Vol. 18\", \"album_type\": \"album\", \"popularity\": 18, \"duration_ms\": 210920}, {\"album\": \"Ao Vivo no Recife, Vol. 18\", \"album_type\": \"album\", \"popularity\": 23, \"duration_ms\": 187666}, {\"album\": \"Ao Vivo no Recife, Vol. 18\", \"album_type\": \"album\", \"popularity\": 33, \"duration_ms\": 225533}, {\"album\": \"Ao Vivo no Recife, Vol. 18\", \"album_type\": \"album\", \"popularity\": 21, \"duration_ms\": 201186}, {\"album\": \"Ao Vivo no Recife, Vol. 18\", \"album_type\": \"album\", \"popularity\": 21, \"duration_ms\": 222773}, {\"album\": \"Ao Vivo no Recife, Vol. 18\", \"album_type\": \"album\", \"popularity\": 35, \"duration_ms\": 222826}, {\"album\": \"Ao Vivo no Recife, Vol. 18\", \"album_type\": \"album\", \"popularity\": 34, \"duration_ms\": 204440}, {\"album\": \"Ao Vivo no Recife, Vol. 18\", \"album_type\": \"album\", \"popularity\": 25, \"duration_ms\": 229293}, {\"album\": \"Ao Vivo no Recife, Vol. 18\", \"album_type\": \"album\", \"popularity\": 35, \"duration_ms\": 211893}, {\"album\": \"Ao Vivo no Recife, Vol. 18\", \"album_type\": \"album\", \"popularity\": 32, \"duration_ms\": 190760}, {\"album\": \"Ao Vivo no Recife, Vol. 18\", \"album_type\": \"album\", \"popularity\": 19, \"duration_ms\": 235973}, {\"album\": \"Ao Vivo no Recife, Vol. 18\", \"album_type\": \"album\", \"popularity\": 14, \"duration_ms\": 179146}, {\"album\": \"Ao Vivo no Recife, Vol. 18\", \"album_type\": \"album\", \"popularity\": 27, \"duration_ms\": 224653}, {\"album\": \"Ao Vivo no Recife, Vol. 18\", \"album_type\": \"album\", \"popularity\": 40, \"duration_ms\": 215706}, {\"album\": \"Ao Vivo no Recife, Vol. 18\", \"album_type\": \"album\", \"popularity\": 33, \"duration_ms\": 251053}, {\"album\": \"Fica Comigo, Paulinha, Vol. 17\", \"album_type\": \"album\", \"popularity\": 27, \"duration_ms\": 227733}, {\"album\": \"Fica Comigo, Paulinha, Vol. 17\", \"album_type\": \"album\", \"popularity\": 19, \"duration_ms\": 193306}, {\"album\": \"Fica Comigo, Paulinha, Vol. 17\", \"album_type\": \"album\", \"popularity\": 32, \"duration_ms\": 179240}, {\"album\": \"Fica Comigo, Paulinha, Vol. 17\", \"album_type\": \"album\", \"popularity\": 15, \"duration_ms\": 182960}, {\"album\": \"Fica Comigo, Paulinha, Vol. 17\", \"album_type\": \"album\", \"popularity\": 13, \"duration_ms\": 203240}, {\"album\": \"Fica Comigo, Paulinha, Vol. 17\", \"album_type\": \"album\", \"popularity\": 16, \"duration_ms\": 194813}, {\"album\": \"Fica Comigo, Paulinha, Vol. 17\", \"album_type\": \"album\", \"popularity\": 12, \"duration_ms\": 179053}, {\"album\": \"Fica Comigo, Paulinha, Vol. 17\", \"album_type\": \"album\", \"popularity\": 12, \"duration_ms\": 213533}, {\"album\": \"Fica Comigo, Paulinha, Vol. 17\", \"album_type\": \"album\", \"popularity\": 49, \"duration_ms\": 188800}, {\"album\": \"Fica Comigo, Paulinha, Vol. 17\", \"album_type\": \"album\", \"popularity\": 41, \"duration_ms\": 197560}, {\"album\": \"Como Vou Deixar Voc\\u00ea?, Vol. 16\", \"album_type\": \"album\", \"popularity\": 17, \"duration_ms\": 212386}, {\"album\": \"Como Vou Deixar Voc\\u00ea?, Vol. 16\", \"album_type\": \"album\", \"popularity\": 9, \"duration_ms\": 188573}, {\"album\": \"Como Vou Deixar Voc\\u00ea?, Vol. 16\", \"album_type\": \"album\", \"popularity\": 10, \"duration_ms\": 202880}, {\"album\": \"Como Vou Deixar Voc\\u00ea?, Vol. 16\", \"album_type\": \"album\", \"popularity\": 8, \"duration_ms\": 188346}, {\"album\": \"Como Vou Deixar Voc\\u00ea?, Vol. 16\", \"album_type\": \"album\", \"popularity\": 5, \"duration_ms\": 189440}, {\"album\": \"Como Vou Deixar Voc\\u00ea?, Vol. 16\", \"album_type\": \"album\", \"popularity\": 8, \"duration_ms\": 190746}, {\"album\": \"Como Vou Deixar Voc\\u00ea?, Vol. 16\", \"album_type\": \"album\", \"popularity\": 5, \"duration_ms\": 170626}, {\"album\": \"Como Vou Deixar Voc\\u00ea?, Vol. 16\", \"album_type\": \"album\", \"popularity\": 5, \"duration_ms\": 213133}, {\"album\": \"Como Vou Deixar Voc\\u00ea?, Vol. 16\", \"album_type\": \"album\", \"popularity\": 4, \"duration_ms\": 197013}, {\"album\": \"Como Vou Deixar Voc\\u00ea?, Vol. 16\", \"album_type\": \"album\", \"popularity\": 3, \"duration_ms\": 192280}, {\"album\": \"Como Vou Deixar Voc\\u00ea?, Vol. 16\", \"album_type\": \"album\", \"popularity\": 3, \"duration_ms\": 209280}, {\"album\": \"Como Vou Deixar Voc\\u00ea?, Vol. 16\", \"album_type\": \"album\", \"popularity\": 3, \"duration_ms\": 236346}, {\"album\": \"Como Vou Deixar Voc\\u00ea?, Vol. 16\", \"album_type\": \"album\", \"popularity\": 3, \"duration_ms\": 198626}, {\"album\": \"Como Vou Deixar Voc\\u00ea?, Vol. 16\", \"album_type\": \"album\", \"popularity\": 3, \"duration_ms\": 195306}, {\"album\": \"Como Vou Deixar Voc\\u00ea?, Vol. 16\", \"album_type\": \"album\", \"popularity\": 2, \"duration_ms\": 215266}, {\"album\": \"Como Vou Deixar Voc\\u00ea?, Vol. 16\", \"album_type\": \"album\", \"popularity\": 3, \"duration_ms\": 215640}, {\"album\": \"Como Vou Deixar Voc\\u00ea?, Vol. 16\", \"album_type\": \"album\", \"popularity\": 3, \"duration_ms\": 314986}, {\"album\": \"Pens\\u00e3o Aliment\\u00edcia, Vol. 15\", \"album_type\": \"album\", \"popularity\": 12, \"duration_ms\": 194258}, {\"album\": \"Pens\\u00e3o Aliment\\u00edcia, Vol. 15\", \"album_type\": \"album\", \"popularity\": 14, \"duration_ms\": 192214}, {\"album\": \"Pens\\u00e3o Aliment\\u00edcia, Vol. 15\", \"album_type\": \"album\", \"popularity\": 16, \"duration_ms\": 197044}, {\"album\": \"Pens\\u00e3o Aliment\\u00edcia, Vol. 15\", \"album_type\": \"album\", \"popularity\": 11, \"duration_ms\": 199877}, {\"album\": \"Pens\\u00e3o Aliment\\u00edcia, Vol. 15\", \"album_type\": \"album\", \"popularity\": 10, \"duration_ms\": 200295}, {\"album\": \"Pens\\u00e3o Aliment\\u00edcia, Vol. 15\", \"album_type\": \"album\", \"popularity\": 10, \"duration_ms\": 186409}, {\"album\": \"Pens\\u00e3o Aliment\\u00edcia, Vol. 15\", \"album_type\": \"album\", \"popularity\": 12, \"duration_ms\": 219242}, {\"album\": \"Pens\\u00e3o Aliment\\u00edcia, Vol. 15\", \"album_type\": \"album\", \"popularity\": 10, \"duration_ms\": 163329}, {\"album\": \"Pens\\u00e3o Aliment\\u00edcia, Vol. 15\", \"album_type\": \"album\", \"popularity\": 10, \"duration_ms\": 227323}, {\"album\": \"Pens\\u00e3o Aliment\\u00edcia, Vol. 15\", \"album_type\": \"album\", \"popularity\": 11, \"duration_ms\": 256859}, {\"album\": \"Pens\\u00e3o Aliment\\u00edcia, Vol. 15\", \"album_type\": \"album\", \"popularity\": 9, \"duration_ms\": 171223}, {\"album\": \"Pens\\u00e3o Aliment\\u00edcia, Vol. 15\", \"album_type\": \"album\", \"popularity\": 11, \"duration_ms\": 227091}, {\"album\": \"Pens\\u00e3o Aliment\\u00edcia, Vol. 15\", \"album_type\": \"album\", \"popularity\": 9, \"duration_ms\": 214227}, {\"album\": \"Pens\\u00e3o Aliment\\u00edcia, Vol. 15\", \"album_type\": \"album\", \"popularity\": 8, \"duration_ms\": 249428}, {\"album\": \"Pens\\u00e3o Aliment\\u00edcia, Vol. 15\", \"album_type\": \"album\", \"popularity\": 10, \"duration_ms\": 246920}, {\"album\": \"As 20 +\", \"album_type\": \"album\", \"popularity\": 52, \"duration_ms\": 246133}, {\"album\": \"As 20 +\", \"album_type\": \"album\", \"popularity\": 31, \"duration_ms\": 231440}, {\"album\": \"As 20 +\", \"album_type\": \"album\", \"popularity\": 47, \"duration_ms\": 266906}, {\"album\": \"As 20 +\", \"album_type\": \"album\", \"popularity\": 44, \"duration_ms\": 212800}, {\"album\": \"As 20 +\", \"album_type\": \"album\", \"popularity\": 50, \"duration_ms\": 164480}, {\"album\": \"As 20 +\", \"album_type\": \"album\", \"popularity\": 35, \"duration_ms\": 228680}, {\"album\": \"As 20 +\", \"album_type\": \"album\", \"popularity\": 30, \"duration_ms\": 285480}, {\"album\": \"As 20 +\", \"album_type\": \"album\", \"popularity\": 32, \"duration_ms\": 246800}, {\"album\": \"As 20 +\", \"album_type\": \"album\", \"popularity\": 49, \"duration_ms\": 258013}, {\"album\": \"As 20 +\", \"album_type\": \"album\", \"popularity\": 34, \"duration_ms\": 225013}, {\"album\": \"As 20 +\", \"album_type\": \"album\", \"popularity\": 27, \"duration_ms\": 237933}, {\"album\": \"As 20 +\", \"album_type\": \"album\", \"popularity\": 47, \"duration_ms\": 236893}, {\"album\": \"As 20 +\", \"album_type\": \"album\", \"popularity\": 36, \"duration_ms\": 174746}, {\"album\": \"As 20 +\", \"album_type\": \"album\", \"popularity\": 44, \"duration_ms\": 248080}, {\"album\": \"As 20 +\", \"album_type\": \"album\", \"popularity\": 46, \"duration_ms\": 223146}, {\"album\": \"As 20 +\", \"album_type\": \"album\", \"popularity\": 30, \"duration_ms\": 207786}, {\"album\": \"As 20 +\", \"album_type\": \"album\", \"popularity\": 29, \"duration_ms\": 217760}, {\"album\": \"As 20 +\", \"album_type\": \"album\", \"popularity\": 25, \"duration_ms\": 265720}, {\"album\": \"As 20 +\", \"album_type\": \"album\", \"popularity\": 24, \"duration_ms\": 265253}, {\"album\": \"As 20 +\", \"album_type\": \"album\", \"popularity\": 28, \"duration_ms\": 191013}, {\"album\": \"Dois Amores, Duas Paix\\u00f5es, Vol. 14\", \"album_type\": \"album\", \"popularity\": 39, \"duration_ms\": 223007}, {\"album\": \"Dois Amores, Duas Paix\\u00f5es, Vol. 14\", \"album_type\": \"album\", \"popularity\": 11, \"duration_ms\": 205714}, {\"album\": \"Dois Amores, Duas Paix\\u00f5es, Vol. 14\", \"album_type\": \"album\", \"popularity\": 21, \"duration_ms\": 258377}, {\"album\": \"Dois Amores, Duas Paix\\u00f5es, Vol. 14\", \"album_type\": \"album\", \"popularity\": 10, \"duration_ms\": 228310}, {\"album\": \"Dois Amores, Duas Paix\\u00f5es, Vol. 14\", \"album_type\": \"album\", \"popularity\": 14, \"duration_ms\": 261877}, {\"album\": \"Dois Amores, Duas Paix\\u00f5es, Vol. 14\", \"album_type\": \"album\", \"popularity\": 18, \"duration_ms\": 203389}, {\"album\": \"Dois Amores, Duas Paix\\u00f5es, Vol. 14\", \"album_type\": \"album\", \"popularity\": 12, \"duration_ms\": 268773}, {\"album\": \"Dois Amores, Duas Paix\\u00f5es, Vol. 14\", \"album_type\": \"album\", \"popularity\": 13, \"duration_ms\": 214491}, {\"album\": \"Dois Amores, Duas Paix\\u00f5es, Vol. 14\", \"album_type\": \"album\", \"popularity\": 11, \"duration_ms\": 231549}, {\"album\": \"Dois Amores, Duas Paix\\u00f5es, Vol. 14\", \"album_type\": \"album\", \"popularity\": 9, \"duration_ms\": 204486}, {\"album\": \"Dois Amores, Duas Paix\\u00f5es, Vol. 14\", \"album_type\": \"album\", \"popularity\": 8, \"duration_ms\": 207568}, {\"album\": \"Dois Amores, Duas Paix\\u00f5es, Vol. 14\", \"album_type\": \"album\", \"popularity\": 21, \"duration_ms\": 185338}, {\"album\": \"Dois Amores, Duas Paix\\u00f5es, Vol. 14\", \"album_type\": \"album\", \"popularity\": 8, \"duration_ms\": 202448}, {\"album\": \"Dois Amores, Duas Paix\\u00f5es, Vol. 14\", \"album_type\": \"album\", \"popularity\": 12, \"duration_ms\": 212793}, {\"album\": \"Dois Amores, Duas Paix\\u00f5es, Vol. 14\", \"album_type\": \"album\", \"popularity\": 12, \"duration_ms\": 203311}, {\"album\": \"Dois Amores, Duas Paix\\u00f5es, Vol. 14\", \"album_type\": \"album\", \"popularity\": 10, \"duration_ms\": 238680}, {\"album\": \"M\\u00e1gica, Vol. 12\", \"album_type\": \"album\", \"popularity\": 39, \"duration_ms\": 239516}, {\"album\": \"M\\u00e1gica, Vol. 12\", \"album_type\": \"album\", \"popularity\": 17, \"duration_ms\": 190955}, {\"album\": \"M\\u00e1gica, Vol. 12\", \"album_type\": \"album\", \"popularity\": 19, \"duration_ms\": 217913}, {\"album\": \"M\\u00e1gica, Vol. 12\", \"album_type\": \"album\", \"popularity\": 18, \"duration_ms\": 222667}, {\"album\": \"M\\u00e1gica, Vol. 12\", \"album_type\": \"album\", \"popularity\": 20, \"duration_ms\": 313521}, {\"album\": \"M\\u00e1gica, Vol. 12\", \"album_type\": \"album\", \"popularity\": 17, \"duration_ms\": 252917}, {\"album\": \"M\\u00e1gica, Vol. 12\", \"album_type\": \"album\", \"popularity\": 44, \"duration_ms\": 259657}, {\"album\": \"M\\u00e1gica, Vol. 12\", \"album_type\": \"album\", \"popularity\": 20, \"duration_ms\": 263026}, {\"album\": \"M\\u00e1gica, Vol. 12\", \"album_type\": \"album\", \"popularity\": 16, \"duration_ms\": 226951}, {\"album\": \"M\\u00e1gica, Vol. 12\", \"album_type\": \"album\", \"popularity\": 13, \"duration_ms\": 204068}, {\"album\": \"M\\u00e1gica, Vol. 12\", \"album_type\": \"album\", \"popularity\": 13, \"duration_ms\": 199471}, {\"album\": \"M\\u00e1gica, Vol. 12\", \"album_type\": \"album\", \"popularity\": 17, \"duration_ms\": 203128}, {\"album\": \"Calcinha Preta, Vol. 13 (Ao Vivo)\", \"album_type\": \"album\", \"popularity\": 45, \"duration_ms\": 215520}, {\"album\": \"Calcinha Preta, Vol. 13 (Ao Vivo)\", \"album_type\": \"album\", \"popularity\": 34, \"duration_ms\": 246040}, {\"album\": \"Calcinha Preta, Vol. 13 (Ao Vivo)\", \"album_type\": \"album\", \"popularity\": 51, \"duration_ms\": 212960}, {\"album\": \"Calcinha Preta, Vol. 13 (Ao Vivo)\", \"album_type\": \"album\", \"popularity\": 28, \"duration_ms\": 237706}, {\"album\": \"Calcinha Preta, Vol. 13 (Ao Vivo)\", \"album_type\": \"album\", \"popularity\": 39, \"duration_ms\": 260333}, {\"album\": \"Calcinha Preta, Vol. 13 (Ao Vivo)\", \"album_type\": \"album\", \"popularity\": 27, \"duration_ms\": 231933}, {\"album\": \"Calcinha Preta, Vol. 13 (Ao Vivo)\", \"album_type\": \"album\", \"popularity\": 39, \"duration_ms\": 252026}, {\"album\": \"Calcinha Preta, Vol. 13 (Ao Vivo)\", \"album_type\": \"album\", \"popularity\": 39, \"duration_ms\": 194226}, {\"album\": \"Calcinha Preta, Vol. 13 (Ao Vivo)\", \"album_type\": \"album\", \"popularity\": 33, \"duration_ms\": 201626}, {\"album\": \"Calcinha Preta, Vol. 13 (Ao Vivo)\", \"album_type\": \"album\", \"popularity\": 32, \"duration_ms\": 219240}, {\"album\": \"Calcinha Preta, Vol. 13 (Ao Vivo)\", \"album_type\": \"album\", \"popularity\": 41, \"duration_ms\": 234440}, {\"album\": \"Calcinha Preta, Vol. 13 (Ao Vivo)\", \"album_type\": \"album\", \"popularity\": 30, \"duration_ms\": 226000}, {\"album\": \"Calcinha Preta, Vol. 13 (Ao Vivo)\", \"album_type\": \"album\", \"popularity\": 31, \"duration_ms\": 230800}, {\"album\": \"Calcinha Preta, Vol. 13 (Ao Vivo)\", \"album_type\": \"album\", \"popularity\": 35, \"duration_ms\": 171293}, {\"album\": \"Calcinha Preta, Vol. 13 (Ao Vivo)\", \"album_type\": \"album\", \"popularity\": 41, \"duration_ms\": 238693}, {\"album\": \"Calcinha Preta, Vol. 13 (Ao Vivo)\", \"album_type\": \"album\", \"popularity\": 32, \"duration_ms\": 266800}, {\"album\": \"Calcinha Preta, Vol. 13 (Ao Vivo)\", \"album_type\": \"album\", \"popularity\": 41, \"duration_ms\": 198426}, {\"album\": \"Calcinha Preta, Vol. 13 (Ao Vivo)\", \"album_type\": \"album\", \"popularity\": 27, \"duration_ms\": 199560}, {\"album\": \"Calcinha Preta, Vol. 13 (Ao Vivo)\", \"album_type\": \"album\", \"popularity\": 38, \"duration_ms\": 287146}, {\"album\": \"Hoje \\u00e0 Noite, Vol. 11 (In\\u00e9ditas e ao Vivo)\", \"album_type\": \"album\", \"popularity\": 39, \"duration_ms\": 212715}, {\"album\": \"Hoje \\u00e0 Noite, Vol. 11 (In\\u00e9ditas e ao Vivo)\", \"album_type\": \"album\", \"popularity\": 19, \"duration_ms\": 255764}, {\"album\": \"Hoje \\u00e0 Noite, Vol. 11 (In\\u00e9ditas e ao Vivo)\", \"album_type\": \"album\", \"popularity\": 17, \"duration_ms\": 220186}, {\"album\": \"Hoje \\u00e0 Noite, Vol. 11 (In\\u00e9ditas e ao Vivo)\", \"album_type\": \"album\", \"popularity\": 19, \"duration_ms\": 174706}, {\"album\": \"Hoje \\u00e0 Noite, Vol. 11 (In\\u00e9ditas e ao Vivo)\", \"album_type\": \"album\", \"popularity\": 12, \"duration_ms\": 184659}, {\"album\": \"Hoje \\u00e0 Noite, Vol. 11 (In\\u00e9ditas e ao Vivo)\", \"album_type\": \"album\", \"popularity\": 15, \"duration_ms\": 285884}, {\"album\": \"Hoje \\u00e0 Noite, Vol. 11 (In\\u00e9ditas e ao Vivo)\", \"album_type\": \"album\", \"popularity\": 19, \"duration_ms\": 237453}, {\"album\": \"Hoje \\u00e0 Noite, Vol. 11 (In\\u00e9ditas e ao Vivo)\", \"album_type\": \"album\", \"popularity\": 15, \"duration_ms\": 281338}, {\"album\": \"Hoje \\u00e0 Noite, Vol. 11 (In\\u00e9ditas e ao Vivo)\", \"album_type\": \"album\", \"popularity\": 15, \"duration_ms\": 230530}, {\"album\": \"Hoje \\u00e0 Noite, Vol. 11 (In\\u00e9ditas e ao Vivo)\", \"album_type\": \"album\", \"popularity\": 11, \"duration_ms\": 228493}, {\"album\": \"Hoje \\u00e0 Noite, Vol. 11 (In\\u00e9ditas e ao Vivo)\", \"album_type\": \"album\", \"popularity\": 9, \"duration_ms\": 264280}, {\"album\": \"Hoje \\u00e0 Noite, Vol. 11 (In\\u00e9ditas e ao Vivo)\", \"album_type\": \"album\", \"popularity\": 11, \"duration_ms\": 235311}, {\"album\": \"Hoje \\u00e0 Noite, Vol. 11 (In\\u00e9ditas e ao Vivo)\", \"album_type\": \"album\", \"popularity\": 12, \"duration_ms\": 222014}, {\"album\": \"Hoje \\u00e0 Noite, Vol. 11 (In\\u00e9ditas e ao Vivo)\", \"album_type\": \"album\", \"popularity\": 12, \"duration_ms\": 233586}, {\"album\": \"Hoje \\u00e0 Noite, Vol. 11 (In\\u00e9ditas e ao Vivo)\", \"album_type\": \"album\", \"popularity\": 12, \"duration_ms\": 233273}, {\"album\": \"Ao Vivo em Salvador, Vol. 1\", \"album_type\": \"album\", \"popularity\": 28, \"duration_ms\": 257023}, {\"album\": \"Ao Vivo em Salvador, Vol. 1\", \"album_type\": \"album\", \"popularity\": 36, \"duration_ms\": 205838}, {\"album\": \"Ao Vivo em Salvador, Vol. 1\", \"album_type\": \"album\", \"popularity\": 25, \"duration_ms\": 225725}, {\"album\": \"Ao Vivo em Salvador, Vol. 1\", \"album_type\": \"album\", \"popularity\": 23, \"duration_ms\": 238238}, {\"album\": \"Ao Vivo em Salvador, Vol. 1\", \"album_type\": \"album\", \"popularity\": 23, \"duration_ms\": 236402}, {\"album\": \"Ao Vivo em Salvador, Vol. 1\", \"album_type\": \"album\", \"popularity\": 23, \"duration_ms\": 232332}, {\"album\": \"Ao Vivo em Salvador, Vol. 1\", \"album_type\": \"album\", \"popularity\": 27, \"duration_ms\": 218451}, {\"album\": \"Ao Vivo em Salvador, Vol. 1\", \"album_type\": \"album\", \"popularity\": 23, \"duration_ms\": 253886}, {\"album\": \"Ao Vivo em Salvador, Vol. 1\", \"album_type\": \"album\", \"popularity\": 27, \"duration_ms\": 208575}, {\"album\": \"Ao Vivo em Salvador, Vol. 1\", \"album_type\": \"album\", \"popularity\": 18, \"duration_ms\": 266399}, {\"album\": \"Ao Vivo em Salvador, Vol. 1\", \"album_type\": \"album\", \"popularity\": 18, \"duration_ms\": 181080}, {\"album\": \"Ao Vivo em Salvador, Vol. 1\", \"album_type\": \"album\", \"popularity\": 20, \"duration_ms\": 237070}, {\"album\": \"Ao Vivo em Salvador, Vol. 1\", \"album_type\": \"album\", \"popularity\": 31, \"duration_ms\": 241741}, {\"album\": \"Ao Vivo em Salvador, Vol. 1\", \"album_type\": \"album\", \"popularity\": 33, \"duration_ms\": 209108}, {\"album\": \"Ao Vivo em Salvador, Vol. 1\", \"album_type\": \"album\", \"popularity\": 20, \"duration_ms\": 155355}, {\"album\": \"Ao Vivo em Salvador, Vol. 1\", \"album_type\": \"album\", \"popularity\": 19, \"duration_ms\": 237870}, {\"album\": \"Ao Vivo em Salvador, Vol. 1\", \"album_type\": \"album\", \"popularity\": 22, \"duration_ms\": 245144}, {\"album\": \"A Gente Se V\\u00ea L\\u00e1, Vol. 10\", \"album_type\": \"album\", \"popularity\": 16, \"duration_ms\": 238654}, {\"album\": \"A Gente Se V\\u00ea L\\u00e1, Vol. 10\", \"album_type\": \"album\", \"popularity\": 19, \"duration_ms\": 231967}, {\"album\": \"A Gente Se V\\u00ea L\\u00e1, Vol. 10\", \"album_type\": \"album\", \"popularity\": 12, \"duration_ms\": 253910}, {\"album\": \"A Gente Se V\\u00ea L\\u00e1, Vol. 10\", \"album_type\": \"album\", \"popularity\": 16, \"duration_ms\": 233430}, {\"album\": \"A Gente Se V\\u00ea L\\u00e1, Vol. 10\", \"album_type\": \"album\", \"popularity\": 7, \"duration_ms\": 206262}, {\"album\": \"A Gente Se V\\u00ea L\\u00e1, Vol. 10\", \"album_type\": \"album\", \"popularity\": 9, \"duration_ms\": 218697}, {\"album\": \"A Gente Se V\\u00ea L\\u00e1, Vol. 10\", \"album_type\": \"album\", \"popularity\": 14, \"duration_ms\": 251036}, {\"album\": \"A Gente Se V\\u00ea L\\u00e1, Vol. 10\", \"album_type\": \"album\", \"popularity\": 5, \"duration_ms\": 256391}, {\"album\": \"A Gente Se V\\u00ea L\\u00e1, Vol. 10\", \"album_type\": \"album\", \"popularity\": 6, \"duration_ms\": 251297}, {\"album\": \"A Gente Se V\\u00ea L\\u00e1, Vol. 10\", \"album_type\": \"album\", \"popularity\": 9, \"duration_ms\": 284290}, {\"album\": \"A Gente Se V\\u00ea L\\u00e1, Vol. 10\", \"album_type\": \"album\", \"popularity\": 6, \"duration_ms\": 213968}, {\"album\": \"A Gente Se V\\u00ea L\\u00e1, Vol. 10\", \"album_type\": \"album\", \"popularity\": 7, \"duration_ms\": 269505}, {\"album\": \"A Gente Se V\\u00ea L\\u00e1, Vol. 10\", \"album_type\": \"album\", \"popularity\": 7, \"duration_ms\": 252368}, {\"album\": \"Amor da Minha Vida, Vol. 9\", \"album_type\": \"album\", \"popularity\": 17, \"duration_ms\": 259970}, {\"album\": \"Amor da Minha Vida, Vol. 9\", \"album_type\": \"album\", \"popularity\": 9, \"duration_ms\": 248241}, {\"album\": \"Amor da Minha Vida, Vol. 9\", \"album_type\": \"album\", \"popularity\": 6, \"duration_ms\": 228519}, {\"album\": \"Amor da Minha Vida, Vol. 9\", \"album_type\": \"album\", \"popularity\": 10, \"duration_ms\": 209998}, {\"album\": \"Amor da Minha Vida, Vol. 9\", \"album_type\": \"album\", \"popularity\": 5, \"duration_ms\": 287111}, {\"album\": \"Amor da Minha Vida, Vol. 9\", \"album_type\": \"album\", \"popularity\": 6, \"duration_ms\": 203049}, {\"album\": \"Amor da Minha Vida, Vol. 9\", \"album_type\": \"album\", \"popularity\": 16, \"duration_ms\": 229694}, {\"album\": \"Amor da Minha Vida, Vol. 9\", \"album_type\": \"album\", \"popularity\": 6, \"duration_ms\": 249521}, {\"album\": \"Amor da Minha Vida, Vol. 9\", \"album_type\": \"album\", \"popularity\": 6, \"duration_ms\": 211696}, {\"album\": \"Amor da Minha Vida, Vol. 9\", \"album_type\": \"album\", \"popularity\": 6, \"duration_ms\": 223738}, {\"album\": \"Amor da Minha Vida, Vol. 9\", \"album_type\": \"album\", \"popularity\": 5, \"duration_ms\": 267520}, {\"album\": \"Amor da Minha Vida, Vol. 9\", \"album_type\": \"album\", \"popularity\": 11, \"duration_ms\": 266971}, {\"album\": \"Amor da Minha Vida, Vol. 9\", \"album_type\": \"album\", \"popularity\": 4, \"duration_ms\": 227395}, {\"album\": \"Ao Vivo, Vol. 8\", \"album_type\": \"album\", \"popularity\": 11, \"duration_ms\": 363598}, {\"album\": \"Ao Vivo, Vol. 8\", \"album_type\": \"album\", \"popularity\": 24, \"duration_ms\": 263993}, {\"album\": \"Ao Vivo, Vol. 8\", \"album_type\": \"album\", \"popularity\": 17, \"duration_ms\": 259787}, {\"album\": \"Ao Vivo, Vol. 8\", \"album_type\": \"album\", \"popularity\": 19, \"duration_ms\": 277159}, {\"album\": \"Ao Vivo, Vol. 8\", \"album_type\": \"album\", \"popularity\": 18, \"duration_ms\": 329560}, {\"album\": \"Ao Vivo, Vol. 8\", \"album_type\": \"album\", \"popularity\": 21, \"duration_ms\": 276558}, {\"album\": \"Ao Vivo, Vol. 8\", \"album_type\": \"album\", \"popularity\": 18, \"duration_ms\": 295888}, {\"album\": \"Ao Vivo, Vol. 8\", \"album_type\": \"album\", \"popularity\": 16, \"duration_ms\": 286537}, {\"album\": \"Ao Vivo, Vol. 8\", \"album_type\": \"album\", \"popularity\": 16, \"duration_ms\": 219193}, {\"album\": \"Ao Vivo, Vol. 8\", \"album_type\": \"album\", \"popularity\": 11, \"duration_ms\": 195709}, {\"album\": \"Ao Vivo, Vol. 8\", \"album_type\": \"album\", \"popularity\": 30, \"duration_ms\": 267833}, {\"album\": \"Ao Vivo, Vol. 8\", \"album_type\": \"album\", \"popularity\": 18, \"duration_ms\": 273502}, {\"album\": \"Ao Vivo, Vol. 8\", \"album_type\": \"album\", \"popularity\": 11, \"duration_ms\": 308166}, {\"album\": \"Ao Vivo, Vol. 8\", \"album_type\": \"album\", \"popularity\": 12, \"duration_ms\": 247875}, {\"album\": \"Ao Vivo, Vol. 8\", \"album_type\": \"album\", \"popularity\": 12, \"duration_ms\": 251715}, {\"album\": \"Seu Cora\\u00e7\\u00e3o Vai Aprender o Que \\u00c9 Paix\\u00e3o, Vol. 7\", \"album_type\": \"album\", \"popularity\": 20, \"duration_ms\": 242520}, {\"album\": \"Seu Cora\\u00e7\\u00e3o Vai Aprender o Que \\u00c9 Paix\\u00e3o, Vol. 7\", \"album_type\": \"album\", \"popularity\": 16, \"duration_ms\": 286798}, {\"album\": \"Seu Cora\\u00e7\\u00e3o Vai Aprender o Que \\u00c9 Paix\\u00e3o, Vol. 7\", \"album_type\": \"album\", \"popularity\": 14, \"duration_ms\": 212140}, {\"album\": \"Seu Cora\\u00e7\\u00e3o Vai Aprender o Que \\u00c9 Paix\\u00e3o, Vol. 7\", \"album_type\": \"album\", \"popularity\": 14, \"duration_ms\": 237583}, {\"album\": \"Seu Cora\\u00e7\\u00e3o Vai Aprender o Que \\u00c9 Paix\\u00e3o, Vol. 7\", \"album_type\": \"album\", \"popularity\": 10, \"duration_ms\": 238706}, {\"album\": \"Seu Cora\\u00e7\\u00e3o Vai Aprender o Que \\u00c9 Paix\\u00e3o, Vol. 7\", \"album_type\": \"album\", \"popularity\": 18, \"duration_ms\": 273763}, {\"album\": \"Seu Cora\\u00e7\\u00e3o Vai Aprender o Que \\u00c9 Paix\\u00e3o, Vol. 7\", \"album_type\": \"album\", \"popularity\": 14, \"duration_ms\": 226768}, {\"album\": \"Seu Cora\\u00e7\\u00e3o Vai Aprender o Que \\u00c9 Paix\\u00e3o, Vol. 7\", \"album_type\": \"album\", \"popularity\": 17, \"duration_ms\": 242991}, {\"album\": \"Seu Cora\\u00e7\\u00e3o Vai Aprender o Que \\u00c9 Paix\\u00e3o, Vol. 7\", \"album_type\": \"album\", \"popularity\": 16, \"duration_ms\": 229903}, {\"album\": \"Seu Cora\\u00e7\\u00e3o Vai Aprender o Que \\u00c9 Paix\\u00e3o, Vol. 7\", \"album_type\": \"album\", \"popularity\": 14, \"duration_ms\": 208744}, {\"album\": \"Seu Cora\\u00e7\\u00e3o Vai Aprender o Que \\u00c9 Paix\\u00e3o, Vol. 7\", \"album_type\": \"album\", \"popularity\": 18, \"duration_ms\": 261381}, {\"album\": \"Seu Cora\\u00e7\\u00e3o Vai Aprender o Que \\u00c9 Paix\\u00e3o, Vol. 7\", \"album_type\": \"album\", \"popularity\": 12, \"duration_ms\": 215040}, {\"album\": \"Seu Cora\\u00e7\\u00e3o Vai Aprender o Que \\u00c9 Paix\\u00e3o, Vol. 7\", \"album_type\": \"album\", \"popularity\": 10, \"duration_ms\": 192078}, {\"album\": \"Seu Cora\\u00e7\\u00e3o Vai Aprender o Que \\u00c9 Paix\\u00e3o, Vol. 7\", \"album_type\": \"album\", \"popularity\": 9, \"duration_ms\": 212480}, {\"album\": \"Sou Seu Amor, Vol. 6 (Ao Vivo)\", \"album_type\": \"album\", \"popularity\": 8, \"duration_ms\": 113084}, {\"album\": \"Sou Seu Amor, Vol. 6 (Ao Vivo)\", \"album_type\": \"album\", \"popularity\": 18, \"duration_ms\": 256810}, {\"album\": \"Sou Seu Amor, Vol. 6 (Ao Vivo)\", \"album_type\": \"album\", \"popularity\": 18, \"duration_ms\": 246884}, {\"album\": \"Sou Seu Amor, Vol. 6 (Ao Vivo)\", \"album_type\": \"album\", \"popularity\": 14, \"duration_ms\": 436533}, {\"album\": \"Sou Seu Amor, Vol. 6 (Ao Vivo)\", \"album_type\": \"album\", \"popularity\": 12, \"duration_ms\": 253336}, {\"album\": \"Sou Seu Amor, Vol. 6 (Ao Vivo)\", \"album_type\": \"album\", \"popularity\": 11, \"duration_ms\": 235886}, {\"album\": \"Sou Seu Amor, Vol. 6 (Ao Vivo)\", \"album_type\": \"album\", \"popularity\": 16, \"duration_ms\": 290822}, {\"album\": \"Sou Seu Amor, Vol. 6 (Ao Vivo)\", \"album_type\": \"album\", \"popularity\": 11, \"duration_ms\": 407981}, {\"album\": \"Sou Seu Amor, Vol. 6 (Ao Vivo)\", \"album_type\": \"album\", \"popularity\": 14, \"duration_ms\": 320863}, {\"album\": \"Sou Seu Amor, Vol. 6 (Ao Vivo)\", \"album_type\": \"album\", \"popularity\": 10, \"duration_ms\": 312373}, {\"album\": \"Sou Seu Amor, Vol. 6 (Ao Vivo)\", \"album_type\": \"album\", \"popularity\": 18, \"duration_ms\": 290299}, {\"album\": \"A Mo\\u00e7ada \\u00c9 S\\u00f3 Fil\\u00e9!, Vol. 5 (Ao Vivo)\", \"album_type\": \"album\", \"popularity\": 12, \"duration_ms\": 184842}, {\"album\": \"A Mo\\u00e7ada \\u00c9 S\\u00f3 Fil\\u00e9!, Vol. 5 (Ao Vivo)\", \"album_type\": \"album\", \"popularity\": 10, \"duration_ms\": 228806}, {\"album\": \"A Mo\\u00e7ada \\u00c9 S\\u00f3 Fil\\u00e9!, Vol. 5 (Ao Vivo)\", \"album_type\": \"album\", \"popularity\": 11, \"duration_ms\": 210259}, {\"album\": \"A Mo\\u00e7ada \\u00c9 S\\u00f3 Fil\\u00e9!, Vol. 5 (Ao Vivo)\", \"album_type\": \"album\", \"popularity\": 10, \"duration_ms\": 297482}, {\"album\": \"A Mo\\u00e7ada \\u00c9 S\\u00f3 Fil\\u00e9!, Vol. 5 (Ao Vivo)\", \"album_type\": \"album\", \"popularity\": 9, \"duration_ms\": 239490}, {\"album\": \"A Mo\\u00e7ada \\u00c9 S\\u00f3 Fil\\u00e9!, Vol. 5 (Ao Vivo)\", \"album_type\": \"album\", \"popularity\": 7, \"duration_ms\": 160496}, {\"album\": \"A Mo\\u00e7ada \\u00c9 S\\u00f3 Fil\\u00e9!, Vol. 5 (Ao Vivo)\", \"album_type\": \"album\", \"popularity\": 9, \"duration_ms\": 154017}, {\"album\": \"A Mo\\u00e7ada \\u00c9 S\\u00f3 Fil\\u00e9!, Vol. 5 (Ao Vivo)\", \"album_type\": \"album\", \"popularity\": 10, \"duration_ms\": 227108}, {\"album\": \"A Mo\\u00e7ada \\u00c9 S\\u00f3 Fil\\u00e9!, Vol. 5 (Ao Vivo)\", \"album_type\": \"album\", \"popularity\": 8, \"duration_ms\": 222824}, {\"album\": \"A Mo\\u00e7ada \\u00c9 S\\u00f3 Fil\\u00e9!, Vol. 5 (Ao Vivo)\", \"album_type\": \"album\", \"popularity\": 7, \"duration_ms\": 250723}, {\"album\": \"A Mo\\u00e7ada \\u00c9 S\\u00f3 Fil\\u00e9!, Vol. 5 (Ao Vivo)\", \"album_type\": \"album\", \"popularity\": 7, \"duration_ms\": 233665}, {\"album\": \"A Mo\\u00e7ada \\u00c9 S\\u00f3 Fil\\u00e9!, Vol. 5 (Ao Vivo)\", \"album_type\": \"album\", \"popularity\": 16, \"duration_ms\": 333505}, {\"album\": \"A Mo\\u00e7ada \\u00c9 S\\u00f3 Fil\\u00e9!, Vol. 5 (Ao Vivo)\", \"album_type\": \"album\", \"popularity\": 6, \"duration_ms\": 486478}, {\"album\": \"A Mo\\u00e7ada \\u00c9 S\\u00f3 Fil\\u00e9, Vol. 4\", \"album_type\": \"album\", \"popularity\": 22, \"duration_ms\": 234997}, {\"album\": \"A Mo\\u00e7ada \\u00c9 S\\u00f3 Fil\\u00e9, Vol. 4\", \"album_type\": \"album\", \"popularity\": 16, \"duration_ms\": 270550}, {\"album\": \"A Mo\\u00e7ada \\u00c9 S\\u00f3 Fil\\u00e9, Vol. 4\", \"album_type\": \"album\", \"popularity\": 10, \"duration_ms\": 258011}, {\"album\": \"A Mo\\u00e7ada \\u00c9 S\\u00f3 Fil\\u00e9, Vol. 4\", \"album_type\": \"album\", \"popularity\": 16, \"duration_ms\": 224783}, {\"album\": \"A Mo\\u00e7ada \\u00c9 S\\u00f3 Fil\\u00e9, Vol. 4\", \"album_type\": \"album\", \"popularity\": 13, \"duration_ms\": 305162}, {\"album\": \"A Mo\\u00e7ada \\u00c9 S\\u00f3 Fil\\u00e9, Vol. 4\", \"album_type\": \"album\", \"popularity\": 13, \"duration_ms\": 273266}, {\"album\": \"A Mo\\u00e7ada \\u00c9 S\\u00f3 Fil\\u00e9, Vol. 4\", \"album_type\": \"album\", \"popularity\": 8, \"duration_ms\": 280764}, {\"album\": \"A Mo\\u00e7ada \\u00c9 S\\u00f3 Fil\\u00e9, Vol. 4\", \"album_type\": \"album\", \"popularity\": 8, \"duration_ms\": 238445}, {\"album\": \"A Mo\\u00e7ada \\u00c9 S\\u00f3 Fil\\u00e9, Vol. 4\", \"album_type\": \"album\", \"popularity\": 11, \"duration_ms\": 198948}, {\"album\": \"Arrepiando Com a Galera, Vol. 3 (Ao Vivo)\", \"album_type\": \"album\", \"popularity\": 5, \"duration_ms\": 298631}, {\"album\": \"Arrepiando Com a Galera, Vol. 3 (Ao Vivo)\", \"album_type\": \"album\", \"popularity\": 1, \"duration_ms\": 206733}, {\"album\": \"Arrepiando Com a Galera, Vol. 3 (Ao Vivo)\", \"album_type\": \"album\", \"popularity\": 5, \"duration_ms\": 208822}, {\"album\": \"Arrepiando Com a Galera, Vol. 3 (Ao Vivo)\", \"album_type\": \"album\", \"popularity\": 2, \"duration_ms\": 179853}, {\"album\": \"Arrepiando Com a Galera, Vol. 3 (Ao Vivo)\", \"album_type\": \"album\", \"popularity\": 2, \"duration_ms\": 217626}, {\"album\": \"Arrepiando Com a Galera, Vol. 3 (Ao Vivo)\", \"album_type\": \"album\", \"popularity\": 1, \"duration_ms\": 194194}, {\"album\": \"Arrepiando Com a Galera, Vol. 3 (Ao Vivo)\", \"album_type\": \"album\", \"popularity\": 1, \"duration_ms\": 223895}, {\"album\": \"Arrepiando Com a Galera, Vol. 3 (Ao Vivo)\", \"album_type\": \"album\", \"popularity\": 1, \"duration_ms\": 251559}, {\"album\": \"Arrepiando Com a Galera, Vol. 3 (Ao Vivo)\", \"album_type\": \"album\", \"popularity\": 1, \"duration_ms\": 220395}, {\"album\": \"Arrepiando Com a Galera, Vol. 3 (Ao Vivo)\", \"album_type\": \"album\", \"popularity\": 1, \"duration_ms\": 192156}, {\"album\": \"Arrepiando Com a Galera, Vol. 3 (Ao Vivo)\", \"album_type\": \"album\", \"popularity\": 1, \"duration_ms\": 143438}, {\"album\": \"Arrepiando Com a Galera, Vol. 3 (Ao Vivo)\", \"album_type\": \"album\", \"popularity\": 0, \"duration_ms\": 183066}, {\"album\": \"Arrepiando Com a Galera, Vol. 3 (Ao Vivo)\", \"album_type\": \"album\", \"popularity\": 1, \"duration_ms\": 243670}, {\"album\": \"Arrepiando Com a Galera, Vol. 3 (Ao Vivo)\", \"album_type\": \"album\", \"popularity\": 0, \"duration_ms\": 214622}, {\"album\": \"Arrepiando Com a Galera, Vol. 3 (Ao Vivo)\", \"album_type\": \"album\", \"popularity\": 0, \"duration_ms\": 275696}, {\"album\": \"As Mais Gostosas do Brasil, Vol. 2\", \"album_type\": \"album\", \"popularity\": 13, \"duration_ms\": 236669}, {\"album\": \"As Mais Gostosas do Brasil, Vol. 2\", \"album_type\": \"album\", \"popularity\": 5, \"duration_ms\": 258768}, {\"album\": \"As Mais Gostosas do Brasil, Vol. 2\", \"album_type\": \"album\", \"popularity\": 4, \"duration_ms\": 237061}, {\"album\": \"As Mais Gostosas do Brasil, Vol. 2\", \"album_type\": \"album\", \"popularity\": 5, \"duration_ms\": 196519}, {\"album\": \"As Mais Gostosas do Brasil, Vol. 2\", \"album_type\": \"album\", \"popularity\": 10, \"duration_ms\": 293616}, {\"album\": \"As Mais Gostosas do Brasil, Vol. 2\", \"album_type\": \"album\", \"popularity\": 2, \"duration_ms\": 217286}, {\"album\": \"As Mais Gostosas do Brasil, Vol. 2\", \"album_type\": \"album\", \"popularity\": 2, \"duration_ms\": 231235}, {\"album\": \"As Mais Gostosas do Brasil, Vol. 2\", \"album_type\": \"album\", \"popularity\": 2, \"duration_ms\": 240195}, {\"album\": \"As Mais Gostosas do Brasil, Vol. 2\", \"album_type\": \"album\", \"popularity\": 1, \"duration_ms\": 276819}, {\"album\": \"As Mais Gostosas do Brasil, Vol. 2\", \"album_type\": \"album\", \"popularity\": 3, \"duration_ms\": 262112}, {\"album\": \"A Banda de Forr\\u00f3 Mais Gostosa do Brasil, Vol. 1\", \"album_type\": \"album\", \"popularity\": 5, \"duration_ms\": 179565}, {\"album\": \"A Banda de Forr\\u00f3 Mais Gostosa do Brasil, Vol. 1\", \"album_type\": \"album\", \"popularity\": 3, \"duration_ms\": 205061}, {\"album\": \"A Banda de Forr\\u00f3 Mais Gostosa do Brasil, Vol. 1\", \"album_type\": \"album\", \"popularity\": 3, \"duration_ms\": 175046}, {\"album\": \"A Banda de Forr\\u00f3 Mais Gostosa do Brasil, Vol. 1\", \"album_type\": \"album\", \"popularity\": 3, \"duration_ms\": 219924}, {\"album\": \"A Banda de Forr\\u00f3 Mais Gostosa do Brasil, Vol. 1\", \"album_type\": \"album\", \"popularity\": 2, \"duration_ms\": 209214}, {\"album\": \"A Banda de Forr\\u00f3 Mais Gostosa do Brasil, Vol. 1\", \"album_type\": \"album\", \"popularity\": 1, \"duration_ms\": 171702}, {\"album\": \"A Banda de Forr\\u00f3 Mais Gostosa do Brasil, Vol. 1\", \"album_type\": \"album\", \"popularity\": 2, \"duration_ms\": 204512}, {\"album\": \"A Banda de Forr\\u00f3 Mais Gostosa do Brasil, Vol. 1\", \"album_type\": \"album\", \"popularity\": 2, \"duration_ms\": 153443}, {\"album\": \"A Banda de Forr\\u00f3 Mais Gostosa do Brasil, Vol. 1\", \"album_type\": \"album\", \"popularity\": 1, \"duration_ms\": 156055}, {\"album\": \"A Banda de Forr\\u00f3 Mais Gostosa do Brasil, Vol. 1\", \"album_type\": \"album\", \"popularity\": 1, \"duration_ms\": 176143}]}}, {\"mode\": \"vega-lite\"});\n",
       "</script>"
      ],
      "text/plain": [
       "alt.LayerChart(...)"
      ]
     },
     "execution_count": 18,
     "metadata": {},
     "output_type": "execute_result"
    }
   ],
   "source": [
    "data_groupby_album_chart =  data_groupby[data_groupby['album_type'] ==  'album']\n",
    "\n",
    "bars = alt.Chart(data_groupby_album_chart).mark_bar(color = '#222437').encode(\n",
    "    x=alt.X('median(popularity):Q', axis = alt.Axis(title='Mediana da Popularidade')),\n",
    "    y=alt.Y('album:O', sort='-x', axis = alt.Axis(title='Álbum'))\n",
    ")\n",
    "text = alt.Chart(data_groupby_album_chart).mark_text(dx=-15, dy=3, color='white').encode(\n",
    "    x=alt.X('median(popularity):Q', axis = alt.Axis(title='Mediana da Popularidade')),\n",
    "    y=alt.Y('album:O', sort='-x', axis = alt.Axis(title='Álbum')),\n",
    "    text=alt.Text('median(popularity):Q')\n",
    ")\n",
    "bars + text"
   ]
  },
  {
   "cell_type": "markdown",
   "metadata": {
    "colab_type": "text",
    "id": "5hHz0q0bOxcC"
   },
   "source": [
    "E como seria para fazer o single?"
   ]
  },
  {
   "cell_type": "code",
   "execution_count": 19,
   "metadata": {
    "colab": {
     "base_uri": "https://localhost:8080/",
     "height": 263
    },
    "colab_type": "code",
    "id": "c6sTxgyDHgU9",
    "outputId": "6d24f0b1-f038-41c2-b86f-981dcfb51788"
   },
   "outputs": [
    {
     "data": {
      "text/html": [
       "\n",
       "<div id=\"altair-viz-33195a4177934a6eb923e2a90bd6c20d\"></div>\n",
       "<script type=\"text/javascript\">\n",
       "  (function(spec, embedOpt){\n",
       "    let outputDiv = document.currentScript.previousElementSibling;\n",
       "    if (outputDiv.id !== \"altair-viz-33195a4177934a6eb923e2a90bd6c20d\") {\n",
       "      outputDiv = document.getElementById(\"altair-viz-33195a4177934a6eb923e2a90bd6c20d\");\n",
       "    }\n",
       "    const paths = {\n",
       "      \"vega\": \"https://cdn.jsdelivr.net/npm//vega@5?noext\",\n",
       "      \"vega-lib\": \"https://cdn.jsdelivr.net/npm//vega-lib?noext\",\n",
       "      \"vega-lite\": \"https://cdn.jsdelivr.net/npm//vega-lite@4.8.1?noext\",\n",
       "      \"vega-embed\": \"https://cdn.jsdelivr.net/npm//vega-embed@6?noext\",\n",
       "    };\n",
       "\n",
       "    function loadScript(lib) {\n",
       "      return new Promise(function(resolve, reject) {\n",
       "        var s = document.createElement('script');\n",
       "        s.src = paths[lib];\n",
       "        s.async = true;\n",
       "        s.onload = () => resolve(paths[lib]);\n",
       "        s.onerror = () => reject(`Error loading script: ${paths[lib]}`);\n",
       "        document.getElementsByTagName(\"head\")[0].appendChild(s);\n",
       "      });\n",
       "    }\n",
       "\n",
       "    function showError(err) {\n",
       "      outputDiv.innerHTML = `<div class=\"error\" style=\"color:red;\">${err}</div>`;\n",
       "      throw err;\n",
       "    }\n",
       "\n",
       "    function displayChart(vegaEmbed) {\n",
       "      vegaEmbed(outputDiv, spec, embedOpt)\n",
       "        .catch(err => showError(`Javascript Error: ${err.message}<br>This usually means there's a typo in your chart specification. See the javascript console for the full traceback.`));\n",
       "    }\n",
       "\n",
       "    if(typeof define === \"function\" && define.amd) {\n",
       "      requirejs.config({paths});\n",
       "      require([\"vega-embed\"], displayChart, err => showError(`Error loading script: ${err.message}`));\n",
       "    } else if (typeof vegaEmbed === \"function\") {\n",
       "      displayChart(vegaEmbed);\n",
       "    } else {\n",
       "      loadScript(\"vega\")\n",
       "        .then(() => loadScript(\"vega-lite\"))\n",
       "        .then(() => loadScript(\"vega-embed\"))\n",
       "        .catch(showError)\n",
       "        .then(() => displayChart(vegaEmbed));\n",
       "    }\n",
       "  })({\"config\": {\"view\": {\"continuousWidth\": 400, \"continuousHeight\": 300}}, \"layer\": [{\"mark\": {\"type\": \"bar\", \"color\": \"#222437\"}, \"encoding\": {\"x\": {\"type\": \"quantitative\", \"aggregate\": \"median\", \"axis\": {\"title\": \"Mediana da Popularidade\"}, \"field\": \"popularity\"}, \"y\": {\"type\": \"ordinal\", \"axis\": {\"title\": \"\\u00c1lbum\"}, \"field\": \"album\", \"sort\": \"-x\"}}}, {\"mark\": {\"type\": \"text\", \"color\": \"white\", \"dx\": -15, \"dy\": 3}, \"encoding\": {\"text\": {\"type\": \"quantitative\", \"aggregate\": \"median\", \"field\": \"popularity\"}, \"x\": {\"type\": \"quantitative\", \"aggregate\": \"median\", \"axis\": {\"title\": \"Mediana da Popularidade\"}, \"field\": \"popularity\"}, \"y\": {\"type\": \"ordinal\", \"axis\": {\"title\": \"\\u00c1lbum\"}, \"field\": \"album\", \"sort\": \"-x\"}}}], \"data\": {\"name\": \"data-803e24654ec2f05b76a931d04f1d286b\"}, \"$schema\": \"https://vega.github.io/schema/vega-lite/v4.8.1.json\", \"datasets\": {\"data-803e24654ec2f05b76a931d04f1d286b\": [{\"album\": \"CP 25 Anos, Pt. 2 (Ao Vivo)\", \"album_type\": \"single\", \"popularity\": 50, \"duration_ms\": 174474}, {\"album\": \"CP 25 Anos, Pt. 2 (Ao Vivo)\", \"album_type\": \"single\", \"popularity\": 39, \"duration_ms\": 254389}, {\"album\": \"CP 25 Anos, Pt. 2 (Ao Vivo)\", \"album_type\": \"single\", \"popularity\": 36, \"duration_ms\": 200295}, {\"album\": \"CP 25 Anos, Pt. 2 (Ao Vivo)\", \"album_type\": \"single\", \"popularity\": 35, \"duration_ms\": 238144}, {\"album\": \"Conta de Luz (Ao Vivo)\", \"album_type\": \"single\", \"popularity\": 54, \"duration_ms\": 160149}, {\"album\": \"CP 25 Anos, Pt. 1 (Ao Vivo)\", \"album_type\": \"single\", \"popularity\": 60, \"duration_ms\": 251061}, {\"album\": \"CP 25 Anos, Pt. 1 (Ao Vivo)\", \"album_type\": \"single\", \"popularity\": 46, \"duration_ms\": 218925}, {\"album\": \"CP 25 Anos, Pt. 1 (Ao Vivo)\", \"album_type\": \"single\", \"popularity\": 42, \"duration_ms\": 204812}, {\"album\": \"CP 25 Anos, Pt. 1 (Ao Vivo)\", \"album_type\": \"single\", \"popularity\": 43, \"duration_ms\": 241461}, {\"album\": \"CP 25 Anos, Pt. 1 (Ao Vivo)\", \"album_type\": \"single\", \"popularity\": 37, \"duration_ms\": 129000}, {\"album\": \"CP 25 Anos, Pt. 1 (Ao Vivo)\", \"album_type\": \"single\", \"popularity\": 44, \"duration_ms\": 278314}, {\"album\": \"Tchau pro Seu Amor (Ao Vivo)\", \"album_type\": \"single\", \"popularity\": 49, \"duration_ms\": 130415}, {\"album\": \"N\\u00e3o Tem Explica\\u00e7\\u00e3o\", \"album_type\": \"single\", \"popularity\": 22, \"duration_ms\": 228187}, {\"album\": \"Amor de Mentira\", \"album_type\": \"single\", \"popularity\": 37, \"duration_ms\": 157300}, {\"album\": \"Flores, Versos e Poemas\", \"album_type\": \"single\", \"popularity\": 23, \"duration_ms\": 207596}, {\"album\": \"Eu Vim do Futuro - Single\", \"album_type\": \"single\", \"popularity\": 3, \"duration_ms\": 195213}, {\"album\": \"Homem de Rua\", \"album_type\": \"single\", \"popularity\": 5, \"duration_ms\": 210181}, {\"album\": \"Al\\u00f4 Amor\", \"album_type\": \"single\", \"popularity\": 10, \"duration_ms\": 182334}, {\"album\": \"Parada Meio Louca\", \"album_type\": \"single\", \"popularity\": 7, \"duration_ms\": 201456}, {\"album\": \"D\\u00f3i, D\\u00f3i\", \"album_type\": \"single\", \"popularity\": 2, \"duration_ms\": 196032}]}}, {\"mode\": \"vega-lite\"});\n",
       "</script>"
      ],
      "text/plain": [
       "alt.LayerChart(...)"
      ]
     },
     "execution_count": 19,
     "metadata": {},
     "output_type": "execute_result"
    }
   ],
   "source": [
    "data_groupby_album_chart =  data_groupby[data_groupby['album_type'] ==  'single']\n",
    "\n",
    "bars = alt.Chart(data_groupby_album_chart).mark_bar(color = '#222437').encode(\n",
    "    x=alt.X('median(popularity):Q', axis = alt.Axis(title='Mediana da Popularidade')),\n",
    "    y=alt.Y('album:O', sort='-x', axis = alt.Axis(title='Álbum'))\n",
    ")\n",
    "text = alt.Chart(data_groupby_album_chart).mark_text(dx=-15, dy=3, color='white').encode(\n",
    "    x=alt.X('median(popularity):Q', axis = alt.Axis(title='Mediana da Popularidade')),\n",
    "    y=alt.Y('album:O', sort='-x', axis = alt.Axis(title='Álbum')),\n",
    "    text=alt.Text('median(popularity):Q')\n",
    ")\n",
    "bars + text"
   ]
  },
  {
   "cell_type": "code",
   "execution_count": 20,
   "metadata": {
    "colab": {
     "base_uri": "https://localhost:8080/",
     "height": 563
    },
    "colab_type": "code",
    "id": "38nRCbBCL8bn",
    "outputId": "9a580439-0f10-4e24-f240-a3801b327984"
   },
   "outputs": [
    {
     "data": {
      "text/html": [
       "\n",
       "<div id=\"altair-viz-8243101da2a14bf195cb6cc2e6715485\"></div>\n",
       "<script type=\"text/javascript\">\n",
       "  (function(spec, embedOpt){\n",
       "    let outputDiv = document.currentScript.previousElementSibling;\n",
       "    if (outputDiv.id !== \"altair-viz-8243101da2a14bf195cb6cc2e6715485\") {\n",
       "      outputDiv = document.getElementById(\"altair-viz-8243101da2a14bf195cb6cc2e6715485\");\n",
       "    }\n",
       "    const paths = {\n",
       "      \"vega\": \"https://cdn.jsdelivr.net/npm//vega@5?noext\",\n",
       "      \"vega-lib\": \"https://cdn.jsdelivr.net/npm//vega-lib?noext\",\n",
       "      \"vega-lite\": \"https://cdn.jsdelivr.net/npm//vega-lite@4.8.1?noext\",\n",
       "      \"vega-embed\": \"https://cdn.jsdelivr.net/npm//vega-embed@6?noext\",\n",
       "    };\n",
       "\n",
       "    function loadScript(lib) {\n",
       "      return new Promise(function(resolve, reject) {\n",
       "        var s = document.createElement('script');\n",
       "        s.src = paths[lib];\n",
       "        s.async = true;\n",
       "        s.onload = () => resolve(paths[lib]);\n",
       "        s.onerror = () => reject(`Error loading script: ${paths[lib]}`);\n",
       "        document.getElementsByTagName(\"head\")[0].appendChild(s);\n",
       "      });\n",
       "    }\n",
       "\n",
       "    function showError(err) {\n",
       "      outputDiv.innerHTML = `<div class=\"error\" style=\"color:red;\">${err}</div>`;\n",
       "      throw err;\n",
       "    }\n",
       "\n",
       "    function displayChart(vegaEmbed) {\n",
       "      vegaEmbed(outputDiv, spec, embedOpt)\n",
       "        .catch(err => showError(`Javascript Error: ${err.message}<br>This usually means there's a typo in your chart specification. See the javascript console for the full traceback.`));\n",
       "    }\n",
       "\n",
       "    if(typeof define === \"function\" && define.amd) {\n",
       "      requirejs.config({paths});\n",
       "      require([\"vega-embed\"], displayChart, err => showError(`Error loading script: ${err.message}`));\n",
       "    } else if (typeof vegaEmbed === \"function\") {\n",
       "      displayChart(vegaEmbed);\n",
       "    } else {\n",
       "      loadScript(\"vega\")\n",
       "        .then(() => loadScript(\"vega-lite\"))\n",
       "        .then(() => loadScript(\"vega-embed\"))\n",
       "        .catch(showError)\n",
       "        .then(() => displayChart(vegaEmbed));\n",
       "    }\n",
       "  })({\"config\": {\"view\": {\"continuousWidth\": 400, \"continuousHeight\": 300}}, \"layer\": [{\"mark\": {\"type\": \"bar\", \"color\": \"#222437\"}, \"encoding\": {\"tooltip\": [{\"type\": \"nominal\", \"field\": \"name\"}, {\"type\": \"nominal\", \"field\": \"album\"}], \"x\": {\"type\": \"quantitative\", \"axis\": {\"title\": \"Dura\\u00e7\\u00e3o(ms)\"}, \"field\": \"duration_ms\"}, \"y\": {\"type\": \"nominal\", \"axis\": {\"title\": \"M\\u00fasica\"}, \"field\": \"name\", \"sort\": \"-x\"}}, \"transform\": [{\"window\": [{\"op\": \"rank\", \"field\": \"duration_ms\", \"as\": \"rank\"}], \"sort\": [{\"field\": \"duration_ms\", \"order\": \"descending\"}]}, {\"filter\": \"(datum.rank < 30)\"}]}, {\"mark\": {\"type\": \"text\", \"color\": \"white\", \"dx\": -25, \"dy\": 3}, \"encoding\": {\"text\": {\"type\": \"quantitative\", \"field\": \"duration_ms\"}, \"x\": {\"type\": \"quantitative\", \"field\": \"duration_ms\"}, \"y\": {\"type\": \"nominal\", \"field\": \"name\", \"sort\": \"-x\"}}, \"transform\": [{\"window\": [{\"op\": \"rank\", \"field\": \"duration_ms\", \"as\": \"rank\"}], \"sort\": [{\"field\": \"duration_ms\", \"order\": \"descending\"}]}, {\"filter\": \"(datum.rank < 30)\"}]}], \"data\": {\"name\": \"data-94252a55671dbd04ce89d1c116b29883\"}, \"$schema\": \"https://vega.github.io/schema/vega-lite/v4.8.1.json\", \"datasets\": {\"data-94252a55671dbd04ce89d1c116b29883\": [{\"name\": \"Quer Conhecer? Deixe!\", \"album\": \"Calcinha Preta: Edi\\u00e7\\u00e3o Especial\", \"duration_ms\": 228827}, {\"name\": \"N\\u00e3o Me Deixe Agora\", \"album\": \"Calcinha Preta: Edi\\u00e7\\u00e3o Especial\", \"duration_ms\": 293162}, {\"name\": \"Agora Estou Sofrendo\", \"album\": \"Calcinha Preta: Edi\\u00e7\\u00e3o Especial\", \"duration_ms\": 251580}, {\"name\": \"Sem Explica\\u00e7\\u00e3o (I Will Be)\", \"album\": \"Calcinha Preta: Edi\\u00e7\\u00e3o Especial\", \"duration_ms\": 221083}, {\"name\": \"Perdoar\", \"album\": \"Calcinha Preta: Edi\\u00e7\\u00e3o Especial\", \"duration_ms\": 186984}, {\"name\": \"Encruzilhada\", \"album\": \"Calcinha Preta: Edi\\u00e7\\u00e3o Especial\", \"duration_ms\": 205938}, {\"name\": \"Renascer\\u00e1\", \"album\": \"Calcinha Preta: Edi\\u00e7\\u00e3o Especial\", \"duration_ms\": 208979}, {\"name\": \"Fa\\u00e7o Chover\", \"album\": \"Calcinha Preta: Edi\\u00e7\\u00e3o Especial\", \"duration_ms\": 254027}, {\"name\": \"J\\u00e1 Me Acostumei\", \"album\": \"Calcinha Preta: Edi\\u00e7\\u00e3o Especial\", \"duration_ms\": 249844}, {\"name\": \"Homem de Rua\", \"album\": \"Calcinha Preta: Edi\\u00e7\\u00e3o Especial\", \"duration_ms\": 211416}, {\"name\": \"Voc\\u00ea N\\u00e3o Vale Nada\", \"album\": \"Calcinha Preta: Edi\\u00e7\\u00e3o Especial\", \"duration_ms\": 220000}, {\"name\": \"Balada Prime\", \"album\": \"Balada Prime\", \"duration_ms\": 184656}, {\"name\": \"Chora\", \"album\": \"Balada Prime\", \"duration_ms\": 174384}, {\"name\": \"Sapatinho de Cinderela\", \"album\": \"Balada Prime\", \"duration_ms\": 171552}, {\"name\": \"Voc\\u00ea Mente\", \"album\": \"Balada Prime\", \"duration_ms\": 202056}, {\"name\": \"Kit Sofr\\u00eancia\", \"album\": \"Balada Prime\", \"duration_ms\": 179400}, {\"name\": \"Modo Avi\\u00e3o\", \"album\": \"Balada Prime\", \"duration_ms\": 193056}, {\"name\": \"A Dona do Barraco\", \"album\": \"Balada Prime\", \"duration_ms\": 146448}, {\"name\": \"Que Tal?\", \"album\": \"Balada Prime\", \"duration_ms\": 221664}, {\"name\": \"O Amor Vai Derreter o Gelo\", \"album\": \"Balada Prime\", \"duration_ms\": 214560}, {\"name\": \"Sai pra L\\u00e1 Bob\\u00e3o\", \"album\": \"Balada Prime\", \"duration_ms\": 192048}, {\"name\": \"Simbora M\\u00f4\", \"album\": \"Balada Prime\", \"duration_ms\": 196416}, {\"name\": \"Como Eu Te Amei\", \"album\": \"Balada Prime\", \"duration_ms\": 202992}, {\"name\": \"Toda Noite\", \"album\": \"Balada Prime\", \"duration_ms\": 186984}, {\"name\": \"Marca da Saudade\", \"album\": \"Balada Prime\", \"duration_ms\": 261384}, {\"name\": \"Rugas\", \"album\": \"Balada Prime\", \"duration_ms\": 209064}, {\"name\": \"A Vida Segue\", \"album\": \"Balada Prime\", \"duration_ms\": 189168}, {\"name\": \"12 de Junho\", \"album\": \"Balada Prime\", \"duration_ms\": 189960}, {\"name\": \"Filmes e Hist\\u00f3rias\", \"album\": \"Balada Prime\", \"duration_ms\": 213624}, {\"name\": \"Filmes e Hist\\u00f3rias\", \"album\": \"Filmes e Hist\\u00f3rias, Vol. 28\", \"duration_ms\": 215197}, {\"name\": \"Onde Est\\u00e1\", \"album\": \"Filmes e Hist\\u00f3rias, Vol. 28\", \"duration_ms\": 169692}, {\"name\": \"Eu Quero Ser o Seu Amor\", \"album\": \"Filmes e Hist\\u00f3rias, Vol. 28\", \"duration_ms\": 240458}, {\"name\": \"A Vida Segue\", \"album\": \"Filmes e Hist\\u00f3rias, Vol. 28\", \"duration_ms\": 173950}, {\"name\": \"Eu N\\u00e3o Vou Desistir de Voc\\u00ea\", \"album\": \"Filmes e Hist\\u00f3rias, Vol. 28\", \"duration_ms\": 180977}, {\"name\": \"Como Eu Te Amei\", \"album\": \"Filmes e Hist\\u00f3rias, Vol. 28\", \"duration_ms\": 170841}, {\"name\": \"Simbora M\\u00f4\", \"album\": \"Filmes e Hist\\u00f3rias, Vol. 28\", \"duration_ms\": 184347}, {\"name\": \"Voc\\u00ea \\u00c9 Especial pra Mim\", \"album\": \"Filmes e Hist\\u00f3rias, Vol. 28\", \"duration_ms\": 215563}, {\"name\": \"Toda Noite\", \"album\": \"Filmes e Hist\\u00f3rias, Vol. 28\", \"duration_ms\": 187194}, {\"name\": \"N\\u00e3o Chore, N\\u00e3o\", \"album\": \"Filmes e Hist\\u00f3rias, Vol. 28\", \"duration_ms\": 202920}, {\"name\": \"A Casa Caiu\", \"album\": \"Filmes e Hist\\u00f3rias, Vol. 28\", \"duration_ms\": 181604}, {\"name\": \"O Mundo Pode Acabar\", \"album\": \"Filmes e Hist\\u00f3rias, Vol. 28\", \"duration_ms\": 217287}, {\"name\": \"Imaturidade\", \"album\": \"Filmes e Hist\\u00f3rias, Vol. 28\", \"duration_ms\": 173819}, {\"name\": \"Amanhecer\", \"album\": \"Calcinha Preta Premium\", \"duration_ms\": 238213}, {\"name\": \"Longe (Far Away)\", \"album\": \"Calcinha Preta Premium\", \"duration_ms\": 177760}, {\"name\": \"Tem Mais Algu\\u00e9m?\", \"album\": \"Calcinha Preta Premium\", \"duration_ms\": 255466}, {\"name\": \"Baby Doll\", \"album\": \"Calcinha Preta Premium\", \"duration_ms\": 212200}, {\"name\": \"Fa\\u00e7o Chover (It Will Rain)\", \"album\": \"Calcinha Preta Premium\", \"duration_ms\": 230093}, {\"name\": \"Agora Estou Sofrendo\", \"album\": \"Calcinha Preta Premium\", \"duration_ms\": 237666}, {\"name\": \"Bandido do Amor\", \"album\": \"Calcinha Preta Premium\", \"duration_ms\": 190720}, {\"name\": \"Saidera / Em Mil Peda\\u00e7os\", \"album\": \"Calcinha Preta Premium\", \"duration_ms\": 239960}, {\"name\": \"Armadilha\", \"album\": \"Calcinha Preta Premium\", \"duration_ms\": 223426}, {\"name\": \"Morrendo de Desejo\", \"album\": \"Calcinha Preta Premium\", \"duration_ms\": 233013}, {\"name\": \"Ad\\u00e3o e Eva / Romeu e Julieta\", \"album\": \"Calcinha Preta Premium\", \"duration_ms\": 202586}, {\"name\": \"M\\u00e1gica\", \"album\": \"Calcinha Preta Premium\", \"duration_ms\": 244160}, {\"name\": \"Por Amor\", \"album\": \"Calcinha Preta Premium\", \"duration_ms\": 215666}, {\"name\": \"A Encruzilhada\", \"album\": \"Calcinha Preta Premium\", \"duration_ms\": 210146}, {\"name\": \"Ref\\u00e9m / Cabertor\", \"album\": \"Calcinha Preta Premium\", \"duration_ms\": 282200}, {\"name\": \"Declara\\u00e7\\u00e3o de Amor\", \"album\": \"Calcinha Preta Premium\", \"duration_ms\": 196133}, {\"name\": \"Ainda Te Amo\", \"album\": \"Calcinha Preta Premium\", \"duration_ms\": 245640}, {\"name\": \"Amor da Minha Vida\", \"album\": \"Calcinha Preta Premium\", \"duration_ms\": 182160}, {\"name\": \"Verdadeiro Amor\", \"album\": \"Calcinha Preta Premium\", \"duration_ms\": 203080}, {\"name\": \"\\u00c9 Linda Nossa Hist\\u00f3ria\", \"album\": \"Calcinha Preta Premium\", \"duration_ms\": 176733}, {\"name\": \"\\u00c9rica\", \"album\": \"Eu Amo Voc\\u00ea, Vol. 26\", \"duration_ms\": 201360}, {\"name\": \"Retrato\", \"album\": \"Eu Amo Voc\\u00ea, Vol. 26\", \"duration_ms\": 196173}, {\"name\": \"Diz Que Ainda Me Ama\", \"album\": \"Eu Amo Voc\\u00ea, Vol. 26\", \"duration_ms\": 224853}, {\"name\": \"Eu Amo Voc\\u00ea\", \"album\": \"Eu Amo Voc\\u00ea, Vol. 26\", \"duration_ms\": 244813}, {\"name\": \"Quem Ama N\\u00e3o Trai\", \"album\": \"Eu Amo Voc\\u00ea, Vol. 26\", \"duration_ms\": 214000}, {\"name\": \"Quando um N\\u00e3o Quer Dois N\\u00e3o Brigam\", \"album\": \"Eu Amo Voc\\u00ea, Vol. 26\", \"duration_ms\": 222200}, {\"name\": \"Calcinha Eu Te Amo\", \"album\": \"Eu Amo Voc\\u00ea, Vol. 26\", \"duration_ms\": 206693}, {\"name\": \"Insubistitu\\u00edvel\", \"album\": \"Eu Amo Voc\\u00ea, Vol. 26\", \"duration_ms\": 198040}, {\"name\": \"Beijo de L\\u00edngua\", \"album\": \"Eu Amo Voc\\u00ea, Vol. 26\", \"duration_ms\": 186120}, {\"name\": \"Mariana Adriana Juliana\", \"album\": \"Eu Amo Voc\\u00ea, Vol. 26\", \"duration_ms\": 219826}, {\"name\": \"Vou Chorar\", \"album\": \"Meu Primeiro Namorado, Vol. 25\", \"duration_ms\": 215118}, {\"name\": \"Podem At\\u00e9 nos Separar\", \"album\": \"Meu Primeiro Namorado, Vol. 25\", \"duration_ms\": 227134}, {\"name\": \"Presente de Casamento\", \"album\": \"Meu Primeiro Namorado, Vol. 25\", \"duration_ms\": 261851}, {\"name\": \"Tentei Te Avisar\", \"album\": \"Meu Primeiro Namorado, Vol. 25\", \"duration_ms\": 194089}, {\"name\": \"Meu Primeiro Namorado\", \"album\": \"Meu Primeiro Namorado, Vol. 25\", \"duration_ms\": 210703}, {\"name\": \"Do Meu Jeito\", \"album\": \"Meu Primeiro Namorado, Vol. 25\", \"duration_ms\": 185652}, {\"name\": \"S\\u00f3 Sei Que Eu Te Amo\", \"album\": \"Meu Primeiro Namorado, Vol. 25\", \"duration_ms\": 192966}, {\"name\": \"Jura Que Me Ama\", \"album\": \"Meu Primeiro Namorado, Vol. 25\", \"duration_ms\": 193018}, {\"name\": \"Cabelo Loiro\", \"album\": \"Meu Primeiro Namorado, Vol. 25\", \"duration_ms\": 209789}, {\"name\": \"Ser\\u00e1 Que Vai Rolar?\", \"album\": \"Meu Primeiro Namorado, Vol. 25\", \"duration_ms\": 164963}, {\"name\": \"Homem de Sorte\", \"album\": \"Meu Primeiro Namorado, Vol. 25\", \"duration_ms\": 178808}, {\"name\": \"Noite, Noite, Noite\", \"album\": \"Meu Primeiro Namorado, Vol. 25\", \"duration_ms\": 182073}, {\"name\": \"Marca A\\u00ed\", \"album\": \"Meu Primeiro Namorado, Vol. 25\", \"duration_ms\": 205505}, {\"name\": \"Pra Quem Quiser Gostar de Mim\", \"album\": \"Meu Primeiro Namorado, Vol. 25\", \"duration_ms\": 204277}, {\"name\": \"Onde o Sonho Mora - Ao Vivo\", \"album\": \"15 Anos: Ao Vivo em Macei\\u00f3, Vol. 24\", \"duration_ms\": 217080}, {\"name\": \"Negro Lindo - Ao Vivo\", \"album\": \"15 Anos: Ao Vivo em Macei\\u00f3, Vol. 24\", \"duration_ms\": 217973}, {\"name\": \"Voc\\u00ea N\\u00e3o Vale Nada - Ao Vivo\", \"album\": \"15 Anos: Ao Vivo em Macei\\u00f3, Vol. 24\", \"duration_ms\": 270013}, {\"name\": \"Safadinho - Ao Vivo\", \"album\": \"15 Anos: Ao Vivo em Macei\\u00f3, Vol. 24\", \"duration_ms\": 196120}, {\"name\": \"\\u00c9 S\\u00e9rio - Ao Vivo\", \"album\": \"15 Anos: Ao Vivo em Macei\\u00f3, Vol. 24\", \"duration_ms\": 206613}, {\"name\": \"Pegando Fogo - Ao Vivo\", \"album\": \"15 Anos: Ao Vivo em Macei\\u00f3, Vol. 24\", \"duration_ms\": 210800}, {\"name\": \"Hoje Eu T\\u00f4 Solteiro - Ao Vivo\", \"album\": \"15 Anos: Ao Vivo em Macei\\u00f3, Vol. 24\", \"duration_ms\": 185840}, {\"name\": \"Eu Quero \\u00c9 Gastar - Ao Vivo\", \"album\": \"15 Anos: Ao Vivo em Macei\\u00f3, Vol. 24\", \"duration_ms\": 188066}, {\"name\": \"Rosas e Champagne - Ao Vivo\", \"album\": \"15 Anos: Ao Vivo em Macei\\u00f3, Vol. 24\", \"duration_ms\": 205720}, {\"name\": \"Primeiro de Abril - Ao Vivo\", \"album\": \"15 Anos: Ao Vivo em Macei\\u00f3, Vol. 24\", \"duration_ms\": 219640}, {\"name\": \"Fotografias - Ao Vivo\", \"album\": \"15 Anos: Ao Vivo em Macei\\u00f3, Vol. 24\", \"duration_ms\": 207186}, {\"name\": \"Tudo Que Eu Fa\\u00e7o \\u00c9 por Esse Amor - Ao Vivo\", \"album\": \"15 Anos: Ao Vivo em Macei\\u00f3, Vol. 24\", \"duration_ms\": 195893}, {\"name\": \"S\\u00f3 Love - Ao Vivo\", \"album\": \"15 Anos: Ao Vivo em Macei\\u00f3, Vol. 24\", \"duration_ms\": 197706}, {\"name\": \"Entre na Fila - Ao Vivo\", \"album\": \"15 Anos: Ao Vivo em Macei\\u00f3, Vol. 24\", \"duration_ms\": 182506}, {\"name\": \"N\\u00e3o Adianta Chorar - Ao Vivo\", \"album\": \"15 Anos: Ao Vivo em Macei\\u00f3, Vol. 24\", \"duration_ms\": 200666}, {\"name\": \"Vou Insistir - Ao Vivo\", \"album\": \"15 Anos: Ao Vivo em Macei\\u00f3, Vol. 24\", \"duration_ms\": 206973}, {\"name\": \"Na Cama S\\u00f3 Vai Dar N\\u00f3s Dois - Ao Vivo\", \"album\": \"15 Anos: Ao Vivo em Macei\\u00f3, Vol. 24\", \"duration_ms\": 169506}, {\"name\": \"M\\u00e1gica - Ao Vivo\", \"album\": \"15 Anos: Ao Vivo em Macei\\u00f3, Vol. 24\", \"duration_ms\": 205080}, {\"name\": \"Hoje \\u00e0 Noite - Ao Vivo\", \"album\": \"15 Anos: Ao Vivo em Macei\\u00f3, Vol. 24\", \"duration_ms\": 192373}, {\"name\": \"T\\u00f4 Soltinha - Ao Vivo\", \"album\": \"15 Anos: Ao Vivo em Macei\\u00f3, Vol. 24\", \"duration_ms\": 186426}, {\"name\": \"Amor Dividido - Ao Vivo\", \"album\": \"15 Anos: Ao Vivo em Macei\\u00f3, Vol. 24\", \"duration_ms\": 206280}, {\"name\": \"Virei Seu F\\u00e3 - Ao Vivo\", \"album\": \"15 Anos: Ao Vivo em Macei\\u00f3, Vol. 24\", \"duration_ms\": 238600}, {\"name\": \"Rosas e Champagne (Ao Vivo)\", \"album\": \"Virei Seu F\\u00e3, Vol. 23 (Ao Vivo)\", \"duration_ms\": 194093}, {\"name\": \"Entre na Fila (Ao Vivo)\", \"album\": \"Virei Seu F\\u00e3, Vol. 23 (Ao Vivo)\", \"duration_ms\": 173146}, {\"name\": \"Fotografias (Ao Vivo)\", \"album\": \"Virei Seu F\\u00e3, Vol. 23 (Ao Vivo)\", \"duration_ms\": 205360}, {\"name\": \"S\\u00f3 Love (Ao Vivo)\", \"album\": \"Virei Seu F\\u00e3, Vol. 23 (Ao Vivo)\", \"duration_ms\": 174933}, {\"name\": \"Vou Insistir (Ao Vivo)\", \"album\": \"Virei Seu F\\u00e3, Vol. 23 (Ao Vivo)\", \"duration_ms\": 202506}, {\"name\": \"Don Juan (Ao Vivo)\", \"album\": \"Virei Seu F\\u00e3, Vol. 23 (Ao Vivo)\", \"duration_ms\": 181426}, {\"name\": \"Virei Seu F\\u00e3 (Ao Vivo)\", \"album\": \"Virei Seu F\\u00e3, Vol. 23 (Ao Vivo)\", \"duration_ms\": 233466}, {\"name\": \"Eu Quero \\u00c9 Gastar (Ao Vivo)\", \"album\": \"Virei Seu F\\u00e3, Vol. 23 (Ao Vivo)\", \"duration_ms\": 182400}, {\"name\": \"Tudo Que Eu Fa\\u00e7o \\u00c9 por Esse Amor (Ao Vivo)\", \"album\": \"Virei Seu F\\u00e3, Vol. 23 (Ao Vivo)\", \"duration_ms\": 195560}, {\"name\": \"Hoje Eu T\\u00f4 Solteiro (Ao Vivo)\", \"album\": \"Virei Seu F\\u00e3, Vol. 23 (Ao Vivo)\", \"duration_ms\": 184360}, {\"name\": \"Dist\\u00e2ncia (Ao Vivo)\", \"album\": \"Virei Seu F\\u00e3, Vol. 23 (Ao Vivo)\", \"duration_ms\": 196906}, {\"name\": \"M\\u00e1gica (Ao Vivo)\", \"album\": \"Virei Seu F\\u00e3, Vol. 23 (Ao Vivo)\", \"duration_ms\": 202840}, {\"name\": \"Voc\\u00ea N\\u00e3o Vale Nada (Ao Vivo)\", \"album\": \"Virei Seu F\\u00e3, Vol. 23 (Ao Vivo)\", \"duration_ms\": 264586}, {\"name\": \"Voc\\u00ea Me Ama (Ao Vivo)\", \"album\": \"Virei Seu F\\u00e3, Vol. 23 (Ao Vivo)\", \"duration_ms\": 200013}, {\"name\": \"Presente de Casamento (Ao Vivo)\", \"album\": \"Virei Seu F\\u00e3, Vol. 23 (Ao Vivo)\", \"duration_ms\": 220520}, {\"name\": \"Sou Assim e N\\u00e3o Vou Mudar\", \"album\": \"Sou Assim, N\\u00e3o Vou Mudar, Vol. 22\", \"duration_ms\": 193800}, {\"name\": \"T\\u00f4 Soltinha\", \"album\": \"Sou Assim, N\\u00e3o Vou Mudar, Vol. 22\", \"duration_ms\": 184480}, {\"name\": \"Sou Brinquedinho Caro\", \"album\": \"Sou Assim, N\\u00e3o Vou Mudar, Vol. 22\", \"duration_ms\": 175400}, {\"name\": \"Farra\", \"album\": \"Sou Assim, N\\u00e3o Vou Mudar, Vol. 22\", \"duration_ms\": 162040}, {\"name\": \"\\u00c9 o Amor\", \"album\": \"Sou Assim, N\\u00e3o Vou Mudar, Vol. 22\", \"duration_ms\": 180506}, {\"name\": \"\\u00c1 Sua Maneira\", \"album\": \"Sou Assim, N\\u00e3o Vou Mudar, Vol. 22\", \"duration_ms\": 195973}, {\"name\": \"Parou por Aqui\", \"album\": \"Sou Assim, N\\u00e3o Vou Mudar, Vol. 22\", \"duration_ms\": 165453}, {\"name\": \"T\\u00e1 Rolando um Ti Ti Ti\", \"album\": \"Sou Assim, N\\u00e3o Vou Mudar, Vol. 22\", \"duration_ms\": 188426}, {\"name\": \"A M\\u00e1gica do Amor\", \"album\": \"Sou Assim, N\\u00e3o Vou Mudar, Vol. 22\", \"duration_ms\": 224520}, {\"name\": \"Mal de Amor\", \"album\": \"Sou Assim, N\\u00e3o Vou Mudar, Vol. 22\", \"duration_ms\": 209493}, {\"name\": \"Minha Favorita\", \"album\": \"Sou Assim, N\\u00e3o Vou Mudar, Vol. 22\", \"duration_ms\": 206693}, {\"name\": \"\\u00c9 Seu Amor Que Eu Quero\", \"album\": \"Sou Assim, N\\u00e3o Vou Mudar, Vol. 22\", \"duration_ms\": 206733}, {\"name\": \"Quem \\u00c9 Que Voc\\u00ea Ama\", \"album\": \"Sou Assim, N\\u00e3o Vou Mudar, Vol. 22\", \"duration_ms\": 200453}, {\"name\": \"Eu Sempre Estive Aqui T\\u00e3o Perto\", \"album\": \"Sou Assim, N\\u00e3o Vou Mudar, Vol. 22\", \"duration_ms\": 209493}, {\"name\": \"Desejo Te Amar\", \"album\": \"Sou Assim, N\\u00e3o Vou Mudar, Vol. 22\", \"duration_ms\": 215893}, {\"name\": \"Vou Ganhar Voc\\u00ea\", \"album\": \"Sou Assim, N\\u00e3o Vou Mudar, Vol. 22\", \"duration_ms\": 209640}, {\"name\": \"Como Fui Me Apaixonar (Ao Vivo)\", \"album\": \"Eu Amo Demais, Vol. 21 (Ao Vivo)\", \"duration_ms\": 234400}, {\"name\": \"T\\u00e1 Estourado (Ao Vivo)\", \"album\": \"Eu Amo Demais, Vol. 21 (Ao Vivo)\", \"duration_ms\": 197880}, {\"name\": \"Voc\\u00ea N\\u00e3o Vale Nada (Ao Vivo)\", \"album\": \"Eu Amo Demais, Vol. 21 (Ao Vivo)\", \"duration_ms\": 201973}, {\"name\": \"A Dona do Meu Cora\\u00e7\\u00e3o (Ao Vivo)\", \"album\": \"Eu Amo Demais, Vol. 21 (Ao Vivo)\", \"duration_ms\": 188773}, {\"name\": \"Balan\\u00e7o do Amor (Ao Vivo)\", \"album\": \"Eu Amo Demais, Vol. 21 (Ao Vivo)\", \"duration_ms\": 196626}, {\"name\": \"Kelly (Ao Vivo)\", \"album\": \"Eu Amo Demais, Vol. 21 (Ao Vivo)\", \"duration_ms\": 174266}, {\"name\": \"Eu Amo Demais (Ao Vivo)\", \"album\": \"Eu Amo Demais, Vol. 21 (Ao Vivo)\", \"duration_ms\": 196973}, {\"name\": \"O Amor \\u00c8 Cego (Ao Vivo)\", \"album\": \"Eu Amo Demais, Vol. 21 (Ao Vivo)\", \"duration_ms\": 177893}, {\"name\": \"Vou te Deixar Doid\\u00e3o (Ao Vivo)\", \"album\": \"Eu Amo Demais, Vol. 21 (Ao Vivo)\", \"duration_ms\": 197866}, {\"name\": \"Liga pra Mim (Ao Vivo)\", \"album\": \"Eu Amo Demais, Vol. 21 (Ao Vivo)\", \"duration_ms\": 200773}, {\"name\": \"Overdose de Amor (Ao Vivo)\", \"album\": \"Eu Amo Demais, Vol. 21 (Ao Vivo)\", \"duration_ms\": 192226}, {\"name\": \"Te Acho T\\u00e3o Linda (Ao Vivo)\", \"album\": \"Eu Amo Demais, Vol. 21 (Ao Vivo)\", \"duration_ms\": 207026}, {\"name\": \"Cena de Novela (Ao Vivo)\", \"album\": \"Eu Amo Demais, Vol. 21 (Ao Vivo)\", \"duration_ms\": 213986}, {\"name\": \"N\\u00e3o Desligue Amor (Ao Vivo)\", \"album\": \"Eu Amo Demais, Vol. 21 (Ao Vivo)\", \"duration_ms\": 222946}, {\"name\": \"Salve o Nosso Amor (Ao Vivo)\", \"album\": \"Voc\\u00ea N\\u00e3o Vale Nada, Vol. 20 (Ao Vivo)\", \"duration_ms\": 225200}, {\"name\": \"Voc\\u00ea N\\u00e3o Vale Nada (Ao Vivo)\", \"album\": \"Voc\\u00ea N\\u00e3o Vale Nada, Vol. 20 (Ao Vivo)\", \"duration_ms\": 202013}, {\"name\": \"N\\u00e3o Gruda, N\\u00e3o Cola (Ao Vivo)\", \"album\": \"Voc\\u00ea N\\u00e3o Vale Nada, Vol. 20 (Ao Vivo)\", \"duration_ms\": 219680}, {\"name\": \"Novo Namorado (Ao Vivo)\", \"album\": \"Voc\\u00ea N\\u00e3o Vale Nada, Vol. 20 (Ao Vivo)\", \"duration_ms\": 175066}, {\"name\": \"Amor Dividido (Ao Vivo)\", \"album\": \"Voc\\u00ea N\\u00e3o Vale Nada, Vol. 20 (Ao Vivo)\", \"duration_ms\": 210813}, {\"name\": \"N\\u00e3o Se Apaixone, N\\u00e3o (Ao Vivo)\", \"album\": \"Voc\\u00ea N\\u00e3o Vale Nada, Vol. 20 (Ao Vivo)\", \"duration_ms\": 179560}, {\"name\": \"N\\u00e3o Desligue, Amor (Ao Vivo)\", \"album\": \"Voc\\u00ea N\\u00e3o Vale Nada, Vol. 20 (Ao Vivo)\", \"duration_ms\": 223040}, {\"name\": \"S\\u00f3 N\\u00e3o Diga, Bye, Bye (Ao Vivo)\", \"album\": \"Voc\\u00ea N\\u00e3o Vale Nada, Vol. 20 (Ao Vivo)\", \"duration_ms\": 165906}, {\"name\": \"N\\u00e3o Tem Segredo (Ao Vivo)\", \"album\": \"Voc\\u00ea N\\u00e3o Vale Nada, Vol. 20 (Ao Vivo)\", \"duration_ms\": 198226}, {\"name\": \"Vamos pra L\\u00e1 Beber (Ao Vivo)\", \"album\": \"Voc\\u00ea N\\u00e3o Vale Nada, Vol. 20 (Ao Vivo)\", \"duration_ms\": 181240}, {\"name\": \"Cena de Novela (Ao Vivo)\", \"album\": \"Voc\\u00ea N\\u00e3o Vale Nada, Vol. 20 (Ao Vivo)\", \"duration_ms\": 214893}, {\"name\": \"Sem Explica\\u00e7\\u00e3o (Ao Vivo)\", \"album\": \"Voc\\u00ea N\\u00e3o Vale Nada, Vol. 20 (Ao Vivo)\", \"duration_ms\": 223880}, {\"name\": \"Tutti - Frutti (Ao Vivo)\", \"album\": \"Voc\\u00ea N\\u00e3o Vale Nada, Vol. 20 (Ao Vivo)\", \"duration_ms\": 200346}, {\"name\": \"Te Acho T\\u00e3o Linda (Ao Vivo)\", \"album\": \"Voc\\u00ea N\\u00e3o Vale Nada, Vol. 20 (Ao Vivo)\", \"duration_ms\": 209386}, {\"name\": \"\\u00c9 por Amor (Ao Vivo)\", \"album\": \"Voc\\u00ea N\\u00e3o Vale Nada, Vol. 20 (Ao Vivo)\", \"duration_ms\": 194800}, {\"name\": \"Entre Quatro Paredes (Ao Vivo)\", \"album\": \"Voc\\u00ea N\\u00e3o Vale Nada, Vol. 20 (Ao Vivo)\", \"duration_ms\": 196706}, {\"name\": \"J\\u00e1 me Acostumei \\\"Some Mistake\\\"\", \"album\": \"Vencedor, Vol. 19\", \"duration_ms\": 222653}, {\"name\": \"Vamos pra l\\u00e1 Beber\", \"album\": \"Vencedor, Vol. 19\", \"duration_ms\": 180493}, {\"name\": \"Tutti- Futti\", \"album\": \"Vencedor, Vol. 19\", \"duration_ms\": 199773}, {\"name\": \"Vencedor\", \"album\": \"Vencedor, Vol. 19\", \"duration_ms\": 214453}, {\"name\": \"Ana, Hoje Lembrei de Voc\\u00ea\", \"album\": \"Vencedor, Vol. 19\", \"duration_ms\": 200320}, {\"name\": \"N\\u00e3o Vale a Pena \\\"Linger\\\"\", \"album\": \"Vencedor, Vol. 19\", \"duration_ms\": 235893}, {\"name\": \"Vou Te Dominar\", \"album\": \"Vencedor, Vol. 19\", \"duration_ms\": 193946}, {\"name\": \"Amor Dividido\", \"album\": \"Vencedor, Vol. 19\", \"duration_ms\": 210866}, {\"name\": \"Garotas N\\u00e3o Choram \\\"Big Girls Don\\u00b4t Cry\\\"\", \"album\": \"Vencedor, Vol. 19\", \"duration_ms\": 222133}, {\"name\": \"Amanda I Love You\", \"album\": \"Vencedor, Vol. 19\", \"duration_ms\": 209626}, {\"name\": \"Vou Tomar um Porre\", \"album\": \"Vencedor, Vol. 19\", \"duration_ms\": 225266}, {\"name\": \"Desilus\\u00e3o\", \"album\": \"Vencedor, Vol. 19\", \"duration_ms\": 251826}, {\"name\": \"Fique no Meu Cora\\u00e7\\u00e3o\", \"album\": \"Vencedor, Vol. 19\", \"duration_ms\": 239213}, {\"name\": \"Amanda (Ao Vivo)\", \"album\": \"Ao Vivo no Recife, Vol. 18\", \"duration_ms\": 210920}, {\"name\": \"Hoje \\u00e0 Noite (Ao Vivo)\", \"album\": \"Ao Vivo no Recife, Vol. 18\", \"duration_ms\": 187666}, {\"name\": \"Como Vou Deixar Voc\\u00ea ? (Ao Vivo)\", \"album\": \"Ao Vivo no Recife, Vol. 18\", \"duration_ms\": 225533}, {\"name\": \"Ficar por Ficar (Ao Vivo)\", \"album\": \"Ao Vivo no Recife, Vol. 18\", \"duration_ms\": 201186}, {\"name\": \"Garotas N\\u00e3o Choram (Ao Vivo)\", \"album\": \"Ao Vivo no Recife, Vol. 18\", \"duration_ms\": 222773}, {\"name\": \"Fica Comigo (Ao Vivo)\", \"album\": \"Ao Vivo no Recife, Vol. 18\", \"duration_ms\": 222826}, {\"name\": \"Pens\\u00e3o Aliment\\u00edcia (Ao Vivo)\", \"album\": \"Ao Vivo no Recife, Vol. 18\", \"duration_ms\": 204440}, {\"name\": \"Faltou o Leite Ninho (Ao Vivo)\", \"album\": \"Ao Vivo no Recife, Vol. 18\", \"duration_ms\": 229293}, {\"name\": \"Bebo e Choro (Ao Vivo)\", \"album\": \"Ao Vivo no Recife, Vol. 18\", \"duration_ms\": 211893}, {\"name\": \"Se Quiser \\u00c9 Assim (Ao Vivo)\", \"album\": \"Ao Vivo no Recife, Vol. 18\", \"duration_ms\": 190760}, {\"name\": \"Pega Fogo Cabar\\u00e9 (Ao Vivo)\", \"album\": \"Ao Vivo no Recife, Vol. 18\", \"duration_ms\": 235973}, {\"name\": \"Arreia Cerveja (Ao Vivo)\", \"album\": \"Ao Vivo no Recife, Vol. 18\", \"duration_ms\": 179146}, {\"name\": \"Dois Amores, Duas Paix\\u00f5es (Ao Vivo)\", \"album\": \"Ao Vivo no Recife, Vol. 18\", \"duration_ms\": 224653}, {\"name\": \"Por Que Tocou Meu Cora\\u00e7\\u00e3o ? (Ao Vivo)\", \"album\": \"Ao Vivo no Recife, Vol. 18\", \"duration_ms\": 215706}, {\"name\": \"Ainda Te Amo\", \"album\": \"Ao Vivo no Recife, Vol. 18\", \"duration_ms\": 251053}, {\"name\": \"Fica Comigo\", \"album\": \"Fica Comigo, Paulinha, Vol. 17\", \"duration_ms\": 227733}, {\"name\": \"24 Horas de Amor\", \"album\": \"Fica Comigo, Paulinha, Vol. 17\", \"duration_ms\": 193306}, {\"name\": \"Locutor\", \"album\": \"Fica Comigo, Paulinha, Vol. 17\", \"duration_ms\": 179240}, {\"name\": \"Me Diz Onde Voc\\u00ea Est\\u00e1?\", \"album\": \"Fica Comigo, Paulinha, Vol. 17\", \"duration_ms\": 182960}, {\"name\": \"Arreia Cerveja\", \"album\": \"Fica Comigo, Paulinha, Vol. 17\", \"duration_ms\": 203240}, {\"name\": \"Cora\\u00e7\\u00e3o Vagabundo\", \"album\": \"Fica Comigo, Paulinha, Vol. 17\", \"duration_ms\": 194813}, {\"name\": \"A Vida \\u00c9 Assim\", \"album\": \"Fica Comigo, Paulinha, Vol. 17\", \"duration_ms\": 179053}, {\"name\": \"Hoje Eu Acabo Essa Hist\\u00f3ria\", \"album\": \"Fica Comigo, Paulinha, Vol. 17\", \"duration_ms\": 213533}, {\"name\": \"Como Vou Deixar Voc\\u00ea?\", \"album\": \"Fica Comigo, Paulinha, Vol. 17\", \"duration_ms\": 188800}, {\"name\": \"Faltou o Leite Ninho\", \"album\": \"Fica Comigo, Paulinha, Vol. 17\", \"duration_ms\": 197560}, {\"name\": \"Como Vai Deixar Voc\\u00ea?\", \"album\": \"Como Vou Deixar Voc\\u00ea?, Vol. 16\", \"duration_ms\": 212386}, {\"name\": \"Pens\\u00e3o Aliment\\u00edcia\", \"album\": \"Como Vou Deixar Voc\\u00ea?, Vol. 16\", \"duration_ms\": 188573}, {\"name\": \"Faltou o Leite Ninho\", \"album\": \"Como Vou Deixar Voc\\u00ea?, Vol. 16\", \"duration_ms\": 202880}, {\"name\": \"Eu Sou o Cara\", \"album\": \"Como Vou Deixar Voc\\u00ea?, Vol. 16\", \"duration_ms\": 188346}, {\"name\": \"Puxei a Meu Pai\", \"album\": \"Como Vou Deixar Voc\\u00ea?, Vol. 16\", \"duration_ms\": 189440}, {\"name\": \"Cora\\u00e7\\u00e3o Free\", \"album\": \"Como Vou Deixar Voc\\u00ea?, Vol. 16\", \"duration_ms\": 190746}, {\"name\": \"Aumente Meu Sal\\u00e1rio\", \"album\": \"Como Vou Deixar Voc\\u00ea?, Vol. 16\", \"duration_ms\": 170626}, {\"name\": \"Como Vou Deixar Voc\\u00ea? - El\\u00e9trica\", \"album\": \"Como Vou Deixar Voc\\u00ea?, Vol. 16\", \"duration_ms\": 213133}, {\"name\": \"Do Meu Jeito\", \"album\": \"Como Vou Deixar Voc\\u00ea?, Vol. 16\", \"duration_ms\": 197013}, {\"name\": \"Pens\\u00e3o Aliment\\u00edcia - El\\u00e9trica\", \"album\": \"Como Vou Deixar Voc\\u00ea?, Vol. 16\", \"duration_ms\": 192280}, {\"name\": \"Faltou o Leite Ninho - El\\u00e9trica\", \"album\": \"Como Vou Deixar Voc\\u00ea?, Vol. 16\", \"duration_ms\": 209280}, {\"name\": \"Por Que Tocou Meu Cora\\u00e7\\u00e3o? / A Encruzilhada - El\\u00e9trica\", \"album\": \"Como Vou Deixar Voc\\u00ea?, Vol. 16\", \"duration_ms\": 236346}, {\"name\": \"Leil\\u00e3o - El\\u00e9trica\", \"album\": \"Como Vou Deixar Voc\\u00ea?, Vol. 16\", \"duration_ms\": 198626}, {\"name\": \"Se Quiser \\u00c9 Assim - El\\u00e9trica\", \"album\": \"Como Vou Deixar Voc\\u00ea?, Vol. 16\", \"duration_ms\": 195306}, {\"name\": \"Bebo e Choro - El\\u00e9trica\", \"album\": \"Como Vou Deixar Voc\\u00ea?, Vol. 16\", \"duration_ms\": 215266}, {\"name\": \"A Calcinha Preta \\u00c9 Nossa - El\\u00e9trica\", \"album\": \"Como Vou Deixar Voc\\u00ea?, Vol. 16\", \"duration_ms\": 215640}, {\"name\": \"Segredo / Sonho Lindo / Baby Dool - El\\u00e9trica\", \"album\": \"Como Vou Deixar Voc\\u00ea?, Vol. 16\", \"duration_ms\": 314986}, {\"name\": \"Se Quiser \\u00c9 Assim - Ao Vivo\", \"album\": \"Pens\\u00e3o Aliment\\u00edcia, Vol. 15\", \"duration_ms\": 194258}, {\"name\": \"Campe\\u00e3o de Bilheteria\", \"album\": \"Pens\\u00e3o Aliment\\u00edcia, Vol. 15\", \"duration_ms\": 192214}, {\"name\": \"Pens\\u00e3o Aliment\\u00edcia\", \"album\": \"Pens\\u00e3o Aliment\\u00edcia, Vol. 15\", \"duration_ms\": 197044}, {\"name\": \"Bebo e Choro\", \"album\": \"Pens\\u00e3o Aliment\\u00edcia, Vol. 15\", \"duration_ms\": 199877}, {\"name\": \"O C\\u00f3digo das Vinte\", \"album\": \"Pens\\u00e3o Aliment\\u00edcia, Vol. 15\", \"duration_ms\": 200295}, {\"name\": \"Romeu e Julieta\", \"album\": \"Pens\\u00e3o Aliment\\u00edcia, Vol. 15\", \"duration_ms\": 186409}, {\"name\": \"Te Amo Demais\", \"album\": \"Pens\\u00e3o Aliment\\u00edcia, Vol. 15\", \"duration_ms\": 219242}, {\"name\": \"Faltou Coragem\", \"album\": \"Pens\\u00e3o Aliment\\u00edcia, Vol. 15\", \"duration_ms\": 163329}, {\"name\": \"Tanto Amor Que Eu Te Dei\", \"album\": \"Pens\\u00e3o Aliment\\u00edcia, Vol. 15\", \"duration_ms\": 227323}, {\"name\": \"Por Que Tocou Meu Cora\\u00e7\\u00e3o?\", \"album\": \"Pens\\u00e3o Aliment\\u00edcia, Vol. 15\", \"duration_ms\": 256859}, {\"name\": \"Vem Me Deixar Louca\", \"album\": \"Pens\\u00e3o Aliment\\u00edcia, Vol. 15\", \"duration_ms\": 171223}, {\"name\": \"Armadilha\", \"album\": \"Pens\\u00e3o Aliment\\u00edcia, Vol. 15\", \"duration_ms\": 227091}, {\"name\": \"A Encruzilhada\", \"album\": \"Pens\\u00e3o Aliment\\u00edcia, Vol. 15\", \"duration_ms\": 214227}, {\"name\": \"O Que Vou Fazer?\", \"album\": \"Pens\\u00e3o Aliment\\u00edcia, Vol. 15\", \"duration_ms\": 249428}, {\"name\": \"Ad\\u00e3o e Eva\", \"album\": \"Pens\\u00e3o Aliment\\u00edcia, Vol. 15\", \"duration_ms\": 246920}, {\"name\": \"Cobertor\", \"album\": \"As 20 +\", \"duration_ms\": 246133}, {\"name\": \"Desilus\\u00e3o\", \"album\": \"As 20 +\", \"duration_ms\": 231440}, {\"name\": \"E o Vento Levou\", \"album\": \"As 20 +\", \"duration_ms\": 266906}, {\"name\": \"Hoje \\u00e0 Noite \\\"Alone\\\"\", \"album\": \"As 20 +\", \"duration_ms\": 212800}, {\"name\": \"Louca por Ti \\\"Dust in the Wind\\\"\", \"album\": \"As 20 +\", \"duration_ms\": 164480}, {\"name\": \"Sonho Lindo\", \"album\": \"As 20 +\", \"duration_ms\": 228680}, {\"name\": \"Tudo de Novo\", \"album\": \"As 20 +\", \"duration_ms\": 285480}, {\"name\": \"Ad\\u00e3o e Eva\", \"album\": \"As 20 +\", \"duration_ms\": 246800}, {\"name\": \"M\\u00e1gica\", \"album\": \"As 20 +\", \"duration_ms\": 258013}, {\"name\": \"Segredos\", \"album\": \"As 20 +\", \"duration_ms\": 225013}, {\"name\": \"Cada Paix\\u00e3o uma Novela\", \"album\": \"As 20 +\", \"duration_ms\": 237933}, {\"name\": \"Manchete dos Jornais\", \"album\": \"As 20 +\", \"duration_ms\": 236893}, {\"name\": \"Baby Doll\", \"album\": \"As 20 +\", \"duration_ms\": 174746}, {\"name\": \"Por Amor\", \"album\": \"As 20 +\", \"duration_ms\": 248080}, {\"name\": \"Dois Amores, Duas Paix\\u00f5es\", \"album\": \"As 20 +\", \"duration_ms\": 223146}, {\"name\": \"Amor da Minha Vida\", \"album\": \"As 20 +\", \"duration_ms\": 207786}, {\"name\": \"Renascer\\u00e1\", \"album\": \"As 20 +\", \"duration_ms\": 217760}, {\"name\": \"Furunfa\", \"album\": \"As 20 +\", \"duration_ms\": 265720}, {\"name\": \"Te Quero Namorar\", \"album\": \"As 20 +\", \"duration_ms\": 265253}, {\"name\": \"A Calcinha Preta \\u00c9 Nossa\", \"album\": \"As 20 +\", \"duration_ms\": 191013}, {\"name\": \"Dois Amores, Duas Paix\\u00f5es\", \"album\": \"Dois Amores, Duas Paix\\u00f5es, Vol. 14\", \"duration_ms\": 223007}, {\"name\": \"A Calcinha Preta \\u00c9 Nossa\", \"album\": \"Dois Amores, Duas Paix\\u00f5es, Vol. 14\", \"duration_ms\": 205714}, {\"name\": \"Por Que Tocou Meu Cora\\u00e7\\u00e3o?\", \"album\": \"Dois Amores, Duas Paix\\u00f5es, Vol. 14\", \"duration_ms\": 258377}, {\"name\": \"Balan\\u00e7ando o Brasil\", \"album\": \"Dois Amores, Duas Paix\\u00f5es, Vol. 14\", \"duration_ms\": 228310}, {\"name\": \"O Que Vou Fazer?\", \"album\": \"Dois Amores, Duas Paix\\u00f5es, Vol. 14\", \"duration_ms\": 261877}, {\"name\": \"Se Quiser \\u00c9 Assim\", \"album\": \"Dois Amores, Duas Paix\\u00f5es, Vol. 14\", \"duration_ms\": 203389}, {\"name\": \"S\\u00f3 um Amor\", \"album\": \"Dois Amores, Duas Paix\\u00f5es, Vol. 14\", \"duration_ms\": 268773}, {\"name\": \"A Encruzilhada\", \"album\": \"Dois Amores, Duas Paix\\u00f5es, Vol. 14\", \"duration_ms\": 214491}, {\"name\": \"Beijo Molhado\", \"album\": \"Dois Amores, Duas Paix\\u00f5es, Vol. 14\", \"duration_ms\": 231549}, {\"name\": \"Uma Gota no Oceano\", \"album\": \"Dois Amores, Duas Paix\\u00f5es, Vol. 14\", \"duration_ms\": 204486}, {\"name\": \"Beijar por Beijar\", \"album\": \"Dois Amores, Duas Paix\\u00f5es, Vol. 14\", \"duration_ms\": 207568}, {\"name\": \"Vem Me Deixar Louca\", \"album\": \"Dois Amores, Duas Paix\\u00f5es, Vol. 14\", \"duration_ms\": 185338}, {\"name\": \"Me Ensina a Namorar\", \"album\": \"Dois Amores, Duas Paix\\u00f5es, Vol. 14\", \"duration_ms\": 202448}, {\"name\": \"Amor, Amor, Amor / Noite, Noite, Noite - Ac\\u00fastico\", \"album\": \"Dois Amores, Duas Paix\\u00f5es, Vol. 14\", \"duration_ms\": 212793}, {\"name\": \"S\\u00f3 Voc\\u00ea Me Faz Feliz / Jura Que Me Ama - Ac\\u00fastico\", \"album\": \"Dois Amores, Duas Paix\\u00f5es, Vol. 14\", \"duration_ms\": 203311}, {\"name\": \"Por Que Tocou Meu Cora\\u00e7\\u00e3o - Ac\\u00fastico\", \"album\": \"Dois Amores, Duas Paix\\u00f5es, Vol. 14\", \"duration_ms\": 238680}, {\"name\": \"Manchete dos Jornais\", \"album\": \"M\\u00e1gica, Vol. 12\", \"duration_ms\": 239516}, {\"name\": \"A Calcinha Preta \\u00c9 Nossa\", \"album\": \"M\\u00e1gica, Vol. 12\", \"duration_ms\": 190955}, {\"name\": \"Renascer\\u00e1\", \"album\": \"M\\u00e1gica, Vol. 12\", \"duration_ms\": 217913}, {\"name\": \"Perdoar\", \"album\": \"M\\u00e1gica, Vol. 12\", \"duration_ms\": 222667}, {\"name\": \"O Navio e o Mar - Send Me An Angel\", \"album\": \"M\\u00e1gica, Vol. 12\", \"duration_ms\": 313521}, {\"name\": \"Ainda Te Amo\", \"album\": \"M\\u00e1gica, Vol. 12\", \"duration_ms\": 252917}, {\"name\": \"M\\u00e1gica\", \"album\": \"M\\u00e1gica, Vol. 12\", \"duration_ms\": 259657}, {\"name\": \"Sai Solid\\u00e3o\", \"album\": \"M\\u00e1gica, Vol. 12\", \"duration_ms\": 263026}, {\"name\": \"Segredo\", \"album\": \"M\\u00e1gica, Vol. 12\", \"duration_ms\": 226951}, {\"name\": \"S\\u00f3 Tenho Olhos pra Voc\\u00ea\", \"album\": \"M\\u00e1gica, Vol. 12\", \"duration_ms\": 204068}, {\"name\": \"Abra o Meu Cora\\u00e7\\u00e3o\", \"album\": \"M\\u00e1gica, Vol. 12\", \"duration_ms\": 199471}, {\"name\": \"Declara\\u00e7\\u00e3o de Amor\", \"album\": \"M\\u00e1gica, Vol. 12\", \"duration_ms\": 203128}, {\"name\": \"Um Degrau na Escada (Ao Vivo)\", \"album\": \"Calcinha Preta, Vol. 13 (Ao Vivo)\", \"duration_ms\": 215520}, {\"name\": \"Ad\\u00e3o e Eva (Ao Vivo)\", \"album\": \"Calcinha Preta, Vol. 13 (Ao Vivo)\", \"duration_ms\": 246040}, {\"name\": \"Hoje \\u00e1 Noite \\\"Alone\\\" (Ao Vivo)\", \"album\": \"Calcinha Preta, Vol. 13 (Ao Vivo)\", \"duration_ms\": 212960}, {\"name\": \"Cada Paix\\u00e3o uma Novela (Ao Vivo)\", \"album\": \"Calcinha Preta, Vol. 13 (Ao Vivo)\", \"duration_ms\": 237706}, {\"name\": \"Manchete dos Jornais (Ao Vivo)\", \"album\": \"Calcinha Preta, Vol. 13 (Ao Vivo)\", \"duration_ms\": 260333}, {\"name\": \"Desfile de Moda (Ao Vivo)\", \"album\": \"Calcinha Preta, Vol. 13 (Ao Vivo)\", \"duration_ms\": 231933}, {\"name\": \"M\\u00e1gica (Ao Vivo)\", \"album\": \"Calcinha Preta, Vol. 13 (Ao Vivo)\", \"duration_ms\": 252026}, {\"name\": \"A Calcinha Preta \\u00c9 Nossa (Ao Vivo)\", \"album\": \"Calcinha Preta, Vol. 13 (Ao Vivo)\", \"duration_ms\": 194226}, {\"name\": \"Quer Namorar Comigo (Ao Vivo)\", \"album\": \"Calcinha Preta, Vol. 13 (Ao Vivo)\", \"duration_ms\": 201626}, {\"name\": \"Renacer\\u00e1 (Ao Vivo)\", \"album\": \"Calcinha Preta, Vol. 13 (Ao Vivo)\", \"duration_ms\": 219240}, {\"name\": \"Um Novo Amor \\\"Good Bye\\\" (Ao Vivo)\", \"album\": \"Calcinha Preta, Vol. 13 (Ao Vivo)\", \"duration_ms\": 234440}, {\"name\": \"Armadilha (Ao Vivo)\", \"album\": \"Calcinha Preta, Vol. 13 (Ao Vivo)\", \"duration_ms\": 226000}, {\"name\": \"Segredos (Ao Vivo)\", \"album\": \"Calcinha Preta, Vol. 13 (Ao Vivo)\", \"duration_ms\": 230800}, {\"name\": \"Baby Doll (Ao Vivo)\", \"album\": \"Calcinha Preta, Vol. 13 (Ao Vivo)\", \"duration_ms\": 171293}, {\"name\": \"Hipnose (Ao Vivo)\", \"album\": \"Calcinha Preta, Vol. 13 (Ao Vivo)\", \"duration_ms\": 238693}, {\"name\": \"Furunfa (Ao Vivo)\", \"album\": \"Calcinha Preta, Vol. 13 (Ao Vivo)\", \"duration_ms\": 266800}, {\"name\": \"Declara\\u00e7\\u00e3o de Amor (Ao Vivo)\", \"album\": \"Calcinha Preta, Vol. 13 (Ao Vivo)\", \"duration_ms\": 198426}, {\"name\": \"Abra Meu Cora\\u00e7\\u00e3o (Ao Vivo)\", \"album\": \"Calcinha Preta, Vol. 13 (Ao Vivo)\", \"duration_ms\": 199560}, {\"name\": \"Morrendo de Desejo (Ao Vivo)\", \"album\": \"Calcinha Preta, Vol. 13 (Ao Vivo)\", \"duration_ms\": 287146}, {\"name\": \"Hoje \\u00e0 Noite\", \"album\": \"Hoje \\u00e0 Noite, Vol. 11 (In\\u00e9ditas e ao Vivo)\", \"duration_ms\": 212715}, {\"name\": \"Hipnose\", \"album\": \"Hoje \\u00e0 Noite, Vol. 11 (In\\u00e9ditas e ao Vivo)\", \"duration_ms\": 255764}, {\"name\": \"N\\u00e3o Tenho Nada\", \"album\": \"Hoje \\u00e0 Noite, Vol. 11 (In\\u00e9ditas e ao Vivo)\", \"duration_ms\": 220186}, {\"name\": \"Baby Dool\", \"album\": \"Hoje \\u00e0 Noite, Vol. 11 (In\\u00e9ditas e ao Vivo)\", \"duration_ms\": 174706}, {\"name\": \"Eu Quero \\u00c9 Gozar a Vida\", \"album\": \"Hoje \\u00e0 Noite, Vol. 11 (In\\u00e9ditas e ao Vivo)\", \"duration_ms\": 184659}, {\"name\": \"Morrendo de Desejo\", \"album\": \"Hoje \\u00e0 Noite, Vol. 11 (In\\u00e9ditas e ao Vivo)\", \"duration_ms\": 285884}, {\"name\": \"\\u00c2nsia\", \"album\": \"Hoje \\u00e0 Noite, Vol. 11 (In\\u00e9ditas e ao Vivo)\", \"duration_ms\": 237453}, {\"name\": \"Meu Amor N\\u00e3o V\\u00e1\", \"album\": \"Hoje \\u00e0 Noite, Vol. 11 (In\\u00e9ditas e ao Vivo)\", \"duration_ms\": 281338}, {\"name\": \"Quem Sabe um Dia\", \"album\": \"Hoje \\u00e0 Noite, Vol. 11 (In\\u00e9ditas e ao Vivo)\", \"duration_ms\": 230530}, {\"name\": \"Vem Ver a Calcinha Preta - Ao Vivo\", \"album\": \"Hoje \\u00e0 Noite, Vol. 11 (In\\u00e9ditas e ao Vivo)\", \"duration_ms\": 228493}, {\"name\": \"Te Quero Namorar - Ao Vivo\", \"album\": \"Hoje \\u00e0 Noite, Vol. 11 (In\\u00e9ditas e ao Vivo)\", \"duration_ms\": 264280}, {\"name\": \"Por Que Te Amo? - Ao Vivo\", \"album\": \"Hoje \\u00e0 Noite, Vol. 11 (In\\u00e9ditas e ao Vivo)\", \"duration_ms\": 235311}, {\"name\": \"Por Amor - Ao Vivo\", \"album\": \"Hoje \\u00e0 Noite, Vol. 11 (In\\u00e9ditas e ao Vivo)\", \"duration_ms\": 222014}, {\"name\": \"Seu Namorado - Ao Vivo\", \"album\": \"Hoje \\u00e0 Noite, Vol. 11 (In\\u00e9ditas e ao Vivo)\", \"duration_ms\": 233586}, {\"name\": \"Amor da Minha Vida - Ao Vivo\", \"album\": \"Hoje \\u00e0 Noite, Vol. 11 (In\\u00e9ditas e ao Vivo)\", \"duration_ms\": 233273}, {\"name\": \"E o Vento Levou - Ao Vivo\", \"album\": \"Ao Vivo em Salvador, Vol. 1\", \"duration_ms\": 257023}, {\"name\": \"Louca por Ti - Ao Vivo\", \"album\": \"Ao Vivo em Salvador, Vol. 1\", \"duration_ms\": 205838}, {\"name\": \"Por Amor - Ao Vivo\", \"album\": \"Ao Vivo em Salvador, Vol. 1\", \"duration_ms\": 225725}, {\"name\": \"Seu Namorado - Ao Vivo\", \"album\": \"Ao Vivo em Salvador, Vol. 1\", \"duration_ms\": 238238}, {\"name\": \"Amor da Minha Vida - Ao Vivo\", \"album\": \"Ao Vivo em Salvador, Vol. 1\", \"duration_ms\": 236402}, {\"name\": \"Vem Ver Calcinha Preta - Ao Vivo\", \"album\": \"Ao Vivo em Salvador, Vol. 1\", \"duration_ms\": 232332}, {\"name\": \"Sonho Lindo - Ao Vivo\", \"album\": \"Ao Vivo em Salvador, Vol. 1\", \"duration_ms\": 218451}, {\"name\": \"Cobertor - Ao Vivo\", \"album\": \"Ao Vivo em Salvador, Vol. 1\", \"duration_ms\": 253886}, {\"name\": \"Desilus\\u00e3o - Ao Vivo\", \"album\": \"Ao Vivo em Salvador, Vol. 1\", \"duration_ms\": 208575}, {\"name\": \"Te Quero Namorar - Ao Vivo\", \"album\": \"Ao Vivo em Salvador, Vol. 1\", \"duration_ms\": 266399}, {\"name\": \"T\\u00e9 Amo Tanto - Ao Vivo\", \"album\": \"Ao Vivo em Salvador, Vol. 1\", \"duration_ms\": 181080}, {\"name\": \"Ref\\u00e9m - Ao Vivo\", \"album\": \"Ao Vivo em Salvador, Vol. 1\", \"duration_ms\": 237070}, {\"name\": \"Agora Estou Sofrendo - Ao Vivo\", \"album\": \"Ao Vivo em Salvador, Vol. 1\", \"duration_ms\": 241741}, {\"name\": \"Hello - Ao Vivo\", \"album\": \"Ao Vivo em Salvador, Vol. 1\", \"duration_ms\": 209108}, {\"name\": \"Eu Vim pra Te Ver - Ao Vivo\", \"album\": \"Ao Vivo em Salvador, Vol. 1\", \"duration_ms\": 155355}, {\"name\": \"N\\u00e3o Diga N\\u00e3o - Ao Vivo\", \"album\": \"Ao Vivo em Salvador, Vol. 1\", \"duration_ms\": 237870}, {\"name\": \"Cora\\u00e7\\u00e3o Bobo - Ao Vivo\", \"album\": \"Ao Vivo em Salvador, Vol. 1\", \"duration_ms\": 245144}, {\"name\": \"Agora Estou Sofrendo - Ac\\u00fastico\", \"album\": \"A Gente Se V\\u00ea L\\u00e1, Vol. 10\", \"duration_ms\": 238654}, {\"name\": \"Fique Amor\", \"album\": \"A Gente Se V\\u00ea L\\u00e1, Vol. 10\", \"duration_ms\": 231967}, {\"name\": \"Por Amor\", \"album\": \"A Gente Se V\\u00ea L\\u00e1, Vol. 10\", \"duration_ms\": 253910}, {\"name\": \"Seu Namorado\", \"album\": \"A Gente Se V\\u00ea L\\u00e1, Vol. 10\", \"duration_ms\": 233430}, {\"name\": \"Te Amo\", \"album\": \"A Gente Se V\\u00ea L\\u00e1, Vol. 10\", \"duration_ms\": 206262}, {\"name\": \"Jogo Sujo\", \"album\": \"A Gente Se V\\u00ea L\\u00e1, Vol. 10\", \"duration_ms\": 218697}, {\"name\": \"O Que \\u00c9 Que Eu Vou Fazer?\", \"album\": \"A Gente Se V\\u00ea L\\u00e1, Vol. 10\", \"duration_ms\": 251036}, {\"name\": \"Louco, Louco, Louco por Voc\\u00ea\", \"album\": \"A Gente Se V\\u00ea L\\u00e1, Vol. 10\", \"duration_ms\": 256391}, {\"name\": \"Xeque-Mate\", \"album\": \"A Gente Se V\\u00ea L\\u00e1, Vol. 10\", \"duration_ms\": 251297}, {\"name\": \"A Gente Se V\\u00ea L\\u00e1 / S\\u00f3 Gosto de Mulher Quente - Pout-Pourri\", \"album\": \"A Gente Se V\\u00ea L\\u00e1, Vol. 10\", \"duration_ms\": 284290}, {\"name\": \"Amor Fatal - Ac\\u00fastico\", \"album\": \"A Gente Se V\\u00ea L\\u00e1, Vol. 10\", \"duration_ms\": 213968}, {\"name\": \"Furunfa Calcinha Preta\", \"album\": \"A Gente Se V\\u00ea L\\u00e1, Vol. 10\", \"duration_ms\": 269505}, {\"name\": \"N\\u00e3o Me Deixe Agora - Ac\\u00fastico\", \"album\": \"A Gente Se V\\u00ea L\\u00e1, Vol. 10\", \"duration_ms\": 252368}, {\"name\": \"N\\u00e3o Me Deixe Agora\", \"album\": \"Amor da Minha Vida, Vol. 9\", \"duration_ms\": 259970}, {\"name\": \"Magoei Meu Cora\\u00e7\\u00e3o\", \"album\": \"Amor da Minha Vida, Vol. 9\", \"duration_ms\": 248241}, {\"name\": \"Voc\\u00ea Jurou pra Mim Seu Amor\", \"album\": \"Amor da Minha Vida, Vol. 9\", \"duration_ms\": 228519}, {\"name\": \"Amor da Minha Vida\", \"album\": \"Amor da Minha Vida, Vol. 9\", \"duration_ms\": 209998}, {\"name\": \"Vem Minha Vida\", \"album\": \"Amor da Minha Vida, Vol. 9\", \"duration_ms\": 287111}, {\"name\": \"Verdadeiro Amor\", \"album\": \"Amor da Minha Vida, Vol. 9\", \"duration_ms\": 203049}, {\"name\": \"Sonho Lindo\", \"album\": \"Amor da Minha Vida, Vol. 9\", \"duration_ms\": 229694}, {\"name\": \"Digitais\", \"album\": \"Amor da Minha Vida, Vol. 9\", \"duration_ms\": 249521}, {\"name\": \"\\u00c9 Amor - O Que Sinto\", \"album\": \"Amor da Minha Vida, Vol. 9\", \"duration_ms\": 211696}, {\"name\": \"Veneno\", \"album\": \"Amor da Minha Vida, Vol. 9\", \"duration_ms\": 223738}, {\"name\": \"Te Quero Namorar\", \"album\": \"Amor da Minha Vida, Vol. 9\", \"duration_ms\": 267520}, {\"name\": \"E o Vento Levou\", \"album\": \"Amor da Minha Vida, Vol. 9\", \"duration_ms\": 266971}, {\"name\": \"Leil\\u00e3o\", \"album\": \"Amor da Minha Vida, Vol. 9\", \"duration_ms\": 227395}, {\"name\": \"Melhores Momentos - Ao Vivo\", \"album\": \"Ao Vivo, Vol. 8\", \"duration_ms\": 363598}, {\"name\": \"Seu Amor \\u00c9 Bom / Um Novo Amor - Ao Vivo\", \"album\": \"Ao Vivo, Vol. 8\", \"duration_ms\": 263993}, {\"name\": \"Te Amo Tanto / Ref\\u00e9m - Ao Vivo\", \"album\": \"Ao Vivo, Vol. 8\", \"duration_ms\": 259787}, {\"name\": \"Quero Ser Seu Namorado / N\\u00e3o Venha Mais Me Ver - Ao Vivo\", \"album\": \"Ao Vivo, Vol. 8\", \"duration_ms\": 277159}, {\"name\": \"Tudo de Novo - Ao Vivo\", \"album\": \"Ao Vivo, Vol. 8\", \"duration_ms\": 329560}, {\"name\": \"Cora\\u00e7\\u00e3o Bobo / Cobertor - Ao Vivo\", \"album\": \"Ao Vivo, Vol. 8\", \"duration_ms\": 276558}, {\"name\": \"Louca por Ti / N\\u00e3o Diga N\\u00e3o - Ao Vivo\", \"album\": \"Ao Vivo, Vol. 8\", \"duration_ms\": 295888}, {\"name\": \"Sou Seu Amor / Eu Te Amo - Ao Vivo\", \"album\": \"Ao Vivo, Vol. 8\", \"duration_ms\": 286537}, {\"name\": \"Te Amo - Ao Vivo\", \"album\": \"Ao Vivo, Vol. 8\", \"duration_ms\": 219193}, {\"name\": \"Resumo In\\u00e9ditas - Ao Vivo\", \"album\": \"Ao Vivo, Vol. 8\", \"duration_ms\": 195709}, {\"name\": \"E o Vento Levou - Ao Vivo\", \"album\": \"Ao Vivo, Vol. 8\", \"duration_ms\": 267833}, {\"name\": \"Me Diz o Que Fazer / Voc\\u00ea Quem Sabe - Ao Vivo\", \"album\": \"Ao Vivo, Vol. 8\", \"duration_ms\": 273502}, {\"name\": \"S.O.S. Cora\\u00e7\\u00e3o / Toma de Volta Esse Amor - Ao Vivo\", \"album\": \"Ao Vivo, Vol. 8\", \"duration_ms\": 308166}, {\"name\": \"Favo de Mel - Ao Vivo\", \"album\": \"Ao Vivo, Vol. 8\", \"duration_ms\": 247875}, {\"name\": \"Vem Ver a Calcinha Preta - Ao Vivo\", \"album\": \"Ao Vivo, Vol. 8\", \"duration_ms\": 251715}, {\"name\": \"Te Amo - Carrie\", \"album\": \"Seu Cora\\u00e7\\u00e3o Vai Aprender o Que \\u00c9 Paix\\u00e3o, Vol. 7\", \"duration_ms\": 242520}, {\"name\": \"Tudo de Novo\", \"album\": \"Seu Cora\\u00e7\\u00e3o Vai Aprender o Que \\u00c9 Paix\\u00e3o, Vol. 7\", \"duration_ms\": 286798}, {\"name\": \"Te Amo Tanto\", \"album\": \"Seu Cora\\u00e7\\u00e3o Vai Aprender o Que \\u00c9 Paix\\u00e3o, Vol. 7\", \"duration_ms\": 212140}, {\"name\": \"Ref\\u00e9m\", \"album\": \"Seu Cora\\u00e7\\u00e3o Vai Aprender o Que \\u00c9 Paix\\u00e3o, Vol. 7\", \"duration_ms\": 237583}, {\"name\": \"Mulheres Perdidas\", \"album\": \"Seu Cora\\u00e7\\u00e3o Vai Aprender o Que \\u00c9 Paix\\u00e3o, Vol. 7\", \"duration_ms\": 238706}, {\"name\": \"Chorando Se Foi / Lambamor - Pout-Pourri\", \"album\": \"Seu Cora\\u00e7\\u00e3o Vai Aprender o Que \\u00c9 Paix\\u00e3o, Vol. 7\", \"duration_ms\": 273763}, {\"name\": \"Cora\\u00e7\\u00e3o Bobo\", \"album\": \"Seu Cora\\u00e7\\u00e3o Vai Aprender o Que \\u00c9 Paix\\u00e3o, Vol. 7\", \"duration_ms\": 226768}, {\"name\": \"Quero Ser Seu Namorado / N\\u00e3o Venha Mais Me Ver - Pout-Pourri\", \"album\": \"Seu Cora\\u00e7\\u00e3o Vai Aprender o Que \\u00c9 Paix\\u00e3o, Vol. 7\", \"duration_ms\": 242991}, {\"name\": \"N\\u00e3o Diga N\\u00e3o\", \"album\": \"Seu Cora\\u00e7\\u00e3o Vai Aprender o Que \\u00c9 Paix\\u00e3o, Vol. 7\", \"duration_ms\": 229903}, {\"name\": \"Vendaval\", \"album\": \"Seu Cora\\u00e7\\u00e3o Vai Aprender o Que \\u00c9 Paix\\u00e3o, Vol. 7\", \"duration_ms\": 208744}, {\"name\": \"Seu Amor \\u00c9 Bom / Um Novo Amor - Pout-Pourri\", \"album\": \"Seu Cora\\u00e7\\u00e3o Vai Aprender o Que \\u00c9 Paix\\u00e3o, Vol. 7\", \"duration_ms\": 261381}, {\"name\": \"N\\u00e3o Fique Longe de Mim - I Live My Life For Love\", \"album\": \"Seu Cora\\u00e7\\u00e3o Vai Aprender o Que \\u00c9 Paix\\u00e3o, Vol. 7\", \"duration_ms\": 215040}, {\"name\": \"N\\u00e3o Faz Sentido\", \"album\": \"Seu Cora\\u00e7\\u00e3o Vai Aprender o Que \\u00c9 Paix\\u00e3o, Vol. 7\", \"duration_ms\": 192078}, {\"name\": \"O Gemidinho\", \"album\": \"Seu Cora\\u00e7\\u00e3o Vai Aprender o Que \\u00c9 Paix\\u00e3o, Vol. 7\", \"duration_ms\": 212480}, {\"name\": \"Abertura - Ao Vivo\", \"album\": \"Sou Seu Amor, Vol. 6 (Ao Vivo)\", \"duration_ms\": 113084}, {\"name\": \"Hello - Ao Vivo\", \"album\": \"Sou Seu Amor, Vol. 6 (Ao Vivo)\", \"duration_ms\": 256810}, {\"name\": \"Cobertor - Ao Vivo\", \"album\": \"Sou Seu Amor, Vol. 6 (Ao Vivo)\", \"duration_ms\": 246884}, {\"name\": \"Liguei pra Dizer Que Te Amo / Voc\\u00ea Marcou Demais a Minha Vida / Isso \\u00c9 Bom - Ao Vivo\", \"album\": \"Sou Seu Amor, Vol. 6 (Ao Vivo)\", \"duration_ms\": 436533}, {\"name\": \"Meu Amor, Minha Paix\\u00e3o / Louca por Voc\\u00ea - Ao Vivo\", \"album\": \"Sou Seu Amor, Vol. 6 (Ao Vivo)\", \"duration_ms\": 253336}, {\"name\": \"Sou Maluco por Voc\\u00ea - Ao Vivo\", \"album\": \"Sou Seu Amor, Vol. 6 (Ao Vivo)\", \"duration_ms\": 235886}, {\"name\": \"Sou Seu Amor / Eu Te Amo - Ao Vivo\", \"album\": \"Sou Seu Amor, Vol. 6 (Ao Vivo)\", \"duration_ms\": 290822}, {\"name\": \"Jogo Marcado / Qualquer Jeito - Ao Vivo\", \"album\": \"Sou Seu Amor, Vol. 6 (Ao Vivo)\", \"duration_ms\": 407981}, {\"name\": \"Louca por Ti / Fonte de Desejos - Ao Vivo\", \"album\": \"Sou Seu Amor, Vol. 6 (Ao Vivo)\", \"duration_ms\": 320863}, {\"name\": \"Me D\\u00e1 um Beijo / Amor Proibido - Ao Vivo\", \"album\": \"Sou Seu Amor, Vol. 6 (Ao Vivo)\", \"duration_ms\": 312373}, {\"name\": \"Eu Vim pra Te Ver / Calcinha Preta (Doida pra Te Agarrar) - Ao Vivo\", \"album\": \"Sou Seu Amor, Vol. 6 (Ao Vivo)\", \"duration_ms\": 290299}, {\"name\": \"Saudade - Ao Vivo\", \"album\": \"A Mo\\u00e7ada \\u00c9 S\\u00f3 Fil\\u00e9!, Vol. 5 (Ao Vivo)\", \"duration_ms\": 184842}, {\"name\": \"Desilus\\u00e3o - Ao Vivo\", \"album\": \"A Mo\\u00e7ada \\u00c9 S\\u00f3 Fil\\u00e9!, Vol. 5 (Ao Vivo)\", \"duration_ms\": 228806}, {\"name\": \"\\u00c9 Seu Amor Que Eu Quero - Ao Vivo\", \"album\": \"A Mo\\u00e7ada \\u00c9 S\\u00f3 Fil\\u00e9!, Vol. 5 (Ao Vivo)\", \"duration_ms\": 210259}, {\"name\": \"Jura Que Me Ama - Ao Vivo\", \"album\": \"A Mo\\u00e7ada \\u00c9 S\\u00f3 Fil\\u00e9!, Vol. 5 (Ao Vivo)\", \"duration_ms\": 297482}, {\"name\": \"Amor, Amor, Amor / Noite, Noite, Noite - Ao Vivo\", \"album\": \"A Mo\\u00e7ada \\u00c9 S\\u00f3 Fil\\u00e9!, Vol. 5 (Ao Vivo)\", \"duration_ms\": 239490}, {\"name\": \"A Coisa Mais Linda - Ao Vivo\", \"album\": \"A Mo\\u00e7ada \\u00c9 S\\u00f3 Fil\\u00e9!, Vol. 5 (Ao Vivo)\", \"duration_ms\": 160496}, {\"name\": \"Eu Vim Pra Te Ver - Ao Vivo\", \"album\": \"A Mo\\u00e7ada \\u00c9 S\\u00f3 Fil\\u00e9!, Vol. 5 (Ao Vivo)\", \"duration_ms\": 154017}, {\"name\": \"S\\u00f3 Voc\\u00ea Me Faz Feliz - Ao Vivo\", \"album\": \"A Mo\\u00e7ada \\u00c9 S\\u00f3 Fil\\u00e9!, Vol. 5 (Ao Vivo)\", \"duration_ms\": 227108}, {\"name\": \"Eterno Amor / Mesmo Assim / Amor Comigo - Ao Vivo\", \"album\": \"A Mo\\u00e7ada \\u00c9 S\\u00f3 Fil\\u00e9!, Vol. 5 (Ao Vivo)\", \"duration_ms\": 222824}, {\"name\": \"Minha Namorada / Voc\\u00ea Me Ama - Ao Vivo\", \"album\": \"A Mo\\u00e7ada \\u00c9 S\\u00f3 Fil\\u00e9!, Vol. 5 (Ao Vivo)\", \"duration_ms\": 250723}, {\"name\": \"Agenda Rabiscada - Ao Vivo\", \"album\": \"A Mo\\u00e7ada \\u00c9 S\\u00f3 Fil\\u00e9!, Vol. 5 (Ao Vivo)\", \"duration_ms\": 233665}, {\"name\": \"A Mo\\u00e7ada \\u00c9 S\\u00f3 Fil\\u00e9 / O Fil\\u00e9 Do Brasil - Ao Vivo\", \"album\": \"A Mo\\u00e7ada \\u00c9 S\\u00f3 Fil\\u00e9!, Vol. 5 (Ao Vivo)\", \"duration_ms\": 333505}, {\"name\": \"Melhores Momentos (Faixa B\\u00f4nus) - Ao Vivo\", \"album\": \"A Mo\\u00e7ada \\u00c9 S\\u00f3 Fil\\u00e9!, Vol. 5 (Ao Vivo)\", \"duration_ms\": 486478}, {\"name\": \"Desilus\\u00e3o\", \"album\": \"A Mo\\u00e7ada \\u00c9 S\\u00f3 Fil\\u00e9, Vol. 4\", \"duration_ms\": 234997}, {\"name\": \"A Mo\\u00e7ada \\u00c9 S\\u00f3 Fil\\u00e9\", \"album\": \"A Mo\\u00e7ada \\u00c9 S\\u00f3 Fil\\u00e9, Vol. 4\", \"duration_ms\": 270550}, {\"name\": \"Amor, Amor, Amor / Noite, Noite, Noite\", \"album\": \"A Mo\\u00e7ada \\u00c9 S\\u00f3 Fil\\u00e9, Vol. 4\", \"duration_ms\": 258011}, {\"name\": \"Saudade\", \"album\": \"A Mo\\u00e7ada \\u00c9 S\\u00f3 Fil\\u00e9, Vol. 4\", \"duration_ms\": 224783}, {\"name\": \"\\u00c9 Seu Amor Que Eu Quero / Vem Comigo\", \"album\": \"A Mo\\u00e7ada \\u00c9 S\\u00f3 Fil\\u00e9, Vol. 4\", \"duration_ms\": 305162}, {\"name\": \"Jura Que Me Ama\", \"album\": \"A Mo\\u00e7ada \\u00c9 S\\u00f3 Fil\\u00e9, Vol. 4\", \"duration_ms\": 273266}, {\"name\": \"Quero Saber / Minha Namorada / Voc\\u00ea Me Ama\", \"album\": \"A Mo\\u00e7ada \\u00c9 S\\u00f3 Fil\\u00e9, Vol. 4\", \"duration_ms\": 280764}, {\"name\": \"Eterno Amor / Mesmo Assim / Amor Amigo\", \"album\": \"A Mo\\u00e7ada \\u00c9 S\\u00f3 Fil\\u00e9, Vol. 4\", \"duration_ms\": 238445}, {\"name\": \"Onde o Sonho Mora\", \"album\": \"A Mo\\u00e7ada \\u00c9 S\\u00f3 Fil\\u00e9, Vol. 4\", \"duration_ms\": 198948}, {\"name\": \"Amor e Paix\\u00e3o - Ao Vivo\", \"album\": \"Arrepiando Com a Galera, Vol. 3 (Ao Vivo)\", \"duration_ms\": 298631}, {\"name\": \"Homem Gol - Ao Vivo\", \"album\": \"Arrepiando Com a Galera, Vol. 3 (Ao Vivo)\", \"duration_ms\": 206733}, {\"name\": \"Onde o Sonho Mora - Ao Vivo\", \"album\": \"Arrepiando Com a Galera, Vol. 3 (Ao Vivo)\", \"duration_ms\": 208822}, {\"name\": \"Vaqueiro Apaixonado - Ao Vivo\", \"album\": \"Arrepiando Com a Galera, Vol. 3 (Ao Vivo)\", \"duration_ms\": 179853}, {\"name\": \"Cacha\\u00e7a e Mulher / Forr\\u00f3 e Vaquejada - Ao Vivo\", \"album\": \"Arrepiando Com a Galera, Vol. 3 (Ao Vivo)\", \"duration_ms\": 217626}, {\"name\": \"Te Amo Mesmo Assim - Ao Vivo\", \"album\": \"Arrepiando Com a Galera, Vol. 3 (Ao Vivo)\", \"duration_ms\": 194194}, {\"name\": \"O Colecionador de Calcinha - Ao Vivo\", \"album\": \"Arrepiando Com a Galera, Vol. 3 (Ao Vivo)\", \"duration_ms\": 223895}, {\"name\": \"Arrepia - Ao Vivo\", \"album\": \"Arrepiando Com a Galera, Vol. 3 (Ao Vivo)\", \"duration_ms\": 251559}, {\"name\": \"N\\u00e3o Tem Jeito - Ao Vivo\", \"album\": \"Arrepiando Com a Galera, Vol. 3 (Ao Vivo)\", \"duration_ms\": 220395}, {\"name\": \"Renato Russo - Ao Vivo\", \"album\": \"Arrepiando Com a Galera, Vol. 3 (Ao Vivo)\", \"duration_ms\": 192156}, {\"name\": \"Calcinha Preta - Ao Vivo\", \"album\": \"Arrepiando Com a Galera, Vol. 3 (Ao Vivo)\", \"duration_ms\": 143438}, {\"name\": \"Frei Dami\\u00e3o - Ao Vivo\", \"album\": \"Arrepiando Com a Galera, Vol. 3 (Ao Vivo)\", \"duration_ms\": 183066}, {\"name\": \"N\\u00e3o Me Abandone - Ao Vivo\", \"album\": \"Arrepiando Com a Galera, Vol. 3 (Ao Vivo)\", \"duration_ms\": 243670}, {\"name\": \"Te Amo de Verdade - Ao Vivo\", \"album\": \"Arrepiando Com a Galera, Vol. 3 (Ao Vivo)\", \"duration_ms\": 214622}, {\"name\": \"Forr\\u00f3 da Mulher Carente - Ao Vivo\", \"album\": \"Arrepiando Com a Galera, Vol. 3 (Ao Vivo)\", \"duration_ms\": 275696}, {\"name\": \"Onde o Sonho Mora\", \"album\": \"As Mais Gostosas do Brasil, Vol. 2\", \"duration_ms\": 236669}, {\"name\": \"\\u00c9 Imposs\\u00edvel Acreditar Que Perdi Voc\\u00ea\", \"album\": \"As Mais Gostosas do Brasil, Vol. 2\", \"duration_ms\": 258768}, {\"name\": \"Te Quero - Get Back\", \"album\": \"As Mais Gostosas do Brasil, Vol. 2\", \"duration_ms\": 237061}, {\"name\": \"Paradyse - Take A Chance On Me\", \"album\": \"As Mais Gostosas do Brasil, Vol. 2\", \"duration_ms\": 196519}, {\"name\": \"Adeus, Bye Bye - She Made Me Cry\", \"album\": \"As Mais Gostosas do Brasil, Vol. 2\", \"duration_ms\": 293616}, {\"name\": \"Princesinha Apaixonada\", \"album\": \"As Mais Gostosas do Brasil, Vol. 2\", \"duration_ms\": 217286}, {\"name\": \"O Infinito\", \"album\": \"As Mais Gostosas do Brasil, Vol. 2\", \"duration_ms\": 231235}, {\"name\": \"Del\\u00edrio\", \"album\": \"As Mais Gostosas do Brasil, Vol. 2\", \"duration_ms\": 240195}, {\"name\": \"Bebida Danada\", \"album\": \"As Mais Gostosas do Brasil, Vol. 2\", \"duration_ms\": 276819}, {\"name\": \"Tempo Perdido\", \"album\": \"As Mais Gostosas do Brasil, Vol. 2\", \"duration_ms\": 262112}, {\"name\": \"Quero Te Amar\", \"album\": \"A Banda de Forr\\u00f3 Mais Gostosa do Brasil, Vol. 1\", \"duration_ms\": 179565}, {\"name\": \"O Colecionador\", \"album\": \"A Banda de Forr\\u00f3 Mais Gostosa do Brasil, Vol. 1\", \"duration_ms\": 205061}, {\"name\": \"\\u00c9 S\\u00f3 Querer\", \"album\": \"A Banda de Forr\\u00f3 Mais Gostosa do Brasil, Vol. 1\", \"duration_ms\": 175046}, {\"name\": \"Ainda Te Amo\", \"album\": \"A Banda de Forr\\u00f3 Mais Gostosa do Brasil, Vol. 1\", \"duration_ms\": 219924}, {\"name\": \"Lembran\\u00e7a\", \"album\": \"A Banda de Forr\\u00f3 Mais Gostosa do Brasil, Vol. 1\", \"duration_ms\": 209214}, {\"name\": \"Dor Trai\\u00e7oeira\", \"album\": \"A Banda de Forr\\u00f3 Mais Gostosa do Brasil, Vol. 1\", \"duration_ms\": 171702}, {\"name\": \"Calcinha Preta\", \"album\": \"A Banda de Forr\\u00f3 Mais Gostosa do Brasil, Vol. 1\", \"duration_ms\": 204512}, {\"name\": \"Amor Primeiro\", \"album\": \"A Banda de Forr\\u00f3 Mais Gostosa do Brasil, Vol. 1\", \"duration_ms\": 153443}, {\"name\": \"Filha de Vaqueiro\", \"album\": \"A Banda de Forr\\u00f3 Mais Gostosa do Brasil, Vol. 1\", \"duration_ms\": 156055}, {\"name\": \"Minha Neguinha\", \"album\": \"A Banda de Forr\\u00f3 Mais Gostosa do Brasil, Vol. 1\", \"duration_ms\": 176143}, {\"name\": \"Daniela - Ao Vivo\", \"album\": \"CP 25 Anos, Pt. 2 (Ao Vivo)\", \"duration_ms\": 174474}, {\"name\": \"Por Amor / O Que \\u00c9 Que Eu Vou Fazer - Ao Vivo\", \"album\": \"CP 25 Anos, Pt. 2 (Ao Vivo)\", \"duration_ms\": 254389}, {\"name\": \"Baby Doll - Ao Vivo\", \"album\": \"CP 25 Anos, Pt. 2 (Ao Vivo)\", \"duration_ms\": 200295}, {\"name\": \"Eu Vim pra Te Ver / Vem Ver / A Mo\\u00e7ada \\u00c9 S\\u00f3 Fil\\u00e9 - Ao Vivo\", \"album\": \"CP 25 Anos, Pt. 2 (Ao Vivo)\", \"duration_ms\": 238144}, {\"name\": \"Conta de Luz - Ao Vivo\", \"album\": \"Conta de Luz (Ao Vivo)\", \"duration_ms\": 160149}, {\"name\": \"Um Degrau na Escada - Ao Vivo\", \"album\": \"CP 25 Anos, Pt. 1 (Ao Vivo)\", \"duration_ms\": 251061}, {\"name\": \"Hoje \\u00e0 Noite - Ao Vivo\", \"album\": \"CP 25 Anos, Pt. 1 (Ao Vivo)\", \"duration_ms\": 218925}, {\"name\": \"Cobertor / Onde o Sonho Mora - Ao Vivo\", \"album\": \"CP 25 Anos, Pt. 1 (Ao Vivo)\", \"duration_ms\": 204812}, {\"name\": \"Voc\\u00ea N\\u00e3o Vale Nada - Ao Vivo\", \"album\": \"CP 25 Anos, Pt. 1 (Ao Vivo)\", \"duration_ms\": 241461}, {\"name\": \"Tchau pro Seu Amor - Ao Vivo\", \"album\": \"CP 25 Anos, Pt. 1 (Ao Vivo)\", \"duration_ms\": 129000}, {\"name\": \"M\\u00e1gica / E o Vento Levou - Ao Vivo\", \"album\": \"CP 25 Anos, Pt. 1 (Ao Vivo)\", \"duration_ms\": 278314}, {\"name\": \"Tchau pro Seu Amor - Ao Vivo\", \"album\": \"Tchau pro Seu Amor (Ao Vivo)\", \"duration_ms\": 130415}, {\"name\": \"N\\u00e3o Tem Explica\\u00e7\\u00e3o\", \"album\": \"N\\u00e3o Tem Explica\\u00e7\\u00e3o\", \"duration_ms\": 228187}, {\"name\": \"Amor de Mentira\", \"album\": \"Amor de Mentira\", \"duration_ms\": 157300}, {\"name\": \"Flores, Versos e Poemas\", \"album\": \"Flores, Versos e Poemas\", \"duration_ms\": 207596}, {\"name\": \"Eu Vim do Futuro\", \"album\": \"Eu Vim do Futuro - Single\", \"duration_ms\": 195213}, {\"name\": \"Homem de Rua\", \"album\": \"Homem de Rua\", \"duration_ms\": 210181}, {\"name\": \"Al\\u00f4 Amor\", \"album\": \"Al\\u00f4 Amor\", \"duration_ms\": 182334}, {\"name\": \"Parada Meio Louca\", \"album\": \"Parada Meio Louca\", \"duration_ms\": 201456}, {\"name\": \"D\\u00f3i, D\\u00f3i\", \"album\": \"D\\u00f3i, D\\u00f3i\", \"duration_ms\": 196032}]}}, {\"mode\": \"vega-lite\"});\n",
       "</script>"
      ],
      "text/plain": [
       "alt.LayerChart(...)"
      ]
     },
     "execution_count": 20,
     "metadata": {},
     "output_type": "execute_result"
    }
   ],
   "source": [
    "# Qual é a maior música?\n",
    "data_tracks = pd.DataFrame(data, columns = ['name','album','duration_ms'])\n",
    "chart = alt.Chart(data_tracks).mark_bar(color = '#222437').encode(\n",
    "    y=alt.Y('name:N', sort='-x', axis = alt.Axis(title='Música')),\n",
    "    x=alt.X('duration_ms:Q', axis = alt.Axis(title='Duração(ms)')),\n",
    "    tooltip = ['name', 'album']\n",
    ").transform_window(\n",
    "    rank='rank(duration_ms)',\n",
    "    sort=[alt.SortField('duration_ms', order='descending')]\n",
    ").transform_filter(\n",
    "    (alt.datum.rank < 30)\n",
    ") \n",
    "text = alt.Chart(data_tracks).mark_text(dx=-25, dy=3, color='white').encode(\n",
    "    y=alt.Y('name:N', sort='-x'),\n",
    "    x=alt.X('duration_ms:Q'),\n",
    "    text=alt.Text('duration_ms:Q')\n",
    ").transform_window(\n",
    "    rank='rank(duration_ms)',\n",
    "    sort=[alt.SortField('duration_ms', order='descending')]\n",
    ").transform_filter(\n",
    "    (alt.datum.rank < 30)\n",
    ") \n",
    "chart + text"
   ]
  },
  {
   "cell_type": "markdown",
   "metadata": {
    "colab_type": "text",
    "id": "MfvdZE0sSGfp"
   },
   "source": [
    "**Pega esse bônus track:**"
   ]
  },
  {
   "cell_type": "code",
   "execution_count": 21,
   "metadata": {
    "colab": {
     "base_uri": "https://localhost:8080/",
     "height": 534
    },
    "colab_type": "code",
    "id": "6mFnFvWuSNyI",
    "outputId": "cc6fb2ba-bac9-4fab-f7fd-0632ccafca62"
   },
   "outputs": [
    {
     "data": {
      "text/html": [
       "\n",
       "<div id=\"altair-viz-d57744ecf21b4b73bf27aa09a9349999\"></div>\n",
       "<script type=\"text/javascript\">\n",
       "  (function(spec, embedOpt){\n",
       "    let outputDiv = document.currentScript.previousElementSibling;\n",
       "    if (outputDiv.id !== \"altair-viz-d57744ecf21b4b73bf27aa09a9349999\") {\n",
       "      outputDiv = document.getElementById(\"altair-viz-d57744ecf21b4b73bf27aa09a9349999\");\n",
       "    }\n",
       "    const paths = {\n",
       "      \"vega\": \"https://cdn.jsdelivr.net/npm//vega@5?noext\",\n",
       "      \"vega-lib\": \"https://cdn.jsdelivr.net/npm//vega-lib?noext\",\n",
       "      \"vega-lite\": \"https://cdn.jsdelivr.net/npm//vega-lite@4.8.1?noext\",\n",
       "      \"vega-embed\": \"https://cdn.jsdelivr.net/npm//vega-embed@6?noext\",\n",
       "    };\n",
       "\n",
       "    function loadScript(lib) {\n",
       "      return new Promise(function(resolve, reject) {\n",
       "        var s = document.createElement('script');\n",
       "        s.src = paths[lib];\n",
       "        s.async = true;\n",
       "        s.onload = () => resolve(paths[lib]);\n",
       "        s.onerror = () => reject(`Error loading script: ${paths[lib]}`);\n",
       "        document.getElementsByTagName(\"head\")[0].appendChild(s);\n",
       "      });\n",
       "    }\n",
       "\n",
       "    function showError(err) {\n",
       "      outputDiv.innerHTML = `<div class=\"error\" style=\"color:red;\">${err}</div>`;\n",
       "      throw err;\n",
       "    }\n",
       "\n",
       "    function displayChart(vegaEmbed) {\n",
       "      vegaEmbed(outputDiv, spec, embedOpt)\n",
       "        .catch(err => showError(`Javascript Error: ${err.message}<br>This usually means there's a typo in your chart specification. See the javascript console for the full traceback.`));\n",
       "    }\n",
       "\n",
       "    if(typeof define === \"function\" && define.amd) {\n",
       "      requirejs.config({paths});\n",
       "      require([\"vega-embed\"], displayChart, err => showError(`Error loading script: ${err.message}`));\n",
       "    } else if (typeof vegaEmbed === \"function\") {\n",
       "      displayChart(vegaEmbed);\n",
       "    } else {\n",
       "      loadScript(\"vega\")\n",
       "        .then(() => loadScript(\"vega-lite\"))\n",
       "        .then(() => loadScript(\"vega-embed\"))\n",
       "        .catch(showError)\n",
       "        .then(() => displayChart(vegaEmbed));\n",
       "    }\n",
       "  })({\"config\": {\"view\": {\"continuousWidth\": 400, \"continuousHeight\": 300}}, \"data\": {\"name\": \"data-b7cef22d4b868efc4ef2d4b0dbe51a6a\"}, \"mark\": {\"type\": \"circle\", \"opacity\": 1}, \"encoding\": {\"color\": {\"type\": \"nominal\", \"field\": \"album_type\", \"legend\": {\"title\": \"Tipo do \\u00e1lbum\"}, \"scale\": {\"range\": [\"#222437\", \"#B183AE\"]}}, \"tooltip\": [{\"type\": \"nominal\", \"field\": \"album\"}, {\"type\": \"nominal\", \"field\": \"album_type\"}, {\"type\": \"temporal\", \"field\": \"release_date\"}], \"x\": {\"type\": \"nominal\", \"axis\": {\"title\": \"\\u00c1lbum\"}, \"field\": \"album\", \"sort\": \"y\"}, \"y\": {\"type\": \"temporal\", \"axis\": {\"title\": \"Lan\\u00e7amento\"}, \"field\": \"release_date\"}}, \"$schema\": \"https://vega.github.io/schema/vega-lite/v4.8.1.json\", \"datasets\": {\"data-b7cef22d4b868efc4ef2d4b0dbe51a6a\": [{\"name\": \"Quer Conhecer? Deixe!\", \"album\": \"Calcinha Preta: Edi\\u00e7\\u00e3o Especial\", \"album_type\": \"album\", \"release_date\": \"2018-08-03\"}, {\"name\": \"N\\u00e3o Me Deixe Agora\", \"album\": \"Calcinha Preta: Edi\\u00e7\\u00e3o Especial\", \"album_type\": \"album\", \"release_date\": \"2018-08-03\"}, {\"name\": \"Agora Estou Sofrendo\", \"album\": \"Calcinha Preta: Edi\\u00e7\\u00e3o Especial\", \"album_type\": \"album\", \"release_date\": \"2018-08-03\"}, {\"name\": \"Sem Explica\\u00e7\\u00e3o (I Will Be)\", \"album\": \"Calcinha Preta: Edi\\u00e7\\u00e3o Especial\", \"album_type\": \"album\", \"release_date\": \"2018-08-03\"}, {\"name\": \"Perdoar\", \"album\": \"Calcinha Preta: Edi\\u00e7\\u00e3o Especial\", \"album_type\": \"album\", \"release_date\": \"2018-08-03\"}, {\"name\": \"Encruzilhada\", \"album\": \"Calcinha Preta: Edi\\u00e7\\u00e3o Especial\", \"album_type\": \"album\", \"release_date\": \"2018-08-03\"}, {\"name\": \"Renascer\\u00e1\", \"album\": \"Calcinha Preta: Edi\\u00e7\\u00e3o Especial\", \"album_type\": \"album\", \"release_date\": \"2018-08-03\"}, {\"name\": \"Fa\\u00e7o Chover\", \"album\": \"Calcinha Preta: Edi\\u00e7\\u00e3o Especial\", \"album_type\": \"album\", \"release_date\": \"2018-08-03\"}, {\"name\": \"J\\u00e1 Me Acostumei\", \"album\": \"Calcinha Preta: Edi\\u00e7\\u00e3o Especial\", \"album_type\": \"album\", \"release_date\": \"2018-08-03\"}, {\"name\": \"Homem de Rua\", \"album\": \"Calcinha Preta: Edi\\u00e7\\u00e3o Especial\", \"album_type\": \"album\", \"release_date\": \"2018-08-03\"}, {\"name\": \"Voc\\u00ea N\\u00e3o Vale Nada\", \"album\": \"Calcinha Preta: Edi\\u00e7\\u00e3o Especial\", \"album_type\": \"album\", \"release_date\": \"2018-08-03\"}, {\"name\": \"Balada Prime\", \"album\": \"Balada Prime\", \"album_type\": \"album\", \"release_date\": \"2015-12-14\"}, {\"name\": \"Chora\", \"album\": \"Balada Prime\", \"album_type\": \"album\", \"release_date\": \"2015-12-14\"}, {\"name\": \"Sapatinho de Cinderela\", \"album\": \"Balada Prime\", \"album_type\": \"album\", \"release_date\": \"2015-12-14\"}, {\"name\": \"Voc\\u00ea Mente\", \"album\": \"Balada Prime\", \"album_type\": \"album\", \"release_date\": \"2015-12-14\"}, {\"name\": \"Kit Sofr\\u00eancia\", \"album\": \"Balada Prime\", \"album_type\": \"album\", \"release_date\": \"2015-12-14\"}, {\"name\": \"Modo Avi\\u00e3o\", \"album\": \"Balada Prime\", \"album_type\": \"album\", \"release_date\": \"2015-12-14\"}, {\"name\": \"A Dona do Barraco\", \"album\": \"Balada Prime\", \"album_type\": \"album\", \"release_date\": \"2015-12-14\"}, {\"name\": \"Que Tal?\", \"album\": \"Balada Prime\", \"album_type\": \"album\", \"release_date\": \"2015-12-14\"}, {\"name\": \"O Amor Vai Derreter o Gelo\", \"album\": \"Balada Prime\", \"album_type\": \"album\", \"release_date\": \"2015-12-14\"}, {\"name\": \"Sai pra L\\u00e1 Bob\\u00e3o\", \"album\": \"Balada Prime\", \"album_type\": \"album\", \"release_date\": \"2015-12-14\"}, {\"name\": \"Simbora M\\u00f4\", \"album\": \"Balada Prime\", \"album_type\": \"album\", \"release_date\": \"2015-12-14\"}, {\"name\": \"Como Eu Te Amei\", \"album\": \"Balada Prime\", \"album_type\": \"album\", \"release_date\": \"2015-12-14\"}, {\"name\": \"Toda Noite\", \"album\": \"Balada Prime\", \"album_type\": \"album\", \"release_date\": \"2015-12-14\"}, {\"name\": \"Marca da Saudade\", \"album\": \"Balada Prime\", \"album_type\": \"album\", \"release_date\": \"2015-12-14\"}, {\"name\": \"Rugas\", \"album\": \"Balada Prime\", \"album_type\": \"album\", \"release_date\": \"2015-12-14\"}, {\"name\": \"A Vida Segue\", \"album\": \"Balada Prime\", \"album_type\": \"album\", \"release_date\": \"2015-12-14\"}, {\"name\": \"12 de Junho\", \"album\": \"Balada Prime\", \"album_type\": \"album\", \"release_date\": \"2015-12-14\"}, {\"name\": \"Filmes e Hist\\u00f3rias\", \"album\": \"Balada Prime\", \"album_type\": \"album\", \"release_date\": \"2015-12-14\"}, {\"name\": \"Filmes e Hist\\u00f3rias\", \"album\": \"Filmes e Hist\\u00f3rias, Vol. 28\", \"album_type\": \"album\", \"release_date\": \"2014-10-11\"}, {\"name\": \"Onde Est\\u00e1\", \"album\": \"Filmes e Hist\\u00f3rias, Vol. 28\", \"album_type\": \"album\", \"release_date\": \"2014-10-11\"}, {\"name\": \"Eu Quero Ser o Seu Amor\", \"album\": \"Filmes e Hist\\u00f3rias, Vol. 28\", \"album_type\": \"album\", \"release_date\": \"2014-10-11\"}, {\"name\": \"A Vida Segue\", \"album\": \"Filmes e Hist\\u00f3rias, Vol. 28\", \"album_type\": \"album\", \"release_date\": \"2014-10-11\"}, {\"name\": \"Eu N\\u00e3o Vou Desistir de Voc\\u00ea\", \"album\": \"Filmes e Hist\\u00f3rias, Vol. 28\", \"album_type\": \"album\", \"release_date\": \"2014-10-11\"}, {\"name\": \"Como Eu Te Amei\", \"album\": \"Filmes e Hist\\u00f3rias, Vol. 28\", \"album_type\": \"album\", \"release_date\": \"2014-10-11\"}, {\"name\": \"Simbora M\\u00f4\", \"album\": \"Filmes e Hist\\u00f3rias, Vol. 28\", \"album_type\": \"album\", \"release_date\": \"2014-10-11\"}, {\"name\": \"Voc\\u00ea \\u00c9 Especial pra Mim\", \"album\": \"Filmes e Hist\\u00f3rias, Vol. 28\", \"album_type\": \"album\", \"release_date\": \"2014-10-11\"}, {\"name\": \"Toda Noite\", \"album\": \"Filmes e Hist\\u00f3rias, Vol. 28\", \"album_type\": \"album\", \"release_date\": \"2014-10-11\"}, {\"name\": \"N\\u00e3o Chore, N\\u00e3o\", \"album\": \"Filmes e Hist\\u00f3rias, Vol. 28\", \"album_type\": \"album\", \"release_date\": \"2014-10-11\"}, {\"name\": \"A Casa Caiu\", \"album\": \"Filmes e Hist\\u00f3rias, Vol. 28\", \"album_type\": \"album\", \"release_date\": \"2014-10-11\"}, {\"name\": \"O Mundo Pode Acabar\", \"album\": \"Filmes e Hist\\u00f3rias, Vol. 28\", \"album_type\": \"album\", \"release_date\": \"2014-10-11\"}, {\"name\": \"Imaturidade\", \"album\": \"Filmes e Hist\\u00f3rias, Vol. 28\", \"album_type\": \"album\", \"release_date\": \"2014-10-11\"}, {\"name\": \"Amanhecer\", \"album\": \"Calcinha Preta Premium\", \"album_type\": \"album\", \"release_date\": \"2013-01-18\"}, {\"name\": \"Longe (Far Away)\", \"album\": \"Calcinha Preta Premium\", \"album_type\": \"album\", \"release_date\": \"2013-01-18\"}, {\"name\": \"Tem Mais Algu\\u00e9m?\", \"album\": \"Calcinha Preta Premium\", \"album_type\": \"album\", \"release_date\": \"2013-01-18\"}, {\"name\": \"Baby Doll\", \"album\": \"Calcinha Preta Premium\", \"album_type\": \"album\", \"release_date\": \"2013-01-18\"}, {\"name\": \"Fa\\u00e7o Chover (It Will Rain)\", \"album\": \"Calcinha Preta Premium\", \"album_type\": \"album\", \"release_date\": \"2013-01-18\"}, {\"name\": \"Agora Estou Sofrendo\", \"album\": \"Calcinha Preta Premium\", \"album_type\": \"album\", \"release_date\": \"2013-01-18\"}, {\"name\": \"Bandido do Amor\", \"album\": \"Calcinha Preta Premium\", \"album_type\": \"album\", \"release_date\": \"2013-01-18\"}, {\"name\": \"Saidera / Em Mil Peda\\u00e7os\", \"album\": \"Calcinha Preta Premium\", \"album_type\": \"album\", \"release_date\": \"2013-01-18\"}, {\"name\": \"Armadilha\", \"album\": \"Calcinha Preta Premium\", \"album_type\": \"album\", \"release_date\": \"2013-01-18\"}, {\"name\": \"Morrendo de Desejo\", \"album\": \"Calcinha Preta Premium\", \"album_type\": \"album\", \"release_date\": \"2013-01-18\"}, {\"name\": \"Ad\\u00e3o e Eva / Romeu e Julieta\", \"album\": \"Calcinha Preta Premium\", \"album_type\": \"album\", \"release_date\": \"2013-01-18\"}, {\"name\": \"M\\u00e1gica\", \"album\": \"Calcinha Preta Premium\", \"album_type\": \"album\", \"release_date\": \"2013-01-18\"}, {\"name\": \"Por Amor\", \"album\": \"Calcinha Preta Premium\", \"album_type\": \"album\", \"release_date\": \"2013-01-18\"}, {\"name\": \"A Encruzilhada\", \"album\": \"Calcinha Preta Premium\", \"album_type\": \"album\", \"release_date\": \"2013-01-18\"}, {\"name\": \"Ref\\u00e9m / Cabertor\", \"album\": \"Calcinha Preta Premium\", \"album_type\": \"album\", \"release_date\": \"2013-01-18\"}, {\"name\": \"Declara\\u00e7\\u00e3o de Amor\", \"album\": \"Calcinha Preta Premium\", \"album_type\": \"album\", \"release_date\": \"2013-01-18\"}, {\"name\": \"Ainda Te Amo\", \"album\": \"Calcinha Preta Premium\", \"album_type\": \"album\", \"release_date\": \"2013-01-18\"}, {\"name\": \"Amor da Minha Vida\", \"album\": \"Calcinha Preta Premium\", \"album_type\": \"album\", \"release_date\": \"2013-01-18\"}, {\"name\": \"Verdadeiro Amor\", \"album\": \"Calcinha Preta Premium\", \"album_type\": \"album\", \"release_date\": \"2013-01-18\"}, {\"name\": \"\\u00c9 Linda Nossa Hist\\u00f3ria\", \"album\": \"Calcinha Preta Premium\", \"album_type\": \"album\", \"release_date\": \"2013-01-18\"}, {\"name\": \"\\u00c9rica\", \"album\": \"Eu Amo Voc\\u00ea, Vol. 26\", \"album_type\": \"album\", \"release_date\": \"2012-09-11\"}, {\"name\": \"Retrato\", \"album\": \"Eu Amo Voc\\u00ea, Vol. 26\", \"album_type\": \"album\", \"release_date\": \"2012-09-11\"}, {\"name\": \"Diz Que Ainda Me Ama\", \"album\": \"Eu Amo Voc\\u00ea, Vol. 26\", \"album_type\": \"album\", \"release_date\": \"2012-09-11\"}, {\"name\": \"Eu Amo Voc\\u00ea\", \"album\": \"Eu Amo Voc\\u00ea, Vol. 26\", \"album_type\": \"album\", \"release_date\": \"2012-09-11\"}, {\"name\": \"Quem Ama N\\u00e3o Trai\", \"album\": \"Eu Amo Voc\\u00ea, Vol. 26\", \"album_type\": \"album\", \"release_date\": \"2012-09-11\"}, {\"name\": \"Quando um N\\u00e3o Quer Dois N\\u00e3o Brigam\", \"album\": \"Eu Amo Voc\\u00ea, Vol. 26\", \"album_type\": \"album\", \"release_date\": \"2012-09-11\"}, {\"name\": \"Calcinha Eu Te Amo\", \"album\": \"Eu Amo Voc\\u00ea, Vol. 26\", \"album_type\": \"album\", \"release_date\": \"2012-09-11\"}, {\"name\": \"Insubistitu\\u00edvel\", \"album\": \"Eu Amo Voc\\u00ea, Vol. 26\", \"album_type\": \"album\", \"release_date\": \"2012-09-11\"}, {\"name\": \"Beijo de L\\u00edngua\", \"album\": \"Eu Amo Voc\\u00ea, Vol. 26\", \"album_type\": \"album\", \"release_date\": \"2012-09-11\"}, {\"name\": \"Mariana Adriana Juliana\", \"album\": \"Eu Amo Voc\\u00ea, Vol. 26\", \"album_type\": \"album\", \"release_date\": \"2012-09-11\"}, {\"name\": \"Vou Chorar\", \"album\": \"Meu Primeiro Namorado, Vol. 25\", \"album_type\": \"album\", \"release_date\": \"2011-06-01\"}, {\"name\": \"Podem At\\u00e9 nos Separar\", \"album\": \"Meu Primeiro Namorado, Vol. 25\", \"album_type\": \"album\", \"release_date\": \"2011-06-01\"}, {\"name\": \"Presente de Casamento\", \"album\": \"Meu Primeiro Namorado, Vol. 25\", \"album_type\": \"album\", \"release_date\": \"2011-06-01\"}, {\"name\": \"Tentei Te Avisar\", \"album\": \"Meu Primeiro Namorado, Vol. 25\", \"album_type\": \"album\", \"release_date\": \"2011-06-01\"}, {\"name\": \"Meu Primeiro Namorado\", \"album\": \"Meu Primeiro Namorado, Vol. 25\", \"album_type\": \"album\", \"release_date\": \"2011-06-01\"}, {\"name\": \"Do Meu Jeito\", \"album\": \"Meu Primeiro Namorado, Vol. 25\", \"album_type\": \"album\", \"release_date\": \"2011-06-01\"}, {\"name\": \"S\\u00f3 Sei Que Eu Te Amo\", \"album\": \"Meu Primeiro Namorado, Vol. 25\", \"album_type\": \"album\", \"release_date\": \"2011-06-01\"}, {\"name\": \"Jura Que Me Ama\", \"album\": \"Meu Primeiro Namorado, Vol. 25\", \"album_type\": \"album\", \"release_date\": \"2011-06-01\"}, {\"name\": \"Cabelo Loiro\", \"album\": \"Meu Primeiro Namorado, Vol. 25\", \"album_type\": \"album\", \"release_date\": \"2011-06-01\"}, {\"name\": \"Ser\\u00e1 Que Vai Rolar?\", \"album\": \"Meu Primeiro Namorado, Vol. 25\", \"album_type\": \"album\", \"release_date\": \"2011-06-01\"}, {\"name\": \"Homem de Sorte\", \"album\": \"Meu Primeiro Namorado, Vol. 25\", \"album_type\": \"album\", \"release_date\": \"2011-06-01\"}, {\"name\": \"Noite, Noite, Noite\", \"album\": \"Meu Primeiro Namorado, Vol. 25\", \"album_type\": \"album\", \"release_date\": \"2011-06-01\"}, {\"name\": \"Marca A\\u00ed\", \"album\": \"Meu Primeiro Namorado, Vol. 25\", \"album_type\": \"album\", \"release_date\": \"2011-06-01\"}, {\"name\": \"Pra Quem Quiser Gostar de Mim\", \"album\": \"Meu Primeiro Namorado, Vol. 25\", \"album_type\": \"album\", \"release_date\": \"2011-06-01\"}, {\"name\": \"Onde o Sonho Mora - Ao Vivo\", \"album\": \"15 Anos: Ao Vivo em Macei\\u00f3, Vol. 24\", \"album_type\": \"album\", \"release_date\": \"2010-12-08\"}, {\"name\": \"Negro Lindo - Ao Vivo\", \"album\": \"15 Anos: Ao Vivo em Macei\\u00f3, Vol. 24\", \"album_type\": \"album\", \"release_date\": \"2010-12-08\"}, {\"name\": \"Voc\\u00ea N\\u00e3o Vale Nada - Ao Vivo\", \"album\": \"15 Anos: Ao Vivo em Macei\\u00f3, Vol. 24\", \"album_type\": \"album\", \"release_date\": \"2010-12-08\"}, {\"name\": \"Safadinho - Ao Vivo\", \"album\": \"15 Anos: Ao Vivo em Macei\\u00f3, Vol. 24\", \"album_type\": \"album\", \"release_date\": \"2010-12-08\"}, {\"name\": \"\\u00c9 S\\u00e9rio - Ao Vivo\", \"album\": \"15 Anos: Ao Vivo em Macei\\u00f3, Vol. 24\", \"album_type\": \"album\", \"release_date\": \"2010-12-08\"}, {\"name\": \"Pegando Fogo - Ao Vivo\", \"album\": \"15 Anos: Ao Vivo em Macei\\u00f3, Vol. 24\", \"album_type\": \"album\", \"release_date\": \"2010-12-08\"}, {\"name\": \"Hoje Eu T\\u00f4 Solteiro - Ao Vivo\", \"album\": \"15 Anos: Ao Vivo em Macei\\u00f3, Vol. 24\", \"album_type\": \"album\", \"release_date\": \"2010-12-08\"}, {\"name\": \"Eu Quero \\u00c9 Gastar - Ao Vivo\", \"album\": \"15 Anos: Ao Vivo em Macei\\u00f3, Vol. 24\", \"album_type\": \"album\", \"release_date\": \"2010-12-08\"}, {\"name\": \"Rosas e Champagne - Ao Vivo\", \"album\": \"15 Anos: Ao Vivo em Macei\\u00f3, Vol. 24\", \"album_type\": \"album\", \"release_date\": \"2010-12-08\"}, {\"name\": \"Primeiro de Abril - Ao Vivo\", \"album\": \"15 Anos: Ao Vivo em Macei\\u00f3, Vol. 24\", \"album_type\": \"album\", \"release_date\": \"2010-12-08\"}, {\"name\": \"Fotografias - Ao Vivo\", \"album\": \"15 Anos: Ao Vivo em Macei\\u00f3, Vol. 24\", \"album_type\": \"album\", \"release_date\": \"2010-12-08\"}, {\"name\": \"Tudo Que Eu Fa\\u00e7o \\u00c9 por Esse Amor - Ao Vivo\", \"album\": \"15 Anos: Ao Vivo em Macei\\u00f3, Vol. 24\", \"album_type\": \"album\", \"release_date\": \"2010-12-08\"}, {\"name\": \"S\\u00f3 Love - Ao Vivo\", \"album\": \"15 Anos: Ao Vivo em Macei\\u00f3, Vol. 24\", \"album_type\": \"album\", \"release_date\": \"2010-12-08\"}, {\"name\": \"Entre na Fila - Ao Vivo\", \"album\": \"15 Anos: Ao Vivo em Macei\\u00f3, Vol. 24\", \"album_type\": \"album\", \"release_date\": \"2010-12-08\"}, {\"name\": \"N\\u00e3o Adianta Chorar - Ao Vivo\", \"album\": \"15 Anos: Ao Vivo em Macei\\u00f3, Vol. 24\", \"album_type\": \"album\", \"release_date\": \"2010-12-08\"}, {\"name\": \"Vou Insistir - Ao Vivo\", \"album\": \"15 Anos: Ao Vivo em Macei\\u00f3, Vol. 24\", \"album_type\": \"album\", \"release_date\": \"2010-12-08\"}, {\"name\": \"Na Cama S\\u00f3 Vai Dar N\\u00f3s Dois - Ao Vivo\", \"album\": \"15 Anos: Ao Vivo em Macei\\u00f3, Vol. 24\", \"album_type\": \"album\", \"release_date\": \"2010-12-08\"}, {\"name\": \"M\\u00e1gica - Ao Vivo\", \"album\": \"15 Anos: Ao Vivo em Macei\\u00f3, Vol. 24\", \"album_type\": \"album\", \"release_date\": \"2010-12-08\"}, {\"name\": \"Hoje \\u00e0 Noite - Ao Vivo\", \"album\": \"15 Anos: Ao Vivo em Macei\\u00f3, Vol. 24\", \"album_type\": \"album\", \"release_date\": \"2010-12-08\"}, {\"name\": \"T\\u00f4 Soltinha - Ao Vivo\", \"album\": \"15 Anos: Ao Vivo em Macei\\u00f3, Vol. 24\", \"album_type\": \"album\", \"release_date\": \"2010-12-08\"}, {\"name\": \"Amor Dividido - Ao Vivo\", \"album\": \"15 Anos: Ao Vivo em Macei\\u00f3, Vol. 24\", \"album_type\": \"album\", \"release_date\": \"2010-12-08\"}, {\"name\": \"Virei Seu F\\u00e3 - Ao Vivo\", \"album\": \"15 Anos: Ao Vivo em Macei\\u00f3, Vol. 24\", \"album_type\": \"album\", \"release_date\": \"2010-12-08\"}, {\"name\": \"Rosas e Champagne (Ao Vivo)\", \"album\": \"Virei Seu F\\u00e3, Vol. 23 (Ao Vivo)\", \"album_type\": \"album\", \"release_date\": \"2010-08-01\"}, {\"name\": \"Entre na Fila (Ao Vivo)\", \"album\": \"Virei Seu F\\u00e3, Vol. 23 (Ao Vivo)\", \"album_type\": \"album\", \"release_date\": \"2010-08-01\"}, {\"name\": \"Fotografias (Ao Vivo)\", \"album\": \"Virei Seu F\\u00e3, Vol. 23 (Ao Vivo)\", \"album_type\": \"album\", \"release_date\": \"2010-08-01\"}, {\"name\": \"S\\u00f3 Love (Ao Vivo)\", \"album\": \"Virei Seu F\\u00e3, Vol. 23 (Ao Vivo)\", \"album_type\": \"album\", \"release_date\": \"2010-08-01\"}, {\"name\": \"Vou Insistir (Ao Vivo)\", \"album\": \"Virei Seu F\\u00e3, Vol. 23 (Ao Vivo)\", \"album_type\": \"album\", \"release_date\": \"2010-08-01\"}, {\"name\": \"Don Juan (Ao Vivo)\", \"album\": \"Virei Seu F\\u00e3, Vol. 23 (Ao Vivo)\", \"album_type\": \"album\", \"release_date\": \"2010-08-01\"}, {\"name\": \"Virei Seu F\\u00e3 (Ao Vivo)\", \"album\": \"Virei Seu F\\u00e3, Vol. 23 (Ao Vivo)\", \"album_type\": \"album\", \"release_date\": \"2010-08-01\"}, {\"name\": \"Eu Quero \\u00c9 Gastar (Ao Vivo)\", \"album\": \"Virei Seu F\\u00e3, Vol. 23 (Ao Vivo)\", \"album_type\": \"album\", \"release_date\": \"2010-08-01\"}, {\"name\": \"Tudo Que Eu Fa\\u00e7o \\u00c9 por Esse Amor (Ao Vivo)\", \"album\": \"Virei Seu F\\u00e3, Vol. 23 (Ao Vivo)\", \"album_type\": \"album\", \"release_date\": \"2010-08-01\"}, {\"name\": \"Hoje Eu T\\u00f4 Solteiro (Ao Vivo)\", \"album\": \"Virei Seu F\\u00e3, Vol. 23 (Ao Vivo)\", \"album_type\": \"album\", \"release_date\": \"2010-08-01\"}, {\"name\": \"Dist\\u00e2ncia (Ao Vivo)\", \"album\": \"Virei Seu F\\u00e3, Vol. 23 (Ao Vivo)\", \"album_type\": \"album\", \"release_date\": \"2010-08-01\"}, {\"name\": \"M\\u00e1gica (Ao Vivo)\", \"album\": \"Virei Seu F\\u00e3, Vol. 23 (Ao Vivo)\", \"album_type\": \"album\", \"release_date\": \"2010-08-01\"}, {\"name\": \"Voc\\u00ea N\\u00e3o Vale Nada (Ao Vivo)\", \"album\": \"Virei Seu F\\u00e3, Vol. 23 (Ao Vivo)\", \"album_type\": \"album\", \"release_date\": \"2010-08-01\"}, {\"name\": \"Voc\\u00ea Me Ama (Ao Vivo)\", \"album\": \"Virei Seu F\\u00e3, Vol. 23 (Ao Vivo)\", \"album_type\": \"album\", \"release_date\": \"2010-08-01\"}, {\"name\": \"Presente de Casamento (Ao Vivo)\", \"album\": \"Virei Seu F\\u00e3, Vol. 23 (Ao Vivo)\", \"album_type\": \"album\", \"release_date\": \"2010-08-01\"}, {\"name\": \"Sou Assim e N\\u00e3o Vou Mudar\", \"album\": \"Sou Assim, N\\u00e3o Vou Mudar, Vol. 22\", \"album_type\": \"album\", \"release_date\": \"2010-01-23\"}, {\"name\": \"T\\u00f4 Soltinha\", \"album\": \"Sou Assim, N\\u00e3o Vou Mudar, Vol. 22\", \"album_type\": \"album\", \"release_date\": \"2010-01-23\"}, {\"name\": \"Sou Brinquedinho Caro\", \"album\": \"Sou Assim, N\\u00e3o Vou Mudar, Vol. 22\", \"album_type\": \"album\", \"release_date\": \"2010-01-23\"}, {\"name\": \"Farra\", \"album\": \"Sou Assim, N\\u00e3o Vou Mudar, Vol. 22\", \"album_type\": \"album\", \"release_date\": \"2010-01-23\"}, {\"name\": \"\\u00c9 o Amor\", \"album\": \"Sou Assim, N\\u00e3o Vou Mudar, Vol. 22\", \"album_type\": \"album\", \"release_date\": \"2010-01-23\"}, {\"name\": \"\\u00c1 Sua Maneira\", \"album\": \"Sou Assim, N\\u00e3o Vou Mudar, Vol. 22\", \"album_type\": \"album\", \"release_date\": \"2010-01-23\"}, {\"name\": \"Parou por Aqui\", \"album\": \"Sou Assim, N\\u00e3o Vou Mudar, Vol. 22\", \"album_type\": \"album\", \"release_date\": \"2010-01-23\"}, {\"name\": \"T\\u00e1 Rolando um Ti Ti Ti\", \"album\": \"Sou Assim, N\\u00e3o Vou Mudar, Vol. 22\", \"album_type\": \"album\", \"release_date\": \"2010-01-23\"}, {\"name\": \"A M\\u00e1gica do Amor\", \"album\": \"Sou Assim, N\\u00e3o Vou Mudar, Vol. 22\", \"album_type\": \"album\", \"release_date\": \"2010-01-23\"}, {\"name\": \"Mal de Amor\", \"album\": \"Sou Assim, N\\u00e3o Vou Mudar, Vol. 22\", \"album_type\": \"album\", \"release_date\": \"2010-01-23\"}, {\"name\": \"Minha Favorita\", \"album\": \"Sou Assim, N\\u00e3o Vou Mudar, Vol. 22\", \"album_type\": \"album\", \"release_date\": \"2010-01-23\"}, {\"name\": \"\\u00c9 Seu Amor Que Eu Quero\", \"album\": \"Sou Assim, N\\u00e3o Vou Mudar, Vol. 22\", \"album_type\": \"album\", \"release_date\": \"2010-01-23\"}, {\"name\": \"Quem \\u00c9 Que Voc\\u00ea Ama\", \"album\": \"Sou Assim, N\\u00e3o Vou Mudar, Vol. 22\", \"album_type\": \"album\", \"release_date\": \"2010-01-23\"}, {\"name\": \"Eu Sempre Estive Aqui T\\u00e3o Perto\", \"album\": \"Sou Assim, N\\u00e3o Vou Mudar, Vol. 22\", \"album_type\": \"album\", \"release_date\": \"2010-01-23\"}, {\"name\": \"Desejo Te Amar\", \"album\": \"Sou Assim, N\\u00e3o Vou Mudar, Vol. 22\", \"album_type\": \"album\", \"release_date\": \"2010-01-23\"}, {\"name\": \"Vou Ganhar Voc\\u00ea\", \"album\": \"Sou Assim, N\\u00e3o Vou Mudar, Vol. 22\", \"album_type\": \"album\", \"release_date\": \"2010-01-23\"}, {\"name\": \"Como Fui Me Apaixonar (Ao Vivo)\", \"album\": \"Eu Amo Demais, Vol. 21 (Ao Vivo)\", \"album_type\": \"album\", \"release_date\": \"2009-09-16\"}, {\"name\": \"T\\u00e1 Estourado (Ao Vivo)\", \"album\": \"Eu Amo Demais, Vol. 21 (Ao Vivo)\", \"album_type\": \"album\", \"release_date\": \"2009-09-16\"}, {\"name\": \"Voc\\u00ea N\\u00e3o Vale Nada (Ao Vivo)\", \"album\": \"Eu Amo Demais, Vol. 21 (Ao Vivo)\", \"album_type\": \"album\", \"release_date\": \"2009-09-16\"}, {\"name\": \"A Dona do Meu Cora\\u00e7\\u00e3o (Ao Vivo)\", \"album\": \"Eu Amo Demais, Vol. 21 (Ao Vivo)\", \"album_type\": \"album\", \"release_date\": \"2009-09-16\"}, {\"name\": \"Balan\\u00e7o do Amor (Ao Vivo)\", \"album\": \"Eu Amo Demais, Vol. 21 (Ao Vivo)\", \"album_type\": \"album\", \"release_date\": \"2009-09-16\"}, {\"name\": \"Kelly (Ao Vivo)\", \"album\": \"Eu Amo Demais, Vol. 21 (Ao Vivo)\", \"album_type\": \"album\", \"release_date\": \"2009-09-16\"}, {\"name\": \"Eu Amo Demais (Ao Vivo)\", \"album\": \"Eu Amo Demais, Vol. 21 (Ao Vivo)\", \"album_type\": \"album\", \"release_date\": \"2009-09-16\"}, {\"name\": \"O Amor \\u00c8 Cego (Ao Vivo)\", \"album\": \"Eu Amo Demais, Vol. 21 (Ao Vivo)\", \"album_type\": \"album\", \"release_date\": \"2009-09-16\"}, {\"name\": \"Vou te Deixar Doid\\u00e3o (Ao Vivo)\", \"album\": \"Eu Amo Demais, Vol. 21 (Ao Vivo)\", \"album_type\": \"album\", \"release_date\": \"2009-09-16\"}, {\"name\": \"Liga pra Mim (Ao Vivo)\", \"album\": \"Eu Amo Demais, Vol. 21 (Ao Vivo)\", \"album_type\": \"album\", \"release_date\": \"2009-09-16\"}, {\"name\": \"Overdose de Amor (Ao Vivo)\", \"album\": \"Eu Amo Demais, Vol. 21 (Ao Vivo)\", \"album_type\": \"album\", \"release_date\": \"2009-09-16\"}, {\"name\": \"Te Acho T\\u00e3o Linda (Ao Vivo)\", \"album\": \"Eu Amo Demais, Vol. 21 (Ao Vivo)\", \"album_type\": \"album\", \"release_date\": \"2009-09-16\"}, {\"name\": \"Cena de Novela (Ao Vivo)\", \"album\": \"Eu Amo Demais, Vol. 21 (Ao Vivo)\", \"album_type\": \"album\", \"release_date\": \"2009-09-16\"}, {\"name\": \"N\\u00e3o Desligue Amor (Ao Vivo)\", \"album\": \"Eu Amo Demais, Vol. 21 (Ao Vivo)\", \"album_type\": \"album\", \"release_date\": \"2009-09-16\"}, {\"name\": \"Salve o Nosso Amor (Ao Vivo)\", \"album\": \"Voc\\u00ea N\\u00e3o Vale Nada, Vol. 20 (Ao Vivo)\", \"album_type\": \"album\", \"release_date\": \"2009-01-21\"}, {\"name\": \"Voc\\u00ea N\\u00e3o Vale Nada (Ao Vivo)\", \"album\": \"Voc\\u00ea N\\u00e3o Vale Nada, Vol. 20 (Ao Vivo)\", \"album_type\": \"album\", \"release_date\": \"2009-01-21\"}, {\"name\": \"N\\u00e3o Gruda, N\\u00e3o Cola (Ao Vivo)\", \"album\": \"Voc\\u00ea N\\u00e3o Vale Nada, Vol. 20 (Ao Vivo)\", \"album_type\": \"album\", \"release_date\": \"2009-01-21\"}, {\"name\": \"Novo Namorado (Ao Vivo)\", \"album\": \"Voc\\u00ea N\\u00e3o Vale Nada, Vol. 20 (Ao Vivo)\", \"album_type\": \"album\", \"release_date\": \"2009-01-21\"}, {\"name\": \"Amor Dividido (Ao Vivo)\", \"album\": \"Voc\\u00ea N\\u00e3o Vale Nada, Vol. 20 (Ao Vivo)\", \"album_type\": \"album\", \"release_date\": \"2009-01-21\"}, {\"name\": \"N\\u00e3o Se Apaixone, N\\u00e3o (Ao Vivo)\", \"album\": \"Voc\\u00ea N\\u00e3o Vale Nada, Vol. 20 (Ao Vivo)\", \"album_type\": \"album\", \"release_date\": \"2009-01-21\"}, {\"name\": \"N\\u00e3o Desligue, Amor (Ao Vivo)\", \"album\": \"Voc\\u00ea N\\u00e3o Vale Nada, Vol. 20 (Ao Vivo)\", \"album_type\": \"album\", \"release_date\": \"2009-01-21\"}, {\"name\": \"S\\u00f3 N\\u00e3o Diga, Bye, Bye (Ao Vivo)\", \"album\": \"Voc\\u00ea N\\u00e3o Vale Nada, Vol. 20 (Ao Vivo)\", \"album_type\": \"album\", \"release_date\": \"2009-01-21\"}, {\"name\": \"N\\u00e3o Tem Segredo (Ao Vivo)\", \"album\": \"Voc\\u00ea N\\u00e3o Vale Nada, Vol. 20 (Ao Vivo)\", \"album_type\": \"album\", \"release_date\": \"2009-01-21\"}, {\"name\": \"Vamos pra L\\u00e1 Beber (Ao Vivo)\", \"album\": \"Voc\\u00ea N\\u00e3o Vale Nada, Vol. 20 (Ao Vivo)\", \"album_type\": \"album\", \"release_date\": \"2009-01-21\"}, {\"name\": \"Cena de Novela (Ao Vivo)\", \"album\": \"Voc\\u00ea N\\u00e3o Vale Nada, Vol. 20 (Ao Vivo)\", \"album_type\": \"album\", \"release_date\": \"2009-01-21\"}, {\"name\": \"Sem Explica\\u00e7\\u00e3o (Ao Vivo)\", \"album\": \"Voc\\u00ea N\\u00e3o Vale Nada, Vol. 20 (Ao Vivo)\", \"album_type\": \"album\", \"release_date\": \"2009-01-21\"}, {\"name\": \"Tutti - Frutti (Ao Vivo)\", \"album\": \"Voc\\u00ea N\\u00e3o Vale Nada, Vol. 20 (Ao Vivo)\", \"album_type\": \"album\", \"release_date\": \"2009-01-21\"}, {\"name\": \"Te Acho T\\u00e3o Linda (Ao Vivo)\", \"album\": \"Voc\\u00ea N\\u00e3o Vale Nada, Vol. 20 (Ao Vivo)\", \"album_type\": \"album\", \"release_date\": \"2009-01-21\"}, {\"name\": \"\\u00c9 por Amor (Ao Vivo)\", \"album\": \"Voc\\u00ea N\\u00e3o Vale Nada, Vol. 20 (Ao Vivo)\", \"album_type\": \"album\", \"release_date\": \"2009-01-21\"}, {\"name\": \"Entre Quatro Paredes (Ao Vivo)\", \"album\": \"Voc\\u00ea N\\u00e3o Vale Nada, Vol. 20 (Ao Vivo)\", \"album_type\": \"album\", \"release_date\": \"2009-01-21\"}, {\"name\": \"J\\u00e1 me Acostumei \\\"Some Mistake\\\"\", \"album\": \"Vencedor, Vol. 19\", \"album_type\": \"album\", \"release_date\": \"2008-05-19\"}, {\"name\": \"Vamos pra l\\u00e1 Beber\", \"album\": \"Vencedor, Vol. 19\", \"album_type\": \"album\", \"release_date\": \"2008-05-19\"}, {\"name\": \"Tutti- Futti\", \"album\": \"Vencedor, Vol. 19\", \"album_type\": \"album\", \"release_date\": \"2008-05-19\"}, {\"name\": \"Vencedor\", \"album\": \"Vencedor, Vol. 19\", \"album_type\": \"album\", \"release_date\": \"2008-05-19\"}, {\"name\": \"Ana, Hoje Lembrei de Voc\\u00ea\", \"album\": \"Vencedor, Vol. 19\", \"album_type\": \"album\", \"release_date\": \"2008-05-19\"}, {\"name\": \"N\\u00e3o Vale a Pena \\\"Linger\\\"\", \"album\": \"Vencedor, Vol. 19\", \"album_type\": \"album\", \"release_date\": \"2008-05-19\"}, {\"name\": \"Vou Te Dominar\", \"album\": \"Vencedor, Vol. 19\", \"album_type\": \"album\", \"release_date\": \"2008-05-19\"}, {\"name\": \"Amor Dividido\", \"album\": \"Vencedor, Vol. 19\", \"album_type\": \"album\", \"release_date\": \"2008-05-19\"}, {\"name\": \"Garotas N\\u00e3o Choram \\\"Big Girls Don\\u00b4t Cry\\\"\", \"album\": \"Vencedor, Vol. 19\", \"album_type\": \"album\", \"release_date\": \"2008-05-19\"}, {\"name\": \"Amanda I Love You\", \"album\": \"Vencedor, Vol. 19\", \"album_type\": \"album\", \"release_date\": \"2008-05-19\"}, {\"name\": \"Vou Tomar um Porre\", \"album\": \"Vencedor, Vol. 19\", \"album_type\": \"album\", \"release_date\": \"2008-05-19\"}, {\"name\": \"Desilus\\u00e3o\", \"album\": \"Vencedor, Vol. 19\", \"album_type\": \"album\", \"release_date\": \"2008-05-19\"}, {\"name\": \"Fique no Meu Cora\\u00e7\\u00e3o\", \"album\": \"Vencedor, Vol. 19\", \"album_type\": \"album\", \"release_date\": \"2008-05-19\"}, {\"name\": \"Amanda (Ao Vivo)\", \"album\": \"Ao Vivo no Recife, Vol. 18\", \"album_type\": \"album\", \"release_date\": \"2008-01-28\"}, {\"name\": \"Hoje \\u00e0 Noite (Ao Vivo)\", \"album\": \"Ao Vivo no Recife, Vol. 18\", \"album_type\": \"album\", \"release_date\": \"2008-01-28\"}, {\"name\": \"Como Vou Deixar Voc\\u00ea ? (Ao Vivo)\", \"album\": \"Ao Vivo no Recife, Vol. 18\", \"album_type\": \"album\", \"release_date\": \"2008-01-28\"}, {\"name\": \"Ficar por Ficar (Ao Vivo)\", \"album\": \"Ao Vivo no Recife, Vol. 18\", \"album_type\": \"album\", \"release_date\": \"2008-01-28\"}, {\"name\": \"Garotas N\\u00e3o Choram (Ao Vivo)\", \"album\": \"Ao Vivo no Recife, Vol. 18\", \"album_type\": \"album\", \"release_date\": \"2008-01-28\"}, {\"name\": \"Fica Comigo (Ao Vivo)\", \"album\": \"Ao Vivo no Recife, Vol. 18\", \"album_type\": \"album\", \"release_date\": \"2008-01-28\"}, {\"name\": \"Pens\\u00e3o Aliment\\u00edcia (Ao Vivo)\", \"album\": \"Ao Vivo no Recife, Vol. 18\", \"album_type\": \"album\", \"release_date\": \"2008-01-28\"}, {\"name\": \"Faltou o Leite Ninho (Ao Vivo)\", \"album\": \"Ao Vivo no Recife, Vol. 18\", \"album_type\": \"album\", \"release_date\": \"2008-01-28\"}, {\"name\": \"Bebo e Choro (Ao Vivo)\", \"album\": \"Ao Vivo no Recife, Vol. 18\", \"album_type\": \"album\", \"release_date\": \"2008-01-28\"}, {\"name\": \"Se Quiser \\u00c9 Assim (Ao Vivo)\", \"album\": \"Ao Vivo no Recife, Vol. 18\", \"album_type\": \"album\", \"release_date\": \"2008-01-28\"}, {\"name\": \"Pega Fogo Cabar\\u00e9 (Ao Vivo)\", \"album\": \"Ao Vivo no Recife, Vol. 18\", \"album_type\": \"album\", \"release_date\": \"2008-01-28\"}, {\"name\": \"Arreia Cerveja (Ao Vivo)\", \"album\": \"Ao Vivo no Recife, Vol. 18\", \"album_type\": \"album\", \"release_date\": \"2008-01-28\"}, {\"name\": \"Dois Amores, Duas Paix\\u00f5es (Ao Vivo)\", \"album\": \"Ao Vivo no Recife, Vol. 18\", \"album_type\": \"album\", \"release_date\": \"2008-01-28\"}, {\"name\": \"Por Que Tocou Meu Cora\\u00e7\\u00e3o ? (Ao Vivo)\", \"album\": \"Ao Vivo no Recife, Vol. 18\", \"album_type\": \"album\", \"release_date\": \"2008-01-28\"}, {\"name\": \"Ainda Te Amo\", \"album\": \"Ao Vivo no Recife, Vol. 18\", \"album_type\": \"album\", \"release_date\": \"2008-01-28\"}, {\"name\": \"Fica Comigo\", \"album\": \"Fica Comigo, Paulinha, Vol. 17\", \"album_type\": \"album\", \"release_date\": \"2007-08-21\"}, {\"name\": \"24 Horas de Amor\", \"album\": \"Fica Comigo, Paulinha, Vol. 17\", \"album_type\": \"album\", \"release_date\": \"2007-08-21\"}, {\"name\": \"Locutor\", \"album\": \"Fica Comigo, Paulinha, Vol. 17\", \"album_type\": \"album\", \"release_date\": \"2007-08-21\"}, {\"name\": \"Me Diz Onde Voc\\u00ea Est\\u00e1?\", \"album\": \"Fica Comigo, Paulinha, Vol. 17\", \"album_type\": \"album\", \"release_date\": \"2007-08-21\"}, {\"name\": \"Arreia Cerveja\", \"album\": \"Fica Comigo, Paulinha, Vol. 17\", \"album_type\": \"album\", \"release_date\": \"2007-08-21\"}, {\"name\": \"Cora\\u00e7\\u00e3o Vagabundo\", \"album\": \"Fica Comigo, Paulinha, Vol. 17\", \"album_type\": \"album\", \"release_date\": \"2007-08-21\"}, {\"name\": \"A Vida \\u00c9 Assim\", \"album\": \"Fica Comigo, Paulinha, Vol. 17\", \"album_type\": \"album\", \"release_date\": \"2007-08-21\"}, {\"name\": \"Hoje Eu Acabo Essa Hist\\u00f3ria\", \"album\": \"Fica Comigo, Paulinha, Vol. 17\", \"album_type\": \"album\", \"release_date\": \"2007-08-21\"}, {\"name\": \"Como Vou Deixar Voc\\u00ea?\", \"album\": \"Fica Comigo, Paulinha, Vol. 17\", \"album_type\": \"album\", \"release_date\": \"2007-08-21\"}, {\"name\": \"Faltou o Leite Ninho\", \"album\": \"Fica Comigo, Paulinha, Vol. 17\", \"album_type\": \"album\", \"release_date\": \"2007-08-21\"}, {\"name\": \"Como Vai Deixar Voc\\u00ea?\", \"album\": \"Como Vou Deixar Voc\\u00ea?, Vol. 16\", \"album_type\": \"album\", \"release_date\": \"2007-01-01\"}, {\"name\": \"Pens\\u00e3o Aliment\\u00edcia\", \"album\": \"Como Vou Deixar Voc\\u00ea?, Vol. 16\", \"album_type\": \"album\", \"release_date\": \"2007-01-01\"}, {\"name\": \"Faltou o Leite Ninho\", \"album\": \"Como Vou Deixar Voc\\u00ea?, Vol. 16\", \"album_type\": \"album\", \"release_date\": \"2007-01-01\"}, {\"name\": \"Eu Sou o Cara\", \"album\": \"Como Vou Deixar Voc\\u00ea?, Vol. 16\", \"album_type\": \"album\", \"release_date\": \"2007-01-01\"}, {\"name\": \"Puxei a Meu Pai\", \"album\": \"Como Vou Deixar Voc\\u00ea?, Vol. 16\", \"album_type\": \"album\", \"release_date\": \"2007-01-01\"}, {\"name\": \"Cora\\u00e7\\u00e3o Free\", \"album\": \"Como Vou Deixar Voc\\u00ea?, Vol. 16\", \"album_type\": \"album\", \"release_date\": \"2007-01-01\"}, {\"name\": \"Aumente Meu Sal\\u00e1rio\", \"album\": \"Como Vou Deixar Voc\\u00ea?, Vol. 16\", \"album_type\": \"album\", \"release_date\": \"2007-01-01\"}, {\"name\": \"Como Vou Deixar Voc\\u00ea? - El\\u00e9trica\", \"album\": \"Como Vou Deixar Voc\\u00ea?, Vol. 16\", \"album_type\": \"album\", \"release_date\": \"2007-01-01\"}, {\"name\": \"Do Meu Jeito\", \"album\": \"Como Vou Deixar Voc\\u00ea?, Vol. 16\", \"album_type\": \"album\", \"release_date\": \"2007-01-01\"}, {\"name\": \"Pens\\u00e3o Aliment\\u00edcia - El\\u00e9trica\", \"album\": \"Como Vou Deixar Voc\\u00ea?, Vol. 16\", \"album_type\": \"album\", \"release_date\": \"2007-01-01\"}, {\"name\": \"Faltou o Leite Ninho - El\\u00e9trica\", \"album\": \"Como Vou Deixar Voc\\u00ea?, Vol. 16\", \"album_type\": \"album\", \"release_date\": \"2007-01-01\"}, {\"name\": \"Por Que Tocou Meu Cora\\u00e7\\u00e3o? / A Encruzilhada - El\\u00e9trica\", \"album\": \"Como Vou Deixar Voc\\u00ea?, Vol. 16\", \"album_type\": \"album\", \"release_date\": \"2007-01-01\"}, {\"name\": \"Leil\\u00e3o - El\\u00e9trica\", \"album\": \"Como Vou Deixar Voc\\u00ea?, Vol. 16\", \"album_type\": \"album\", \"release_date\": \"2007-01-01\"}, {\"name\": \"Se Quiser \\u00c9 Assim - El\\u00e9trica\", \"album\": \"Como Vou Deixar Voc\\u00ea?, Vol. 16\", \"album_type\": \"album\", \"release_date\": \"2007-01-01\"}, {\"name\": \"Bebo e Choro - El\\u00e9trica\", \"album\": \"Como Vou Deixar Voc\\u00ea?, Vol. 16\", \"album_type\": \"album\", \"release_date\": \"2007-01-01\"}, {\"name\": \"A Calcinha Preta \\u00c9 Nossa - El\\u00e9trica\", \"album\": \"Como Vou Deixar Voc\\u00ea?, Vol. 16\", \"album_type\": \"album\", \"release_date\": \"2007-01-01\"}, {\"name\": \"Segredo / Sonho Lindo / Baby Dool - El\\u00e9trica\", \"album\": \"Como Vou Deixar Voc\\u00ea?, Vol. 16\", \"album_type\": \"album\", \"release_date\": \"2007-01-01\"}, {\"name\": \"Se Quiser \\u00c9 Assim - Ao Vivo\", \"album\": \"Pens\\u00e3o Aliment\\u00edcia, Vol. 15\", \"album_type\": \"album\", \"release_date\": \"2006-07-01\"}, {\"name\": \"Campe\\u00e3o de Bilheteria\", \"album\": \"Pens\\u00e3o Aliment\\u00edcia, Vol. 15\", \"album_type\": \"album\", \"release_date\": \"2006-07-01\"}, {\"name\": \"Pens\\u00e3o Aliment\\u00edcia\", \"album\": \"Pens\\u00e3o Aliment\\u00edcia, Vol. 15\", \"album_type\": \"album\", \"release_date\": \"2006-07-01\"}, {\"name\": \"Bebo e Choro\", \"album\": \"Pens\\u00e3o Aliment\\u00edcia, Vol. 15\", \"album_type\": \"album\", \"release_date\": \"2006-07-01\"}, {\"name\": \"O C\\u00f3digo das Vinte\", \"album\": \"Pens\\u00e3o Aliment\\u00edcia, Vol. 15\", \"album_type\": \"album\", \"release_date\": \"2006-07-01\"}, {\"name\": \"Romeu e Julieta\", \"album\": \"Pens\\u00e3o Aliment\\u00edcia, Vol. 15\", \"album_type\": \"album\", \"release_date\": \"2006-07-01\"}, {\"name\": \"Te Amo Demais\", \"album\": \"Pens\\u00e3o Aliment\\u00edcia, Vol. 15\", \"album_type\": \"album\", \"release_date\": \"2006-07-01\"}, {\"name\": \"Faltou Coragem\", \"album\": \"Pens\\u00e3o Aliment\\u00edcia, Vol. 15\", \"album_type\": \"album\", \"release_date\": \"2006-07-01\"}, {\"name\": \"Tanto Amor Que Eu Te Dei\", \"album\": \"Pens\\u00e3o Aliment\\u00edcia, Vol. 15\", \"album_type\": \"album\", \"release_date\": \"2006-07-01\"}, {\"name\": \"Por Que Tocou Meu Cora\\u00e7\\u00e3o?\", \"album\": \"Pens\\u00e3o Aliment\\u00edcia, Vol. 15\", \"album_type\": \"album\", \"release_date\": \"2006-07-01\"}, {\"name\": \"Vem Me Deixar Louca\", \"album\": \"Pens\\u00e3o Aliment\\u00edcia, Vol. 15\", \"album_type\": \"album\", \"release_date\": \"2006-07-01\"}, {\"name\": \"Armadilha\", \"album\": \"Pens\\u00e3o Aliment\\u00edcia, Vol. 15\", \"album_type\": \"album\", \"release_date\": \"2006-07-01\"}, {\"name\": \"A Encruzilhada\", \"album\": \"Pens\\u00e3o Aliment\\u00edcia, Vol. 15\", \"album_type\": \"album\", \"release_date\": \"2006-07-01\"}, {\"name\": \"O Que Vou Fazer?\", \"album\": \"Pens\\u00e3o Aliment\\u00edcia, Vol. 15\", \"album_type\": \"album\", \"release_date\": \"2006-07-01\"}, {\"name\": \"Ad\\u00e3o e Eva\", \"album\": \"Pens\\u00e3o Aliment\\u00edcia, Vol. 15\", \"album_type\": \"album\", \"release_date\": \"2006-07-01\"}, {\"name\": \"Cobertor\", \"album\": \"As 20 +\", \"album_type\": \"album\", \"release_date\": \"2006-01-15\"}, {\"name\": \"Desilus\\u00e3o\", \"album\": \"As 20 +\", \"album_type\": \"album\", \"release_date\": \"2006-01-15\"}, {\"name\": \"E o Vento Levou\", \"album\": \"As 20 +\", \"album_type\": \"album\", \"release_date\": \"2006-01-15\"}, {\"name\": \"Hoje \\u00e0 Noite \\\"Alone\\\"\", \"album\": \"As 20 +\", \"album_type\": \"album\", \"release_date\": \"2006-01-15\"}, {\"name\": \"Louca por Ti \\\"Dust in the Wind\\\"\", \"album\": \"As 20 +\", \"album_type\": \"album\", \"release_date\": \"2006-01-15\"}, {\"name\": \"Sonho Lindo\", \"album\": \"As 20 +\", \"album_type\": \"album\", \"release_date\": \"2006-01-15\"}, {\"name\": \"Tudo de Novo\", \"album\": \"As 20 +\", \"album_type\": \"album\", \"release_date\": \"2006-01-15\"}, {\"name\": \"Ad\\u00e3o e Eva\", \"album\": \"As 20 +\", \"album_type\": \"album\", \"release_date\": \"2006-01-15\"}, {\"name\": \"M\\u00e1gica\", \"album\": \"As 20 +\", \"album_type\": \"album\", \"release_date\": \"2006-01-15\"}, {\"name\": \"Segredos\", \"album\": \"As 20 +\", \"album_type\": \"album\", \"release_date\": \"2006-01-15\"}, {\"name\": \"Cada Paix\\u00e3o uma Novela\", \"album\": \"As 20 +\", \"album_type\": \"album\", \"release_date\": \"2006-01-15\"}, {\"name\": \"Manchete dos Jornais\", \"album\": \"As 20 +\", \"album_type\": \"album\", \"release_date\": \"2006-01-15\"}, {\"name\": \"Baby Doll\", \"album\": \"As 20 +\", \"album_type\": \"album\", \"release_date\": \"2006-01-15\"}, {\"name\": \"Por Amor\", \"album\": \"As 20 +\", \"album_type\": \"album\", \"release_date\": \"2006-01-15\"}, {\"name\": \"Dois Amores, Duas Paix\\u00f5es\", \"album\": \"As 20 +\", \"album_type\": \"album\", \"release_date\": \"2006-01-15\"}, {\"name\": \"Amor da Minha Vida\", \"album\": \"As 20 +\", \"album_type\": \"album\", \"release_date\": \"2006-01-15\"}, {\"name\": \"Renascer\\u00e1\", \"album\": \"As 20 +\", \"album_type\": \"album\", \"release_date\": \"2006-01-15\"}, {\"name\": \"Furunfa\", \"album\": \"As 20 +\", \"album_type\": \"album\", \"release_date\": \"2006-01-15\"}, {\"name\": \"Te Quero Namorar\", \"album\": \"As 20 +\", \"album_type\": \"album\", \"release_date\": \"2006-01-15\"}, {\"name\": \"A Calcinha Preta \\u00c9 Nossa\", \"album\": \"As 20 +\", \"album_type\": \"album\", \"release_date\": \"2006-01-15\"}, {\"name\": \"Dois Amores, Duas Paix\\u00f5es\", \"album\": \"Dois Amores, Duas Paix\\u00f5es, Vol. 14\", \"album_type\": \"album\", \"release_date\": \"2006-01-01\"}, {\"name\": \"A Calcinha Preta \\u00c9 Nossa\", \"album\": \"Dois Amores, Duas Paix\\u00f5es, Vol. 14\", \"album_type\": \"album\", \"release_date\": \"2006-01-01\"}, {\"name\": \"Por Que Tocou Meu Cora\\u00e7\\u00e3o?\", \"album\": \"Dois Amores, Duas Paix\\u00f5es, Vol. 14\", \"album_type\": \"album\", \"release_date\": \"2006-01-01\"}, {\"name\": \"Balan\\u00e7ando o Brasil\", \"album\": \"Dois Amores, Duas Paix\\u00f5es, Vol. 14\", \"album_type\": \"album\", \"release_date\": \"2006-01-01\"}, {\"name\": \"O Que Vou Fazer?\", \"album\": \"Dois Amores, Duas Paix\\u00f5es, Vol. 14\", \"album_type\": \"album\", \"release_date\": \"2006-01-01\"}, {\"name\": \"Se Quiser \\u00c9 Assim\", \"album\": \"Dois Amores, Duas Paix\\u00f5es, Vol. 14\", \"album_type\": \"album\", \"release_date\": \"2006-01-01\"}, {\"name\": \"S\\u00f3 um Amor\", \"album\": \"Dois Amores, Duas Paix\\u00f5es, Vol. 14\", \"album_type\": \"album\", \"release_date\": \"2006-01-01\"}, {\"name\": \"A Encruzilhada\", \"album\": \"Dois Amores, Duas Paix\\u00f5es, Vol. 14\", \"album_type\": \"album\", \"release_date\": \"2006-01-01\"}, {\"name\": \"Beijo Molhado\", \"album\": \"Dois Amores, Duas Paix\\u00f5es, Vol. 14\", \"album_type\": \"album\", \"release_date\": \"2006-01-01\"}, {\"name\": \"Uma Gota no Oceano\", \"album\": \"Dois Amores, Duas Paix\\u00f5es, Vol. 14\", \"album_type\": \"album\", \"release_date\": \"2006-01-01\"}, {\"name\": \"Beijar por Beijar\", \"album\": \"Dois Amores, Duas Paix\\u00f5es, Vol. 14\", \"album_type\": \"album\", \"release_date\": \"2006-01-01\"}, {\"name\": \"Vem Me Deixar Louca\", \"album\": \"Dois Amores, Duas Paix\\u00f5es, Vol. 14\", \"album_type\": \"album\", \"release_date\": \"2006-01-01\"}, {\"name\": \"Me Ensina a Namorar\", \"album\": \"Dois Amores, Duas Paix\\u00f5es, Vol. 14\", \"album_type\": \"album\", \"release_date\": \"2006-01-01\"}, {\"name\": \"Amor, Amor, Amor / Noite, Noite, Noite - Ac\\u00fastico\", \"album\": \"Dois Amores, Duas Paix\\u00f5es, Vol. 14\", \"album_type\": \"album\", \"release_date\": \"2006-01-01\"}, {\"name\": \"S\\u00f3 Voc\\u00ea Me Faz Feliz / Jura Que Me Ama - Ac\\u00fastico\", \"album\": \"Dois Amores, Duas Paix\\u00f5es, Vol. 14\", \"album_type\": \"album\", \"release_date\": \"2006-01-01\"}, {\"name\": \"Por Que Tocou Meu Cora\\u00e7\\u00e3o - Ac\\u00fastico\", \"album\": \"Dois Amores, Duas Paix\\u00f5es, Vol. 14\", \"album_type\": \"album\", \"release_date\": \"2006-01-01\"}, {\"name\": \"Manchete dos Jornais\", \"album\": \"M\\u00e1gica, Vol. 12\", \"album_type\": \"album\", \"release_date\": \"2005-01-01\"}, {\"name\": \"A Calcinha Preta \\u00c9 Nossa\", \"album\": \"M\\u00e1gica, Vol. 12\", \"album_type\": \"album\", \"release_date\": \"2005-01-01\"}, {\"name\": \"Renascer\\u00e1\", \"album\": \"M\\u00e1gica, Vol. 12\", \"album_type\": \"album\", \"release_date\": \"2005-01-01\"}, {\"name\": \"Perdoar\", \"album\": \"M\\u00e1gica, Vol. 12\", \"album_type\": \"album\", \"release_date\": \"2005-01-01\"}, {\"name\": \"O Navio e o Mar - Send Me An Angel\", \"album\": \"M\\u00e1gica, Vol. 12\", \"album_type\": \"album\", \"release_date\": \"2005-01-01\"}, {\"name\": \"Ainda Te Amo\", \"album\": \"M\\u00e1gica, Vol. 12\", \"album_type\": \"album\", \"release_date\": \"2005-01-01\"}, {\"name\": \"M\\u00e1gica\", \"album\": \"M\\u00e1gica, Vol. 12\", \"album_type\": \"album\", \"release_date\": \"2005-01-01\"}, {\"name\": \"Sai Solid\\u00e3o\", \"album\": \"M\\u00e1gica, Vol. 12\", \"album_type\": \"album\", \"release_date\": \"2005-01-01\"}, {\"name\": \"Segredo\", \"album\": \"M\\u00e1gica, Vol. 12\", \"album_type\": \"album\", \"release_date\": \"2005-01-01\"}, {\"name\": \"S\\u00f3 Tenho Olhos pra Voc\\u00ea\", \"album\": \"M\\u00e1gica, Vol. 12\", \"album_type\": \"album\", \"release_date\": \"2005-01-01\"}, {\"name\": \"Abra o Meu Cora\\u00e7\\u00e3o\", \"album\": \"M\\u00e1gica, Vol. 12\", \"album_type\": \"album\", \"release_date\": \"2005-01-01\"}, {\"name\": \"Declara\\u00e7\\u00e3o de Amor\", \"album\": \"M\\u00e1gica, Vol. 12\", \"album_type\": \"album\", \"release_date\": \"2005-01-01\"}, {\"name\": \"Um Degrau na Escada (Ao Vivo)\", \"album\": \"Calcinha Preta, Vol. 13 (Ao Vivo)\", \"album_type\": \"album\", \"release_date\": \"2005\"}, {\"name\": \"Ad\\u00e3o e Eva (Ao Vivo)\", \"album\": \"Calcinha Preta, Vol. 13 (Ao Vivo)\", \"album_type\": \"album\", \"release_date\": \"2005\"}, {\"name\": \"Hoje \\u00e1 Noite \\\"Alone\\\" (Ao Vivo)\", \"album\": \"Calcinha Preta, Vol. 13 (Ao Vivo)\", \"album_type\": \"album\", \"release_date\": \"2005\"}, {\"name\": \"Cada Paix\\u00e3o uma Novela (Ao Vivo)\", \"album\": \"Calcinha Preta, Vol. 13 (Ao Vivo)\", \"album_type\": \"album\", \"release_date\": \"2005\"}, {\"name\": \"Manchete dos Jornais (Ao Vivo)\", \"album\": \"Calcinha Preta, Vol. 13 (Ao Vivo)\", \"album_type\": \"album\", \"release_date\": \"2005\"}, {\"name\": \"Desfile de Moda (Ao Vivo)\", \"album\": \"Calcinha Preta, Vol. 13 (Ao Vivo)\", \"album_type\": \"album\", \"release_date\": \"2005\"}, {\"name\": \"M\\u00e1gica (Ao Vivo)\", \"album\": \"Calcinha Preta, Vol. 13 (Ao Vivo)\", \"album_type\": \"album\", \"release_date\": \"2005\"}, {\"name\": \"A Calcinha Preta \\u00c9 Nossa (Ao Vivo)\", \"album\": \"Calcinha Preta, Vol. 13 (Ao Vivo)\", \"album_type\": \"album\", \"release_date\": \"2005\"}, {\"name\": \"Quer Namorar Comigo (Ao Vivo)\", \"album\": \"Calcinha Preta, Vol. 13 (Ao Vivo)\", \"album_type\": \"album\", \"release_date\": \"2005\"}, {\"name\": \"Renacer\\u00e1 (Ao Vivo)\", \"album\": \"Calcinha Preta, Vol. 13 (Ao Vivo)\", \"album_type\": \"album\", \"release_date\": \"2005\"}, {\"name\": \"Um Novo Amor \\\"Good Bye\\\" (Ao Vivo)\", \"album\": \"Calcinha Preta, Vol. 13 (Ao Vivo)\", \"album_type\": \"album\", \"release_date\": \"2005\"}, {\"name\": \"Armadilha (Ao Vivo)\", \"album\": \"Calcinha Preta, Vol. 13 (Ao Vivo)\", \"album_type\": \"album\", \"release_date\": \"2005\"}, {\"name\": \"Segredos (Ao Vivo)\", \"album\": \"Calcinha Preta, Vol. 13 (Ao Vivo)\", \"album_type\": \"album\", \"release_date\": \"2005\"}, {\"name\": \"Baby Doll (Ao Vivo)\", \"album\": \"Calcinha Preta, Vol. 13 (Ao Vivo)\", \"album_type\": \"album\", \"release_date\": \"2005\"}, {\"name\": \"Hipnose (Ao Vivo)\", \"album\": \"Calcinha Preta, Vol. 13 (Ao Vivo)\", \"album_type\": \"album\", \"release_date\": \"2005\"}, {\"name\": \"Furunfa (Ao Vivo)\", \"album\": \"Calcinha Preta, Vol. 13 (Ao Vivo)\", \"album_type\": \"album\", \"release_date\": \"2005\"}, {\"name\": \"Declara\\u00e7\\u00e3o de Amor (Ao Vivo)\", \"album\": \"Calcinha Preta, Vol. 13 (Ao Vivo)\", \"album_type\": \"album\", \"release_date\": \"2005\"}, {\"name\": \"Abra Meu Cora\\u00e7\\u00e3o (Ao Vivo)\", \"album\": \"Calcinha Preta, Vol. 13 (Ao Vivo)\", \"album_type\": \"album\", \"release_date\": \"2005\"}, {\"name\": \"Morrendo de Desejo (Ao Vivo)\", \"album\": \"Calcinha Preta, Vol. 13 (Ao Vivo)\", \"album_type\": \"album\", \"release_date\": \"2005\"}, {\"name\": \"Hoje \\u00e0 Noite\", \"album\": \"Hoje \\u00e0 Noite, Vol. 11 (In\\u00e9ditas e ao Vivo)\", \"album_type\": \"album\", \"release_date\": \"2004-01-01\"}, {\"name\": \"Hipnose\", \"album\": \"Hoje \\u00e0 Noite, Vol. 11 (In\\u00e9ditas e ao Vivo)\", \"album_type\": \"album\", \"release_date\": \"2004-01-01\"}, {\"name\": \"N\\u00e3o Tenho Nada\", \"album\": \"Hoje \\u00e0 Noite, Vol. 11 (In\\u00e9ditas e ao Vivo)\", \"album_type\": \"album\", \"release_date\": \"2004-01-01\"}, {\"name\": \"Baby Dool\", \"album\": \"Hoje \\u00e0 Noite, Vol. 11 (In\\u00e9ditas e ao Vivo)\", \"album_type\": \"album\", \"release_date\": \"2004-01-01\"}, {\"name\": \"Eu Quero \\u00c9 Gozar a Vida\", \"album\": \"Hoje \\u00e0 Noite, Vol. 11 (In\\u00e9ditas e ao Vivo)\", \"album_type\": \"album\", \"release_date\": \"2004-01-01\"}, {\"name\": \"Morrendo de Desejo\", \"album\": \"Hoje \\u00e0 Noite, Vol. 11 (In\\u00e9ditas e ao Vivo)\", \"album_type\": \"album\", \"release_date\": \"2004-01-01\"}, {\"name\": \"\\u00c2nsia\", \"album\": \"Hoje \\u00e0 Noite, Vol. 11 (In\\u00e9ditas e ao Vivo)\", \"album_type\": \"album\", \"release_date\": \"2004-01-01\"}, {\"name\": \"Meu Amor N\\u00e3o V\\u00e1\", \"album\": \"Hoje \\u00e0 Noite, Vol. 11 (In\\u00e9ditas e ao Vivo)\", \"album_type\": \"album\", \"release_date\": \"2004-01-01\"}, {\"name\": \"Quem Sabe um Dia\", \"album\": \"Hoje \\u00e0 Noite, Vol. 11 (In\\u00e9ditas e ao Vivo)\", \"album_type\": \"album\", \"release_date\": \"2004-01-01\"}, {\"name\": \"Vem Ver a Calcinha Preta - Ao Vivo\", \"album\": \"Hoje \\u00e0 Noite, Vol. 11 (In\\u00e9ditas e ao Vivo)\", \"album_type\": \"album\", \"release_date\": \"2004-01-01\"}, {\"name\": \"Te Quero Namorar - Ao Vivo\", \"album\": \"Hoje \\u00e0 Noite, Vol. 11 (In\\u00e9ditas e ao Vivo)\", \"album_type\": \"album\", \"release_date\": \"2004-01-01\"}, {\"name\": \"Por Que Te Amo? - Ao Vivo\", \"album\": \"Hoje \\u00e0 Noite, Vol. 11 (In\\u00e9ditas e ao Vivo)\", \"album_type\": \"album\", \"release_date\": \"2004-01-01\"}, {\"name\": \"Por Amor - Ao Vivo\", \"album\": \"Hoje \\u00e0 Noite, Vol. 11 (In\\u00e9ditas e ao Vivo)\", \"album_type\": \"album\", \"release_date\": \"2004-01-01\"}, {\"name\": \"Seu Namorado - Ao Vivo\", \"album\": \"Hoje \\u00e0 Noite, Vol. 11 (In\\u00e9ditas e ao Vivo)\", \"album_type\": \"album\", \"release_date\": \"2004-01-01\"}, {\"name\": \"Amor da Minha Vida - Ao Vivo\", \"album\": \"Hoje \\u00e0 Noite, Vol. 11 (In\\u00e9ditas e ao Vivo)\", \"album_type\": \"album\", \"release_date\": \"2004-01-01\"}, {\"name\": \"E o Vento Levou - Ao Vivo\", \"album\": \"Ao Vivo em Salvador, Vol. 1\", \"album_type\": \"album\", \"release_date\": \"2003-09-13\"}, {\"name\": \"Louca por Ti - Ao Vivo\", \"album\": \"Ao Vivo em Salvador, Vol. 1\", \"album_type\": \"album\", \"release_date\": \"2003-09-13\"}, {\"name\": \"Por Amor - Ao Vivo\", \"album\": \"Ao Vivo em Salvador, Vol. 1\", \"album_type\": \"album\", \"release_date\": \"2003-09-13\"}, {\"name\": \"Seu Namorado - Ao Vivo\", \"album\": \"Ao Vivo em Salvador, Vol. 1\", \"album_type\": \"album\", \"release_date\": \"2003-09-13\"}, {\"name\": \"Amor da Minha Vida - Ao Vivo\", \"album\": \"Ao Vivo em Salvador, Vol. 1\", \"album_type\": \"album\", \"release_date\": \"2003-09-13\"}, {\"name\": \"Vem Ver Calcinha Preta - Ao Vivo\", \"album\": \"Ao Vivo em Salvador, Vol. 1\", \"album_type\": \"album\", \"release_date\": \"2003-09-13\"}, {\"name\": \"Sonho Lindo - Ao Vivo\", \"album\": \"Ao Vivo em Salvador, Vol. 1\", \"album_type\": \"album\", \"release_date\": \"2003-09-13\"}, {\"name\": \"Cobertor - Ao Vivo\", \"album\": \"Ao Vivo em Salvador, Vol. 1\", \"album_type\": \"album\", \"release_date\": \"2003-09-13\"}, {\"name\": \"Desilus\\u00e3o - Ao Vivo\", \"album\": \"Ao Vivo em Salvador, Vol. 1\", \"album_type\": \"album\", \"release_date\": \"2003-09-13\"}, {\"name\": \"Te Quero Namorar - Ao Vivo\", \"album\": \"Ao Vivo em Salvador, Vol. 1\", \"album_type\": \"album\", \"release_date\": \"2003-09-13\"}, {\"name\": \"T\\u00e9 Amo Tanto - Ao Vivo\", \"album\": \"Ao Vivo em Salvador, Vol. 1\", \"album_type\": \"album\", \"release_date\": \"2003-09-13\"}, {\"name\": \"Ref\\u00e9m - Ao Vivo\", \"album\": \"Ao Vivo em Salvador, Vol. 1\", \"album_type\": \"album\", \"release_date\": \"2003-09-13\"}, {\"name\": \"Agora Estou Sofrendo - Ao Vivo\", \"album\": \"Ao Vivo em Salvador, Vol. 1\", \"album_type\": \"album\", \"release_date\": \"2003-09-13\"}, {\"name\": \"Hello - Ao Vivo\", \"album\": \"Ao Vivo em Salvador, Vol. 1\", \"album_type\": \"album\", \"release_date\": \"2003-09-13\"}, {\"name\": \"Eu Vim pra Te Ver - Ao Vivo\", \"album\": \"Ao Vivo em Salvador, Vol. 1\", \"album_type\": \"album\", \"release_date\": \"2003-09-13\"}, {\"name\": \"N\\u00e3o Diga N\\u00e3o - Ao Vivo\", \"album\": \"Ao Vivo em Salvador, Vol. 1\", \"album_type\": \"album\", \"release_date\": \"2003-09-13\"}, {\"name\": \"Cora\\u00e7\\u00e3o Bobo - Ao Vivo\", \"album\": \"Ao Vivo em Salvador, Vol. 1\", \"album_type\": \"album\", \"release_date\": \"2003-09-13\"}, {\"name\": \"Agora Estou Sofrendo - Ac\\u00fastico\", \"album\": \"A Gente Se V\\u00ea L\\u00e1, Vol. 10\", \"album_type\": \"album\", \"release_date\": \"2003-07-01\"}, {\"name\": \"Fique Amor\", \"album\": \"A Gente Se V\\u00ea L\\u00e1, Vol. 10\", \"album_type\": \"album\", \"release_date\": \"2003-07-01\"}, {\"name\": \"Por Amor\", \"album\": \"A Gente Se V\\u00ea L\\u00e1, Vol. 10\", \"album_type\": \"album\", \"release_date\": \"2003-07-01\"}, {\"name\": \"Seu Namorado\", \"album\": \"A Gente Se V\\u00ea L\\u00e1, Vol. 10\", \"album_type\": \"album\", \"release_date\": \"2003-07-01\"}, {\"name\": \"Te Amo\", \"album\": \"A Gente Se V\\u00ea L\\u00e1, Vol. 10\", \"album_type\": \"album\", \"release_date\": \"2003-07-01\"}, {\"name\": \"Jogo Sujo\", \"album\": \"A Gente Se V\\u00ea L\\u00e1, Vol. 10\", \"album_type\": \"album\", \"release_date\": \"2003-07-01\"}, {\"name\": \"O Que \\u00c9 Que Eu Vou Fazer?\", \"album\": \"A Gente Se V\\u00ea L\\u00e1, Vol. 10\", \"album_type\": \"album\", \"release_date\": \"2003-07-01\"}, {\"name\": \"Louco, Louco, Louco por Voc\\u00ea\", \"album\": \"A Gente Se V\\u00ea L\\u00e1, Vol. 10\", \"album_type\": \"album\", \"release_date\": \"2003-07-01\"}, {\"name\": \"Xeque-Mate\", \"album\": \"A Gente Se V\\u00ea L\\u00e1, Vol. 10\", \"album_type\": \"album\", \"release_date\": \"2003-07-01\"}, {\"name\": \"A Gente Se V\\u00ea L\\u00e1 / S\\u00f3 Gosto de Mulher Quente - Pout-Pourri\", \"album\": \"A Gente Se V\\u00ea L\\u00e1, Vol. 10\", \"album_type\": \"album\", \"release_date\": \"2003-07-01\"}, {\"name\": \"Amor Fatal - Ac\\u00fastico\", \"album\": \"A Gente Se V\\u00ea L\\u00e1, Vol. 10\", \"album_type\": \"album\", \"release_date\": \"2003-07-01\"}, {\"name\": \"Furunfa Calcinha Preta\", \"album\": \"A Gente Se V\\u00ea L\\u00e1, Vol. 10\", \"album_type\": \"album\", \"release_date\": \"2003-07-01\"}, {\"name\": \"N\\u00e3o Me Deixe Agora - Ac\\u00fastico\", \"album\": \"A Gente Se V\\u00ea L\\u00e1, Vol. 10\", \"album_type\": \"album\", \"release_date\": \"2003-07-01\"}, {\"name\": \"N\\u00e3o Me Deixe Agora\", \"album\": \"Amor da Minha Vida, Vol. 9\", \"album_type\": \"album\", \"release_date\": \"2003-01-01\"}, {\"name\": \"Magoei Meu Cora\\u00e7\\u00e3o\", \"album\": \"Amor da Minha Vida, Vol. 9\", \"album_type\": \"album\", \"release_date\": \"2003-01-01\"}, {\"name\": \"Voc\\u00ea Jurou pra Mim Seu Amor\", \"album\": \"Amor da Minha Vida, Vol. 9\", \"album_type\": \"album\", \"release_date\": \"2003-01-01\"}, {\"name\": \"Amor da Minha Vida\", \"album\": \"Amor da Minha Vida, Vol. 9\", \"album_type\": \"album\", \"release_date\": \"2003-01-01\"}, {\"name\": \"Vem Minha Vida\", \"album\": \"Amor da Minha Vida, Vol. 9\", \"album_type\": \"album\", \"release_date\": \"2003-01-01\"}, {\"name\": \"Verdadeiro Amor\", \"album\": \"Amor da Minha Vida, Vol. 9\", \"album_type\": \"album\", \"release_date\": \"2003-01-01\"}, {\"name\": \"Sonho Lindo\", \"album\": \"Amor da Minha Vida, Vol. 9\", \"album_type\": \"album\", \"release_date\": \"2003-01-01\"}, {\"name\": \"Digitais\", \"album\": \"Amor da Minha Vida, Vol. 9\", \"album_type\": \"album\", \"release_date\": \"2003-01-01\"}, {\"name\": \"\\u00c9 Amor - O Que Sinto\", \"album\": \"Amor da Minha Vida, Vol. 9\", \"album_type\": \"album\", \"release_date\": \"2003-01-01\"}, {\"name\": \"Veneno\", \"album\": \"Amor da Minha Vida, Vol. 9\", \"album_type\": \"album\", \"release_date\": \"2003-01-01\"}, {\"name\": \"Te Quero Namorar\", \"album\": \"Amor da Minha Vida, Vol. 9\", \"album_type\": \"album\", \"release_date\": \"2003-01-01\"}, {\"name\": \"E o Vento Levou\", \"album\": \"Amor da Minha Vida, Vol. 9\", \"album_type\": \"album\", \"release_date\": \"2003-01-01\"}, {\"name\": \"Leil\\u00e3o\", \"album\": \"Amor da Minha Vida, Vol. 9\", \"album_type\": \"album\", \"release_date\": \"2003-01-01\"}, {\"name\": \"Melhores Momentos - Ao Vivo\", \"album\": \"Ao Vivo, Vol. 8\", \"album_type\": \"album\", \"release_date\": \"2002-01-01\"}, {\"name\": \"Seu Amor \\u00c9 Bom / Um Novo Amor - Ao Vivo\", \"album\": \"Ao Vivo, Vol. 8\", \"album_type\": \"album\", \"release_date\": \"2002-01-01\"}, {\"name\": \"Te Amo Tanto / Ref\\u00e9m - Ao Vivo\", \"album\": \"Ao Vivo, Vol. 8\", \"album_type\": \"album\", \"release_date\": \"2002-01-01\"}, {\"name\": \"Quero Ser Seu Namorado / N\\u00e3o Venha Mais Me Ver - Ao Vivo\", \"album\": \"Ao Vivo, Vol. 8\", \"album_type\": \"album\", \"release_date\": \"2002-01-01\"}, {\"name\": \"Tudo de Novo - Ao Vivo\", \"album\": \"Ao Vivo, Vol. 8\", \"album_type\": \"album\", \"release_date\": \"2002-01-01\"}, {\"name\": \"Cora\\u00e7\\u00e3o Bobo / Cobertor - Ao Vivo\", \"album\": \"Ao Vivo, Vol. 8\", \"album_type\": \"album\", \"release_date\": \"2002-01-01\"}, {\"name\": \"Louca por Ti / N\\u00e3o Diga N\\u00e3o - Ao Vivo\", \"album\": \"Ao Vivo, Vol. 8\", \"album_type\": \"album\", \"release_date\": \"2002-01-01\"}, {\"name\": \"Sou Seu Amor / Eu Te Amo - Ao Vivo\", \"album\": \"Ao Vivo, Vol. 8\", \"album_type\": \"album\", \"release_date\": \"2002-01-01\"}, {\"name\": \"Te Amo - Ao Vivo\", \"album\": \"Ao Vivo, Vol. 8\", \"album_type\": \"album\", \"release_date\": \"2002-01-01\"}, {\"name\": \"Resumo In\\u00e9ditas - Ao Vivo\", \"album\": \"Ao Vivo, Vol. 8\", \"album_type\": \"album\", \"release_date\": \"2002-01-01\"}, {\"name\": \"E o Vento Levou - Ao Vivo\", \"album\": \"Ao Vivo, Vol. 8\", \"album_type\": \"album\", \"release_date\": \"2002-01-01\"}, {\"name\": \"Me Diz o Que Fazer / Voc\\u00ea Quem Sabe - Ao Vivo\", \"album\": \"Ao Vivo, Vol. 8\", \"album_type\": \"album\", \"release_date\": \"2002-01-01\"}, {\"name\": \"S.O.S. Cora\\u00e7\\u00e3o / Toma de Volta Esse Amor - Ao Vivo\", \"album\": \"Ao Vivo, Vol. 8\", \"album_type\": \"album\", \"release_date\": \"2002-01-01\"}, {\"name\": \"Favo de Mel - Ao Vivo\", \"album\": \"Ao Vivo, Vol. 8\", \"album_type\": \"album\", \"release_date\": \"2002-01-01\"}, {\"name\": \"Vem Ver a Calcinha Preta - Ao Vivo\", \"album\": \"Ao Vivo, Vol. 8\", \"album_type\": \"album\", \"release_date\": \"2002-01-01\"}, {\"name\": \"Te Amo - Carrie\", \"album\": \"Seu Cora\\u00e7\\u00e3o Vai Aprender o Que \\u00c9 Paix\\u00e3o, Vol. 7\", \"album_type\": \"album\", \"release_date\": \"2001-01-01\"}, {\"name\": \"Tudo de Novo\", \"album\": \"Seu Cora\\u00e7\\u00e3o Vai Aprender o Que \\u00c9 Paix\\u00e3o, Vol. 7\", \"album_type\": \"album\", \"release_date\": \"2001-01-01\"}, {\"name\": \"Te Amo Tanto\", \"album\": \"Seu Cora\\u00e7\\u00e3o Vai Aprender o Que \\u00c9 Paix\\u00e3o, Vol. 7\", \"album_type\": \"album\", \"release_date\": \"2001-01-01\"}, {\"name\": \"Ref\\u00e9m\", \"album\": \"Seu Cora\\u00e7\\u00e3o Vai Aprender o Que \\u00c9 Paix\\u00e3o, Vol. 7\", \"album_type\": \"album\", \"release_date\": \"2001-01-01\"}, {\"name\": \"Mulheres Perdidas\", \"album\": \"Seu Cora\\u00e7\\u00e3o Vai Aprender o Que \\u00c9 Paix\\u00e3o, Vol. 7\", \"album_type\": \"album\", \"release_date\": \"2001-01-01\"}, {\"name\": \"Chorando Se Foi / Lambamor - Pout-Pourri\", \"album\": \"Seu Cora\\u00e7\\u00e3o Vai Aprender o Que \\u00c9 Paix\\u00e3o, Vol. 7\", \"album_type\": \"album\", \"release_date\": \"2001-01-01\"}, {\"name\": \"Cora\\u00e7\\u00e3o Bobo\", \"album\": \"Seu Cora\\u00e7\\u00e3o Vai Aprender o Que \\u00c9 Paix\\u00e3o, Vol. 7\", \"album_type\": \"album\", \"release_date\": \"2001-01-01\"}, {\"name\": \"Quero Ser Seu Namorado / N\\u00e3o Venha Mais Me Ver - Pout-Pourri\", \"album\": \"Seu Cora\\u00e7\\u00e3o Vai Aprender o Que \\u00c9 Paix\\u00e3o, Vol. 7\", \"album_type\": \"album\", \"release_date\": \"2001-01-01\"}, {\"name\": \"N\\u00e3o Diga N\\u00e3o\", \"album\": \"Seu Cora\\u00e7\\u00e3o Vai Aprender o Que \\u00c9 Paix\\u00e3o, Vol. 7\", \"album_type\": \"album\", \"release_date\": \"2001-01-01\"}, {\"name\": \"Vendaval\", \"album\": \"Seu Cora\\u00e7\\u00e3o Vai Aprender o Que \\u00c9 Paix\\u00e3o, Vol. 7\", \"album_type\": \"album\", \"release_date\": \"2001-01-01\"}, {\"name\": \"Seu Amor \\u00c9 Bom / Um Novo Amor - Pout-Pourri\", \"album\": \"Seu Cora\\u00e7\\u00e3o Vai Aprender o Que \\u00c9 Paix\\u00e3o, Vol. 7\", \"album_type\": \"album\", \"release_date\": \"2001-01-01\"}, {\"name\": \"N\\u00e3o Fique Longe de Mim - I Live My Life For Love\", \"album\": \"Seu Cora\\u00e7\\u00e3o Vai Aprender o Que \\u00c9 Paix\\u00e3o, Vol. 7\", \"album_type\": \"album\", \"release_date\": \"2001-01-01\"}, {\"name\": \"N\\u00e3o Faz Sentido\", \"album\": \"Seu Cora\\u00e7\\u00e3o Vai Aprender o Que \\u00c9 Paix\\u00e3o, Vol. 7\", \"album_type\": \"album\", \"release_date\": \"2001-01-01\"}, {\"name\": \"O Gemidinho\", \"album\": \"Seu Cora\\u00e7\\u00e3o Vai Aprender o Que \\u00c9 Paix\\u00e3o, Vol. 7\", \"album_type\": \"album\", \"release_date\": \"2001-01-01\"}, {\"name\": \"Abertura - Ao Vivo\", \"album\": \"Sou Seu Amor, Vol. 6 (Ao Vivo)\", \"album_type\": \"album\", \"release_date\": \"1999-01-01\"}, {\"name\": \"Hello - Ao Vivo\", \"album\": \"Sou Seu Amor, Vol. 6 (Ao Vivo)\", \"album_type\": \"album\", \"release_date\": \"1999-01-01\"}, {\"name\": \"Cobertor - Ao Vivo\", \"album\": \"Sou Seu Amor, Vol. 6 (Ao Vivo)\", \"album_type\": \"album\", \"release_date\": \"1999-01-01\"}, {\"name\": \"Liguei pra Dizer Que Te Amo / Voc\\u00ea Marcou Demais a Minha Vida / Isso \\u00c9 Bom - Ao Vivo\", \"album\": \"Sou Seu Amor, Vol. 6 (Ao Vivo)\", \"album_type\": \"album\", \"release_date\": \"1999-01-01\"}, {\"name\": \"Meu Amor, Minha Paix\\u00e3o / Louca por Voc\\u00ea - Ao Vivo\", \"album\": \"Sou Seu Amor, Vol. 6 (Ao Vivo)\", \"album_type\": \"album\", \"release_date\": \"1999-01-01\"}, {\"name\": \"Sou Maluco por Voc\\u00ea - Ao Vivo\", \"album\": \"Sou Seu Amor, Vol. 6 (Ao Vivo)\", \"album_type\": \"album\", \"release_date\": \"1999-01-01\"}, {\"name\": \"Sou Seu Amor / Eu Te Amo - Ao Vivo\", \"album\": \"Sou Seu Amor, Vol. 6 (Ao Vivo)\", \"album_type\": \"album\", \"release_date\": \"1999-01-01\"}, {\"name\": \"Jogo Marcado / Qualquer Jeito - Ao Vivo\", \"album\": \"Sou Seu Amor, Vol. 6 (Ao Vivo)\", \"album_type\": \"album\", \"release_date\": \"1999-01-01\"}, {\"name\": \"Louca por Ti / Fonte de Desejos - Ao Vivo\", \"album\": \"Sou Seu Amor, Vol. 6 (Ao Vivo)\", \"album_type\": \"album\", \"release_date\": \"1999-01-01\"}, {\"name\": \"Me D\\u00e1 um Beijo / Amor Proibido - Ao Vivo\", \"album\": \"Sou Seu Amor, Vol. 6 (Ao Vivo)\", \"album_type\": \"album\", \"release_date\": \"1999-01-01\"}, {\"name\": \"Eu Vim pra Te Ver / Calcinha Preta (Doida pra Te Agarrar) - Ao Vivo\", \"album\": \"Sou Seu Amor, Vol. 6 (Ao Vivo)\", \"album_type\": \"album\", \"release_date\": \"1999-01-01\"}, {\"name\": \"Saudade - Ao Vivo\", \"album\": \"A Mo\\u00e7ada \\u00c9 S\\u00f3 Fil\\u00e9!, Vol. 5 (Ao Vivo)\", \"album_type\": \"album\", \"release_date\": \"1998-07-01\"}, {\"name\": \"Desilus\\u00e3o - Ao Vivo\", \"album\": \"A Mo\\u00e7ada \\u00c9 S\\u00f3 Fil\\u00e9!, Vol. 5 (Ao Vivo)\", \"album_type\": \"album\", \"release_date\": \"1998-07-01\"}, {\"name\": \"\\u00c9 Seu Amor Que Eu Quero - Ao Vivo\", \"album\": \"A Mo\\u00e7ada \\u00c9 S\\u00f3 Fil\\u00e9!, Vol. 5 (Ao Vivo)\", \"album_type\": \"album\", \"release_date\": \"1998-07-01\"}, {\"name\": \"Jura Que Me Ama - Ao Vivo\", \"album\": \"A Mo\\u00e7ada \\u00c9 S\\u00f3 Fil\\u00e9!, Vol. 5 (Ao Vivo)\", \"album_type\": \"album\", \"release_date\": \"1998-07-01\"}, {\"name\": \"Amor, Amor, Amor / Noite, Noite, Noite - Ao Vivo\", \"album\": \"A Mo\\u00e7ada \\u00c9 S\\u00f3 Fil\\u00e9!, Vol. 5 (Ao Vivo)\", \"album_type\": \"album\", \"release_date\": \"1998-07-01\"}, {\"name\": \"A Coisa Mais Linda - Ao Vivo\", \"album\": \"A Mo\\u00e7ada \\u00c9 S\\u00f3 Fil\\u00e9!, Vol. 5 (Ao Vivo)\", \"album_type\": \"album\", \"release_date\": \"1998-07-01\"}, {\"name\": \"Eu Vim Pra Te Ver - Ao Vivo\", \"album\": \"A Mo\\u00e7ada \\u00c9 S\\u00f3 Fil\\u00e9!, Vol. 5 (Ao Vivo)\", \"album_type\": \"album\", \"release_date\": \"1998-07-01\"}, {\"name\": \"S\\u00f3 Voc\\u00ea Me Faz Feliz - Ao Vivo\", \"album\": \"A Mo\\u00e7ada \\u00c9 S\\u00f3 Fil\\u00e9!, Vol. 5 (Ao Vivo)\", \"album_type\": \"album\", \"release_date\": \"1998-07-01\"}, {\"name\": \"Eterno Amor / Mesmo Assim / Amor Comigo - Ao Vivo\", \"album\": \"A Mo\\u00e7ada \\u00c9 S\\u00f3 Fil\\u00e9!, Vol. 5 (Ao Vivo)\", \"album_type\": \"album\", \"release_date\": \"1998-07-01\"}, {\"name\": \"Minha Namorada / Voc\\u00ea Me Ama - Ao Vivo\", \"album\": \"A Mo\\u00e7ada \\u00c9 S\\u00f3 Fil\\u00e9!, Vol. 5 (Ao Vivo)\", \"album_type\": \"album\", \"release_date\": \"1998-07-01\"}, {\"name\": \"Agenda Rabiscada - Ao Vivo\", \"album\": \"A Mo\\u00e7ada \\u00c9 S\\u00f3 Fil\\u00e9!, Vol. 5 (Ao Vivo)\", \"album_type\": \"album\", \"release_date\": \"1998-07-01\"}, {\"name\": \"A Mo\\u00e7ada \\u00c9 S\\u00f3 Fil\\u00e9 / O Fil\\u00e9 Do Brasil - Ao Vivo\", \"album\": \"A Mo\\u00e7ada \\u00c9 S\\u00f3 Fil\\u00e9!, Vol. 5 (Ao Vivo)\", \"album_type\": \"album\", \"release_date\": \"1998-07-01\"}, {\"name\": \"Melhores Momentos (Faixa B\\u00f4nus) - Ao Vivo\", \"album\": \"A Mo\\u00e7ada \\u00c9 S\\u00f3 Fil\\u00e9!, Vol. 5 (Ao Vivo)\", \"album_type\": \"album\", \"release_date\": \"1998-07-01\"}, {\"name\": \"Desilus\\u00e3o\", \"album\": \"A Mo\\u00e7ada \\u00c9 S\\u00f3 Fil\\u00e9, Vol. 4\", \"album_type\": \"album\", \"release_date\": \"1998-01-01\"}, {\"name\": \"A Mo\\u00e7ada \\u00c9 S\\u00f3 Fil\\u00e9\", \"album\": \"A Mo\\u00e7ada \\u00c9 S\\u00f3 Fil\\u00e9, Vol. 4\", \"album_type\": \"album\", \"release_date\": \"1998-01-01\"}, {\"name\": \"Amor, Amor, Amor / Noite, Noite, Noite\", \"album\": \"A Mo\\u00e7ada \\u00c9 S\\u00f3 Fil\\u00e9, Vol. 4\", \"album_type\": \"album\", \"release_date\": \"1998-01-01\"}, {\"name\": \"Saudade\", \"album\": \"A Mo\\u00e7ada \\u00c9 S\\u00f3 Fil\\u00e9, Vol. 4\", \"album_type\": \"album\", \"release_date\": \"1998-01-01\"}, {\"name\": \"\\u00c9 Seu Amor Que Eu Quero / Vem Comigo\", \"album\": \"A Mo\\u00e7ada \\u00c9 S\\u00f3 Fil\\u00e9, Vol. 4\", \"album_type\": \"album\", \"release_date\": \"1998-01-01\"}, {\"name\": \"Jura Que Me Ama\", \"album\": \"A Mo\\u00e7ada \\u00c9 S\\u00f3 Fil\\u00e9, Vol. 4\", \"album_type\": \"album\", \"release_date\": \"1998-01-01\"}, {\"name\": \"Quero Saber / Minha Namorada / Voc\\u00ea Me Ama\", \"album\": \"A Mo\\u00e7ada \\u00c9 S\\u00f3 Fil\\u00e9, Vol. 4\", \"album_type\": \"album\", \"release_date\": \"1998-01-01\"}, {\"name\": \"Eterno Amor / Mesmo Assim / Amor Amigo\", \"album\": \"A Mo\\u00e7ada \\u00c9 S\\u00f3 Fil\\u00e9, Vol. 4\", \"album_type\": \"album\", \"release_date\": \"1998-01-01\"}, {\"name\": \"Onde o Sonho Mora\", \"album\": \"A Mo\\u00e7ada \\u00c9 S\\u00f3 Fil\\u00e9, Vol. 4\", \"album_type\": \"album\", \"release_date\": \"1998-01-01\"}, {\"name\": \"Amor e Paix\\u00e3o - Ao Vivo\", \"album\": \"Arrepiando Com a Galera, Vol. 3 (Ao Vivo)\", \"album_type\": \"album\", \"release_date\": \"1997-01-01\"}, {\"name\": \"Homem Gol - Ao Vivo\", \"album\": \"Arrepiando Com a Galera, Vol. 3 (Ao Vivo)\", \"album_type\": \"album\", \"release_date\": \"1997-01-01\"}, {\"name\": \"Onde o Sonho Mora - Ao Vivo\", \"album\": \"Arrepiando Com a Galera, Vol. 3 (Ao Vivo)\", \"album_type\": \"album\", \"release_date\": \"1997-01-01\"}, {\"name\": \"Vaqueiro Apaixonado - Ao Vivo\", \"album\": \"Arrepiando Com a Galera, Vol. 3 (Ao Vivo)\", \"album_type\": \"album\", \"release_date\": \"1997-01-01\"}, {\"name\": \"Cacha\\u00e7a e Mulher / Forr\\u00f3 e Vaquejada - Ao Vivo\", \"album\": \"Arrepiando Com a Galera, Vol. 3 (Ao Vivo)\", \"album_type\": \"album\", \"release_date\": \"1997-01-01\"}, {\"name\": \"Te Amo Mesmo Assim - Ao Vivo\", \"album\": \"Arrepiando Com a Galera, Vol. 3 (Ao Vivo)\", \"album_type\": \"album\", \"release_date\": \"1997-01-01\"}, {\"name\": \"O Colecionador de Calcinha - Ao Vivo\", \"album\": \"Arrepiando Com a Galera, Vol. 3 (Ao Vivo)\", \"album_type\": \"album\", \"release_date\": \"1997-01-01\"}, {\"name\": \"Arrepia - Ao Vivo\", \"album\": \"Arrepiando Com a Galera, Vol. 3 (Ao Vivo)\", \"album_type\": \"album\", \"release_date\": \"1997-01-01\"}, {\"name\": \"N\\u00e3o Tem Jeito - Ao Vivo\", \"album\": \"Arrepiando Com a Galera, Vol. 3 (Ao Vivo)\", \"album_type\": \"album\", \"release_date\": \"1997-01-01\"}, {\"name\": \"Renato Russo - Ao Vivo\", \"album\": \"Arrepiando Com a Galera, Vol. 3 (Ao Vivo)\", \"album_type\": \"album\", \"release_date\": \"1997-01-01\"}, {\"name\": \"Calcinha Preta - Ao Vivo\", \"album\": \"Arrepiando Com a Galera, Vol. 3 (Ao Vivo)\", \"album_type\": \"album\", \"release_date\": \"1997-01-01\"}, {\"name\": \"Frei Dami\\u00e3o - Ao Vivo\", \"album\": \"Arrepiando Com a Galera, Vol. 3 (Ao Vivo)\", \"album_type\": \"album\", \"release_date\": \"1997-01-01\"}, {\"name\": \"N\\u00e3o Me Abandone - Ao Vivo\", \"album\": \"Arrepiando Com a Galera, Vol. 3 (Ao Vivo)\", \"album_type\": \"album\", \"release_date\": \"1997-01-01\"}, {\"name\": \"Te Amo de Verdade - Ao Vivo\", \"album\": \"Arrepiando Com a Galera, Vol. 3 (Ao Vivo)\", \"album_type\": \"album\", \"release_date\": \"1997-01-01\"}, {\"name\": \"Forr\\u00f3 da Mulher Carente - Ao Vivo\", \"album\": \"Arrepiando Com a Galera, Vol. 3 (Ao Vivo)\", \"album_type\": \"album\", \"release_date\": \"1997-01-01\"}, {\"name\": \"Onde o Sonho Mora\", \"album\": \"As Mais Gostosas do Brasil, Vol. 2\", \"album_type\": \"album\", \"release_date\": \"1996-07-01\"}, {\"name\": \"\\u00c9 Imposs\\u00edvel Acreditar Que Perdi Voc\\u00ea\", \"album\": \"As Mais Gostosas do Brasil, Vol. 2\", \"album_type\": \"album\", \"release_date\": \"1996-07-01\"}, {\"name\": \"Te Quero - Get Back\", \"album\": \"As Mais Gostosas do Brasil, Vol. 2\", \"album_type\": \"album\", \"release_date\": \"1996-07-01\"}, {\"name\": \"Paradyse - Take A Chance On Me\", \"album\": \"As Mais Gostosas do Brasil, Vol. 2\", \"album_type\": \"album\", \"release_date\": \"1996-07-01\"}, {\"name\": \"Adeus, Bye Bye - She Made Me Cry\", \"album\": \"As Mais Gostosas do Brasil, Vol. 2\", \"album_type\": \"album\", \"release_date\": \"1996-07-01\"}, {\"name\": \"Princesinha Apaixonada\", \"album\": \"As Mais Gostosas do Brasil, Vol. 2\", \"album_type\": \"album\", \"release_date\": \"1996-07-01\"}, {\"name\": \"O Infinito\", \"album\": \"As Mais Gostosas do Brasil, Vol. 2\", \"album_type\": \"album\", \"release_date\": \"1996-07-01\"}, {\"name\": \"Del\\u00edrio\", \"album\": \"As Mais Gostosas do Brasil, Vol. 2\", \"album_type\": \"album\", \"release_date\": \"1996-07-01\"}, {\"name\": \"Bebida Danada\", \"album\": \"As Mais Gostosas do Brasil, Vol. 2\", \"album_type\": \"album\", \"release_date\": \"1996-07-01\"}, {\"name\": \"Tempo Perdido\", \"album\": \"As Mais Gostosas do Brasil, Vol. 2\", \"album_type\": \"album\", \"release_date\": \"1996-07-01\"}, {\"name\": \"Quero Te Amar\", \"album\": \"A Banda de Forr\\u00f3 Mais Gostosa do Brasil, Vol. 1\", \"album_type\": \"album\", \"release_date\": \"1996-01-01\"}, {\"name\": \"O Colecionador\", \"album\": \"A Banda de Forr\\u00f3 Mais Gostosa do Brasil, Vol. 1\", \"album_type\": \"album\", \"release_date\": \"1996-01-01\"}, {\"name\": \"\\u00c9 S\\u00f3 Querer\", \"album\": \"A Banda de Forr\\u00f3 Mais Gostosa do Brasil, Vol. 1\", \"album_type\": \"album\", \"release_date\": \"1996-01-01\"}, {\"name\": \"Ainda Te Amo\", \"album\": \"A Banda de Forr\\u00f3 Mais Gostosa do Brasil, Vol. 1\", \"album_type\": \"album\", \"release_date\": \"1996-01-01\"}, {\"name\": \"Lembran\\u00e7a\", \"album\": \"A Banda de Forr\\u00f3 Mais Gostosa do Brasil, Vol. 1\", \"album_type\": \"album\", \"release_date\": \"1996-01-01\"}, {\"name\": \"Dor Trai\\u00e7oeira\", \"album\": \"A Banda de Forr\\u00f3 Mais Gostosa do Brasil, Vol. 1\", \"album_type\": \"album\", \"release_date\": \"1996-01-01\"}, {\"name\": \"Calcinha Preta\", \"album\": \"A Banda de Forr\\u00f3 Mais Gostosa do Brasil, Vol. 1\", \"album_type\": \"album\", \"release_date\": \"1996-01-01\"}, {\"name\": \"Amor Primeiro\", \"album\": \"A Banda de Forr\\u00f3 Mais Gostosa do Brasil, Vol. 1\", \"album_type\": \"album\", \"release_date\": \"1996-01-01\"}, {\"name\": \"Filha de Vaqueiro\", \"album\": \"A Banda de Forr\\u00f3 Mais Gostosa do Brasil, Vol. 1\", \"album_type\": \"album\", \"release_date\": \"1996-01-01\"}, {\"name\": \"Minha Neguinha\", \"album\": \"A Banda de Forr\\u00f3 Mais Gostosa do Brasil, Vol. 1\", \"album_type\": \"album\", \"release_date\": \"1996-01-01\"}, {\"name\": \"Daniela - Ao Vivo\", \"album\": \"CP 25 Anos, Pt. 2 (Ao Vivo)\", \"album_type\": \"single\", \"release_date\": \"2020-07-10\"}, {\"name\": \"Por Amor / O Que \\u00c9 Que Eu Vou Fazer - Ao Vivo\", \"album\": \"CP 25 Anos, Pt. 2 (Ao Vivo)\", \"album_type\": \"single\", \"release_date\": \"2020-07-10\"}, {\"name\": \"Baby Doll - Ao Vivo\", \"album\": \"CP 25 Anos, Pt. 2 (Ao Vivo)\", \"album_type\": \"single\", \"release_date\": \"2020-07-10\"}, {\"name\": \"Eu Vim pra Te Ver / Vem Ver / A Mo\\u00e7ada \\u00c9 S\\u00f3 Fil\\u00e9 - Ao Vivo\", \"album\": \"CP 25 Anos, Pt. 2 (Ao Vivo)\", \"album_type\": \"single\", \"release_date\": \"2020-07-10\"}, {\"name\": \"Conta de Luz - Ao Vivo\", \"album\": \"Conta de Luz (Ao Vivo)\", \"album_type\": \"single\", \"release_date\": \"2020-06-19\"}, {\"name\": \"Um Degrau na Escada - Ao Vivo\", \"album\": \"CP 25 Anos, Pt. 1 (Ao Vivo)\", \"album_type\": \"single\", \"release_date\": \"2020-05-13\"}, {\"name\": \"Hoje \\u00e0 Noite - Ao Vivo\", \"album\": \"CP 25 Anos, Pt. 1 (Ao Vivo)\", \"album_type\": \"single\", \"release_date\": \"2020-05-13\"}, {\"name\": \"Cobertor / Onde o Sonho Mora - Ao Vivo\", \"album\": \"CP 25 Anos, Pt. 1 (Ao Vivo)\", \"album_type\": \"single\", \"release_date\": \"2020-05-13\"}, {\"name\": \"Voc\\u00ea N\\u00e3o Vale Nada - Ao Vivo\", \"album\": \"CP 25 Anos, Pt. 1 (Ao Vivo)\", \"album_type\": \"single\", \"release_date\": \"2020-05-13\"}, {\"name\": \"Tchau pro Seu Amor - Ao Vivo\", \"album\": \"CP 25 Anos, Pt. 1 (Ao Vivo)\", \"album_type\": \"single\", \"release_date\": \"2020-05-13\"}, {\"name\": \"M\\u00e1gica / E o Vento Levou - Ao Vivo\", \"album\": \"CP 25 Anos, Pt. 1 (Ao Vivo)\", \"album_type\": \"single\", \"release_date\": \"2020-05-13\"}, {\"name\": \"Tchau pro Seu Amor - Ao Vivo\", \"album\": \"Tchau pro Seu Amor (Ao Vivo)\", \"album_type\": \"single\", \"release_date\": \"2020-02-21\"}, {\"name\": \"N\\u00e3o Tem Explica\\u00e7\\u00e3o\", \"album\": \"N\\u00e3o Tem Explica\\u00e7\\u00e3o\", \"album_type\": \"single\", \"release_date\": \"2019-09-27\"}, {\"name\": \"Amor de Mentira\", \"album\": \"Amor de Mentira\", \"album_type\": \"single\", \"release_date\": \"2019-03-25\"}, {\"name\": \"Flores, Versos e Poemas\", \"album\": \"Flores, Versos e Poemas\", \"album_type\": \"single\", \"release_date\": \"2018-05-04\"}, {\"name\": \"Eu Vim do Futuro\", \"album\": \"Eu Vim do Futuro - Single\", \"album_type\": \"single\", \"release_date\": \"2017-06-13\"}, {\"name\": \"Homem de Rua\", \"album\": \"Homem de Rua\", \"album_type\": \"single\", \"release_date\": \"2017-06-13\"}, {\"name\": \"Al\\u00f4 Amor\", \"album\": \"Al\\u00f4 Amor\", \"album_type\": \"single\", \"release_date\": \"2016-03-18\"}, {\"name\": \"Parada Meio Louca\", \"album\": \"Parada Meio Louca\", \"album_type\": \"single\", \"release_date\": \"2013-09-13\"}, {\"name\": \"D\\u00f3i, D\\u00f3i\", \"album\": \"D\\u00f3i, D\\u00f3i\", \"album_type\": \"single\", \"release_date\": \"2013-04-21\"}]}}, {\"mode\": \"vega-lite\"});\n",
       "</script>"
      ],
      "text/plain": [
       "alt.Chart(...)"
      ]
     },
     "execution_count": 21,
     "metadata": {},
     "output_type": "execute_result"
    }
   ],
   "source": [
    "# linha do tempo de lançamentos\n",
    "data_time= pd.DataFrame(data, columns = ['name', 'album','album_type','release_date'])\n",
    "range_ = ['#222437', '#B183AE']\n",
    "alt.Chart(data_time).mark_circle(opacity = 1).encode(\n",
    "    y = alt.Y('release_date:T', axis = alt.Axis(title='Lançamento')),\n",
    "    x = alt.X('album:N', sort='y', axis = alt.Axis(title='Álbum')),\n",
    "    color = alt.Color('album_type', legend=alt.Legend(title=\"Tipo do álbum\"), scale=alt.Scale(range = range_)),\n",
    "    tooltip = ['album','album_type','release_date:T']\n",
    ")"
   ]
  },
  {
   "cell_type": "markdown",
   "metadata": {
    "colab_type": "text",
    "id": "OhxSoYDoMRNI"
   },
   "source": [
    "### É isto! \n",
    "O Pyladies Paraíba agradece a paciência e dedicação nesse curso. Agradecemos também a todos que de certa forma contribuiram com esse material. Seguimos fortes!\n",
    "\n",
    "![hoje a noite - belém do pará - vol.2](https://media.giphy.com/media/MEw48X9bUCPgFT0OLE/giphy.gif)\n",
    "\n",
    "Agradecimento especial ao Forró e Bit Produções pela ideia e produção do material.\n"
   ]
  },
  {
   "cell_type": "markdown",
   "metadata": {
    "colab_type": "text",
    "id": "PNTDwBwr__Ix"
   },
   "source": [
    "Desafios para futuro:\n",
    "* Como resolver os álbuns duplicados?\n",
    "\n",
    "* Como criar visualizações mais interativas?\n",
    "\n",
    "* Quais são as explicits da Calcinha?\n",
    "\n",
    "* Como fazer esse script para uma playlist?\n"
   ]
  },
  {
   "cell_type": "markdown",
   "metadata": {
    "colab_type": "text",
    "id": "om0t74FnMK-T"
   },
   "source": [
    "![a calcinha preta é nossa - belém do pará - vol.2](https://media.giphy.com/media/XbyBk5V6Ng3Jrx74BC/giphy.gif)\n",
    "\n",
    "Dúvidas, sugestões e/ou contatos futuros? Nossas @s são @pyladiespb em todas as redes sociais e estamos abertas para ouvir todo mundo."
   ]
  }
 ],
 "metadata": {
  "colab": {
   "collapsed_sections": [],
   "include_colab_link": true,
   "name": "Análise de Dados e Forró",
   "provenance": []
  },
  "kernelspec": {
   "display_name": "Python 3",
   "language": "python",
   "name": "python3"
  },
  "language_info": {
   "codemirror_mode": {
    "name": "ipython",
    "version": 3
   },
   "file_extension": ".py",
   "mimetype": "text/x-python",
   "name": "python",
   "nbconvert_exporter": "python",
   "pygments_lexer": "ipython3",
   "version": "3.7.6"
  }
 },
 "nbformat": 4,
 "nbformat_minor": 1
}
