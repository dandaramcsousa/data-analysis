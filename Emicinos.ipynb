{
  "nbformat": 4,
  "nbformat_minor": 0,
  "metadata": {
    "colab": {
      "name": "Emicinos.ipynb",
      "provenance": [],
      "collapsed_sections": [],
      "authorship_tag": "ABX9TyOrhJ1Jq8uV1lXKsRQTsDah",
      "include_colab_link": true
    },
    "kernelspec": {
      "name": "python3",
      "display_name": "Python 3"
    }
  },
  "cells": [
    {
      "cell_type": "markdown",
      "metadata": {
        "id": "view-in-github",
        "colab_type": "text"
      },
      "source": [
        "<a href=\"https://colab.research.google.com/github/dandaramcsousa/data-analysis/blob/master/Emicinos.ipynb\" target=\"_parent\"><img src=\"https://colab.research.google.com/assets/colab-badge.svg\" alt=\"Open In Colab\"/></a>"
      ]
    },
    {
      "cell_type": "markdown",
      "metadata": {
        "id": "WEJKDwArZTQs",
        "colab_type": "text"
      },
      "source": [
        "**código desenvolvido por [Dandara Sousa](https://dandaramcsousa.github.io) 2020.**"
      ]
    },
    {
      "cell_type": "markdown",
      "metadata": {
        "id": "v9trKpkCZW41",
        "colab_type": "text"
      },
      "source": [
        "Metas:\n",
        "\n",
        "* Coletar todas músicas e álbuns de Emicida\n",
        "* Coletar todos os feats de Emicida\n",
        "* Identificar o álbum mais popular  \n",
        "* Identificar o single mais popular\n",
        "* Qual é a maior música\n",
        "* Qual a menor música\n",
        "* Qual a música com mais feat\n",
        "* Linha do tempo de lançamentos\n"
      ]
    },
    {
      "cell_type": "code",
      "metadata": {
        "id": "y2RUtaEWa_TV",
        "colab_type": "code",
        "outputId": "24438f07-5035-4ede-ec0c-082ab18b2420",
        "colab": {
          "base_uri": "https://localhost:8080/",
          "height": 201
        }
      },
      "source": [
        "#dependencias e credenciais\n",
        "!pip install spotipy\n",
        "from spotipy.oauth2 import SpotifyClientCredentials\n",
        "import spotipy\n",
        "import sys\n",
        "import csv\n",
        "\n",
        "sp = spotipy.Spotify(client_credentials_manager= SpotifyClientCredentials(client_id=\"a74e8eedfb694efc8e7162e43ec0cb3f\", client_secret=\"bc7e77c0222741b4b2e7bebb37da69bf\"))"
      ],
      "execution_count": 0,
      "outputs": [
        {
          "output_type": "stream",
          "text": [
            "Collecting spotipy\n",
            "  Downloading https://files.pythonhosted.org/packages/b2/67/ea788ae3d7e3aad0b0ef72a4f5b6c24c1dbb3db83fd57efc221f86b4fe87/spotipy-2.12.0-py3-none-any.whl\n",
            "Requirement already satisfied: six>=1.10.0 in /usr/local/lib/python3.6/dist-packages (from spotipy) (1.12.0)\n",
            "Requirement already satisfied: requests>=2.20.0 in /usr/local/lib/python3.6/dist-packages (from spotipy) (2.23.0)\n",
            "Requirement already satisfied: chardet<4,>=3.0.2 in /usr/local/lib/python3.6/dist-packages (from requests>=2.20.0->spotipy) (3.0.4)\n",
            "Requirement already satisfied: urllib3!=1.25.0,!=1.25.1,<1.26,>=1.21.1 in /usr/local/lib/python3.6/dist-packages (from requests>=2.20.0->spotipy) (1.24.3)\n",
            "Requirement already satisfied: idna<3,>=2.5 in /usr/local/lib/python3.6/dist-packages (from requests>=2.20.0->spotipy) (2.9)\n",
            "Requirement already satisfied: certifi>=2017.4.17 in /usr/local/lib/python3.6/dist-packages (from requests>=2.20.0->spotipy) (2020.4.5.1)\n",
            "Installing collected packages: spotipy\n",
            "Successfully installed spotipy-2.12.0\n"
          ],
          "name": "stdout"
        }
      ]
    },
    {
      "cell_type": "code",
      "metadata": {
        "id": "TuBzrUs5ANwe",
        "colab_type": "code",
        "colab": {}
      },
      "source": [
        "# pega o artista dado o nome de um artista\n",
        "def get_artist(name):\n",
        "    results = sp.search(name)\n",
        "    items = results['tracks']['items']\n",
        "    if len(items) > 0:\n",
        "        return items[0]['artists'][0]\n",
        "    else:\n",
        "        return None"
      ],
      "execution_count": 0,
      "outputs": []
    },
    {
      "cell_type": "code",
      "metadata": {
        "id": "ljtG6ChfARAf",
        "colab_type": "code",
        "colab": {}
      },
      "source": [
        "# pega o id do artista dado um artista\n",
        "def get_artist_id(artist):\n",
        "    return artist['id']"
      ],
      "execution_count": 0,
      "outputs": []
    },
    {
      "cell_type": "code",
      "metadata": {
        "id": "BA8K2eiBASph",
        "colab_type": "code",
        "colab": {}
      },
      "source": [
        "# pega os id e nomes dos álbuns dado o id do artista\n",
        "def get_artist_albums_id_names(id):\n",
        "  albums = sp.artist_albums(id, country = 'BR', limit=42) #apenas as muúicas disponíveis no Brasil e com o limite de 42 álbuns\n",
        "  albums_id_name = {}\n",
        "  for i in range(len(albums['items'])):\n",
        "    id = albums['items'][i]['id']\n",
        "    name = albums['items'][i]['name']\n",
        "    albums_id_name[id] = name\n",
        "\n",
        "  return albums_id_name"
      ],
      "execution_count": 0,
      "outputs": []
    },
    {
      "cell_type": "code",
      "metadata": {
        "id": "f2IhWTb4AUvt",
        "colab_type": "code",
        "colab": {}
      },
      "source": [
        "# pega as músicas de um álbum de um artista dado o id e nome do álbum\n",
        "# gera um dicionário com as seguintes informações da música: álbum, \n",
        "# número da música no álbum, id, nome, popularidade, duração, \n",
        "# data e  artistas envolvidos\n",
        "def get_album_songs(album_id, album_name):\n",
        "  spotify_album = {}\n",
        "\n",
        "  tracks = sp.album_tracks(album_id)\n",
        "  for n in range(len(tracks['items'])):\n",
        "    id_track = tracks['items'][n]['id']\n",
        "    track = sp.track(id_track)\n",
        "    spotify_album[id_track] = {}\n",
        "    \n",
        "    spotify_album[id_track]['album'] = album_name\n",
        "    spotify_album[id_track]['track_name'] = track['track_number']\n",
        "    spotify_album[id_track]['id_track'] = track['id']\n",
        "    spotify_album[id_track]['name'] = track['name']\n",
        "    spotify_album[id_track]['popularity'] = track['popularity']\n",
        "    spotify_album[id_track]['duration_ms'] = track['duration_ms']\n",
        "    spotify_album[id_track]['release_date'] = track['album']['release_date']\n",
        "\n",
        "    artists_track = track['artists']\n",
        "    spotify_album[id_track]['artists'] = []\n",
        "    for artist in artists_track:\n",
        "      spotify_album[id_track]['artists'].append(artist['name'])\n",
        "  return spotify_album"
      ],
      "execution_count": 0,
      "outputs": []
    },
    {
      "cell_type": "code",
      "metadata": {
        "id": "8Ms0WptZAYES",
        "colab_type": "code",
        "colab": {}
      },
      "source": [
        "# pega todas as músicas de todos os albuns de um artista dado um dicionario\n",
        "# com ids e nomes dos albuns (provenientes de get_artist_albums_id_names(id))\n",
        "def get_all_albums_songs(albums_ids_names):\n",
        "  spotify_albums = []\n",
        "  albums_names = []\n",
        "  for id, name in albums_ids_names.items():\n",
        "    if name not in albums_names:\n",
        "      albums_names.append(name)\n",
        "      album_songs = get_album_songs(id,name) \n",
        "    print(id, name)\n",
        "    for item in album_songs.items():\n",
        "      spotify_albums.append(item[1])\n",
        "  return spotify_albums"
      ],
      "execution_count": 0,
      "outputs": []
    },
    {
      "cell_type": "code",
      "metadata": {
        "id": "LMLiVpNtAbSC",
        "colab_type": "code",
        "colab": {}
      },
      "source": [
        "# converte para um csv chamado 'emicinos' os dados\n",
        "def convert_to_csv(filepath):\n",
        "  keys = filepath[0].keys()\n",
        "  print(keys)\n",
        "  with open('emicinos.csv', 'w') as output_file:\n",
        "    dict_writer = csv.DictWriter(output_file, keys)\n",
        "    dict_writer.writeheader()\n",
        "    dict_writer.writerows(filepath)\n",
        "  return"
      ],
      "execution_count": 0,
      "outputs": []
    },
    {
      "cell_type": "markdown",
      "metadata": {
        "id": "VMeAXfAvCmvK",
        "colab_type": "text"
      },
      "source": [
        "**O que temos aqui?**\n",
        "\n",
        "Ao fim dessas funções temos a possibilidade de conseguir todas as músicas de um artista e colocá-las num .csv."
      ]
    },
    {
      "cell_type": "code",
      "metadata": {
        "id": "cIZbCB1qbz0E",
        "colab_type": "code",
        "outputId": "ea93a297-58d7-476d-f6b6-35fbba384231",
        "colab": {
          "base_uri": "https://localhost:8080/",
          "height": 74
        }
      },
      "source": [
        "def main():\n",
        "  artist = get_artist(\"Emicida\")    \n",
        "  if artist:\n",
        "    print(artist)\n",
        "    artist_id = get_artist_id(artist)\n",
        "    albums_id_names = get_artist_albums_id_names(artist_id)\n",
        "    amarelo = get_album_songs('4cT2oNoqRan9HJiICEU9Ai', 'Amarelo')\n",
        "    all_albums = get_all_albums_songs(albums_id_names)\n",
        "    convert_to_csv(all_albums)\n",
        "  else:\n",
        "    logger.error(\"Can't find artist: %s\", artist)\n",
        "\n",
        "\n",
        "if __name__ == '__main__':\n",
        "    main()"
      ],
      "execution_count": 0,
      "outputs": [
        {
          "output_type": "stream",
          "text": [
            "dict_keys(['album', 'track_name', 'id_track', 'name', 'popularity', 'duration_ms', 'release_date', 'artists'])\n",
            "{'external_urls': {'spotify': 'https://open.spotify.com/artist/2d9LRvQJnAXRijqIJDDs2K'}, 'href': 'https://api.spotify.com/v1/artists/2d9LRvQJnAXRijqIJDDs2K', 'id': '2d9LRvQJnAXRijqIJDDs2K', 'name': 'Emicida', 'type': 'artist', 'uri': 'spotify:artist:2d9LRvQJnAXRijqIJDDs2K'}\n"
          ],
          "name": "stdout"
        }
      ]
    },
    {
      "cell_type": "markdown",
      "metadata": {
        "id": "C1ZDbVtpDCOT",
        "colab_type": "text"
      },
      "source": [
        "**O que faremos a seguir?**\n",
        "\n",
        "Vamos visualizar nossas metas.\n",
        "\n",
        "* ~~Coletar todas músicas e álbuns de Emicida~~\n",
        "* ~~Coletar todos os feats de Emicida~~\n",
        "* Identificar o álbum mais popular  \n",
        "* Identificar o single mais popular\n",
        "* Qual é a maior música\n",
        "* Qual a menor música\n",
        "* Qual a música com mais feat\n",
        "* Linha do tempo de lançamentos"
      ]
    },
    {
      "cell_type": "code",
      "metadata": {
        "id": "9JaEs3QpDbvJ",
        "colab_type": "code",
        "colab": {}
      },
      "source": [
        "# identificar o álbum mais popular"
      ],
      "execution_count": 0,
      "outputs": []
    },
    {
      "cell_type": "code",
      "metadata": {
        "id": "JAOsNk3iDfGD",
        "colab_type": "code",
        "colab": {}
      },
      "source": [
        "# identificar o single mais popular"
      ],
      "execution_count": 0,
      "outputs": []
    },
    {
      "cell_type": "code",
      "metadata": {
        "id": "q3JPmhh7DivH",
        "colab_type": "code",
        "colab": {}
      },
      "source": [
        "# qual a maior música"
      ],
      "execution_count": 0,
      "outputs": []
    },
    {
      "cell_type": "code",
      "metadata": {
        "id": "Ebysv9EaDk1Q",
        "colab_type": "code",
        "colab": {}
      },
      "source": [
        "# qual a menor música"
      ],
      "execution_count": 0,
      "outputs": []
    },
    {
      "cell_type": "code",
      "metadata": {
        "id": "dUvIjtRqDmlt",
        "colab_type": "code",
        "colab": {}
      },
      "source": [
        "# qual a música com mais feat"
      ],
      "execution_count": 0,
      "outputs": []
    },
    {
      "cell_type": "code",
      "metadata": {
        "id": "eAvtw-sSDoox",
        "colab_type": "code",
        "colab": {}
      },
      "source": [
        "# linha do tempo de lançamentos"
      ],
      "execution_count": 0,
      "outputs": []
    }
  ]
}