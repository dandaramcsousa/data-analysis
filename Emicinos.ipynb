{
  "nbformat": 4,
  "nbformat_minor": 0,
  "metadata": {
    "colab": {
      "name": "Emicinos.ipynb",
      "provenance": [],
      "collapsed_sections": [],
      "authorship_tag": "ABX9TyO4Es4pfG6RvfNm9Oj/3sIS",
      "include_colab_link": true
    },
    "kernelspec": {
      "name": "python3",
      "display_name": "Python 3"
    }
  },
  "cells": [
    {
      "cell_type": "markdown",
      "metadata": {
        "id": "view-in-github",
        "colab_type": "text"
      },
      "source": [
        "<a href=\"https://colab.research.google.com/github/dandaramcsousa/data-analysis/blob/master/Emicinos.ipynb\" target=\"_parent\"><img src=\"https://colab.research.google.com/assets/colab-badge.svg\" alt=\"Open In Colab\"/></a>"
      ]
    },
    {
      "cell_type": "markdown",
      "metadata": {
        "id": "WEJKDwArZTQs",
        "colab_type": "text"
      },
      "source": [
        "**código desenvolvido por [Dandara Sousa](https://dandaramcsousa.github.io) 2020.**"
      ]
    },
    {
      "cell_type": "markdown",
      "metadata": {
        "id": "v9trKpkCZW41",
        "colab_type": "text"
      },
      "source": [
        "Metas:\n",
        "\n",
        "* Coletar todas músicas e álbuns de Emicida\n",
        "* Coletar todos os feats de Emicida\n",
        "* Identificar o álbum mais popular  \n",
        "* Identificar o single mais popular\n",
        "* Qual é a maior música\n",
        "* Qual a menor música\n",
        "* Qual a música com mais feat\n",
        "* Linha do tempo de lançamentos\n"
      ]
    },
    {
      "cell_type": "code",
      "metadata": {
        "id": "y2RUtaEWa_TV",
        "colab_type": "code",
        "outputId": "dc3f8615-42dc-486a-8815-5a384e288261",
        "colab": {
          "base_uri": "https://localhost:8080/",
          "height": 201
        }
      },
      "source": [
        "#dependencias e credenciais\n",
        "!pip install spotipy\n",
        "from spotipy.oauth2 import SpotifyClientCredentials\n",
        "import spotipy\n",
        "import sys\n",
        "import csv\n",
        "\n",
        "sp = spotipy.Spotify(client_credentials_manager= SpotifyClientCredentials(client_id=\"a74e8eedfb694efc8e7162e43ec0cb3f\", client_secret=\"bc7e77c0222741b4b2e7bebb37da69bf\"))"
      ],
      "execution_count": 2,
      "outputs": [
        {
          "output_type": "stream",
          "text": [
            "Collecting spotipy\n",
            "  Downloading https://files.pythonhosted.org/packages/b2/67/ea788ae3d7e3aad0b0ef72a4f5b6c24c1dbb3db83fd57efc221f86b4fe87/spotipy-2.12.0-py3-none-any.whl\n",
            "Requirement already satisfied: requests>=2.20.0 in /usr/local/lib/python3.6/dist-packages (from spotipy) (2.23.0)\n",
            "Requirement already satisfied: six>=1.10.0 in /usr/local/lib/python3.6/dist-packages (from spotipy) (1.12.0)\n",
            "Requirement already satisfied: idna<3,>=2.5 in /usr/local/lib/python3.6/dist-packages (from requests>=2.20.0->spotipy) (2.9)\n",
            "Requirement already satisfied: certifi>=2017.4.17 in /usr/local/lib/python3.6/dist-packages (from requests>=2.20.0->spotipy) (2020.4.5.1)\n",
            "Requirement already satisfied: urllib3!=1.25.0,!=1.25.1,<1.26,>=1.21.1 in /usr/local/lib/python3.6/dist-packages (from requests>=2.20.0->spotipy) (1.24.3)\n",
            "Requirement already satisfied: chardet<4,>=3.0.2 in /usr/local/lib/python3.6/dist-packages (from requests>=2.20.0->spotipy) (3.0.4)\n",
            "Installing collected packages: spotipy\n",
            "Successfully installed spotipy-2.12.0\n"
          ],
          "name": "stdout"
        }
      ]
    },
    {
      "cell_type": "code",
      "metadata": {
        "id": "TuBzrUs5ANwe",
        "colab_type": "code",
        "colab": {}
      },
      "source": [
        "# pega o artista dado o nome de um artista\n",
        "def get_artist(name):\n",
        "    results = sp.search(name)\n",
        "    items = results['tracks']['items']\n",
        "    if len(items) > 0:\n",
        "        return items[0]['artists'][0]\n",
        "    else:\n",
        "        return None"
      ],
      "execution_count": 0,
      "outputs": []
    },
    {
      "cell_type": "code",
      "metadata": {
        "id": "ljtG6ChfARAf",
        "colab_type": "code",
        "colab": {}
      },
      "source": [
        "# pega o id do artista dado um artista\n",
        "def get_artist_id(artist):\n",
        "    return artist['id']"
      ],
      "execution_count": 0,
      "outputs": []
    },
    {
      "cell_type": "code",
      "metadata": {
        "id": "BA8K2eiBASph",
        "colab_type": "code",
        "colab": {}
      },
      "source": [
        "# pega os id e nomes dos álbuns dado o id do artista\n",
        "def get_artist_albums_id_names(id):\n",
        "  albums = sp.artist_albums(id, country = 'BR', limit=42) #apenas as muúicas disponíveis no Brasil e com o limite de 42 álbuns\n",
        "  albums_id_name = {}\n",
        "  for i in range(len(albums['items'])):\n",
        "    id = albums['items'][i]['id']\n",
        "    name = albums['items'][i]['name']\n",
        "    albums_id_name[id] = name\n",
        "\n",
        "  return albums_id_name"
      ],
      "execution_count": 0,
      "outputs": []
    },
    {
      "cell_type": "code",
      "metadata": {
        "id": "f2IhWTb4AUvt",
        "colab_type": "code",
        "colab": {}
      },
      "source": [
        "# pega as músicas de um álbum de um artista dado o id e nome do álbum\n",
        "# gera um dicionário com as seguintes informações das músicas do álbum: álbum, \n",
        "# número da música no álbum, id, nome, popularidade, duração, \n",
        "# data e  artistas envolvidos\n",
        "def get_album_songs(album_id, album_name):\n",
        "  spotify_album = {}\n",
        "\n",
        "  album = sp.album(album_id)\n",
        "  tracks = sp.album_tracks(album_id)\n",
        "  for n in range(len(tracks['items'])):\n",
        "    id_track = tracks['items'][n]['id']\n",
        "    track = sp.track(id_track)\n",
        "    spotify_album[id_track] = {}\n",
        "    \n",
        "    spotify_album[id_track]['album'] = album_name\n",
        "    spotify_album[id_track]['album_type'] = album['album_type']\n",
        "    spotify_album[id_track]['track_number'] = track['track_number']\n",
        "    spotify_album[id_track]['id_track'] = track['id']\n",
        "    spotify_album[id_track]['name'] = track['name']\n",
        "    spotify_album[id_track]['popularity'] = track['popularity']\n",
        "    spotify_album[id_track]['duration_ms'] = track['duration_ms']\n",
        "    spotify_album[id_track]['release_date'] = track['album']['release_date']\n",
        "\n",
        "    artists_track = track['artists']\n",
        "    spotify_album[id_track]['artists'] = []\n",
        "    for artist in artists_track:\n",
        "      spotify_album[id_track]['artists'].append(artist['name'])\n",
        "  return spotify_album"
      ],
      "execution_count": 0,
      "outputs": []
    },
    {
      "cell_type": "code",
      "metadata": {
        "id": "8Ms0WptZAYES",
        "colab_type": "code",
        "colab": {}
      },
      "source": [
        "# pega todas as músicas de todos os albuns de um artista dado um dicionario\n",
        "# com ids e nomes dos albuns (provenientes de get_artist_albums_id_names(id))\n",
        "def get_all_albums_songs(albums_ids_names):\n",
        "  spotify_albums = []\n",
        "  albums_names = []\n",
        "  for id, name in albums_ids_names.items():\n",
        "    if name not in albums_names:\n",
        "      albums_names.append(name)\n",
        "      album_songs = get_album_songs(id,name) \n",
        "    print(id, name)\n",
        "    for item in album_songs.items():\n",
        "      spotify_albums.append(item[1])\n",
        "  return spotify_albums"
      ],
      "execution_count": 0,
      "outputs": []
    },
    {
      "cell_type": "code",
      "metadata": {
        "id": "LMLiVpNtAbSC",
        "colab_type": "code",
        "colab": {}
      },
      "source": [
        "# converte para um csv chamado 'emicinos' os dados\n",
        "def convert_to_csv(filepath):\n",
        "  keys = filepath[0].keys()\n",
        "  print(keys)\n",
        "  with open('emicinos.csv', 'w') as output_file:\n",
        "    dict_writer = csv.DictWriter(output_file, keys)\n",
        "    dict_writer.writeheader()\n",
        "    dict_writer.writerows(filepath)\n",
        "  return"
      ],
      "execution_count": 0,
      "outputs": []
    },
    {
      "cell_type": "markdown",
      "metadata": {
        "id": "VMeAXfAvCmvK",
        "colab_type": "text"
      },
      "source": [
        "**O que temos aqui?**\n",
        "\n",
        "Ao fim dessas funções temos a possibilidade de conseguir todas as músicas de um artista e colocá-las num .csv."
      ]
    },
    {
      "cell_type": "code",
      "metadata": {
        "id": "cIZbCB1qbz0E",
        "colab_type": "code",
        "outputId": "202117ea-37da-4e0c-f488-56bdc83124df",
        "colab": {
          "base_uri": "https://localhost:8080/",
          "height": 845
        }
      },
      "source": [
        "def main():\n",
        "  artist = get_artist(\"Emicida\")    \n",
        "  if artist:\n",
        "    print(artist)\n",
        "    artist_id = get_artist_id(artist)\n",
        "    albums_id_names = get_artist_albums_id_names(artist_id)\n",
        "    amarelo = get_album_songs('4cT2oNoqRan9HJiICEU9Ai', 'Amarelo')\n",
        "    all_albums = get_all_albums_songs(albums_id_names)\n",
        "    convert_to_csv(all_albums)\n",
        "  else:\n",
        "    logger.error(\"Can't find artist: %s\", artist)\n",
        "\n",
        "\n",
        "if __name__ == '__main__':\n",
        "    main()"
      ],
      "execution_count": 9,
      "outputs": [
        {
          "output_type": "stream",
          "text": [
            "{'external_urls': {'spotify': 'https://open.spotify.com/artist/2d9LRvQJnAXRijqIJDDs2K'}, 'href': 'https://api.spotify.com/v1/artists/2d9LRvQJnAXRijqIJDDs2K', 'id': '2d9LRvQJnAXRijqIJDDs2K', 'name': 'Emicida', 'type': 'artist', 'uri': 'spotify:artist:2d9LRvQJnAXRijqIJDDs2K'}\n",
            "5cUY5chmS86cdonhoFdn8h AmarElo\n",
            "6nFULR21EyYSzxPUr60S3a 10 Anos de Triunfo (Ao Vivo)\n",
            "77ye4kGcWBmzcLWFiSCljE Sobre Crianças, Quadris, Pesadelos e Lições de Casa...\n",
            "4UqGzHq5gbqDhFI27IPVd2 O Glorioso Retorno de Quem Nunca Esteve Aqui\n",
            "4ZLLVCn6RnlENQ0nhAS5sS Rock In Rio (Ao Vivo)\n",
            "3xfZtthn2dlFtFfyyYKEf8 Criolo E Emicida Ao Vivo (Live)\n",
            "57PWjWHzqzODblomXxnQca O Glorioso Retorno de Quem Nunca Esteve Aqui\n",
            "24FRiS4aTYXDcL48UPknP7 Doozicabraba e a Revolução Silenciosa\n",
            "1xTiVYWuLx7GkZN9NLRVEs Emicidio\n",
            "3ZA85zeudxFA1NGeb6avXS Pra Quem Já Mordeu um Cachorro por Comida Até Que Eu Cheguei Longe\n",
            "3yCfk5tZsvi3cWfLPzsqf3 Quem Tem Um Amigo (Tem Tudo)\n",
            "0VkPkc6tXvv5x8e9N4VuBQ Passarinhos (Remix)\n",
            "1KQa2QnhuCJGsUIV9P7sZZ Libre\n",
            "0sVRD9qXjjQIy9E6GY6XIY Hacia El Amor (Acústico)\n",
            "1R42sWNfIQoqQSYyPIB4jF AmarElo (Sample: Sujeito de Sorte - Belchior)\n",
            "4U1ciyOHQJHgZSgoCL84vM Final dos Tempos\n",
            "5531Q6ELSF96I2DG5ECnPY Mil Coisas\n",
            "7xF5wQBcDd8zrZYrs1bVla Eminência Parda (feat. Dona Onete, Jé Santiago & Papillon)\n",
            "1U8sukw1UVGAzxcCXH4P1x Vital\n",
            "6dzH0YRl4S2nWHli0R6Llv Rap do Motoboy\n",
            "7GKPjR6AqRjOY8G3U2RN7t Levanta e Anda\n",
            "3eLKITLeHPsbYEjCB0EIuO Inácio da Catingueira\n",
            "7JsJiwACrgO2YBoWAzpPLa Hacia El Amor\n",
            "0qXYKIin4nUIkws5cUB7Vr Triunfo (Ao Vivo)\n",
            "1Q6FYbkBht3MkAMjL1u3K0 Hoje Cedo (Ao Vivo)\n",
            "7BzU3EXU0Obq6CNeT4B9bs Como Tudo Deve Ser (Ao Vivo)\n",
            "2tVVwhgz4Ic9ONbvbMr7gN Levanta e Anda (Ao Vivo)\n",
            "235FXq3fhpJ3VqUX5Qjvrj Pantera Negra\n",
            "7wtWrsGuJcjmQEju5Dd25K Oásis\n",
            "7sBS5jW8aR2EwpRmV5QIFC A Chapa é Quente (Língua Franca)\n",
            "4XN0IrRFJ2b2mpZRSKA3t0 Yasuke (Bendito, Louvado Seja)\n",
            "2fChNSVGao2fY5IMggvzWj Rdio Sessions\n",
            "1NnQYrdDbqZxzTsNaQuDl9 Bonjour\n",
            "7vHi7lo1mCDyDvbLBy1u2c Minha Vida (Remix)\n",
            "0Vd6p2q0LN9kjrS7WL89E3 Crisântemo\n",
            "1IWJUsvmUb2e06hU4ZVhtJ Papel, Caneta e Coração\n",
            "1zAupkIVUJedJEWZRD9144 Aos Olhos de uma Criança (Tema do Filme \"O Menino e o Mundo\")\n",
            "393EULGuLWpFjCzcuSSQBF Hoje Cedo\n",
            "55w8mp0m9mYuVdFxw7LcrB Avua Besouro\n",
            "0BOHI5c6ti9LqhICsBeKgk Quero Ver Quarta-Feira\n",
            "36hxSCqB8A4hpUxhrH9zbZ Sua Mina Ouve Meu Rep Tamem\n",
            "43kNIcy8nmcjnFVJhJDsQU Triunfo\n",
            "dict_keys(['album', 'album_type', 'track_name', 'id_track', 'name', 'popularity', 'duration_ms', 'release_date', 'artists'])\n"
          ],
          "name": "stdout"
        }
      ]
    },
    {
      "cell_type": "markdown",
      "metadata": {
        "id": "C1ZDbVtpDCOT",
        "colab_type": "text"
      },
      "source": [
        "**O que faremos a seguir?**\n",
        "\n",
        "Vamos visualizar nossas metas.\n",
        "\n",
        "* ~~Coletar todas músicas e álbuns de Emicida~~\n",
        "* ~~Coletar todos os feats de Emicida~~\n",
        "* Identificar o álbum mais popular  \n",
        "* Identificar o single mais popular\n",
        "* Qual é a maior música\n",
        "* Qual a menor música\n",
        "* Qual a música com mais feat\n",
        "* Linha do tempo de lançamentos"
      ]
    },
    {
      "cell_type": "markdown",
      "metadata": {
        "id": "JolyhZZ_yZug",
        "colab_type": "text"
      },
      "source": [
        "[Encodings do Altair](https://altair-viz.github.io/user_guide/encoding.html)"
      ]
    },
    {
      "cell_type": "code",
      "metadata": {
        "id": "UEQsvMR_gb6X",
        "colab_type": "code",
        "colab": {}
      },
      "source": [
        "import altair as alt\n",
        "import pandas as pd\n",
        "\n",
        "data = pd.read_csv('emicinos.csv')"
      ],
      "execution_count": 0,
      "outputs": []
    },
    {
      "cell_type": "code",
      "metadata": {
        "id": "9JaEs3QpDbvJ",
        "colab_type": "code",
        "outputId": "9c7ff2f1-265d-4c75-fabf-d7993cc566c1",
        "colab": {
          "base_uri": "https://localhost:8080/",
          "height": 363
        }
      },
      "source": [
        "# identificar o álbum mais popular\n",
        "data_groupby = pd.DataFrame(data, columns = ['album','album_type','popularity','duration_ms'])\n",
        "data_groupby_album =  data_groupby[data_groupby['album_type'] ==  'album']\n",
        "data_groupby_album = data_groupby_album.groupby('album').median() \n",
        "\n",
        "data_groupby_album = data_groupby_album.sort_values(by = 'popularity', ascending=False)\n",
        "data_groupby_album\n"
      ],
      "execution_count": 11,
      "outputs": [
        {
          "output_type": "execute_result",
          "data": {
            "text/html": [
              "<div>\n",
              "<style scoped>\n",
              "    .dataframe tbody tr th:only-of-type {\n",
              "        vertical-align: middle;\n",
              "    }\n",
              "\n",
              "    .dataframe tbody tr th {\n",
              "        vertical-align: top;\n",
              "    }\n",
              "\n",
              "    .dataframe thead th {\n",
              "        text-align: right;\n",
              "    }\n",
              "</style>\n",
              "<table border=\"1\" class=\"dataframe\">\n",
              "  <thead>\n",
              "    <tr style=\"text-align: right;\">\n",
              "      <th></th>\n",
              "      <th>popularity</th>\n",
              "      <th>duration_ms</th>\n",
              "    </tr>\n",
              "    <tr>\n",
              "      <th>album</th>\n",
              "      <th></th>\n",
              "      <th></th>\n",
              "    </tr>\n",
              "  </thead>\n",
              "  <tbody>\n",
              "    <tr>\n",
              "      <th>AmarElo</th>\n",
              "      <td>49.0</td>\n",
              "      <td>249000.0</td>\n",
              "    </tr>\n",
              "    <tr>\n",
              "      <th>10 Anos de Triunfo (Ao Vivo)</th>\n",
              "      <td>40.0</td>\n",
              "      <td>248866.0</td>\n",
              "    </tr>\n",
              "    <tr>\n",
              "      <th>Sobre Crianças, Quadris, Pesadelos e Lições de Casa...</th>\n",
              "      <td>37.0</td>\n",
              "      <td>233026.5</td>\n",
              "    </tr>\n",
              "    <tr>\n",
              "      <th>Criolo E Emicida Ao Vivo (Live)</th>\n",
              "      <td>34.0</td>\n",
              "      <td>239359.5</td>\n",
              "    </tr>\n",
              "    <tr>\n",
              "      <th>Emicidio</th>\n",
              "      <td>27.0</td>\n",
              "      <td>198906.0</td>\n",
              "    </tr>\n",
              "    <tr>\n",
              "      <th>Pra Quem Já Mordeu um Cachorro por Comida Até Que Eu Cheguei Longe</th>\n",
              "      <td>27.0</td>\n",
              "      <td>204840.0</td>\n",
              "    </tr>\n",
              "    <tr>\n",
              "      <th>Doozicabraba e a Revolução Silenciosa</th>\n",
              "      <td>23.5</td>\n",
              "      <td>192673.0</td>\n",
              "    </tr>\n",
              "    <tr>\n",
              "      <th>Rock In Rio (Ao Vivo)</th>\n",
              "      <td>23.5</td>\n",
              "      <td>272826.5</td>\n",
              "    </tr>\n",
              "    <tr>\n",
              "      <th>O Glorioso Retorno de Quem Nunca Esteve Aqui</th>\n",
              "      <td>2.5</td>\n",
              "      <td>225873.0</td>\n",
              "    </tr>\n",
              "  </tbody>\n",
              "</table>\n",
              "</div>"
            ],
            "text/plain": [
              "                                                    popularity  duration_ms\n",
              "album                                                                      \n",
              "AmarElo                                                   49.0     249000.0\n",
              "10 Anos de Triunfo (Ao Vivo)                              40.0     248866.0\n",
              "Sobre Crianças, Quadris, Pesadelos e Lições de ...        37.0     233026.5\n",
              "Criolo E Emicida Ao Vivo (Live)                           34.0     239359.5\n",
              "Emicidio                                                  27.0     198906.0\n",
              "Pra Quem Já Mordeu um Cachorro por Comida Até Q...        27.0     204840.0\n",
              "Doozicabraba e a Revolução Silenciosa                     23.5     192673.0\n",
              "Rock In Rio (Ao Vivo)                                     23.5     272826.5\n",
              "O Glorioso Retorno de Quem Nunca Esteve Aqui               2.5     225873.0"
            ]
          },
          "metadata": {
            "tags": []
          },
          "execution_count": 11
        }
      ]
    },
    {
      "cell_type": "code",
      "metadata": {
        "id": "Q2IL9_Q1oUZJ",
        "colab_type": "code",
        "outputId": "c1077323-edc9-4e0f-d817-0f3bbb41909d",
        "colab": {
          "base_uri": "https://localhost:8080/",
          "height": 243
        }
      },
      "source": [
        "data_groupby_album_chart =  data_groupby[data_groupby['album_type'] ==  'album']\n",
        "\n",
        "bars = alt.Chart(data_groupby_album_chart).mark_bar(color = '#EAC306').encode(\n",
        "    x=alt.X('median(popularity):Q', axis = alt.Axis(title='Mediana da Popularidade')),\n",
        "    y=alt.Y('album:O', sort='-x', axis = alt.Axis(title='Álbum'))\n",
        ")\n",
        "text = alt.Chart(data_groupby_album_chart).mark_text(dx=-15, dy=3, color='white').encode(\n",
        "    x=alt.X('median(popularity):Q', axis = alt.Axis(title='Mediana da Popularidade')),\n",
        "    y=alt.Y('album:O', sort='-x', axis = alt.Axis(title='Álbum')),\n",
        "    text=alt.Text('median(popularity):Q')\n",
        ")\n",
        "bars + text"
      ],
      "execution_count": 12,
      "outputs": [
        {
          "output_type": "execute_result",
          "data": {
            "text/plain": [
              "alt.LayerChart(...)"
            ],
            "text/html": [
              "\n",
              "<div id=\"altair-viz-4674da6c5bfd4a6a97a6b3478497dcba\"></div>\n",
              "<script type=\"text/javascript\">\n",
              "  (function(spec, embedOpt){\n",
              "    let outputDiv = document.currentScript.previousElementSibling;\n",
              "    if (outputDiv.id !== \"altair-viz-4674da6c5bfd4a6a97a6b3478497dcba\") {\n",
              "      outputDiv = document.getElementById(\"altair-viz-4674da6c5bfd4a6a97a6b3478497dcba\");\n",
              "    }\n",
              "    const paths = {\n",
              "      \"vega\": \"https://cdn.jsdelivr.net/npm//vega@5?noext\",\n",
              "      \"vega-lib\": \"https://cdn.jsdelivr.net/npm//vega-lib?noext\",\n",
              "      \"vega-lite\": \"https://cdn.jsdelivr.net/npm//vega-lite@4.8.1?noext\",\n",
              "      \"vega-embed\": \"https://cdn.jsdelivr.net/npm//vega-embed@6?noext\",\n",
              "    };\n",
              "\n",
              "    function loadScript(lib) {\n",
              "      return new Promise(function(resolve, reject) {\n",
              "        var s = document.createElement('script');\n",
              "        s.src = paths[lib];\n",
              "        s.async = true;\n",
              "        s.onload = () => resolve(paths[lib]);\n",
              "        s.onerror = () => reject(`Error loading script: ${paths[lib]}`);\n",
              "        document.getElementsByTagName(\"head\")[0].appendChild(s);\n",
              "      });\n",
              "    }\n",
              "\n",
              "    function showError(err) {\n",
              "      outputDiv.innerHTML = `<div class=\"error\" style=\"color:red;\">${err}</div>`;\n",
              "      throw err;\n",
              "    }\n",
              "\n",
              "    function displayChart(vegaEmbed) {\n",
              "      vegaEmbed(outputDiv, spec, embedOpt)\n",
              "        .catch(err => showError(`Javascript Error: ${err.message}<br>This usually means there's a typo in your chart specification. See the javascript console for the full traceback.`));\n",
              "    }\n",
              "\n",
              "    if(typeof define === \"function\" && define.amd) {\n",
              "      requirejs.config({paths});\n",
              "      require([\"vega-embed\"], displayChart, err => showError(`Error loading script: ${err.message}`));\n",
              "    } else if (typeof vegaEmbed === \"function\") {\n",
              "      displayChart(vegaEmbed);\n",
              "    } else {\n",
              "      loadScript(\"vega\")\n",
              "        .then(() => loadScript(\"vega-lite\"))\n",
              "        .then(() => loadScript(\"vega-embed\"))\n",
              "        .catch(showError)\n",
              "        .then(() => displayChart(vegaEmbed));\n",
              "    }\n",
              "  })({\"config\": {\"view\": {\"continuousWidth\": 400, \"continuousHeight\": 300}}, \"layer\": [{\"mark\": {\"type\": \"bar\", \"color\": \"#EAC306\"}, \"encoding\": {\"x\": {\"type\": \"quantitative\", \"aggregate\": \"median\", \"axis\": {\"title\": \"Mediana da Popularidade\"}, \"field\": \"popularity\"}, \"y\": {\"type\": \"ordinal\", \"axis\": {\"title\": \"\\u00c1lbum\"}, \"field\": \"album\", \"sort\": \"-x\"}}}, {\"mark\": {\"type\": \"text\", \"color\": \"white\", \"dx\": -15, \"dy\": 3}, \"encoding\": {\"text\": {\"type\": \"quantitative\", \"aggregate\": \"median\", \"field\": \"popularity\"}, \"x\": {\"type\": \"quantitative\", \"aggregate\": \"median\", \"axis\": {\"title\": \"Mediana da Popularidade\"}, \"field\": \"popularity\"}, \"y\": {\"type\": \"ordinal\", \"axis\": {\"title\": \"\\u00c1lbum\"}, \"field\": \"album\", \"sort\": \"-x\"}}}], \"data\": {\"name\": \"data-fe8e56cbb931aebba798e8933149d868\"}, \"$schema\": \"https://vega.github.io/schema/vega-lite/v4.8.1.json\", \"datasets\": {\"data-fe8e56cbb931aebba798e8933149d868\": [{\"album\": \"AmarElo\", \"album_type\": \"album\", \"popularity\": 53, \"duration_ms\": 355866}, {\"album\": \"AmarElo\", \"album_type\": \"album\", \"popularity\": 53, \"duration_ms\": 235866}, {\"album\": \"AmarElo\", \"album_type\": \"album\", \"popularity\": 56, \"duration_ms\": 292013}, {\"album\": \"AmarElo\", \"album_type\": \"album\", \"popularity\": 50, \"duration_ms\": 249000}, {\"album\": \"AmarElo\", \"album_type\": \"album\", \"popularity\": 49, \"duration_ms\": 189680}, {\"album\": \"AmarElo\", \"album_type\": \"album\", \"popularity\": 49, \"duration_ms\": 335600}, {\"album\": \"AmarElo\", \"album_type\": \"album\", \"popularity\": 48, \"duration_ms\": 177480}, {\"album\": \"AmarElo\", \"album_type\": \"album\", \"popularity\": 48, \"duration_ms\": 357760}, {\"album\": \"AmarElo\", \"album_type\": \"album\", \"popularity\": 48, \"duration_ms\": 244186}, {\"album\": \"AmarElo\", \"album_type\": \"album\", \"popularity\": 56, \"duration_ms\": 320800}, {\"album\": \"AmarElo\", \"album_type\": \"album\", \"popularity\": 43, \"duration_ms\": 169706}, {\"album\": \"10 Anos de Triunfo (Ao Vivo)\", \"album_type\": \"album\", \"popularity\": 41, \"duration_ms\": 353613}, {\"album\": \"10 Anos de Triunfo (Ao Vivo)\", \"album_type\": \"album\", \"popularity\": 39, \"duration_ms\": 205200}, {\"album\": \"10 Anos de Triunfo (Ao Vivo)\", \"album_type\": \"album\", \"popularity\": 39, \"duration_ms\": 198866}, {\"album\": \"10 Anos de Triunfo (Ao Vivo)\", \"album_type\": \"album\", \"popularity\": 41, \"duration_ms\": 248866}, {\"album\": \"10 Anos de Triunfo (Ao Vivo)\", \"album_type\": \"album\", \"popularity\": 45, \"duration_ms\": 312680}, {\"album\": \"10 Anos de Triunfo (Ao Vivo)\", \"album_type\": \"album\", \"popularity\": 43, \"duration_ms\": 234840}, {\"album\": \"10 Anos de Triunfo (Ao Vivo)\", \"album_type\": \"album\", \"popularity\": 43, \"duration_ms\": 242506}, {\"album\": \"10 Anos de Triunfo (Ao Vivo)\", \"album_type\": \"album\", \"popularity\": 41, \"duration_ms\": 239106}, {\"album\": \"10 Anos de Triunfo (Ao Vivo)\", \"album_type\": \"album\", \"popularity\": 41, \"duration_ms\": 253853}, {\"album\": \"10 Anos de Triunfo (Ao Vivo)\", \"album_type\": \"album\", \"popularity\": 38, \"duration_ms\": 257613}, {\"album\": \"10 Anos de Triunfo (Ao Vivo)\", \"album_type\": \"album\", \"popularity\": 42, \"duration_ms\": 297693}, {\"album\": \"10 Anos de Triunfo (Ao Vivo)\", \"album_type\": \"album\", \"popularity\": 42, \"duration_ms\": 342000}, {\"album\": \"10 Anos de Triunfo (Ao Vivo)\", \"album_type\": \"album\", \"popularity\": 40, \"duration_ms\": 175880}, {\"album\": \"10 Anos de Triunfo (Ao Vivo)\", \"album_type\": \"album\", \"popularity\": 40, \"duration_ms\": 282106}, {\"album\": \"10 Anos de Triunfo (Ao Vivo)\", \"album_type\": \"album\", \"popularity\": 39, \"duration_ms\": 222466}, {\"album\": \"10 Anos de Triunfo (Ao Vivo)\", \"album_type\": \"album\", \"popularity\": 37, \"duration_ms\": 237133}, {\"album\": \"10 Anos de Triunfo (Ao Vivo)\", \"album_type\": \"album\", \"popularity\": 36, \"duration_ms\": 302866}, {\"album\": \"10 Anos de Triunfo (Ao Vivo)\", \"album_type\": \"album\", \"popularity\": 41, \"duration_ms\": 285160}, {\"album\": \"10 Anos de Triunfo (Ao Vivo)\", \"album_type\": \"album\", \"popularity\": 44, \"duration_ms\": 284693}, {\"album\": \"10 Anos de Triunfo (Ao Vivo)\", \"album_type\": \"album\", \"popularity\": 37, \"duration_ms\": 199706}, {\"album\": \"10 Anos de Triunfo (Ao Vivo)\", \"album_type\": \"album\", \"popularity\": 38, \"duration_ms\": 247133}, {\"album\": \"10 Anos de Triunfo (Ao Vivo)\", \"album_type\": \"album\", \"popularity\": 36, \"duration_ms\": 139466}, {\"album\": \"10 Anos de Triunfo (Ao Vivo)\", \"album_type\": \"album\", \"popularity\": 36, \"duration_ms\": 267400}, {\"album\": \"10 Anos de Triunfo (Ao Vivo)\", \"album_type\": \"album\", \"popularity\": 37, \"duration_ms\": 647666}, {\"album\": \"10 Anos de Triunfo (Ao Vivo)\", \"album_type\": \"album\", \"popularity\": 36, \"duration_ms\": 131920}, {\"album\": \"10 Anos de Triunfo (Ao Vivo)\", \"album_type\": \"album\", \"popularity\": 40, \"duration_ms\": 192253}, {\"album\": \"10 Anos de Triunfo (Ao Vivo)\", \"album_type\": \"album\", \"popularity\": 38, \"duration_ms\": 259360}, {\"album\": \"Sobre Crian\\u00e7as, Quadris, Pesadelos e Li\\u00e7\\u00f5es de Casa...\", \"album_type\": \"album\", \"popularity\": 45, \"duration_ms\": 298226}, {\"album\": \"Sobre Crian\\u00e7as, Quadris, Pesadelos e Li\\u00e7\\u00f5es de Casa...\", \"album_type\": \"album\", \"popularity\": 33, \"duration_ms\": 209453}, {\"album\": \"Sobre Crian\\u00e7as, Quadris, Pesadelos e Li\\u00e7\\u00f5es de Casa...\", \"album_type\": \"album\", \"popularity\": 38, \"duration_ms\": 241120}, {\"album\": \"Sobre Crian\\u00e7as, Quadris, Pesadelos e Li\\u00e7\\u00f5es de Casa...\", \"album_type\": \"album\", \"popularity\": 32, \"duration_ms\": 56932}, {\"album\": \"Sobre Crian\\u00e7as, Quadris, Pesadelos e Li\\u00e7\\u00f5es de Casa...\", \"album_type\": \"album\", \"popularity\": 34, \"duration_ms\": 238560}, {\"album\": \"Sobre Crian\\u00e7as, Quadris, Pesadelos e Li\\u00e7\\u00f5es de Casa...\", \"album_type\": \"album\", \"popularity\": 51, \"duration_ms\": 233320}, {\"album\": \"Sobre Crian\\u00e7as, Quadris, Pesadelos e Li\\u00e7\\u00f5es de Casa...\", \"album_type\": \"album\", \"popularity\": 58, \"duration_ms\": 221626}, {\"album\": \"Sobre Crian\\u00e7as, Quadris, Pesadelos e Li\\u00e7\\u00f5es de Casa...\", \"album_type\": \"album\", \"popularity\": 30, \"duration_ms\": 70626}, {\"album\": \"Sobre Crian\\u00e7as, Quadris, Pesadelos e Li\\u00e7\\u00f5es de Casa...\", \"album_type\": \"album\", \"popularity\": 36, \"duration_ms\": 278986}, {\"album\": \"Sobre Crian\\u00e7as, Quadris, Pesadelos e Li\\u00e7\\u00f5es de Casa...\", \"album_type\": \"album\", \"popularity\": 41, \"duration_ms\": 182880}, {\"album\": \"Sobre Crian\\u00e7as, Quadris, Pesadelos e Li\\u00e7\\u00f5es de Casa...\", \"album_type\": \"album\", \"popularity\": 30, \"duration_ms\": 82693}, {\"album\": \"Sobre Crian\\u00e7as, Quadris, Pesadelos e Li\\u00e7\\u00f5es de Casa...\", \"album_type\": \"album\", \"popularity\": 39, \"duration_ms\": 495600}, {\"album\": \"Sobre Crian\\u00e7as, Quadris, Pesadelos e Li\\u00e7\\u00f5es de Casa...\", \"album_type\": \"album\", \"popularity\": 46, \"duration_ms\": 232733}, {\"album\": \"Sobre Crian\\u00e7as, Quadris, Pesadelos e Li\\u00e7\\u00f5es de Casa...\", \"album_type\": \"album\", \"popularity\": 30, \"duration_ms\": 283062}, {\"album\": \"O Glorioso Retorno de Quem Nunca Esteve Aqui\", \"album_type\": \"album\", \"popularity\": 2, \"duration_ms\": 50066}, {\"album\": \"O Glorioso Retorno de Quem Nunca Esteve Aqui\", \"album_type\": \"album\", \"popularity\": 4, \"duration_ms\": 150320}, {\"album\": \"O Glorioso Retorno de Quem Nunca Esteve Aqui\", \"album_type\": \"album\", \"popularity\": 25, \"duration_ms\": 303226}, {\"album\": \"O Glorioso Retorno de Quem Nunca Esteve Aqui\", \"album_type\": \"album\", \"popularity\": 2, \"duration_ms\": 232546}, {\"album\": \"O Glorioso Retorno de Quem Nunca Esteve Aqui\", \"album_type\": \"album\", \"popularity\": 2, \"duration_ms\": 314440}, {\"album\": \"O Glorioso Retorno de Quem Nunca Esteve Aqui\", \"album_type\": \"album\", \"popularity\": 2, \"duration_ms\": 138320}, {\"album\": \"O Glorioso Retorno de Quem Nunca Esteve Aqui\", \"album_type\": \"album\", \"popularity\": 4, \"duration_ms\": 194080}, {\"album\": \"O Glorioso Retorno de Quem Nunca Esteve Aqui\", \"album_type\": \"album\", \"popularity\": 2, \"duration_ms\": 282800}, {\"album\": \"O Glorioso Retorno de Quem Nunca Esteve Aqui\", \"album_type\": \"album\", \"popularity\": 3, \"duration_ms\": 290480}, {\"album\": \"O Glorioso Retorno de Quem Nunca Esteve Aqui\", \"album_type\": \"album\", \"popularity\": 1, \"duration_ms\": 184093}, {\"album\": \"O Glorioso Retorno de Quem Nunca Esteve Aqui\", \"album_type\": \"album\", \"popularity\": 2, \"duration_ms\": 192413}, {\"album\": \"O Glorioso Retorno de Quem Nunca Esteve Aqui\", \"album_type\": \"album\", \"popularity\": 4, \"duration_ms\": 239986}, {\"album\": \"O Glorioso Retorno de Quem Nunca Esteve Aqui\", \"album_type\": \"album\", \"popularity\": 3, \"duration_ms\": 219200}, {\"album\": \"O Glorioso Retorno de Quem Nunca Esteve Aqui\", \"album_type\": \"album\", \"popularity\": 4, \"duration_ms\": 286826}, {\"album\": \"Rock In Rio (Ao Vivo)\", \"album_type\": \"album\", \"popularity\": 31, \"duration_ms\": 246320}, {\"album\": \"Rock In Rio (Ao Vivo)\", \"album_type\": \"album\", \"popularity\": 31, \"duration_ms\": 141466}, {\"album\": \"Rock In Rio (Ao Vivo)\", \"album_type\": \"album\", \"popularity\": 37, \"duration_ms\": 380546}, {\"album\": \"Rock In Rio (Ao Vivo)\", \"album_type\": \"album\", \"popularity\": 32, \"duration_ms\": 366400}, {\"album\": \"Rock In Rio (Ao Vivo)\", \"album_type\": \"album\", \"popularity\": 19, \"duration_ms\": 294520}, {\"album\": \"Rock In Rio (Ao Vivo)\", \"album_type\": \"album\", \"popularity\": 26, \"duration_ms\": 423253}, {\"album\": \"Rock In Rio (Ao Vivo)\", \"album_type\": \"album\", \"popularity\": 21, \"duration_ms\": 165733}, {\"album\": \"Rock In Rio (Ao Vivo)\", \"album_type\": \"album\", \"popularity\": 18, \"duration_ms\": 317746}, {\"album\": \"Rock In Rio (Ao Vivo)\", \"album_type\": \"album\", \"popularity\": 19, \"duration_ms\": 251133}, {\"album\": \"Rock In Rio (Ao Vivo)\", \"album_type\": \"album\", \"popularity\": 16, \"duration_ms\": 206520}, {\"album\": \"Rock In Rio (Ao Vivo)\", \"album_type\": \"album\", \"popularity\": 31, \"duration_ms\": 249373}, {\"album\": \"Rock In Rio (Ao Vivo)\", \"album_type\": \"album\", \"popularity\": 17, \"duration_ms\": 431720}, {\"album\": \"Criolo E Emicida Ao Vivo (Live)\", \"album_type\": \"album\", \"popularity\": 34, \"duration_ms\": 238346}, {\"album\": \"Criolo E Emicida Ao Vivo (Live)\", \"album_type\": \"album\", \"popularity\": 33, \"duration_ms\": 226160}, {\"album\": \"Criolo E Emicida Ao Vivo (Live)\", \"album_type\": \"album\", \"popularity\": 36, \"duration_ms\": 177560}, {\"album\": \"Criolo E Emicida Ao Vivo (Live)\", \"album_type\": \"album\", \"popularity\": 33, \"duration_ms\": 267480}, {\"album\": \"Criolo E Emicida Ao Vivo (Live)\", \"album_type\": \"album\", \"popularity\": 35, \"duration_ms\": 211280}, {\"album\": \"Criolo E Emicida Ao Vivo (Live)\", \"album_type\": \"album\", \"popularity\": 32, \"duration_ms\": 213773}, {\"album\": \"Criolo E Emicida Ao Vivo (Live)\", \"album_type\": \"album\", \"popularity\": 31, \"duration_ms\": 213960}, {\"album\": \"Criolo E Emicida Ao Vivo (Live)\", \"album_type\": \"album\", \"popularity\": 33, \"duration_ms\": 188666}, {\"album\": \"Criolo E Emicida Ao Vivo (Live)\", \"album_type\": \"album\", \"popularity\": 35, \"duration_ms\": 392480}, {\"album\": \"Criolo E Emicida Ao Vivo (Live)\", \"album_type\": \"album\", \"popularity\": 34, \"duration_ms\": 240373}, {\"album\": \"Criolo E Emicida Ao Vivo (Live)\", \"album_type\": \"album\", \"popularity\": 35, \"duration_ms\": 243373}, {\"album\": \"Criolo E Emicida Ao Vivo (Live)\", \"album_type\": \"album\", \"popularity\": 31, \"duration_ms\": 294813}, {\"album\": \"Criolo E Emicida Ao Vivo (Live)\", \"album_type\": \"album\", \"popularity\": 31, \"duration_ms\": 247680}, {\"album\": \"Criolo E Emicida Ao Vivo (Live)\", \"album_type\": \"album\", \"popularity\": 36, \"duration_ms\": 191453}, {\"album\": \"Criolo E Emicida Ao Vivo (Live)\", \"album_type\": \"album\", \"popularity\": 36, \"duration_ms\": 273426}, {\"album\": \"Criolo E Emicida Ao Vivo (Live)\", \"album_type\": \"album\", \"popularity\": 34, \"duration_ms\": 127053}, {\"album\": \"Criolo E Emicida Ao Vivo (Live)\", \"album_type\": \"album\", \"popularity\": 38, \"duration_ms\": 271840}, {\"album\": \"Criolo E Emicida Ao Vivo (Live)\", \"album_type\": \"album\", \"popularity\": 32, \"duration_ms\": 369773}, {\"album\": \"Criolo E Emicida Ao Vivo (Live)\", \"album_type\": \"album\", \"popularity\": 34, \"duration_ms\": 238346}, {\"album\": \"Criolo E Emicida Ao Vivo (Live)\", \"album_type\": \"album\", \"popularity\": 33, \"duration_ms\": 226160}, {\"album\": \"Criolo E Emicida Ao Vivo (Live)\", \"album_type\": \"album\", \"popularity\": 36, \"duration_ms\": 177560}, {\"album\": \"Criolo E Emicida Ao Vivo (Live)\", \"album_type\": \"album\", \"popularity\": 33, \"duration_ms\": 267480}, {\"album\": \"Criolo E Emicida Ao Vivo (Live)\", \"album_type\": \"album\", \"popularity\": 35, \"duration_ms\": 211280}, {\"album\": \"Criolo E Emicida Ao Vivo (Live)\", \"album_type\": \"album\", \"popularity\": 32, \"duration_ms\": 213773}, {\"album\": \"Criolo E Emicida Ao Vivo (Live)\", \"album_type\": \"album\", \"popularity\": 31, \"duration_ms\": 213960}, {\"album\": \"Criolo E Emicida Ao Vivo (Live)\", \"album_type\": \"album\", \"popularity\": 33, \"duration_ms\": 188666}, {\"album\": \"Criolo E Emicida Ao Vivo (Live)\", \"album_type\": \"album\", \"popularity\": 35, \"duration_ms\": 392480}, {\"album\": \"Criolo E Emicida Ao Vivo (Live)\", \"album_type\": \"album\", \"popularity\": 34, \"duration_ms\": 240373}, {\"album\": \"Criolo E Emicida Ao Vivo (Live)\", \"album_type\": \"album\", \"popularity\": 35, \"duration_ms\": 243373}, {\"album\": \"Criolo E Emicida Ao Vivo (Live)\", \"album_type\": \"album\", \"popularity\": 31, \"duration_ms\": 294813}, {\"album\": \"Criolo E Emicida Ao Vivo (Live)\", \"album_type\": \"album\", \"popularity\": 31, \"duration_ms\": 247680}, {\"album\": \"Criolo E Emicida Ao Vivo (Live)\", \"album_type\": \"album\", \"popularity\": 36, \"duration_ms\": 191453}, {\"album\": \"Criolo E Emicida Ao Vivo (Live)\", \"album_type\": \"album\", \"popularity\": 36, \"duration_ms\": 273426}, {\"album\": \"Criolo E Emicida Ao Vivo (Live)\", \"album_type\": \"album\", \"popularity\": 34, \"duration_ms\": 127053}, {\"album\": \"Criolo E Emicida Ao Vivo (Live)\", \"album_type\": \"album\", \"popularity\": 38, \"duration_ms\": 271840}, {\"album\": \"Criolo E Emicida Ao Vivo (Live)\", \"album_type\": \"album\", \"popularity\": 32, \"duration_ms\": 369773}, {\"album\": \"Doozicabraba e a Revolu\\u00e7\\u00e3o Silenciosa\", \"album_type\": \"album\", \"popularity\": 17, \"duration_ms\": 136493}, {\"album\": \"Doozicabraba e a Revolu\\u00e7\\u00e3o Silenciosa\", \"album_type\": \"album\", \"popularity\": 24, \"duration_ms\": 226440}, {\"album\": \"Doozicabraba e a Revolu\\u00e7\\u00e3o Silenciosa\", \"album_type\": \"album\", \"popularity\": 23, \"duration_ms\": 156400}, {\"album\": \"Doozicabraba e a Revolu\\u00e7\\u00e3o Silenciosa\", \"album_type\": \"album\", \"popularity\": 26, \"duration_ms\": 195613}, {\"album\": \"Doozicabraba e a Revolu\\u00e7\\u00e3o Silenciosa\", \"album_type\": \"album\", \"popularity\": 29, \"duration_ms\": 258666}, {\"album\": \"Doozicabraba e a Revolu\\u00e7\\u00e3o Silenciosa\", \"album_type\": \"album\", \"popularity\": 29, \"duration_ms\": 242026}, {\"album\": \"Doozicabraba e a Revolu\\u00e7\\u00e3o Silenciosa\", \"album_type\": \"album\", \"popularity\": 21, \"duration_ms\": 240013}, {\"album\": \"Doozicabraba e a Revolu\\u00e7\\u00e3o Silenciosa\", \"album_type\": \"album\", \"popularity\": 20, \"duration_ms\": 176146}, {\"album\": \"Doozicabraba e a Revolu\\u00e7\\u00e3o Silenciosa\", \"album_type\": \"album\", \"popularity\": 20, \"duration_ms\": 189733}, {\"album\": \"Doozicabraba e a Revolu\\u00e7\\u00e3o Silenciosa\", \"album_type\": \"album\", \"popularity\": 28, \"duration_ms\": 174040}, {\"album\": \"Emicidio\", \"album_type\": \"album\", \"popularity\": 26, \"duration_ms\": 200066}, {\"album\": \"Emicidio\", \"album_type\": \"album\", \"popularity\": 31, \"duration_ms\": 138466}, {\"album\": \"Emicidio\", \"album_type\": \"album\", \"popularity\": 28, \"duration_ms\": 127000}, {\"album\": \"Emicidio\", \"album_type\": \"album\", \"popularity\": 27, \"duration_ms\": 230413}, {\"album\": \"Emicidio\", \"album_type\": \"album\", \"popularity\": 25, \"duration_ms\": 165146}, {\"album\": \"Emicidio\", \"album_type\": \"album\", \"popularity\": 32, \"duration_ms\": 166586}, {\"album\": \"Emicidio\", \"album_type\": \"album\", \"popularity\": 27, \"duration_ms\": 204506}, {\"album\": \"Emicidio\", \"album_type\": \"album\", \"popularity\": 25, \"duration_ms\": 223026}, {\"album\": \"Emicidio\", \"album_type\": \"album\", \"popularity\": 27, \"duration_ms\": 223186}, {\"album\": \"Emicidio\", \"album_type\": \"album\", \"popularity\": 33, \"duration_ms\": 153053}, {\"album\": \"Emicidio\", \"album_type\": \"album\", \"popularity\": 30, \"duration_ms\": 216600}, {\"album\": \"Emicidio\", \"album_type\": \"album\", \"popularity\": 44, \"duration_ms\": 197746}, {\"album\": \"Emicidio\", \"album_type\": \"album\", \"popularity\": 28, \"duration_ms\": 189520}, {\"album\": \"Emicidio\", \"album_type\": \"album\", \"popularity\": 25, \"duration_ms\": 262333}, {\"album\": \"Emicidio\", \"album_type\": \"album\", \"popularity\": 24, \"duration_ms\": 172733}, {\"album\": \"Emicidio\", \"album_type\": \"album\", \"popularity\": 22, \"duration_ms\": 161600}, {\"album\": \"Emicidio\", \"album_type\": \"album\", \"popularity\": 23, \"duration_ms\": 229613}, {\"album\": \"Emicidio\", \"album_type\": \"album\", \"popularity\": 33, \"duration_ms\": 228786}, {\"album\": \"Pra Quem J\\u00e1 Mordeu um Cachorro por Comida At\\u00e9 Que Eu Cheguei Longe\", \"album_type\": \"album\", \"popularity\": 27, \"duration_ms\": 337773}, {\"album\": \"Pra Quem J\\u00e1 Mordeu um Cachorro por Comida At\\u00e9 Que Eu Cheguei Longe\", \"album_type\": \"album\", \"popularity\": 28, \"duration_ms\": 204840}, {\"album\": \"Pra Quem J\\u00e1 Mordeu um Cachorro por Comida At\\u00e9 Que Eu Cheguei Longe\", \"album_type\": \"album\", \"popularity\": 29, \"duration_ms\": 194240}, {\"album\": \"Pra Quem J\\u00e1 Mordeu um Cachorro por Comida At\\u00e9 Que Eu Cheguei Longe\", \"album_type\": \"album\", \"popularity\": 27, \"duration_ms\": 170586}, {\"album\": \"Pra Quem J\\u00e1 Mordeu um Cachorro por Comida At\\u00e9 Que Eu Cheguei Longe\", \"album_type\": \"album\", \"popularity\": 27, \"duration_ms\": 151173}, {\"album\": \"Pra Quem J\\u00e1 Mordeu um Cachorro por Comida At\\u00e9 Que Eu Cheguei Longe\", \"album_type\": \"album\", \"popularity\": 28, \"duration_ms\": 217346}, {\"album\": \"Pra Quem J\\u00e1 Mordeu um Cachorro por Comida At\\u00e9 Que Eu Cheguei Longe\", \"album_type\": \"album\", \"popularity\": 27, \"duration_ms\": 197746}, {\"album\": \"Pra Quem J\\u00e1 Mordeu um Cachorro por Comida At\\u00e9 Que Eu Cheguei Longe\", \"album_type\": \"album\", \"popularity\": 28, \"duration_ms\": 231533}, {\"album\": \"Pra Quem J\\u00e1 Mordeu um Cachorro por Comida At\\u00e9 Que Eu Cheguei Longe\", \"album_type\": \"album\", \"popularity\": 26, \"duration_ms\": 83800}, {\"album\": \"Pra Quem J\\u00e1 Mordeu um Cachorro por Comida At\\u00e9 Que Eu Cheguei Longe\", \"album_type\": \"album\", \"popularity\": 30, \"duration_ms\": 209973}, {\"album\": \"Pra Quem J\\u00e1 Mordeu um Cachorro por Comida At\\u00e9 Que Eu Cheguei Longe\", \"album_type\": \"album\", \"popularity\": 25, \"duration_ms\": 181653}, {\"album\": \"Pra Quem J\\u00e1 Mordeu um Cachorro por Comida At\\u00e9 Que Eu Cheguei Longe\", \"album_type\": \"album\", \"popularity\": 25, \"duration_ms\": 214920}, {\"album\": \"Pra Quem J\\u00e1 Mordeu um Cachorro por Comida At\\u00e9 Que Eu Cheguei Longe\", \"album_type\": \"album\", \"popularity\": 29, \"duration_ms\": 207546}, {\"album\": \"Pra Quem J\\u00e1 Mordeu um Cachorro por Comida At\\u00e9 Que Eu Cheguei Longe\", \"album_type\": \"album\", \"popularity\": 29, \"duration_ms\": 226066}, {\"album\": \"Pra Quem J\\u00e1 Mordeu um Cachorro por Comida At\\u00e9 Que Eu Cheguei Longe\", \"album_type\": \"album\", \"popularity\": 25, \"duration_ms\": 85920}, {\"album\": \"Pra Quem J\\u00e1 Mordeu um Cachorro por Comida At\\u00e9 Que Eu Cheguei Longe\", \"album_type\": \"album\", \"popularity\": 25, \"duration_ms\": 209706}, {\"album\": \"Pra Quem J\\u00e1 Mordeu um Cachorro por Comida At\\u00e9 Que Eu Cheguei Longe\", \"album_type\": \"album\", \"popularity\": 25, \"duration_ms\": 203306}, {\"album\": \"Pra Quem J\\u00e1 Mordeu um Cachorro por Comida At\\u00e9 Que Eu Cheguei Longe\", \"album_type\": \"album\", \"popularity\": 22, \"duration_ms\": 40266}, {\"album\": \"Pra Quem J\\u00e1 Mordeu um Cachorro por Comida At\\u00e9 Que Eu Cheguei Longe\", \"album_type\": \"album\", \"popularity\": 25, \"duration_ms\": 146906}, {\"album\": \"Pra Quem J\\u00e1 Mordeu um Cachorro por Comida At\\u00e9 Que Eu Cheguei Longe\", \"album_type\": \"album\", \"popularity\": 25, \"duration_ms\": 221266}, {\"album\": \"Pra Quem J\\u00e1 Mordeu um Cachorro por Comida At\\u00e9 Que Eu Cheguei Longe\", \"album_type\": \"album\", \"popularity\": 24, \"duration_ms\": 127453}, {\"album\": \"Pra Quem J\\u00e1 Mordeu um Cachorro por Comida At\\u00e9 Que Eu Cheguei Longe\", \"album_type\": \"album\", \"popularity\": 24, \"duration_ms\": 227826}, {\"album\": \"Pra Quem J\\u00e1 Mordeu um Cachorro por Comida At\\u00e9 Que Eu Cheguei Longe\", \"album_type\": \"album\", \"popularity\": 35, \"duration_ms\": 209373}, {\"album\": \"Pra Quem J\\u00e1 Mordeu um Cachorro por Comida At\\u00e9 Que Eu Cheguei Longe\", \"album_type\": \"album\", \"popularity\": 26, \"duration_ms\": 198493}, {\"album\": \"Pra Quem J\\u00e1 Mordeu um Cachorro por Comida At\\u00e9 Que Eu Cheguei Longe\", \"album_type\": \"album\", \"popularity\": 28, \"duration_ms\": 239653}]}}, {\"mode\": \"vega-lite\"});\n",
              "</script>"
            ]
          },
          "metadata": {
            "tags": []
          },
          "execution_count": 12
        }
      ]
    },
    {
      "cell_type": "code",
      "metadata": {
        "id": "JAOsNk3iDfGD",
        "colab_type": "code",
        "colab": {}
      },
      "source": [
        "# identificar o single mais popular\n",
        "data_groupby_single =  data_groupby[data_groupby['album_type'] ==  'single']\n",
        "data_groupby_single = data_groupby_single.groupby('album').median() \n",
        "#data_groupby_single = data_groupby_single.sort_values(by = 'popularity', ascending=False)\n",
        "#data_groupby_single\n"
      ],
      "execution_count": 0,
      "outputs": []
    },
    {
      "cell_type": "code",
      "metadata": {
        "id": "V6eV5V_fsWo6",
        "colab_type": "code",
        "outputId": "8962eb7f-51ad-47c5-a491-8d7a2b6cba2c",
        "colab": {
          "base_uri": "https://localhost:8080/",
          "height": 703
        }
      },
      "source": [
        "data_groupby_single_chart =  data_groupby[data_groupby['album_type'] ==  'single']\n",
        "\n",
        "bars = alt.Chart(data_groupby_single_chart).mark_bar(color = '#EAC306').encode(\n",
        "    x=alt.X('median(popularity):Q', axis = alt.Axis(title='Mediana da Popularidade')),\n",
        "    y=alt.Y('album:O', sort='-x', axis = alt.Axis(title='Álbum'))\n",
        ")\n",
        "text = alt.Chart(data_groupby_single_chart).mark_text(dx=-15, dy=3, color='white').encode(\n",
        "    x=alt.X('median(popularity):Q', axis = alt.Axis(title='Mediana da Popularidade')),\n",
        "    y=alt.Y('album:O', sort='-x', axis = alt.Axis(title='Álbum')),\n",
        "    text=alt.Text('median(popularity):Q')\n",
        ")\n",
        "bars + text"
      ],
      "execution_count": 14,
      "outputs": [
        {
          "output_type": "execute_result",
          "data": {
            "text/plain": [
              "alt.LayerChart(...)"
            ],
            "text/html": [
              "\n",
              "<div id=\"altair-viz-7bb4ed2464c844ad96d14db62c069dc0\"></div>\n",
              "<script type=\"text/javascript\">\n",
              "  (function(spec, embedOpt){\n",
              "    let outputDiv = document.currentScript.previousElementSibling;\n",
              "    if (outputDiv.id !== \"altair-viz-7bb4ed2464c844ad96d14db62c069dc0\") {\n",
              "      outputDiv = document.getElementById(\"altair-viz-7bb4ed2464c844ad96d14db62c069dc0\");\n",
              "    }\n",
              "    const paths = {\n",
              "      \"vega\": \"https://cdn.jsdelivr.net/npm//vega@5?noext\",\n",
              "      \"vega-lib\": \"https://cdn.jsdelivr.net/npm//vega-lib?noext\",\n",
              "      \"vega-lite\": \"https://cdn.jsdelivr.net/npm//vega-lite@4.8.1?noext\",\n",
              "      \"vega-embed\": \"https://cdn.jsdelivr.net/npm//vega-embed@6?noext\",\n",
              "    };\n",
              "\n",
              "    function loadScript(lib) {\n",
              "      return new Promise(function(resolve, reject) {\n",
              "        var s = document.createElement('script');\n",
              "        s.src = paths[lib];\n",
              "        s.async = true;\n",
              "        s.onload = () => resolve(paths[lib]);\n",
              "        s.onerror = () => reject(`Error loading script: ${paths[lib]}`);\n",
              "        document.getElementsByTagName(\"head\")[0].appendChild(s);\n",
              "      });\n",
              "    }\n",
              "\n",
              "    function showError(err) {\n",
              "      outputDiv.innerHTML = `<div class=\"error\" style=\"color:red;\">${err}</div>`;\n",
              "      throw err;\n",
              "    }\n",
              "\n",
              "    function displayChart(vegaEmbed) {\n",
              "      vegaEmbed(outputDiv, spec, embedOpt)\n",
              "        .catch(err => showError(`Javascript Error: ${err.message}<br>This usually means there's a typo in your chart specification. See the javascript console for the full traceback.`));\n",
              "    }\n",
              "\n",
              "    if(typeof define === \"function\" && define.amd) {\n",
              "      requirejs.config({paths});\n",
              "      require([\"vega-embed\"], displayChart, err => showError(`Error loading script: ${err.message}`));\n",
              "    } else if (typeof vegaEmbed === \"function\") {\n",
              "      displayChart(vegaEmbed);\n",
              "    } else {\n",
              "      loadScript(\"vega\")\n",
              "        .then(() => loadScript(\"vega-lite\"))\n",
              "        .then(() => loadScript(\"vega-embed\"))\n",
              "        .catch(showError)\n",
              "        .then(() => displayChart(vegaEmbed));\n",
              "    }\n",
              "  })({\"config\": {\"view\": {\"continuousWidth\": 400, \"continuousHeight\": 300}}, \"layer\": [{\"mark\": {\"type\": \"bar\", \"color\": \"#EAC306\"}, \"encoding\": {\"x\": {\"type\": \"quantitative\", \"aggregate\": \"median\", \"axis\": {\"title\": \"Mediana da Popularidade\"}, \"field\": \"popularity\"}, \"y\": {\"type\": \"ordinal\", \"axis\": {\"title\": \"\\u00c1lbum\"}, \"field\": \"album\", \"sort\": \"-x\"}}}, {\"mark\": {\"type\": \"text\", \"color\": \"white\", \"dx\": -15, \"dy\": 3}, \"encoding\": {\"text\": {\"type\": \"quantitative\", \"aggregate\": \"median\", \"field\": \"popularity\"}, \"x\": {\"type\": \"quantitative\", \"aggregate\": \"median\", \"axis\": {\"title\": \"Mediana da Popularidade\"}, \"field\": \"popularity\"}, \"y\": {\"type\": \"ordinal\", \"axis\": {\"title\": \"\\u00c1lbum\"}, \"field\": \"album\", \"sort\": \"-x\"}}}], \"data\": {\"name\": \"data-fafc8d97fa94c21ccfb21da6b40d675b\"}, \"$schema\": \"https://vega.github.io/schema/vega-lite/v4.8.1.json\", \"datasets\": {\"data-fafc8d97fa94c21ccfb21da6b40d675b\": [{\"album\": \"Quem Tem Um Amigo (Tem Tudo)\", \"album_type\": \"single\", \"popularity\": 40, \"duration_ms\": 249000}, {\"album\": \"Quem Tem Um Amigo (Tem Tudo)\", \"album_type\": \"single\", \"popularity\": 43, \"duration_ms\": 221693}, {\"album\": \"Quem Tem Um Amigo (Tem Tudo)\", \"album_type\": \"single\", \"popularity\": 45, \"duration_ms\": 246533}, {\"album\": \"Passarinhos (Remix)\", \"album_type\": \"single\", \"popularity\": 48, \"duration_ms\": 275706}, {\"album\": \"Libre\", \"album_type\": \"single\", \"popularity\": 36, \"duration_ms\": 169706}, {\"album\": \"Hacia El Amor (Ac\\u00fastico)\", \"album_type\": \"single\", \"popularity\": 44, \"duration_ms\": 220933}, {\"album\": \"AmarElo (Sample: Sujeito de Sorte - Belchior)\", \"album_type\": \"single\", \"popularity\": 56, \"duration_ms\": 321493}, {\"album\": \"Final dos Tempos\", \"album_type\": \"single\", \"popularity\": 35, \"duration_ms\": 176973}, {\"album\": \"Mil Coisas\", \"album_type\": \"single\", \"popularity\": 52, \"duration_ms\": 202800}, {\"album\": \"Emin\\u00eancia Parda (feat. Dona Onete, J\\u00e9 Santiago & Papillon)\", \"album_type\": \"single\", \"popularity\": 43, \"duration_ms\": 244946}, {\"album\": \"Vital\", \"album_type\": \"single\", \"popularity\": 39, \"duration_ms\": 191560}, {\"album\": \"Rap do Motoboy\", \"album_type\": \"single\", \"popularity\": 39, \"duration_ms\": 216906}, {\"album\": \"Levanta e Anda\", \"album_type\": \"single\", \"popularity\": 42, \"duration_ms\": 173812}, {\"album\": \"In\\u00e1cio da Catingueira\", \"album_type\": \"single\", \"popularity\": 41, \"duration_ms\": 235413}, {\"album\": \"Hacia El Amor\", \"album_type\": \"single\", \"popularity\": 34, \"duration_ms\": 217346}, {\"album\": \"Triunfo (Ao Vivo)\", \"album_type\": \"single\", \"popularity\": 18, \"duration_ms\": 259279}, {\"album\": \"Hoje Cedo (Ao Vivo)\", \"album_type\": \"single\", \"popularity\": 29, \"duration_ms\": 342000}, {\"album\": \"Como Tudo Deve Ser (Ao Vivo)\", \"album_type\": \"single\", \"popularity\": 20, \"duration_ms\": 177290}, {\"album\": \"Levanta e Anda (Ao Vivo)\", \"album_type\": \"single\", \"popularity\": 15, \"duration_ms\": 186146}, {\"album\": \"Pantera Negra\", \"album_type\": \"single\", \"popularity\": 45, \"duration_ms\": 199613}, {\"album\": \"O\\u00e1sis\", \"album_type\": \"single\", \"popularity\": 38, \"duration_ms\": 229800}, {\"album\": \"A Chapa \\u00e9 Quente (L\\u00edngua Franca)\", \"album_type\": \"single\", \"popularity\": 29, \"duration_ms\": 244453}, {\"album\": \"Yasuke (Bendito, Louvado Seja)\", \"album_type\": \"single\", \"popularity\": 27, \"duration_ms\": 351210}, {\"album\": \"Rdio Sessions\", \"album_type\": \"single\", \"popularity\": 19, \"duration_ms\": 185786}, {\"album\": \"Rdio Sessions\", \"album_type\": \"single\", \"popularity\": 50, \"duration_ms\": 229413}, {\"album\": \"Rdio Sessions\", \"album_type\": \"single\", \"popularity\": 12, \"duration_ms\": 232280}, {\"album\": \"Rdio Sessions\", \"album_type\": \"single\", \"popularity\": 30, \"duration_ms\": 308906}, {\"album\": \"Rdio Sessions\", \"album_type\": \"single\", \"popularity\": 11, \"duration_ms\": 186573}, {\"album\": \"Bonjour\", \"album_type\": \"single\", \"popularity\": 34, \"duration_ms\": 212362}, {\"album\": \"Minha Vida (Remix)\", \"album_type\": \"single\", \"popularity\": 24, \"duration_ms\": 371905}, {\"album\": \"Cris\\u00e2ntemo\", \"album_type\": \"single\", \"popularity\": 10, \"duration_ms\": 314440}, {\"album\": \"Papel, Caneta e Cora\\u00e7\\u00e3o\", \"album_type\": \"single\", \"popularity\": 37, \"duration_ms\": 171306}, {\"album\": \"Aos Olhos de uma Crian\\u00e7a (Tema do Filme \\\"O Menino e o Mundo\\\")\", \"album_type\": \"single\", \"popularity\": 35, \"duration_ms\": 208966}, {\"album\": \"Hoje Cedo\", \"album_type\": \"single\", \"popularity\": 16, \"duration_ms\": 194080}, {\"album\": \"Avua Besouro\", \"album_type\": \"single\", \"popularity\": 8, \"duration_ms\": 229613}, {\"album\": \"Quero Ver Quarta-Feira\", \"album_type\": \"single\", \"popularity\": 16, \"duration_ms\": 266053}, {\"album\": \"Sua Mina Ouve Meu Rep Tamem\", \"album_type\": \"single\", \"popularity\": 16, \"duration_ms\": 49000}, {\"album\": \"Sua Mina Ouve Meu Rep Tamem\", \"album_type\": \"single\", \"popularity\": 35, \"duration_ms\": 215720}, {\"album\": \"Sua Mina Ouve Meu Rep Tamem\", \"album_type\": \"single\", \"popularity\": 32, \"duration_ms\": 171960}, {\"album\": \"Sua Mina Ouve Meu Rep Tamem\", \"album_type\": \"single\", \"popularity\": 29, \"duration_ms\": 180546}, {\"album\": \"Sua Mina Ouve Meu Rep Tamem\", \"album_type\": \"single\", \"popularity\": 28, \"duration_ms\": 172666}, {\"album\": \"Sua Mina Ouve Meu Rep Tamem\", \"album_type\": \"single\", \"popularity\": 36, \"duration_ms\": 196346}, {\"album\": \"Triunfo\", \"album_type\": \"single\", \"popularity\": 14, \"duration_ms\": 209373}]}}, {\"mode\": \"vega-lite\"});\n",
              "</script>"
            ]
          },
          "metadata": {
            "tags": []
          },
          "execution_count": 14
        }
      ]
    },
    {
      "cell_type": "code",
      "metadata": {
        "id": "q3JPmhh7DivH",
        "colab_type": "code",
        "outputId": "40555806-c474-476d-dba5-df1bda2cc9e3",
        "colab": {
          "base_uri": "https://localhost:8080/",
          "height": 563
        }
      },
      "source": [
        "# qual a maior música\n",
        "data_tracks = pd.DataFrame(data, columns = ['name','duration_ms'])\n",
        "chart = alt.Chart(data_tracks).mark_bar(color = '#EAC306').encode(\n",
        "    y=alt.Y('name:N', sort='-x', axis = alt.Axis(title='Música')),\n",
        "    x=alt.X('duration_ms:Q', axis = alt.Axis(title='Duração(ms)')),\n",
        ").transform_window(\n",
        "    rank='rank(duration_ms)',\n",
        "    sort=[alt.SortField('duration_ms', order='descending')]\n",
        ").transform_filter(\n",
        "    (alt.datum.rank < 30)\n",
        ") \n",
        "text = alt.Chart(data_tracks).mark_text(dx=-25, dy=3, color='white').encode(\n",
        "    y=alt.Y('name:N', sort='-x'),\n",
        "    x=alt.X('duration_ms:Q'),\n",
        "    text=alt.Text('duration_ms:Q')\n",
        ").transform_window(\n",
        "    rank='rank(duration_ms)',\n",
        "    sort=[alt.SortField('duration_ms', order='descending')]\n",
        ").transform_filter(\n",
        "    (alt.datum.rank < 30)\n",
        ") \n",
        "chart + text\n"
      ],
      "execution_count": 16,
      "outputs": [
        {
          "output_type": "execute_result",
          "data": {
            "text/plain": [
              "alt.LayerChart(...)"
            ],
            "text/html": [
              "\n",
              "<div id=\"altair-viz-67b39aac3f2e4a13b823feff5c97102b\"></div>\n",
              "<script type=\"text/javascript\">\n",
              "  (function(spec, embedOpt){\n",
              "    let outputDiv = document.currentScript.previousElementSibling;\n",
              "    if (outputDiv.id !== \"altair-viz-67b39aac3f2e4a13b823feff5c97102b\") {\n",
              "      outputDiv = document.getElementById(\"altair-viz-67b39aac3f2e4a13b823feff5c97102b\");\n",
              "    }\n",
              "    const paths = {\n",
              "      \"vega\": \"https://cdn.jsdelivr.net/npm//vega@5?noext\",\n",
              "      \"vega-lib\": \"https://cdn.jsdelivr.net/npm//vega-lib?noext\",\n",
              "      \"vega-lite\": \"https://cdn.jsdelivr.net/npm//vega-lite@4.8.1?noext\",\n",
              "      \"vega-embed\": \"https://cdn.jsdelivr.net/npm//vega-embed@6?noext\",\n",
              "    };\n",
              "\n",
              "    function loadScript(lib) {\n",
              "      return new Promise(function(resolve, reject) {\n",
              "        var s = document.createElement('script');\n",
              "        s.src = paths[lib];\n",
              "        s.async = true;\n",
              "        s.onload = () => resolve(paths[lib]);\n",
              "        s.onerror = () => reject(`Error loading script: ${paths[lib]}`);\n",
              "        document.getElementsByTagName(\"head\")[0].appendChild(s);\n",
              "      });\n",
              "    }\n",
              "\n",
              "    function showError(err) {\n",
              "      outputDiv.innerHTML = `<div class=\"error\" style=\"color:red;\">${err}</div>`;\n",
              "      throw err;\n",
              "    }\n",
              "\n",
              "    function displayChart(vegaEmbed) {\n",
              "      vegaEmbed(outputDiv, spec, embedOpt)\n",
              "        .catch(err => showError(`Javascript Error: ${err.message}<br>This usually means there's a typo in your chart specification. See the javascript console for the full traceback.`));\n",
              "    }\n",
              "\n",
              "    if(typeof define === \"function\" && define.amd) {\n",
              "      requirejs.config({paths});\n",
              "      require([\"vega-embed\"], displayChart, err => showError(`Error loading script: ${err.message}`));\n",
              "    } else if (typeof vegaEmbed === \"function\") {\n",
              "      displayChart(vegaEmbed);\n",
              "    } else {\n",
              "      loadScript(\"vega\")\n",
              "        .then(() => loadScript(\"vega-lite\"))\n",
              "        .then(() => loadScript(\"vega-embed\"))\n",
              "        .catch(showError)\n",
              "        .then(() => displayChart(vegaEmbed));\n",
              "    }\n",
              "  })({\"config\": {\"view\": {\"continuousWidth\": 400, \"continuousHeight\": 300}}, \"layer\": [{\"mark\": {\"type\": \"bar\", \"color\": \"#EAC306\"}, \"encoding\": {\"x\": {\"type\": \"quantitative\", \"axis\": {\"title\": \"Dura\\u00e7\\u00e3o(ms)\"}, \"field\": \"duration_ms\"}, \"y\": {\"type\": \"nominal\", \"axis\": {\"title\": \"M\\u00fasica\"}, \"field\": \"name\", \"sort\": \"-x\"}}, \"transform\": [{\"window\": [{\"op\": \"rank\", \"field\": \"duration_ms\", \"as\": \"rank\"}], \"sort\": [{\"field\": \"duration_ms\", \"order\": \"descending\"}]}, {\"filter\": \"(datum.rank < 30)\"}]}, {\"mark\": {\"type\": \"text\", \"color\": \"white\", \"dx\": -25, \"dy\": 3}, \"encoding\": {\"text\": {\"type\": \"quantitative\", \"field\": \"duration_ms\"}, \"x\": {\"type\": \"quantitative\", \"field\": \"duration_ms\"}, \"y\": {\"type\": \"nominal\", \"field\": \"name\", \"sort\": \"-x\"}}, \"transform\": [{\"window\": [{\"op\": \"rank\", \"field\": \"duration_ms\", \"as\": \"rank\"}], \"sort\": [{\"field\": \"duration_ms\", \"order\": \"descending\"}]}, {\"filter\": \"(datum.rank < 30)\"}]}], \"data\": {\"name\": \"data-fb1f37f91ade827037e68ad77bb08af5\"}, \"$schema\": \"https://vega.github.io/schema/vega-lite/v4.8.1.json\", \"datasets\": {\"data-fb1f37f91ade827037e68ad77bb08af5\": [{\"name\": \"Principia (feat. Fabiana Cozza, Pastor Henrique Vieira & Pastoras do Ros\\u00e1rio)\", \"duration_ms\": 355866}, {\"name\": \"A Ordem Natural das Coisas (feat. Mc Tha)\", \"duration_ms\": 235866}, {\"name\": \"Pequenas Alegrias da Vida Adulta (feat. Marcos Valle e Thiago Ventura)\", \"duration_ms\": 292013}, {\"name\": \"Quem Tem Um Amigo (Tem Tudo) (feat. Zeca Pagodinho & Tokyo Ska Paradise Orchestra)\", \"duration_ms\": 249000}, {\"name\": \"Paisagem\", \"duration_ms\": 189680}, {\"name\": \"Canan\\u00e9ia, Iguape e Ilha Comprida\", \"duration_ms\": 335600}, {\"name\": \"9nha (feat. Drik Barbosa)\", \"duration_ms\": 177480}, {\"name\": \"Ism\\u00e1lia (feat. Larissa Luz & Fernanda Montenegro)\", \"duration_ms\": 357760}, {\"name\": \"Emin\\u00eancia Parda (feat. Dona Onete, J\\u00e9 Santiago & Papillon)\", \"duration_ms\": 244186}, {\"name\": \"AmarElo (Sample: Sujeito de Sorte - Belchior)\", \"duration_ms\": 320800}, {\"name\": \"Libre\", \"duration_ms\": 169706}, {\"name\": \"Bang - Ao Vivo\", \"duration_ms\": 353613}, {\"name\": \"Gueto / Os Mlk \\u00e9 Liso (feat. Mc Guim\\u00ea) - Ao Vivo\", \"duration_ms\": 205200}, {\"name\": \"I Love Quebrada - Ao Vivo\", \"duration_ms\": 198866}, {\"name\": \"A Chapa \\u00e9 Quente (feat. Rael) - Ao Vivo\", \"duration_ms\": 248866}, {\"name\": \"A Cada Vento (feat. Rael) - Ao Vivo\", \"duration_ms\": 312680}, {\"name\": \"O\\u00e1sis (feat. Rael) - Ao Vivo\", \"duration_ms\": 234840}, {\"name\": \"Alma G\\u00eamea - Ao Vivo\", \"duration_ms\": 242506}, {\"name\": \"Madagascar - Ao Vivo\", \"duration_ms\": 239106}, {\"name\": \"Baiana (feat. Caetano Veloso) - Ao Vivo\", \"duration_ms\": 253853}, {\"name\": \"Haiti (feat. Caetano Veloso) - Ao Vivo\", \"duration_ms\": 257613}, {\"name\": \"M\\u00e3e - Ao Vivo\", \"duration_ms\": 297693}, {\"name\": \"Hoje Cedo (feat. Pitty) - Ao Vivo\", \"duration_ms\": 342000}, {\"name\": \"Como Tudo Deve Ser - Ao Vivo\", \"duration_ms\": 175880}, {\"name\": \"Chapa - Ao Vivo\", \"duration_ms\": 282106}, {\"name\": \"Passarinhos (feat. Vanessa Da Mata) - Ao Vivo\", \"duration_ms\": 222466}, {\"name\": \"Hino Vira-Lata (feat. Prettos) - Ao Vivo\", \"duration_ms\": 237133}, {\"name\": \"Mufete - Ao Vivo\", \"duration_ms\": 302866}, {\"name\": \"Todos os Olhos em N\\u00f3iz - Ao Vivo\", \"duration_ms\": 285160}, {\"name\": \"Ooorra - Ao Vivo\", \"duration_ms\": 284693}, {\"name\": \"Boa Esperan\\u00e7a (feat. Jota Ghetto) - Ao Vivo\", \"duration_ms\": 199706}, {\"name\": \"Zica, Vai L\\u00e1 (feat. Fi\\u00f3ti) - Ao Vivo\", \"duration_ms\": 247133}, {\"name\": \"N\\u00f3iz - Ao Vivo\", \"duration_ms\": 139466}, {\"name\": \"Ubuntu Fristaili - Ao Vivo\", \"duration_ms\": 267400}, {\"name\": \"Mandume (feat. Drik Barbosa, Raph\\u00e3o Alaafin, Muzzike, Amiri, Coruja BC1, Rico Dalasam & Rashid) - Ao Vivo\", \"duration_ms\": 647666}, {\"name\": \"Rinha - Ao Vivo\", \"duration_ms\": 131920}, {\"name\": \"Levanta e Anda (feat. Rael) - Ao Vivo\", \"duration_ms\": 192253}, {\"name\": \"Triunfo - Ao Vivo\", \"duration_ms\": 259360}, {\"name\": \"M\\u00e3e\", \"duration_ms\": 298226}, {\"name\": \"8\", \"duration_ms\": 209453}, {\"name\": \"Casa\", \"duration_ms\": 241120}, {\"name\": \"Amoras\", \"duration_ms\": 56932}, {\"name\": \"Mufete\", \"duration_ms\": 238560}, {\"name\": \"Baiana\", \"duration_ms\": 233320}, {\"name\": \"Passarinhos\", \"duration_ms\": 221626}, {\"name\": \"Sodade\", \"duration_ms\": 70626}, {\"name\": \"Chapa\", \"duration_ms\": 278986}, {\"name\": \"Boa Esperan\\u00e7a\", \"duration_ms\": 182880}, {\"name\": \"Trabalhadores do Brasil\", \"duration_ms\": 82693}, {\"name\": \"Mandume\", \"duration_ms\": 495600}, {\"name\": \"Madagascar\", \"duration_ms\": 232733}, {\"name\": \"Salve Black (Estilo Livre)\", \"duration_ms\": 283062}, {\"name\": \"Milion\\u00e1rio do Sonho\", \"duration_ms\": 50066}, {\"name\": \"Levanta e Anda\", \"duration_ms\": 150320}, {\"name\": \"N\\u00f3iz\", \"duration_ms\": 303226}, {\"name\": \"Z\\u00f3i\\u00e3o\", \"duration_ms\": 232546}, {\"name\": \"Cris\\u00e2ntemo\", \"duration_ms\": 314440}, {\"name\": \"Sol de Giz de Cera\", \"duration_ms\": 138320}, {\"name\": \"Hoje Cedo\", \"duration_ms\": 194080}, {\"name\": \"Trepadeira\", \"duration_ms\": 282800}, {\"name\": \"Bang!\", \"duration_ms\": 290480}, {\"name\": \"Gueto\", \"duration_ms\": 184093}, {\"name\": \"Hino Vira-Lata\", \"duration_ms\": 192413}, {\"name\": \"Alma G\\u00eamea\", \"duration_ms\": 239986}, {\"name\": \"Samba do Fim do Mundo\", \"duration_ms\": 219200}, {\"name\": \"Ubuntu Fristaili\", \"duration_ms\": 286826}, {\"name\": \"Oi Compadre - Ao Vivo\", \"duration_ms\": 246320}, {\"name\": \"Pensamento - Ao Vivo\", \"duration_ms\": 141466}, {\"name\": \"Onde Voc\\u00ea Mora? / Firmamento - Ao Vivo\", \"duration_ms\": 380546}, {\"name\": \"Semba Dos Ancestrais/ Muadiakime/ Mama Lala - Ao Vivo\", \"duration_ms\": 366400}, {\"name\": \"Quero Ver Quarta-Feira - Ao Vivo\", \"duration_ms\": 294520}, {\"name\": \"A Estrada - Ao Vivo\", \"duration_ms\": 423253}, {\"name\": \"Disritmia - Ao Vivo\", \"duration_ms\": 165733}, {\"name\": \"O Amor da Gente/ Casa de Bamba - Ao Vivo\", \"duration_ms\": 317746}, {\"name\": \"A Sombra da Maldade - Ao Vivo\", \"duration_ms\": 251133}, {\"name\": \"Viva (Mel\\u00f4 Dos Vileiros) - Ao Vivo\", \"duration_ms\": 206520}, {\"name\": \"O Pequeno Burgu\\u00eas/ Canta Canta Minha Gente - Ao Vivo\", \"duration_ms\": 249373}, {\"name\": \"Madalena do Jucu - Ao Vivo\", \"duration_ms\": 431720}, {\"name\": \"Zica Vai L\\u00e1 - Live\", \"duration_ms\": 238346}, {\"name\": \"Dedo Na Ferida - Live\", \"duration_ms\": 226160}, {\"name\": \"Rua Augusta - Live\", \"duration_ms\": 177560}, {\"name\": \"Mari\\u00f4 - Live\", \"duration_ms\": 267480}, {\"name\": \"Subirusdoistiozin - Live\", \"duration_ms\": 211280}, {\"name\": \"Demor\\u00f4 - Live\", \"duration_ms\": 213773}, {\"name\": \"Viva (Mel\\u00f4 Dos Vileiros) - Live\", \"duration_ms\": 213960}, {\"name\": \"S\\u00f3 Mais Uma Noite - Live\", \"duration_ms\": 188666}, {\"name\": \"N\\u00e3o Existe Amor Em SP - Live\", \"duration_ms\": 392480}, {\"name\": \"Linha De Frente - Live\", \"duration_ms\": 240373}, {\"name\": \"A Cada Vento - Live\", \"duration_ms\": 243373}, {\"name\": \"Outras Palavras - Live\", \"duration_ms\": 294813}, {\"name\": \"Lion Man - Live\", \"duration_ms\": 247680}, {\"name\": \"Grajauex - Live\", \"duration_ms\": 191453}, {\"name\": \"Triunfo - Live\", \"duration_ms\": 273426}, {\"name\": \"Cap\\u00edtulo 4, Vers\\u00edculo 3 - Live\", \"duration_ms\": 127053}, {\"name\": \"Vida Loka I - Live\", \"duration_ms\": 271840}, {\"name\": \"Bogot\\u00e1 - Live\", \"duration_ms\": 369773}, {\"name\": \"Zica Vai L\\u00e1 - Live\", \"duration_ms\": 238346}, {\"name\": \"Dedo Na Ferida - Live\", \"duration_ms\": 226160}, {\"name\": \"Rua Augusta - Live\", \"duration_ms\": 177560}, {\"name\": \"Mari\\u00f4 - Live\", \"duration_ms\": 267480}, {\"name\": \"Subirusdoistiozin - Live\", \"duration_ms\": 211280}, {\"name\": \"Demor\\u00f4 - Live\", \"duration_ms\": 213773}, {\"name\": \"Viva (Mel\\u00f4 Dos Vileiros) - Live\", \"duration_ms\": 213960}, {\"name\": \"S\\u00f3 Mais Uma Noite - Live\", \"duration_ms\": 188666}, {\"name\": \"N\\u00e3o Existe Amor Em SP - Live\", \"duration_ms\": 392480}, {\"name\": \"Linha De Frente - Live\", \"duration_ms\": 240373}, {\"name\": \"A Cada Vento - Live\", \"duration_ms\": 243373}, {\"name\": \"Outras Palavras - Live\", \"duration_ms\": 294813}, {\"name\": \"Lion Man - Live\", \"duration_ms\": 247680}, {\"name\": \"Grajauex - Live\", \"duration_ms\": 191453}, {\"name\": \"Triunfo - Live\", \"duration_ms\": 273426}, {\"name\": \"Cap\\u00edtulo 4, Vers\\u00edculo 3 - Live\", \"duration_ms\": 127053}, {\"name\": \"Vida Loka I - Live\", \"duration_ms\": 271840}, {\"name\": \"Bogot\\u00e1 - Live\", \"duration_ms\": 369773}, {\"name\": \"Intro (Shiiiiu!)\", \"duration_ms\": 136493}, {\"name\": \"Licen\\u00e7a Aqui\", \"duration_ms\": 226440}, {\"name\": \"Cacariac\\u00f4\", \"duration_ms\": 156400}, {\"name\": \"Viva! (Melo dos Vileiro)\", \"duration_ms\": 195613}, {\"name\": \"Num \\u00c9 S\\u00f3 Ver\", \"duration_ms\": 258666}, {\"name\": \"Zica, Vai L\\u00e1...\", \"duration_ms\": 242026}, {\"name\": \"Pequenas Empresas\", \"duration_ms\": 240013}, {\"name\": \"1989\", \"duration_ms\": 176146}, {\"name\": \"Can\\u00e7\\u00e3o para Meus Amigos Mortos\", \"duration_ms\": 189733}, {\"name\": \"Sorrisos e L\\u00e1grimas\", \"duration_ms\": 174040}, {\"name\": \"E Agora?\", \"duration_ms\": 200066}, {\"name\": \"C\\u00ea L\\u00e1 Faz Id\\u00e9ia?\", \"duration_ms\": 138466}, {\"name\": \"Rinha (J\\u00e1 Ouviu Falar?)\", \"duration_ms\": 127000}, {\"name\": \"Isso N\\u00e3o Pode Se Perder\", \"duration_ms\": 230413}, {\"name\": \"Santo Amaro da Purifica\\u00e7\\u00e3o\", \"duration_ms\": 165146}, {\"name\": \"Ent\\u00e3o Toma\", \"duration_ms\": 166586}, {\"name\": \"Emicidio\", \"duration_ms\": 204506}, {\"name\": \"Santa Cruz\", \"duration_ms\": 223026}, {\"name\": \"Velhos Amigos\", \"duration_ms\": 223186}, {\"name\": \"Rua Augusta\", \"duration_ms\": 153053}, {\"name\": \"I Love Quebrada\", \"duration_ms\": 216600}, {\"name\": \"Eu Gosto Dela\", \"duration_ms\": 197746}, {\"name\": \"S\\u00f3 Mais uma Noite\", \"duration_ms\": 189520}, {\"name\": \"De Onde C\\u00ea Vem?!\", \"duration_ms\": 262333}, {\"name\": \"Um Final de Semana\", \"duration_ms\": 172733}, {\"name\": \"Novo Nego V\\u00e9io\", \"duration_ms\": 161600}, {\"name\": \"Avua Besouro\", \"duration_ms\": 229613}, {\"name\": \"Beira de Piscina\", \"duration_ms\": 228786}, {\"name\": \"Intro (\\u00c9 Necess\\u00e1rio Voltar ao Come\\u00e7o)\", \"duration_ms\": 337773}, {\"name\": \"E.M.I.C.I.D.A (Adoooro)\", \"duration_ms\": 204840}, {\"name\": \"Sozim\", \"duration_ms\": 194240}, {\"name\": \"Rotina\", \"duration_ms\": 170586}, {\"name\": \"Pra Mim (Isso \\u00c9 Viver)\", \"duration_ms\": 151173}, {\"name\": \"Ainda Ontem\", \"duration_ms\": 217346}, {\"name\": \"Pra N\\u00e3o Ter Tempo Ruim\", \"duration_ms\": 197746}, {\"name\": \"S\\u00f3 Isso\", \"duration_ms\": 231533}, {\"name\": \"Vou Busca Minha Ful\\u00f4\", \"duration_ms\": 83800}, {\"name\": \"Ela Diz\", \"duration_ms\": 209973}, {\"name\": \"Por Deus, por Favor\", \"duration_ms\": 181653}, {\"name\": \"Preciso (Mel\\u00f4 do Mundiko)\", \"duration_ms\": 214920}, {\"name\": \"A Cada Vento\", \"duration_ms\": 207546}, {\"name\": \"Sei L\\u00e1\", \"duration_ms\": 226066}, {\"name\": \"Cidad\\u00e3o\", \"duration_ms\": 85920}, {\"name\": \"Soldado Sem Bandeira\", \"duration_ms\": 209706}, {\"name\": \"Vai Ser Rimando\", \"duration_ms\": 203306}, {\"name\": \"Um, Dois, Tr\\u00eas, Quatro\", \"duration_ms\": 40266}, {\"name\": \"Fica Mais um Pouco Amor\", \"duration_ms\": 146906}, {\"name\": \"Outras Palavras\", \"duration_ms\": 221266}, {\"name\": \"Hey Rap!\", \"duration_ms\": 127453}, {\"name\": \"Essa \\u00c9 Pra Voc\\u00ea Primo\", \"duration_ms\": 227826}, {\"name\": \"Triunfo (A Rua \\u00c9 N\\u00f3iz)\", \"duration_ms\": 209373}, {\"name\": \"Eu T\\u00f4 Bem\", \"duration_ms\": 198493}, {\"name\": \"Ooorra\", \"duration_ms\": 239653}, {\"name\": \"Quem Tem Um Amigo (Tem Tudo) (feat. Zeca Pagodinho & Tokyo Ska Paradise Orchestra)\", \"duration_ms\": 249000}, {\"name\": \"Who Has a Friend, Has Everything (feat. Tokyo Ska Paradise Orchestra & Denise D'Paula) - Bonus Track\", \"duration_ms\": 221693}, {\"name\": \"Quem Tem Um Amigo (Tem Tudo) (Remix) (feat. Zeca Pagodinho, Tokyo Ska Paradise Orchestra & Rashid)\", \"duration_ms\": 246533}, {\"name\": \"Passarinhos (Remix)\", \"duration_ms\": 275706}, {\"name\": \"Libre\", \"duration_ms\": 169706}, {\"name\": \"Hacia El Amor - Ac\\u00fastico\", \"duration_ms\": 220933}, {\"name\": \"AmarElo (Sample: Sujeito de Sorte - Belchior)\", \"duration_ms\": 321493}, {\"name\": \"Final dos Tempos\", \"duration_ms\": 176973}, {\"name\": \"Mil Coisas\", \"duration_ms\": 202800}, {\"name\": \"Emin\\u00eancia Parda (feat. Dona Onete, J\\u00e9 Santiago & Papillon)\", \"duration_ms\": 244946}, {\"name\": \"Vital\", \"duration_ms\": 191560}, {\"name\": \"Rap do Motoboy\", \"duration_ms\": 216906}, {\"name\": \"Levanta e Anda\", \"duration_ms\": 173812}, {\"name\": \"In\\u00e1cio da Catingueira\", \"duration_ms\": 235413}, {\"name\": \"Hacia El Amor\", \"duration_ms\": 217346}, {\"name\": \"Triunfo - Ao Vivo\", \"duration_ms\": 259279}, {\"name\": \"Hoje Cedo - Ao Vivo\", \"duration_ms\": 342000}, {\"name\": \"Como Tudo Deve Ser - Ao Vivo\", \"duration_ms\": 177290}, {\"name\": \"Levanta e Anda - Ao Vivo\", \"duration_ms\": 186146}, {\"name\": \"Pantera Negra\", \"duration_ms\": 199613}, {\"name\": \"O\\u00e1sis\", \"duration_ms\": 229800}, {\"name\": \"A Chapa \\u00e9 Quente - L\\u00edngua Franca\", \"duration_ms\": 244453}, {\"name\": \"Yasuke (Bendito, Louvado Seja)\", \"duration_ms\": 351210}, {\"name\": \"Levanta e Anda (Rdio Sessions) - Ao Vivo\", \"duration_ms\": 185786}, {\"name\": \"Passarinhos (Rdio Sessions) (feat. X\\u00eania Fran\\u00e7a) - Ao Vivo\", \"duration_ms\": 229413}, {\"name\": \"Mufete (Rdio Sessions) - Ao Vivo\", \"duration_ms\": 232280}, {\"name\": \"Triunfo (Rdio Sessions) - Ao Vivo\", \"duration_ms\": 308906}, {\"name\": \"Boa Esperan\\u00e7a (Rdio Sessions) (feat. Jota Ghetto) - Ao Vivo\", \"duration_ms\": 186573}, {\"name\": \"Bonjour\", \"duration_ms\": 212362}, {\"name\": \"Minha Vida - Remix\", \"duration_ms\": 371905}, {\"name\": \"Cris\\u00e2ntemo\", \"duration_ms\": 314440}, {\"name\": \"Papel, Caneta e Cora\\u00e7\\u00e3o\", \"duration_ms\": 171306}, {\"name\": \"Aos Olhos de uma Crian\\u00e7a - Tema do Filme \\\"O Menino e o Mundo\\\"\", \"duration_ms\": 208966}, {\"name\": \"Hoje Cedo\", \"duration_ms\": 194080}, {\"name\": \"Avua Besouro\", \"duration_ms\": 229613}, {\"name\": \"Quero Ver Quarta-Feira\", \"duration_ms\": 266053}, {\"name\": \"Intro\", \"duration_ms\": 49000}, {\"name\": \"Quer Saber?\", \"duration_ms\": 215720}, {\"name\": \"Chega\\u00ed\", \"duration_ms\": 171960}, {\"name\": \"Vacil\\u00e3o\", \"duration_ms\": 180546}, {\"name\": \"Vol\\u00fapia\", \"duration_ms\": 172666}, {\"name\": \"Num Vejo a Hora\", \"duration_ms\": 196346}, {\"name\": \"Triunfo\", \"duration_ms\": 209373}]}}, {\"mode\": \"vega-lite\"});\n",
              "</script>"
            ]
          },
          "metadata": {
            "tags": []
          },
          "execution_count": 16
        }
      ]
    },
    {
      "cell_type": "code",
      "metadata": {
        "id": "Ebysv9EaDk1Q",
        "colab_type": "code",
        "outputId": "549ceb4d-a306-4b50-b9a6-97284c6e8cf6",
        "colab": {
          "base_uri": "https://localhost:8080/",
          "height": 323
        }
      },
      "source": [
        "# qual a menor música\n",
        "chart = alt.Chart(data_tracks).mark_bar(color = '#EAC306').encode(\n",
        "    y=alt.Y('name:N', sort='-x', axis = alt.Axis(title='Música')), #troca o sinal aqui\n",
        "    x=alt.X('duration_ms:Q', axis = alt.Axis(title='Duração(ms)'))\n",
        ").transform_window(\n",
        "    rank='rank(duration_ms)',\n",
        "    sort=[alt.SortField('duration_ms', order='ascending')] #aqui se torna ascendente\n",
        ").transform_filter(\n",
        "    (alt.datum.rank < 15)\n",
        ") \n",
        "text = alt.Chart(data_tracks).mark_text(dx=-25, dy=3, color='white').encode(\n",
        "    y=alt.Y('name:N', sort='-x', axis = alt.Axis(title='Música')), #troca o sinal aqui\n",
        "    x=alt.X('duration_ms:Q', axis = alt.Axis(title='Duração(ms)')),\n",
        "    text=alt.Text('duration_ms:Q')\n",
        ").transform_window(\n",
        "    rank='rank(duration_ms)',\n",
        "    sort=[alt.SortField('duration_ms', order='ascending')]\n",
        ").transform_filter(\n",
        "    (alt.datum.rank < 15)\n",
        ") \n",
        "chart + text"
      ],
      "execution_count": 0,
      "outputs": [
        {
          "output_type": "execute_result",
          "data": {
            "text/plain": [
              "alt.LayerChart(...)"
            ],
            "text/html": [
              "\n",
              "<div id=\"altair-viz-dc00ee3180c9447cab266047cda8ed48\"></div>\n",
              "<script type=\"text/javascript\">\n",
              "  (function(spec, embedOpt){\n",
              "    let outputDiv = document.currentScript.previousElementSibling;\n",
              "    if (outputDiv.id !== \"altair-viz-dc00ee3180c9447cab266047cda8ed48\") {\n",
              "      outputDiv = document.getElementById(\"altair-viz-dc00ee3180c9447cab266047cda8ed48\");\n",
              "    }\n",
              "    const paths = {\n",
              "      \"vega\": \"https://cdn.jsdelivr.net/npm//vega@5?noext\",\n",
              "      \"vega-lib\": \"https://cdn.jsdelivr.net/npm//vega-lib?noext\",\n",
              "      \"vega-lite\": \"https://cdn.jsdelivr.net/npm//vega-lite@4.8.1?noext\",\n",
              "      \"vega-embed\": \"https://cdn.jsdelivr.net/npm//vega-embed@6?noext\",\n",
              "    };\n",
              "\n",
              "    function loadScript(lib) {\n",
              "      return new Promise(function(resolve, reject) {\n",
              "        var s = document.createElement('script');\n",
              "        s.src = paths[lib];\n",
              "        s.async = true;\n",
              "        s.onload = () => resolve(paths[lib]);\n",
              "        s.onerror = () => reject(`Error loading script: ${paths[lib]}`);\n",
              "        document.getElementsByTagName(\"head\")[0].appendChild(s);\n",
              "      });\n",
              "    }\n",
              "\n",
              "    function showError(err) {\n",
              "      outputDiv.innerHTML = `<div class=\"error\" style=\"color:red;\">${err}</div>`;\n",
              "      throw err;\n",
              "    }\n",
              "\n",
              "    function displayChart(vegaEmbed) {\n",
              "      vegaEmbed(outputDiv, spec, embedOpt)\n",
              "        .catch(err => showError(`Javascript Error: ${err.message}<br>This usually means there's a typo in your chart specification. See the javascript console for the full traceback.`));\n",
              "    }\n",
              "\n",
              "    if(typeof define === \"function\" && define.amd) {\n",
              "      requirejs.config({paths});\n",
              "      require([\"vega-embed\"], displayChart, err => showError(`Error loading script: ${err.message}`));\n",
              "    } else if (typeof vegaEmbed === \"function\") {\n",
              "      displayChart(vegaEmbed);\n",
              "    } else {\n",
              "      loadScript(\"vega\")\n",
              "        .then(() => loadScript(\"vega-lite\"))\n",
              "        .then(() => loadScript(\"vega-embed\"))\n",
              "        .catch(showError)\n",
              "        .then(() => displayChart(vegaEmbed));\n",
              "    }\n",
              "  })({\"config\": {\"view\": {\"continuousWidth\": 400, \"continuousHeight\": 300}}, \"layer\": [{\"mark\": {\"type\": \"bar\", \"color\": \"#EAC306\"}, \"encoding\": {\"x\": {\"type\": \"quantitative\", \"axis\": {\"title\": \"Dura\\u00e7\\u00e3o(ms)\"}, \"field\": \"duration_ms\"}, \"y\": {\"type\": \"nominal\", \"axis\": {\"title\": \"M\\u00fasica\"}, \"field\": \"name\", \"sort\": \"-x\"}}, \"transform\": [{\"window\": [{\"op\": \"rank\", \"field\": \"duration_ms\", \"as\": \"rank\"}], \"sort\": [{\"field\": \"duration_ms\", \"order\": \"ascending\"}]}, {\"filter\": \"(datum.rank < 15)\"}]}, {\"mark\": {\"type\": \"text\", \"color\": \"white\", \"dx\": -25, \"dy\": 3}, \"encoding\": {\"text\": {\"type\": \"quantitative\", \"field\": \"duration_ms\"}, \"x\": {\"type\": \"quantitative\", \"axis\": {\"title\": \"Dura\\u00e7\\u00e3o(ms)\"}, \"field\": \"duration_ms\"}, \"y\": {\"type\": \"nominal\", \"axis\": {\"title\": \"M\\u00fasica\"}, \"field\": \"name\", \"sort\": \"-x\"}}, \"transform\": [{\"window\": [{\"op\": \"rank\", \"field\": \"duration_ms\", \"as\": \"rank\"}], \"sort\": [{\"field\": \"duration_ms\", \"order\": \"ascending\"}]}, {\"filter\": \"(datum.rank < 15)\"}]}], \"data\": {\"name\": \"data-fb1f37f91ade827037e68ad77bb08af5\"}, \"$schema\": \"https://vega.github.io/schema/vega-lite/v4.8.1.json\", \"datasets\": {\"data-fb1f37f91ade827037e68ad77bb08af5\": [{\"name\": \"Principia (feat. Fabiana Cozza, Pastor Henrique Vieira & Pastoras do Ros\\u00e1rio)\", \"duration_ms\": 355866}, {\"name\": \"A Ordem Natural das Coisas (feat. Mc Tha)\", \"duration_ms\": 235866}, {\"name\": \"Pequenas Alegrias da Vida Adulta (feat. Marcos Valle e Thiago Ventura)\", \"duration_ms\": 292013}, {\"name\": \"Quem Tem Um Amigo (Tem Tudo) (feat. Zeca Pagodinho & Tokyo Ska Paradise Orchestra)\", \"duration_ms\": 249000}, {\"name\": \"Paisagem\", \"duration_ms\": 189680}, {\"name\": \"Canan\\u00e9ia, Iguape e Ilha Comprida\", \"duration_ms\": 335600}, {\"name\": \"9nha (feat. Drik Barbosa)\", \"duration_ms\": 177480}, {\"name\": \"Ism\\u00e1lia (feat. Larissa Luz & Fernanda Montenegro)\", \"duration_ms\": 357760}, {\"name\": \"Emin\\u00eancia Parda (feat. Dona Onete, J\\u00e9 Santiago & Papillon)\", \"duration_ms\": 244186}, {\"name\": \"AmarElo (Sample: Sujeito de Sorte - Belchior)\", \"duration_ms\": 320800}, {\"name\": \"Libre\", \"duration_ms\": 169706}, {\"name\": \"Bang - Ao Vivo\", \"duration_ms\": 353613}, {\"name\": \"Gueto / Os Mlk \\u00e9 Liso (feat. Mc Guim\\u00ea) - Ao Vivo\", \"duration_ms\": 205200}, {\"name\": \"I Love Quebrada - Ao Vivo\", \"duration_ms\": 198866}, {\"name\": \"A Chapa \\u00e9 Quente (feat. Rael) - Ao Vivo\", \"duration_ms\": 248866}, {\"name\": \"A Cada Vento (feat. Rael) - Ao Vivo\", \"duration_ms\": 312680}, {\"name\": \"O\\u00e1sis (feat. Rael) - Ao Vivo\", \"duration_ms\": 234840}, {\"name\": \"Alma G\\u00eamea - Ao Vivo\", \"duration_ms\": 242506}, {\"name\": \"Madagascar - Ao Vivo\", \"duration_ms\": 239106}, {\"name\": \"Baiana (feat. Caetano Veloso) - Ao Vivo\", \"duration_ms\": 253853}, {\"name\": \"Haiti (feat. Caetano Veloso) - Ao Vivo\", \"duration_ms\": 257613}, {\"name\": \"M\\u00e3e - Ao Vivo\", \"duration_ms\": 297693}, {\"name\": \"Hoje Cedo (feat. Pitty) - Ao Vivo\", \"duration_ms\": 342000}, {\"name\": \"Como Tudo Deve Ser - Ao Vivo\", \"duration_ms\": 175880}, {\"name\": \"Chapa - Ao Vivo\", \"duration_ms\": 282106}, {\"name\": \"Passarinhos (feat. Vanessa Da Mata) - Ao Vivo\", \"duration_ms\": 222466}, {\"name\": \"Hino Vira-Lata (feat. Prettos) - Ao Vivo\", \"duration_ms\": 237133}, {\"name\": \"Mufete - Ao Vivo\", \"duration_ms\": 302866}, {\"name\": \"Todos os Olhos em N\\u00f3iz - Ao Vivo\", \"duration_ms\": 285160}, {\"name\": \"Ooorra - Ao Vivo\", \"duration_ms\": 284693}, {\"name\": \"Boa Esperan\\u00e7a (feat. Jota Ghetto) - Ao Vivo\", \"duration_ms\": 199706}, {\"name\": \"Zica, Vai L\\u00e1 (feat. Fi\\u00f3ti) - Ao Vivo\", \"duration_ms\": 247133}, {\"name\": \"N\\u00f3iz - Ao Vivo\", \"duration_ms\": 139466}, {\"name\": \"Ubuntu Fristaili - Ao Vivo\", \"duration_ms\": 267400}, {\"name\": \"Mandume (feat. Drik Barbosa, Raph\\u00e3o Alaafin, Muzzike, Amiri, Coruja BC1, Rico Dalasam & Rashid) - Ao Vivo\", \"duration_ms\": 647666}, {\"name\": \"Rinha - Ao Vivo\", \"duration_ms\": 131920}, {\"name\": \"Levanta e Anda (feat. Rael) - Ao Vivo\", \"duration_ms\": 192253}, {\"name\": \"Triunfo - Ao Vivo\", \"duration_ms\": 259360}, {\"name\": \"M\\u00e3e\", \"duration_ms\": 298226}, {\"name\": \"8\", \"duration_ms\": 209453}, {\"name\": \"Casa\", \"duration_ms\": 241120}, {\"name\": \"Amoras\", \"duration_ms\": 56932}, {\"name\": \"Mufete\", \"duration_ms\": 238560}, {\"name\": \"Baiana\", \"duration_ms\": 233320}, {\"name\": \"Passarinhos\", \"duration_ms\": 221626}, {\"name\": \"Sodade\", \"duration_ms\": 70626}, {\"name\": \"Chapa\", \"duration_ms\": 278986}, {\"name\": \"Boa Esperan\\u00e7a\", \"duration_ms\": 182880}, {\"name\": \"Trabalhadores do Brasil\", \"duration_ms\": 82693}, {\"name\": \"Mandume\", \"duration_ms\": 495600}, {\"name\": \"Madagascar\", \"duration_ms\": 232733}, {\"name\": \"Salve Black (Estilo Livre)\", \"duration_ms\": 283062}, {\"name\": \"Milion\\u00e1rio do Sonho\", \"duration_ms\": 50066}, {\"name\": \"Levanta e Anda\", \"duration_ms\": 150320}, {\"name\": \"N\\u00f3iz\", \"duration_ms\": 303226}, {\"name\": \"Z\\u00f3i\\u00e3o\", \"duration_ms\": 232546}, {\"name\": \"Cris\\u00e2ntemo\", \"duration_ms\": 314440}, {\"name\": \"Sol de Giz de Cera\", \"duration_ms\": 138320}, {\"name\": \"Hoje Cedo\", \"duration_ms\": 194080}, {\"name\": \"Trepadeira\", \"duration_ms\": 282800}, {\"name\": \"Bang!\", \"duration_ms\": 290480}, {\"name\": \"Gueto\", \"duration_ms\": 184093}, {\"name\": \"Hino Vira-Lata\", \"duration_ms\": 192413}, {\"name\": \"Alma G\\u00eamea\", \"duration_ms\": 239986}, {\"name\": \"Samba do Fim do Mundo\", \"duration_ms\": 219200}, {\"name\": \"Ubuntu Fristaili\", \"duration_ms\": 286826}, {\"name\": \"Oi Compadre - Ao Vivo\", \"duration_ms\": 246320}, {\"name\": \"Pensamento - Ao Vivo\", \"duration_ms\": 141466}, {\"name\": \"Onde Voc\\u00ea Mora? / Firmamento - Ao Vivo\", \"duration_ms\": 380546}, {\"name\": \"Semba Dos Ancestrais/ Muadiakime/ Mama Lala - Ao Vivo\", \"duration_ms\": 366400}, {\"name\": \"Quero Ver Quarta-Feira - Ao Vivo\", \"duration_ms\": 294520}, {\"name\": \"A Estrada - Ao Vivo\", \"duration_ms\": 423253}, {\"name\": \"Disritmia - Ao Vivo\", \"duration_ms\": 165733}, {\"name\": \"O Amor da Gente/ Casa de Bamba - Ao Vivo\", \"duration_ms\": 317746}, {\"name\": \"A Sombra da Maldade - Ao Vivo\", \"duration_ms\": 251133}, {\"name\": \"Viva (Mel\\u00f4 Dos Vileiros) - Ao Vivo\", \"duration_ms\": 206520}, {\"name\": \"O Pequeno Burgu\\u00eas/ Canta Canta Minha Gente - Ao Vivo\", \"duration_ms\": 249373}, {\"name\": \"Madalena do Jucu - Ao Vivo\", \"duration_ms\": 431720}, {\"name\": \"Zica Vai L\\u00e1 - Live\", \"duration_ms\": 238346}, {\"name\": \"Dedo Na Ferida - Live\", \"duration_ms\": 226160}, {\"name\": \"Rua Augusta - Live\", \"duration_ms\": 177560}, {\"name\": \"Mari\\u00f4 - Live\", \"duration_ms\": 267480}, {\"name\": \"Subirusdoistiozin - Live\", \"duration_ms\": 211280}, {\"name\": \"Demor\\u00f4 - Live\", \"duration_ms\": 213773}, {\"name\": \"Viva (Mel\\u00f4 Dos Vileiros) - Live\", \"duration_ms\": 213960}, {\"name\": \"S\\u00f3 Mais Uma Noite - Live\", \"duration_ms\": 188666}, {\"name\": \"N\\u00e3o Existe Amor Em SP - Live\", \"duration_ms\": 392480}, {\"name\": \"Linha De Frente - Live\", \"duration_ms\": 240373}, {\"name\": \"A Cada Vento - Live\", \"duration_ms\": 243373}, {\"name\": \"Outras Palavras - Live\", \"duration_ms\": 294813}, {\"name\": \"Lion Man - Live\", \"duration_ms\": 247680}, {\"name\": \"Grajauex - Live\", \"duration_ms\": 191453}, {\"name\": \"Triunfo - Live\", \"duration_ms\": 273426}, {\"name\": \"Cap\\u00edtulo 4, Vers\\u00edculo 3 - Live\", \"duration_ms\": 127053}, {\"name\": \"Vida Loka I - Live\", \"duration_ms\": 271840}, {\"name\": \"Bogot\\u00e1 - Live\", \"duration_ms\": 369773}, {\"name\": \"Zica Vai L\\u00e1 - Live\", \"duration_ms\": 238346}, {\"name\": \"Dedo Na Ferida - Live\", \"duration_ms\": 226160}, {\"name\": \"Rua Augusta - Live\", \"duration_ms\": 177560}, {\"name\": \"Mari\\u00f4 - Live\", \"duration_ms\": 267480}, {\"name\": \"Subirusdoistiozin - Live\", \"duration_ms\": 211280}, {\"name\": \"Demor\\u00f4 - Live\", \"duration_ms\": 213773}, {\"name\": \"Viva (Mel\\u00f4 Dos Vileiros) - Live\", \"duration_ms\": 213960}, {\"name\": \"S\\u00f3 Mais Uma Noite - Live\", \"duration_ms\": 188666}, {\"name\": \"N\\u00e3o Existe Amor Em SP - Live\", \"duration_ms\": 392480}, {\"name\": \"Linha De Frente - Live\", \"duration_ms\": 240373}, {\"name\": \"A Cada Vento - Live\", \"duration_ms\": 243373}, {\"name\": \"Outras Palavras - Live\", \"duration_ms\": 294813}, {\"name\": \"Lion Man - Live\", \"duration_ms\": 247680}, {\"name\": \"Grajauex - Live\", \"duration_ms\": 191453}, {\"name\": \"Triunfo - Live\", \"duration_ms\": 273426}, {\"name\": \"Cap\\u00edtulo 4, Vers\\u00edculo 3 - Live\", \"duration_ms\": 127053}, {\"name\": \"Vida Loka I - Live\", \"duration_ms\": 271840}, {\"name\": \"Bogot\\u00e1 - Live\", \"duration_ms\": 369773}, {\"name\": \"Intro (Shiiiiu!)\", \"duration_ms\": 136493}, {\"name\": \"Licen\\u00e7a Aqui\", \"duration_ms\": 226440}, {\"name\": \"Cacariac\\u00f4\", \"duration_ms\": 156400}, {\"name\": \"Viva! (Melo dos Vileiro)\", \"duration_ms\": 195613}, {\"name\": \"Num \\u00c9 S\\u00f3 Ver\", \"duration_ms\": 258666}, {\"name\": \"Zica, Vai L\\u00e1...\", \"duration_ms\": 242026}, {\"name\": \"Pequenas Empresas\", \"duration_ms\": 240013}, {\"name\": \"1989\", \"duration_ms\": 176146}, {\"name\": \"Can\\u00e7\\u00e3o para Meus Amigos Mortos\", \"duration_ms\": 189733}, {\"name\": \"Sorrisos e L\\u00e1grimas\", \"duration_ms\": 174040}, {\"name\": \"E Agora?\", \"duration_ms\": 200066}, {\"name\": \"C\\u00ea L\\u00e1 Faz Id\\u00e9ia?\", \"duration_ms\": 138466}, {\"name\": \"Rinha (J\\u00e1 Ouviu Falar?)\", \"duration_ms\": 127000}, {\"name\": \"Isso N\\u00e3o Pode Se Perder\", \"duration_ms\": 230413}, {\"name\": \"Santo Amaro da Purifica\\u00e7\\u00e3o\", \"duration_ms\": 165146}, {\"name\": \"Ent\\u00e3o Toma\", \"duration_ms\": 166586}, {\"name\": \"Emicidio\", \"duration_ms\": 204506}, {\"name\": \"Santa Cruz\", \"duration_ms\": 223026}, {\"name\": \"Velhos Amigos\", \"duration_ms\": 223186}, {\"name\": \"Rua Augusta\", \"duration_ms\": 153053}, {\"name\": \"I Love Quebrada\", \"duration_ms\": 216600}, {\"name\": \"Eu Gosto Dela\", \"duration_ms\": 197746}, {\"name\": \"S\\u00f3 Mais uma Noite\", \"duration_ms\": 189520}, {\"name\": \"De Onde C\\u00ea Vem?!\", \"duration_ms\": 262333}, {\"name\": \"Um Final de Semana\", \"duration_ms\": 172733}, {\"name\": \"Novo Nego V\\u00e9io\", \"duration_ms\": 161600}, {\"name\": \"Avua Besouro\", \"duration_ms\": 229613}, {\"name\": \"Beira de Piscina\", \"duration_ms\": 228786}, {\"name\": \"Intro (\\u00c9 Necess\\u00e1rio Voltar ao Come\\u00e7o)\", \"duration_ms\": 337773}, {\"name\": \"E.M.I.C.I.D.A (Adoooro)\", \"duration_ms\": 204840}, {\"name\": \"Sozim\", \"duration_ms\": 194240}, {\"name\": \"Rotina\", \"duration_ms\": 170586}, {\"name\": \"Pra Mim (Isso \\u00c9 Viver)\", \"duration_ms\": 151173}, {\"name\": \"Ainda Ontem\", \"duration_ms\": 217346}, {\"name\": \"Pra N\\u00e3o Ter Tempo Ruim\", \"duration_ms\": 197746}, {\"name\": \"S\\u00f3 Isso\", \"duration_ms\": 231533}, {\"name\": \"Vou Busca Minha Ful\\u00f4\", \"duration_ms\": 83800}, {\"name\": \"Ela Diz\", \"duration_ms\": 209973}, {\"name\": \"Por Deus, por Favor\", \"duration_ms\": 181653}, {\"name\": \"Preciso (Mel\\u00f4 do Mundiko)\", \"duration_ms\": 214920}, {\"name\": \"A Cada Vento\", \"duration_ms\": 207546}, {\"name\": \"Sei L\\u00e1\", \"duration_ms\": 226066}, {\"name\": \"Cidad\\u00e3o\", \"duration_ms\": 85920}, {\"name\": \"Soldado Sem Bandeira\", \"duration_ms\": 209706}, {\"name\": \"Vai Ser Rimando\", \"duration_ms\": 203306}, {\"name\": \"Um, Dois, Tr\\u00eas, Quatro\", \"duration_ms\": 40266}, {\"name\": \"Fica Mais um Pouco Amor\", \"duration_ms\": 146906}, {\"name\": \"Outras Palavras\", \"duration_ms\": 221266}, {\"name\": \"Hey Rap!\", \"duration_ms\": 127453}, {\"name\": \"Essa \\u00c9 Pra Voc\\u00ea Primo\", \"duration_ms\": 227826}, {\"name\": \"Triunfo (A Rua \\u00c9 N\\u00f3iz)\", \"duration_ms\": 209373}, {\"name\": \"Eu T\\u00f4 Bem\", \"duration_ms\": 198493}, {\"name\": \"Ooorra\", \"duration_ms\": 239653}, {\"name\": \"Quem Tem Um Amigo (Tem Tudo) (feat. Zeca Pagodinho & Tokyo Ska Paradise Orchestra)\", \"duration_ms\": 249000}, {\"name\": \"Who Has a Friend, Has Everything (feat. Tokyo Ska Paradise Orchestra & Denise D'Paula) - Bonus Track\", \"duration_ms\": 221693}, {\"name\": \"Quem Tem Um Amigo (Tem Tudo) (Remix) (feat. Zeca Pagodinho, Tokyo Ska Paradise Orchestra & Rashid)\", \"duration_ms\": 246533}, {\"name\": \"Passarinhos (Remix)\", \"duration_ms\": 275706}, {\"name\": \"Libre\", \"duration_ms\": 169706}, {\"name\": \"Hacia El Amor - Ac\\u00fastico\", \"duration_ms\": 220933}, {\"name\": \"AmarElo (Sample: Sujeito de Sorte - Belchior)\", \"duration_ms\": 321493}, {\"name\": \"Final dos Tempos\", \"duration_ms\": 176973}, {\"name\": \"Mil Coisas\", \"duration_ms\": 202800}, {\"name\": \"Emin\\u00eancia Parda (feat. Dona Onete, J\\u00e9 Santiago & Papillon)\", \"duration_ms\": 244946}, {\"name\": \"Vital\", \"duration_ms\": 191560}, {\"name\": \"Rap do Motoboy\", \"duration_ms\": 216906}, {\"name\": \"Levanta e Anda\", \"duration_ms\": 173812}, {\"name\": \"In\\u00e1cio da Catingueira\", \"duration_ms\": 235413}, {\"name\": \"Hacia El Amor\", \"duration_ms\": 217346}, {\"name\": \"Triunfo - Ao Vivo\", \"duration_ms\": 259279}, {\"name\": \"Hoje Cedo - Ao Vivo\", \"duration_ms\": 342000}, {\"name\": \"Como Tudo Deve Ser - Ao Vivo\", \"duration_ms\": 177290}, {\"name\": \"Levanta e Anda - Ao Vivo\", \"duration_ms\": 186146}, {\"name\": \"Pantera Negra\", \"duration_ms\": 199613}, {\"name\": \"O\\u00e1sis\", \"duration_ms\": 229800}, {\"name\": \"A Chapa \\u00e9 Quente - L\\u00edngua Franca\", \"duration_ms\": 244453}, {\"name\": \"Yasuke (Bendito, Louvado Seja)\", \"duration_ms\": 351210}, {\"name\": \"Levanta e Anda (Rdio Sessions) - Ao Vivo\", \"duration_ms\": 185786}, {\"name\": \"Passarinhos (Rdio Sessions) (feat. X\\u00eania Fran\\u00e7a) - Ao Vivo\", \"duration_ms\": 229413}, {\"name\": \"Mufete (Rdio Sessions) - Ao Vivo\", \"duration_ms\": 232280}, {\"name\": \"Triunfo (Rdio Sessions) - Ao Vivo\", \"duration_ms\": 308906}, {\"name\": \"Boa Esperan\\u00e7a (Rdio Sessions) (feat. Jota Ghetto) - Ao Vivo\", \"duration_ms\": 186573}, {\"name\": \"Bonjour\", \"duration_ms\": 212362}, {\"name\": \"Minha Vida - Remix\", \"duration_ms\": 371905}, {\"name\": \"Cris\\u00e2ntemo\", \"duration_ms\": 314440}, {\"name\": \"Papel, Caneta e Cora\\u00e7\\u00e3o\", \"duration_ms\": 171306}, {\"name\": \"Aos Olhos de uma Crian\\u00e7a - Tema do Filme \\\"O Menino e o Mundo\\\"\", \"duration_ms\": 208966}, {\"name\": \"Hoje Cedo\", \"duration_ms\": 194080}, {\"name\": \"Avua Besouro\", \"duration_ms\": 229613}, {\"name\": \"Quero Ver Quarta-Feira\", \"duration_ms\": 266053}, {\"name\": \"Intro\", \"duration_ms\": 49000}, {\"name\": \"Quer Saber?\", \"duration_ms\": 215720}, {\"name\": \"Chega\\u00ed\", \"duration_ms\": 171960}, {\"name\": \"Vacil\\u00e3o\", \"duration_ms\": 180546}, {\"name\": \"Vol\\u00fapia\", \"duration_ms\": 172666}, {\"name\": \"Num Vejo a Hora\", \"duration_ms\": 196346}, {\"name\": \"Triunfo\", \"duration_ms\": 209373}]}}, {\"mode\": \"vega-lite\"});\n",
              "</script>"
            ]
          },
          "metadata": {
            "tags": []
          },
          "execution_count": 73
        }
      ]
    },
    {
      "cell_type": "code",
      "metadata": {
        "id": "dUvIjtRqDmlt",
        "colab_type": "code",
        "colab": {
          "base_uri": "https://localhost:8080/",
          "height": 293
        },
        "outputId": "7867cf38-8ef4-41dd-9a6c-908eefaa6d20"
      },
      "source": [
        "# qual a música com mais feat\n",
        "# to-do: grafico de pontos, x = musica, y = artista, ponto = artista na musica,\n",
        "# cada artista tem uma cor\n",
        "data_feat= pd.DataFrame(data, columns = ['name', 'artists'])\n",
        "\n",
        "for index, row in data_feat.iterrows():\n",
        "  list_artists = eval(row['artists'])\n",
        "  row['artists'] = list_artists\n",
        "\n",
        "#{'emicida': [<musicas>]}\n",
        "artists_dict = pd.DataFrame(data_feat.artists.values.tolist(),data_feat['name']).add_prefix('artist_')\n",
        "df = data_feat.explode('artists')\n",
        "print(artists_dict)\n",
        "\n",
        "\n",
        "\n"
      ],
      "execution_count": 57,
      "outputs": [
        {
          "output_type": "stream",
          "text": [
            "                                                   artist_0  ... artist_7\n",
            "name                                                         ...         \n",
            "Principia (feat. Fabiana Cozza, Pastor Henrique...  Emicida  ...     None\n",
            "A Ordem Natural das Coisas (feat. Mc Tha)           Emicida  ...     None\n",
            "Pequenas Alegrias da Vida Adulta (feat. Marcos ...  Emicida  ...     None\n",
            "Quem Tem Um Amigo (Tem Tudo) (feat. Zeca Pagodi...  Emicida  ...     None\n",
            "Paisagem                                            Emicida  ...     None\n",
            "...                                                     ...  ...      ...\n",
            "Chegaí                                              Emicida  ...     None\n",
            "Vacilão                                             Emicida  ...     None\n",
            "Volúpia                                             Emicida  ...     None\n",
            "Num Vejo a Hora                                     Emicida  ...     None\n",
            "Triunfo                                             Emicida  ...     None\n",
            "\n",
            "[210 rows x 8 columns]\n"
          ],
          "name": "stdout"
        }
      ]
    },
    {
      "cell_type": "code",
      "metadata": {
        "id": "eAvtw-sSDoox",
        "colab_type": "code",
        "colab": {}
      },
      "source": [
        "# linha do tempo de lançamentos"
      ],
      "execution_count": 0,
      "outputs": []
    }
  ]
}